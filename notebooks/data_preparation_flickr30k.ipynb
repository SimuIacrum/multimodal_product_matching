{
 "cells": [
  {
   "cell_type": "markdown",
   "metadata": {},
   "source": [
    "# Setup"
   ]
  },
  {
   "cell_type": "code",
   "execution_count": 2,
   "metadata": {},
   "outputs": [
    {
     "name": "stdout",
     "output_type": "stream",
     "text": [
      "/bin/bash: /anaconda/envs/jupyter_env/lib/libtinfo.so.6: no version information available (required by /bin/bash)\n",
      "Looking in indexes: https://pypi.org/simple/, https://****@pkgs.dev.azure.com/parsionate-ai/ps-libraries/_packaging/pypi-feed/pypi/simple\n",
      "Requirement already satisfied: tensorflow==2.8.* in /anaconda/envs/tf2.8/lib/python3.9/site-packages (from -r ../requirements.txt (line 1)) (2.8.4)\n",
      "Requirement already satisfied: tensorflow-addons==0.18.0 in /anaconda/envs/tf2.8/lib/python3.9/site-packages (from -r ../requirements.txt (line 2)) (0.18.0)\n",
      "Requirement already satisfied: pandas<2.0.0 in /anaconda/envs/tf2.8/lib/python3.9/site-packages (from -r ../requirements.txt (line 3)) (1.5.3)\n",
      "Requirement already satisfied: scikit-learn in /anaconda/envs/tf2.8/lib/python3.9/site-packages (from -r ../requirements.txt (line 4)) (1.2.2)\n",
      "Requirement already satisfied: scipy in /anaconda/envs/tf2.8/lib/python3.9/site-packages (from -r ../requirements.txt (line 5)) (1.10.1)\n",
      "Requirement already satisfied: matplotlib in /anaconda/envs/tf2.8/lib/python3.9/site-packages (from -r ../requirements.txt (line 6)) (3.7.1)\n",
      "Requirement already satisfied: tqdm in /anaconda/envs/tf2.8/lib/python3.9/site-packages (from -r ../requirements.txt (line 7)) (4.65.0)\n",
      "Requirement already satisfied: Pillow in /anaconda/envs/tf2.8/lib/python3.9/site-packages (from -r ../requirements.txt (line 8)) (9.5.0)\n",
      "Requirement already satisfied: kaggle in /anaconda/envs/tf2.8/lib/python3.9/site-packages (from -r ../requirements.txt (line 9)) (1.5.13)\n",
      "Requirement already satisfied: flatbuffers>=1.12 in /anaconda/envs/tf2.8/lib/python3.9/site-packages (from tensorflow==2.8.*->-r ../requirements.txt (line 1)) (23.3.3)\n",
      "Requirement already satisfied: google-pasta>=0.1.1 in /anaconda/envs/tf2.8/lib/python3.9/site-packages (from tensorflow==2.8.*->-r ../requirements.txt (line 1)) (0.2.0)\n",
      "Requirement already satisfied: wrapt>=1.11.0 in /anaconda/envs/tf2.8/lib/python3.9/site-packages (from tensorflow==2.8.*->-r ../requirements.txt (line 1)) (1.14.1)\n",
      "Requirement already satisfied: tensorflow-io-gcs-filesystem>=0.23.1 in /anaconda/envs/tf2.8/lib/python3.9/site-packages (from tensorflow==2.8.*->-r ../requirements.txt (line 1)) (0.32.0)\n",
      "Requirement already satisfied: astunparse>=1.6.0 in /anaconda/envs/tf2.8/lib/python3.9/site-packages (from tensorflow==2.8.*->-r ../requirements.txt (line 1)) (1.6.3)\n",
      "Requirement already satisfied: typing-extensions>=3.6.6 in /anaconda/envs/tf2.8/lib/python3.9/site-packages (from tensorflow==2.8.*->-r ../requirements.txt (line 1)) (4.5.0)\n",
      "Requirement already satisfied: protobuf<3.20,>=3.9.2 in /anaconda/envs/tf2.8/lib/python3.9/site-packages (from tensorflow==2.8.*->-r ../requirements.txt (line 1)) (3.19.6)\n",
      "Requirement already satisfied: keras<2.9,>=2.8.0rc0 in /anaconda/envs/tf2.8/lib/python3.9/site-packages (from tensorflow==2.8.*->-r ../requirements.txt (line 1)) (2.8.0)\n",
      "Requirement already satisfied: gast>=0.2.1 in /anaconda/envs/tf2.8/lib/python3.9/site-packages (from tensorflow==2.8.*->-r ../requirements.txt (line 1)) (0.4.0)\n",
      "Requirement already satisfied: six>=1.12.0 in /anaconda/envs/tf2.8/lib/python3.9/site-packages (from tensorflow==2.8.*->-r ../requirements.txt (line 1)) (1.16.0)\n",
      "Requirement already satisfied: keras-preprocessing>=1.1.1 in /anaconda/envs/tf2.8/lib/python3.9/site-packages (from tensorflow==2.8.*->-r ../requirements.txt (line 1)) (1.1.2)\n",
      "Requirement already satisfied: opt-einsum>=2.3.2 in /anaconda/envs/tf2.8/lib/python3.9/site-packages (from tensorflow==2.8.*->-r ../requirements.txt (line 1)) (3.3.0)\n",
      "Requirement already satisfied: h5py>=2.9.0 in /anaconda/envs/tf2.8/lib/python3.9/site-packages (from tensorflow==2.8.*->-r ../requirements.txt (line 1)) (3.8.0)\n",
      "Requirement already satisfied: setuptools in /anaconda/envs/tf2.8/lib/python3.9/site-packages (from tensorflow==2.8.*->-r ../requirements.txt (line 1)) (65.6.3)\n",
      "Requirement already satisfied: absl-py>=0.4.0 in /anaconda/envs/tf2.8/lib/python3.9/site-packages (from tensorflow==2.8.*->-r ../requirements.txt (line 1)) (1.4.0)\n",
      "Requirement already satisfied: tensorboard<2.9,>=2.8 in /anaconda/envs/tf2.8/lib/python3.9/site-packages (from tensorflow==2.8.*->-r ../requirements.txt (line 1)) (2.8.0)\n",
      "Requirement already satisfied: grpcio<2.0,>=1.24.3 in /anaconda/envs/tf2.8/lib/python3.9/site-packages (from tensorflow==2.8.*->-r ../requirements.txt (line 1)) (1.53.0)\n",
      "Requirement already satisfied: numpy>=1.20 in /anaconda/envs/tf2.8/lib/python3.9/site-packages (from tensorflow==2.8.*->-r ../requirements.txt (line 1)) (1.23.5)\n",
      "Requirement already satisfied: termcolor>=1.1.0 in /anaconda/envs/tf2.8/lib/python3.9/site-packages (from tensorflow==2.8.*->-r ../requirements.txt (line 1)) (2.2.0)\n",
      "Requirement already satisfied: libclang>=9.0.1 in /anaconda/envs/tf2.8/lib/python3.9/site-packages (from tensorflow==2.8.*->-r ../requirements.txt (line 1)) (16.0.0)\n",
      "Requirement already satisfied: tensorflow-estimator<2.9,>=2.8 in /anaconda/envs/tf2.8/lib/python3.9/site-packages (from tensorflow==2.8.*->-r ../requirements.txt (line 1)) (2.8.0)\n",
      "Requirement already satisfied: packaging in /anaconda/envs/tf2.8/lib/python3.9/site-packages (from tensorflow-addons==0.18.0->-r ../requirements.txt (line 2)) (23.0)\n",
      "Requirement already satisfied: typeguard>=2.7 in /anaconda/envs/tf2.8/lib/python3.9/site-packages (from tensorflow-addons==0.18.0->-r ../requirements.txt (line 2)) (2.13.3)\n",
      "Requirement already satisfied: python-dateutil>=2.8.1 in /anaconda/envs/tf2.8/lib/python3.9/site-packages (from pandas<2.0.0->-r ../requirements.txt (line 3)) (2.8.2)\n",
      "Requirement already satisfied: pytz>=2020.1 in /anaconda/envs/tf2.8/lib/python3.9/site-packages (from pandas<2.0.0->-r ../requirements.txt (line 3)) (2023.3)\n",
      "Requirement already satisfied: threadpoolctl>=2.0.0 in /anaconda/envs/tf2.8/lib/python3.9/site-packages (from scikit-learn->-r ../requirements.txt (line 4)) (3.1.0)\n",
      "Requirement already satisfied: joblib>=1.1.1 in /anaconda/envs/tf2.8/lib/python3.9/site-packages (from scikit-learn->-r ../requirements.txt (line 4)) (1.2.0)\n",
      "Requirement already satisfied: kiwisolver>=1.0.1 in /anaconda/envs/tf2.8/lib/python3.9/site-packages (from matplotlib->-r ../requirements.txt (line 6)) (1.4.4)\n",
      "Requirement already satisfied: pyparsing>=2.3.1 in /anaconda/envs/tf2.8/lib/python3.9/site-packages (from matplotlib->-r ../requirements.txt (line 6)) (3.0.9)\n",
      "Requirement already satisfied: cycler>=0.10 in /anaconda/envs/tf2.8/lib/python3.9/site-packages (from matplotlib->-r ../requirements.txt (line 6)) (0.11.0)\n",
      "Requirement already satisfied: importlib-resources>=3.2.0 in /anaconda/envs/tf2.8/lib/python3.9/site-packages (from matplotlib->-r ../requirements.txt (line 6)) (5.12.0)\n",
      "Requirement already satisfied: contourpy>=1.0.1 in /anaconda/envs/tf2.8/lib/python3.9/site-packages (from matplotlib->-r ../requirements.txt (line 6)) (1.0.7)\n",
      "Requirement already satisfied: fonttools>=4.22.0 in /anaconda/envs/tf2.8/lib/python3.9/site-packages (from matplotlib->-r ../requirements.txt (line 6)) (4.39.3)\n",
      "Requirement already satisfied: requests in /anaconda/envs/tf2.8/lib/python3.9/site-packages (from kaggle->-r ../requirements.txt (line 9)) (2.29.0)\n",
      "Requirement already satisfied: certifi in /anaconda/envs/tf2.8/lib/python3.9/site-packages (from kaggle->-r ../requirements.txt (line 9)) (2023.5.7)\n",
      "Requirement already satisfied: urllib3 in /anaconda/envs/tf2.8/lib/python3.9/site-packages (from kaggle->-r ../requirements.txt (line 9)) (1.26.15)\n",
      "Requirement already satisfied: python-slugify in /anaconda/envs/tf2.8/lib/python3.9/site-packages (from kaggle->-r ../requirements.txt (line 9)) (8.0.1)\n",
      "Requirement already satisfied: wheel<1.0,>=0.23.0 in /anaconda/envs/tf2.8/lib/python3.9/site-packages (from astunparse>=1.6.0->tensorflow==2.8.*->-r ../requirements.txt (line 1)) (0.38.4)\n",
      "Requirement already satisfied: zipp>=3.1.0 in /anaconda/envs/tf2.8/lib/python3.9/site-packages (from importlib-resources>=3.2.0->matplotlib->-r ../requirements.txt (line 6)) (3.15.0)\n",
      "Requirement already satisfied: markdown>=2.6.8 in /anaconda/envs/tf2.8/lib/python3.9/site-packages (from tensorboard<2.9,>=2.8->tensorflow==2.8.*->-r ../requirements.txt (line 1)) (3.4.3)\n",
      "Requirement already satisfied: google-auth<3,>=1.6.3 in /anaconda/envs/tf2.8/lib/python3.9/site-packages (from tensorboard<2.9,>=2.8->tensorflow==2.8.*->-r ../requirements.txt (line 1)) (2.18.0)\n",
      "Requirement already satisfied: tensorboard-data-server<0.7.0,>=0.6.0 in /anaconda/envs/tf2.8/lib/python3.9/site-packages (from tensorboard<2.9,>=2.8->tensorflow==2.8.*->-r ../requirements.txt (line 1)) (0.6.1)\n",
      "Requirement already satisfied: werkzeug>=0.11.15 in /anaconda/envs/tf2.8/lib/python3.9/site-packages (from tensorboard<2.9,>=2.8->tensorflow==2.8.*->-r ../requirements.txt (line 1)) (2.2.3)\n",
      "Requirement already satisfied: tensorboard-plugin-wit>=1.6.0 in /anaconda/envs/tf2.8/lib/python3.9/site-packages (from tensorboard<2.9,>=2.8->tensorflow==2.8.*->-r ../requirements.txt (line 1)) (1.8.1)\n",
      "Requirement already satisfied: google-auth-oauthlib<0.5,>=0.4.1 in /anaconda/envs/tf2.8/lib/python3.9/site-packages (from tensorboard<2.9,>=2.8->tensorflow==2.8.*->-r ../requirements.txt (line 1)) (0.4.6)\n",
      "Requirement already satisfied: charset-normalizer<4,>=2 in /anaconda/envs/tf2.8/lib/python3.9/site-packages (from requests->kaggle->-r ../requirements.txt (line 9)) (3.1.0)\n",
      "Requirement already satisfied: idna<4,>=2.5 in /anaconda/envs/tf2.8/lib/python3.9/site-packages (from requests->kaggle->-r ../requirements.txt (line 9)) (3.4)\n",
      "Requirement already satisfied: text-unidecode>=1.3 in /anaconda/envs/tf2.8/lib/python3.9/site-packages (from python-slugify->kaggle->-r ../requirements.txt (line 9)) (1.3)\n",
      "Requirement already satisfied: cachetools<6.0,>=2.0.0 in /anaconda/envs/tf2.8/lib/python3.9/site-packages (from google-auth<3,>=1.6.3->tensorboard<2.9,>=2.8->tensorflow==2.8.*->-r ../requirements.txt (line 1)) (5.3.0)\n",
      "Requirement already satisfied: rsa<5,>=3.1.4 in /anaconda/envs/tf2.8/lib/python3.9/site-packages (from google-auth<3,>=1.6.3->tensorboard<2.9,>=2.8->tensorflow==2.8.*->-r ../requirements.txt (line 1)) (4.9)\n",
      "Requirement already satisfied: pyasn1-modules>=0.2.1 in /anaconda/envs/tf2.8/lib/python3.9/site-packages (from google-auth<3,>=1.6.3->tensorboard<2.9,>=2.8->tensorflow==2.8.*->-r ../requirements.txt (line 1)) (0.2.8)\n",
      "Requirement already satisfied: requests-oauthlib>=0.7.0 in /anaconda/envs/tf2.8/lib/python3.9/site-packages (from google-auth-oauthlib<0.5,>=0.4.1->tensorboard<2.9,>=2.8->tensorflow==2.8.*->-r ../requirements.txt (line 1)) (1.3.1)\n",
      "Requirement already satisfied: importlib-metadata>=4.4 in /anaconda/envs/tf2.8/lib/python3.9/site-packages (from markdown>=2.6.8->tensorboard<2.9,>=2.8->tensorflow==2.8.*->-r ../requirements.txt (line 1)) (6.6.0)\n",
      "Requirement already satisfied: MarkupSafe>=2.1.1 in /anaconda/envs/tf2.8/lib/python3.9/site-packages (from werkzeug>=0.11.15->tensorboard<2.9,>=2.8->tensorflow==2.8.*->-r ../requirements.txt (line 1)) (2.1.2)\n",
      "Requirement already satisfied: pyasn1<0.5.0,>=0.4.6 in /anaconda/envs/tf2.8/lib/python3.9/site-packages (from pyasn1-modules>=0.2.1->google-auth<3,>=1.6.3->tensorboard<2.9,>=2.8->tensorflow==2.8.*->-r ../requirements.txt (line 1)) (0.4.8)\n",
      "Requirement already satisfied: oauthlib>=3.0.0 in /anaconda/envs/tf2.8/lib/python3.9/site-packages (from requests-oauthlib>=0.7.0->google-auth-oauthlib<0.5,>=0.4.1->tensorboard<2.9,>=2.8->tensorflow==2.8.*->-r ../requirements.txt (line 1)) (3.2.2)\n",
      "Note: you may need to restart the kernel to use updated packages.\n"
     ]
    }
   ],
   "source": [
    "pip install -r ../requirements.txt"
   ]
  },
  {
   "cell_type": "code",
   "execution_count": 3,
   "metadata": {},
   "outputs": [],
   "source": [
    "# Add directory above current directory to path\n",
    "import sys\n",
    "\n",
    "sys.path.insert(0, '..')"
   ]
  },
  {
   "cell_type": "code",
   "execution_count": 4,
   "metadata": {},
   "outputs": [],
   "source": [
    "import pandas as pd\n",
    "import numpy as np\n",
    "import os\n",
    "import gzip\n",
    "import glob\n",
    "import json\n",
    "from tqdm import tqdm"
   ]
  },
  {
   "cell_type": "code",
   "execution_count": 5,
   "metadata": {},
   "outputs": [],
   "source": [
    "path = \"../datasets/flickr30k_images\""
   ]
  },
  {
   "cell_type": "markdown",
   "metadata": {},
   "source": [
    "# Downloading data"
   ]
  },
  {
   "attachments": {},
   "cell_type": "markdown",
   "metadata": {},
   "source": [
    "To download the Flickr30k data from Kaggle, ensure you have API credentials set up.\n",
    "\n",
    "For further information see https://github.com/Kaggle/kaggle-api"
   ]
  },
  {
   "cell_type": "code",
   "execution_count": 6,
   "metadata": {},
   "outputs": [
    {
     "name": "stdout",
     "output_type": "stream",
     "text": [
      "/bin/bash: /anaconda/envs/jupyter_env/lib/libtinfo.so.6: no version information available (required by /bin/bash)\n",
      "Downloading flickr-image-dataset.zip to ../datasets\n",
      "100%|█████████████████████████████████████▉| 8.16G/8.16G [03:48<00:00, 41.2MB/s]\n",
      "100%|██████████████████████████████████████| 8.16G/8.16G [03:48<00:00, 38.3MB/s]\n"
     ]
    }
   ],
   "source": [
    "!kaggle datasets download -d hsankesara/flickr-image-dataset -p ../datasets --unzip"
   ]
  },
  {
   "cell_type": "code",
   "execution_count": 7,
   "metadata": {},
   "outputs": [
    {
     "name": "stdout",
     "output_type": "stream",
     "text": [
      "/bin/bash: /anaconda/envs/jupyter_env/lib/libtinfo.so.6: no version information available (required by /bin/bash)\n"
     ]
    }
   ],
   "source": [
    "# removing duplicate images folder\n",
    "\n",
    "!rm -rf {os.path.join(path, \"flickr30k_images/flickr30k_images\")}"
   ]
  },
  {
   "attachments": {},
   "cell_type": "markdown",
   "metadata": {},
   "source": [
    "# Load data"
   ]
  },
  {
   "cell_type": "code",
   "execution_count": 32,
   "metadata": {},
   "outputs": [
    {
     "data": {
      "text/html": [
       "<div>\n",
       "<style scoped>\n",
       "    .dataframe tbody tr th:only-of-type {\n",
       "        vertical-align: middle;\n",
       "    }\n",
       "\n",
       "    .dataframe tbody tr th {\n",
       "        vertical-align: top;\n",
       "    }\n",
       "\n",
       "    .dataframe thead th {\n",
       "        text-align: right;\n",
       "    }\n",
       "</style>\n",
       "<table border=\"1\" class=\"dataframe\">\n",
       "  <thead>\n",
       "    <tr style=\"text-align: right;\">\n",
       "      <th></th>\n",
       "      <th>image_name</th>\n",
       "      <th>comment_number</th>\n",
       "      <th>comment</th>\n",
       "    </tr>\n",
       "  </thead>\n",
       "  <tbody>\n",
       "    <tr>\n",
       "      <th>0</th>\n",
       "      <td>1000092795.jpg</td>\n",
       "      <td>0</td>\n",
       "      <td>Two young guys with shaggy hair look at their ...</td>\n",
       "    </tr>\n",
       "    <tr>\n",
       "      <th>1</th>\n",
       "      <td>1000092795.jpg</td>\n",
       "      <td>1</td>\n",
       "      <td>Two young , White males are outside near many ...</td>\n",
       "    </tr>\n",
       "    <tr>\n",
       "      <th>2</th>\n",
       "      <td>1000092795.jpg</td>\n",
       "      <td>2</td>\n",
       "      <td>Two men in green shirts are standing in a yard .</td>\n",
       "    </tr>\n",
       "    <tr>\n",
       "      <th>3</th>\n",
       "      <td>1000092795.jpg</td>\n",
       "      <td>3</td>\n",
       "      <td>A man in a blue shirt standing in a garden .</td>\n",
       "    </tr>\n",
       "    <tr>\n",
       "      <th>4</th>\n",
       "      <td>1000092795.jpg</td>\n",
       "      <td>4</td>\n",
       "      <td>Two friends enjoy time spent together .</td>\n",
       "    </tr>\n",
       "    <tr>\n",
       "      <th>...</th>\n",
       "      <td>...</td>\n",
       "      <td>...</td>\n",
       "      <td>...</td>\n",
       "    </tr>\n",
       "    <tr>\n",
       "      <th>158910</th>\n",
       "      <td>998845445.jpg</td>\n",
       "      <td>0</td>\n",
       "      <td>A man in shorts and a Hawaiian shirt leans ove...</td>\n",
       "    </tr>\n",
       "    <tr>\n",
       "      <th>158911</th>\n",
       "      <td>998845445.jpg</td>\n",
       "      <td>1</td>\n",
       "      <td>A young man hanging over the side of a boat , ...</td>\n",
       "    </tr>\n",
       "    <tr>\n",
       "      <th>158912</th>\n",
       "      <td>998845445.jpg</td>\n",
       "      <td>2</td>\n",
       "      <td>A man is leaning off of the side of a blue and...</td>\n",
       "    </tr>\n",
       "    <tr>\n",
       "      <th>158913</th>\n",
       "      <td>998845445.jpg</td>\n",
       "      <td>3</td>\n",
       "      <td>A man riding a small boat in a harbor , with f...</td>\n",
       "    </tr>\n",
       "    <tr>\n",
       "      <th>158914</th>\n",
       "      <td>998845445.jpg</td>\n",
       "      <td>4</td>\n",
       "      <td>A man on a moored blue and white boat with hil...</td>\n",
       "    </tr>\n",
       "  </tbody>\n",
       "</table>\n",
       "<p>158915 rows × 3 columns</p>\n",
       "</div>"
      ],
      "text/plain": [
       "            image_name comment_number  \\\n",
       "0       1000092795.jpg              0   \n",
       "1       1000092795.jpg              1   \n",
       "2       1000092795.jpg              2   \n",
       "3       1000092795.jpg              3   \n",
       "4       1000092795.jpg              4   \n",
       "...                ...            ...   \n",
       "158910   998845445.jpg              0   \n",
       "158911   998845445.jpg              1   \n",
       "158912   998845445.jpg              2   \n",
       "158913   998845445.jpg              3   \n",
       "158914   998845445.jpg              4   \n",
       "\n",
       "                                                  comment  \n",
       "0       Two young guys with shaggy hair look at their ...  \n",
       "1       Two young , White males are outside near many ...  \n",
       "2        Two men in green shirts are standing in a yard .  \n",
       "3            A man in a blue shirt standing in a garden .  \n",
       "4                 Two friends enjoy time spent together .  \n",
       "...                                                   ...  \n",
       "158910  A man in shorts and a Hawaiian shirt leans ove...  \n",
       "158911  A young man hanging over the side of a boat , ...  \n",
       "158912  A man is leaning off of the side of a blue and...  \n",
       "158913  A man riding a small boat in a harbor , with f...  \n",
       "158914  A man on a moored blue and white boat with hil...  \n",
       "\n",
       "[158915 rows x 3 columns]"
      ]
     },
     "execution_count": 32,
     "metadata": {},
     "output_type": "execute_result"
    }
   ],
   "source": [
    "data = pd.read_csv(os.path.join(path, \"results.csv\"), sep=\"|\", skipinitialspace=True)\n",
    "data"
   ]
  },
  {
   "cell_type": "markdown",
   "metadata": {},
   "source": [
    "# Exploration"
   ]
  },
  {
   "cell_type": "markdown",
   "metadata": {},
   "source": [
    "## Columns, size..."
   ]
  },
  {
   "cell_type": "code",
   "execution_count": 33,
   "metadata": {},
   "outputs": [
    {
     "data": {
      "text/plain": [
       "Index(['image_name', 'comment_number', 'comment'], dtype='object')"
      ]
     },
     "execution_count": 33,
     "metadata": {},
     "output_type": "execute_result"
    }
   ],
   "source": [
    "data.columns"
   ]
  },
  {
   "cell_type": "code",
   "execution_count": 34,
   "metadata": {
    "tags": []
   },
   "outputs": [
    {
     "data": {
      "text/plain": [
       "(158915, 3)"
      ]
     },
     "execution_count": 34,
     "metadata": {},
     "output_type": "execute_result"
    }
   ],
   "source": [
    "data.shape"
   ]
  },
  {
   "cell_type": "code",
   "execution_count": 35,
   "metadata": {},
   "outputs": [
    {
     "data": {
      "text/plain": [
       "image_name    \n",
       "1000092795.jpg    5\n",
       "459538095.jpg     5\n",
       "459804826.jpg     5\n",
       "459778335.jpg     5\n",
       "4597303045.jpg    5\n",
       "                 ..\n",
       "3029715635.jpg    5\n",
       "3029472296.jpg    5\n",
       "3029463004.jpg    5\n",
       "3029411230.jpg    5\n",
       "998845445.jpg     5\n",
       "Length: 31783, dtype: int64"
      ]
     },
     "execution_count": 35,
     "metadata": {},
     "output_type": "execute_result"
    }
   ],
   "source": [
    "data.value_counts([\"image_name\"])"
   ]
  },
  {
   "cell_type": "markdown",
   "metadata": {},
   "source": [
    "# Ground truth"
   ]
  },
  {
   "cell_type": "code",
   "execution_count": 36,
   "metadata": {},
   "outputs": [],
   "source": [
    "data[\"path\"] = data[\"image_name\"]\n",
    "data[\"description\"] = data[\"comment\"]"
   ]
  },
  {
   "cell_type": "code",
   "execution_count": 37,
   "metadata": {},
   "outputs": [],
   "source": [
    "ground_truth = data[[\"path\", \"description\"]]"
   ]
  },
  {
   "cell_type": "markdown",
   "metadata": {},
   "source": [
    "## Copy columns for experiments on extended MNN-EM"
   ]
  },
  {
   "cell_type": "code",
   "execution_count": 38,
   "metadata": {},
   "outputs": [
    {
     "name": "stderr",
     "output_type": "stream",
     "text": [
      "/tmp/ipykernel_18624/3315395984.py:1: SettingWithCopyWarning: \n",
      "A value is trying to be set on a copy of a slice from a DataFrame.\n",
      "Try using .loc[row_indexer,col_indexer] = value instead\n",
      "\n",
      "See the caveats in the documentation: https://pandas.pydata.org/pandas-docs/stable/user_guide/indexing.html#returning-a-view-versus-a-copy\n",
      "  ground_truth[\"description2\"] = ground_truth[\"description\"]\n"
     ]
    }
   ],
   "source": [
    "ground_truth[\"description2\"] = ground_truth[\"description\"]"
   ]
  },
  {
   "cell_type": "markdown",
   "metadata": {},
   "source": [
    "## Target labels for MNN-EM"
   ]
  },
  {
   "cell_type": "code",
   "execution_count": 39,
   "metadata": {},
   "outputs": [
    {
     "name": "stderr",
     "output_type": "stream",
     "text": [
      "/tmp/ipykernel_18624/3465935695.py:1: SettingWithCopyWarning: \n",
      "A value is trying to be set on a copy of a slice from a DataFrame.\n",
      "Try using .loc[row_indexer,col_indexer] = value instead\n",
      "\n",
      "See the caveats in the documentation: https://pandas.pydata.org/pandas-docs/stable/user_guide/indexing.html#returning-a-view-versus-a-copy\n",
      "  ground_truth[\"label\"] = 1\n"
     ]
    }
   ],
   "source": [
    "ground_truth[\"label\"] = 1"
   ]
  },
  {
   "cell_type": "code",
   "execution_count": 40,
   "metadata": {},
   "outputs": [
    {
     "data": {
      "text/html": [
       "<div>\n",
       "<style scoped>\n",
       "    .dataframe tbody tr th:only-of-type {\n",
       "        vertical-align: middle;\n",
       "    }\n",
       "\n",
       "    .dataframe tbody tr th {\n",
       "        vertical-align: top;\n",
       "    }\n",
       "\n",
       "    .dataframe thead th {\n",
       "        text-align: right;\n",
       "    }\n",
       "</style>\n",
       "<table border=\"1\" class=\"dataframe\">\n",
       "  <thead>\n",
       "    <tr style=\"text-align: right;\">\n",
       "      <th></th>\n",
       "      <th>path</th>\n",
       "      <th>description</th>\n",
       "      <th>description2</th>\n",
       "      <th>label</th>\n",
       "    </tr>\n",
       "  </thead>\n",
       "  <tbody>\n",
       "    <tr>\n",
       "      <th>0</th>\n",
       "      <td>1000092795.jpg</td>\n",
       "      <td>Two young guys with shaggy hair look at their ...</td>\n",
       "      <td>Two young guys with shaggy hair look at their ...</td>\n",
       "      <td>1</td>\n",
       "    </tr>\n",
       "    <tr>\n",
       "      <th>1</th>\n",
       "      <td>1000092795.jpg</td>\n",
       "      <td>Two young , White males are outside near many ...</td>\n",
       "      <td>Two young , White males are outside near many ...</td>\n",
       "      <td>1</td>\n",
       "    </tr>\n",
       "    <tr>\n",
       "      <th>2</th>\n",
       "      <td>1000092795.jpg</td>\n",
       "      <td>Two men in green shirts are standing in a yard .</td>\n",
       "      <td>Two men in green shirts are standing in a yard .</td>\n",
       "      <td>1</td>\n",
       "    </tr>\n",
       "    <tr>\n",
       "      <th>3</th>\n",
       "      <td>1000092795.jpg</td>\n",
       "      <td>A man in a blue shirt standing in a garden .</td>\n",
       "      <td>A man in a blue shirt standing in a garden .</td>\n",
       "      <td>1</td>\n",
       "    </tr>\n",
       "    <tr>\n",
       "      <th>4</th>\n",
       "      <td>1000092795.jpg</td>\n",
       "      <td>Two friends enjoy time spent together .</td>\n",
       "      <td>Two friends enjoy time spent together .</td>\n",
       "      <td>1</td>\n",
       "    </tr>\n",
       "    <tr>\n",
       "      <th>5</th>\n",
       "      <td>10002456.jpg</td>\n",
       "      <td>Several men in hard hats are operating a giant...</td>\n",
       "      <td>Several men in hard hats are operating a giant...</td>\n",
       "      <td>1</td>\n",
       "    </tr>\n",
       "    <tr>\n",
       "      <th>6</th>\n",
       "      <td>10002456.jpg</td>\n",
       "      <td>Workers look down from up above on a piece of ...</td>\n",
       "      <td>Workers look down from up above on a piece of ...</td>\n",
       "      <td>1</td>\n",
       "    </tr>\n",
       "    <tr>\n",
       "      <th>7</th>\n",
       "      <td>10002456.jpg</td>\n",
       "      <td>Two men working on a machine wearing hard hats .</td>\n",
       "      <td>Two men working on a machine wearing hard hats .</td>\n",
       "      <td>1</td>\n",
       "    </tr>\n",
       "    <tr>\n",
       "      <th>8</th>\n",
       "      <td>10002456.jpg</td>\n",
       "      <td>Four men on top of a tall structure .</td>\n",
       "      <td>Four men on top of a tall structure .</td>\n",
       "      <td>1</td>\n",
       "    </tr>\n",
       "    <tr>\n",
       "      <th>9</th>\n",
       "      <td>10002456.jpg</td>\n",
       "      <td>Three men on a large rig .</td>\n",
       "      <td>Three men on a large rig .</td>\n",
       "      <td>1</td>\n",
       "    </tr>\n",
       "  </tbody>\n",
       "</table>\n",
       "</div>"
      ],
      "text/plain": [
       "             path                                        description  \\\n",
       "0  1000092795.jpg  Two young guys with shaggy hair look at their ...   \n",
       "1  1000092795.jpg  Two young , White males are outside near many ...   \n",
       "2  1000092795.jpg   Two men in green shirts are standing in a yard .   \n",
       "3  1000092795.jpg       A man in a blue shirt standing in a garden .   \n",
       "4  1000092795.jpg            Two friends enjoy time spent together .   \n",
       "5    10002456.jpg  Several men in hard hats are operating a giant...   \n",
       "6    10002456.jpg  Workers look down from up above on a piece of ...   \n",
       "7    10002456.jpg   Two men working on a machine wearing hard hats .   \n",
       "8    10002456.jpg              Four men on top of a tall structure .   \n",
       "9    10002456.jpg                         Three men on a large rig .   \n",
       "\n",
       "                                        description2  label  \n",
       "0  Two young guys with shaggy hair look at their ...      1  \n",
       "1  Two young , White males are outside near many ...      1  \n",
       "2   Two men in green shirts are standing in a yard .      1  \n",
       "3       A man in a blue shirt standing in a garden .      1  \n",
       "4            Two friends enjoy time spent together .      1  \n",
       "5  Several men in hard hats are operating a giant...      1  \n",
       "6  Workers look down from up above on a piece of ...      1  \n",
       "7   Two men working on a machine wearing hard hats .      1  \n",
       "8              Four men on top of a tall structure .      1  \n",
       "9                         Three men on a large rig .      1  "
      ]
     },
     "execution_count": 40,
     "metadata": {},
     "output_type": "execute_result"
    }
   ],
   "source": [
    "ground_truth.head(10)"
   ]
  },
  {
   "cell_type": "markdown",
   "metadata": {},
   "source": [
    "# False samples/Complement"
   ]
  },
  {
   "cell_type": "code",
   "execution_count": 41,
   "metadata": {},
   "outputs": [],
   "source": [
    "false_samples = ground_truth.apply(np.random.permutation, axis=0)"
   ]
  },
  {
   "cell_type": "markdown",
   "metadata": {},
   "source": [
    "## Target labels for MNN-EM"
   ]
  },
  {
   "cell_type": "code",
   "execution_count": 42,
   "metadata": {},
   "outputs": [],
   "source": [
    "false_samples[\"label\"] = 0"
   ]
  },
  {
   "cell_type": "code",
   "execution_count": 43,
   "metadata": {},
   "outputs": [
    {
     "data": {
      "text/html": [
       "<div>\n",
       "<style scoped>\n",
       "    .dataframe tbody tr th:only-of-type {\n",
       "        vertical-align: middle;\n",
       "    }\n",
       "\n",
       "    .dataframe tbody tr th {\n",
       "        vertical-align: top;\n",
       "    }\n",
       "\n",
       "    .dataframe thead th {\n",
       "        text-align: right;\n",
       "    }\n",
       "</style>\n",
       "<table border=\"1\" class=\"dataframe\">\n",
       "  <thead>\n",
       "    <tr style=\"text-align: right;\">\n",
       "      <th></th>\n",
       "      <th>path</th>\n",
       "      <th>description</th>\n",
       "      <th>description2</th>\n",
       "      <th>label</th>\n",
       "    </tr>\n",
       "  </thead>\n",
       "  <tbody>\n",
       "    <tr>\n",
       "      <th>0</th>\n",
       "      <td>4341820422.jpg</td>\n",
       "      <td>An outdoor ice skating rink full of people .</td>\n",
       "      <td>A man in a long blue cape walks into an old st...</td>\n",
       "      <td>0</td>\n",
       "    </tr>\n",
       "    <tr>\n",
       "      <th>1</th>\n",
       "      <td>2250555512.jpg</td>\n",
       "      <td>Girl in red shirt standing over rows of oranges .</td>\n",
       "      <td>A group of people at a parade .</td>\n",
       "      <td>0</td>\n",
       "    </tr>\n",
       "    <tr>\n",
       "      <th>2</th>\n",
       "      <td>4603095253.jpg</td>\n",
       "      <td>A city street with market vendors and children...</td>\n",
       "      <td>A group of dark-skinned , south Asian men sit ...</td>\n",
       "      <td>0</td>\n",
       "    </tr>\n",
       "    <tr>\n",
       "      <th>3</th>\n",
       "      <td>3497590041.jpg</td>\n",
       "      <td>A man is asleep sitting up on a plane wearing ...</td>\n",
       "      <td>There are three dogs racing around a muddy tra...</td>\n",
       "      <td>0</td>\n",
       "    </tr>\n",
       "    <tr>\n",
       "      <th>4</th>\n",
       "      <td>73987570.jpg</td>\n",
       "      <td>Security officer working outside .</td>\n",
       "      <td>A man and woman smile after being wed .</td>\n",
       "      <td>0</td>\n",
       "    </tr>\n",
       "    <tr>\n",
       "      <th>5</th>\n",
       "      <td>114715590.jpg</td>\n",
       "      <td>An Indian man is kneeling on a rug praying .</td>\n",
       "      <td>A man is riding a dirt bike on a steep tilt .</td>\n",
       "      <td>0</td>\n",
       "    </tr>\n",
       "    <tr>\n",
       "      <th>6</th>\n",
       "      <td>3268467451.jpg</td>\n",
       "      <td>A man working on a train .</td>\n",
       "      <td>Two young women sit by a fountain .</td>\n",
       "      <td>0</td>\n",
       "    </tr>\n",
       "    <tr>\n",
       "      <th>7</th>\n",
       "      <td>310715139.jpg</td>\n",
       "      <td>A sexy blond is sitting on a bicycle wearing l...</td>\n",
       "      <td>A young guy standing on the side of the road t...</td>\n",
       "      <td>0</td>\n",
       "    </tr>\n",
       "    <tr>\n",
       "      <th>8</th>\n",
       "      <td>2444073390.jpg</td>\n",
       "      <td>Two dogs are running on the grass .</td>\n",
       "      <td>Two men and a woman are walking down an old co...</td>\n",
       "      <td>0</td>\n",
       "    </tr>\n",
       "    <tr>\n",
       "      <th>9</th>\n",
       "      <td>6386880789.jpg</td>\n",
       "      <td>A man playing an instrument underneath some st...</td>\n",
       "      <td>Man in a red baseball cap is grilling fish .</td>\n",
       "      <td>0</td>\n",
       "    </tr>\n",
       "  </tbody>\n",
       "</table>\n",
       "</div>"
      ],
      "text/plain": [
       "             path                                        description  \\\n",
       "0  4341820422.jpg       An outdoor ice skating rink full of people .   \n",
       "1  2250555512.jpg  Girl in red shirt standing over rows of oranges .   \n",
       "2  4603095253.jpg  A city street with market vendors and children...   \n",
       "3  3497590041.jpg  A man is asleep sitting up on a plane wearing ...   \n",
       "4    73987570.jpg                 Security officer working outside .   \n",
       "5   114715590.jpg       An Indian man is kneeling on a rug praying .   \n",
       "6  3268467451.jpg                         A man working on a train .   \n",
       "7   310715139.jpg  A sexy blond is sitting on a bicycle wearing l...   \n",
       "8  2444073390.jpg                Two dogs are running on the grass .   \n",
       "9  6386880789.jpg  A man playing an instrument underneath some st...   \n",
       "\n",
       "                                        description2  label  \n",
       "0  A man in a long blue cape walks into an old st...      0  \n",
       "1                    A group of people at a parade .      0  \n",
       "2  A group of dark-skinned , south Asian men sit ...      0  \n",
       "3  There are three dogs racing around a muddy tra...      0  \n",
       "4            A man and woman smile after being wed .      0  \n",
       "5      A man is riding a dirt bike on a steep tilt .      0  \n",
       "6                Two young women sit by a fountain .      0  \n",
       "7  A young guy standing on the side of the road t...      0  \n",
       "8  Two men and a woman are walking down an old co...      0  \n",
       "9       Man in a red baseball cap is grilling fish .      0  "
      ]
     },
     "execution_count": 43,
     "metadata": {},
     "output_type": "execute_result"
    }
   ],
   "source": [
    "false_samples.head(10)"
   ]
  },
  {
   "cell_type": "markdown",
   "metadata": {},
   "source": [
    "# Combine ground truth and complement"
   ]
  },
  {
   "cell_type": "code",
   "execution_count": 44,
   "metadata": {},
   "outputs": [],
   "source": [
    "dataset = pd.concat([ground_truth, false_samples])"
   ]
  },
  {
   "cell_type": "code",
   "execution_count": 45,
   "metadata": {},
   "outputs": [],
   "source": [
    "# random shuffle\n",
    "dataset_final = dataset.sample(frac=1, axis=0).reset_index(drop=True)"
   ]
  },
  {
   "cell_type": "code",
   "execution_count": 46,
   "metadata": {},
   "outputs": [],
   "source": [
    "dataset_final = dataset_final[[\"path\", \"description\", \"description2\", \"label\"]]"
   ]
  },
  {
   "cell_type": "markdown",
   "metadata": {},
   "source": [
    "## Set descriptions to lowercase"
   ]
  },
  {
   "cell_type": "markdown",
   "metadata": {},
   "source": [
    "As per [Zhang et al. (2015)](https://dl.acm.org/doi/10.5555/2969239.2969312)"
   ]
  },
  {
   "cell_type": "code",
   "execution_count": 47,
   "metadata": {},
   "outputs": [],
   "source": [
    "dataset_final[\"description\"] = dataset_final[\"description\"].str.lower()"
   ]
  },
  {
   "cell_type": "code",
   "execution_count": 48,
   "metadata": {},
   "outputs": [],
   "source": [
    "dataset_final[\"description2\"] = dataset_final[\"description2\"].str.lower()"
   ]
  },
  {
   "cell_type": "code",
   "execution_count": 49,
   "metadata": {},
   "outputs": [
    {
     "data": {
      "text/html": [
       "<div>\n",
       "<style scoped>\n",
       "    .dataframe tbody tr th:only-of-type {\n",
       "        vertical-align: middle;\n",
       "    }\n",
       "\n",
       "    .dataframe tbody tr th {\n",
       "        vertical-align: top;\n",
       "    }\n",
       "\n",
       "    .dataframe thead th {\n",
       "        text-align: right;\n",
       "    }\n",
       "</style>\n",
       "<table border=\"1\" class=\"dataframe\">\n",
       "  <thead>\n",
       "    <tr style=\"text-align: right;\">\n",
       "      <th></th>\n",
       "      <th>path</th>\n",
       "      <th>description</th>\n",
       "      <th>description2</th>\n",
       "      <th>label</th>\n",
       "    </tr>\n",
       "  </thead>\n",
       "  <tbody>\n",
       "    <tr>\n",
       "      <th>0</th>\n",
       "      <td>431018958.jpg</td>\n",
       "      <td>two teenagers walking down the street with an ...</td>\n",
       "      <td>two asian woman at an archery competition gett...</td>\n",
       "      <td>0</td>\n",
       "    </tr>\n",
       "    <tr>\n",
       "      <th>1</th>\n",
       "      <td>1698837338.jpg</td>\n",
       "      <td>performers in costumes are performing at a par...</td>\n",
       "      <td>a brunette wearing eyeglasses and white sweate...</td>\n",
       "      <td>0</td>\n",
       "    </tr>\n",
       "    <tr>\n",
       "      <th>2</th>\n",
       "      <td>2427731202.jpg</td>\n",
       "      <td>a woman off her bike looking at the area .</td>\n",
       "      <td>horseback riders file down a wooded path .</td>\n",
       "      <td>0</td>\n",
       "    </tr>\n",
       "    <tr>\n",
       "      <th>3</th>\n",
       "      <td>3104400277.jpg</td>\n",
       "      <td>two people on motorbikes .</td>\n",
       "      <td>two people on motorbikes .</td>\n",
       "      <td>1</td>\n",
       "    </tr>\n",
       "    <tr>\n",
       "      <th>4</th>\n",
       "      <td>2868575889.jpg</td>\n",
       "      <td>multiple people are hanging on to a pole while...</td>\n",
       "      <td>a man holding a little girl up in the air outs...</td>\n",
       "      <td>0</td>\n",
       "    </tr>\n",
       "    <tr>\n",
       "      <th>...</th>\n",
       "      <td>...</td>\n",
       "      <td>...</td>\n",
       "      <td>...</td>\n",
       "      <td>...</td>\n",
       "    </tr>\n",
       "    <tr>\n",
       "      <th>317825</th>\n",
       "      <td>5105885364.jpg</td>\n",
       "      <td>a chubby woman with her boyfriend .</td>\n",
       "      <td>two men wearing plastic gloves are making juic...</td>\n",
       "      <td>0</td>\n",
       "    </tr>\n",
       "    <tr>\n",
       "      <th>317826</th>\n",
       "      <td>2962977152.jpg</td>\n",
       "      <td>two soccer players rush to kick the ball .</td>\n",
       "      <td>two soccer players rush to kick the ball .</td>\n",
       "      <td>1</td>\n",
       "    </tr>\n",
       "    <tr>\n",
       "      <th>317827</th>\n",
       "      <td>3203653158.jpg</td>\n",
       "      <td>an african walks through a field .</td>\n",
       "      <td>an african walks through a field .</td>\n",
       "      <td>1</td>\n",
       "    </tr>\n",
       "    <tr>\n",
       "      <th>317828</th>\n",
       "      <td>4897359709.jpg</td>\n",
       "      <td>a woman wearing shades and a coat looks upward .</td>\n",
       "      <td>a man in a white collared shirt plays a red gu...</td>\n",
       "      <td>0</td>\n",
       "    </tr>\n",
       "    <tr>\n",
       "      <th>317829</th>\n",
       "      <td>2294913223.jpg</td>\n",
       "      <td>white duck with red face swimming</td>\n",
       "      <td>a man with a disability who does n't have legs...</td>\n",
       "      <td>0</td>\n",
       "    </tr>\n",
       "  </tbody>\n",
       "</table>\n",
       "<p>317830 rows × 4 columns</p>\n",
       "</div>"
      ],
      "text/plain": [
       "                  path                                        description  \\\n",
       "0        431018958.jpg  two teenagers walking down the street with an ...   \n",
       "1       1698837338.jpg  performers in costumes are performing at a par...   \n",
       "2       2427731202.jpg         a woman off her bike looking at the area .   \n",
       "3       3104400277.jpg                         two people on motorbikes .   \n",
       "4       2868575889.jpg  multiple people are hanging on to a pole while...   \n",
       "...                ...                                                ...   \n",
       "317825  5105885364.jpg                a chubby woman with her boyfriend .   \n",
       "317826  2962977152.jpg         two soccer players rush to kick the ball .   \n",
       "317827  3203653158.jpg                 an african walks through a field .   \n",
       "317828  4897359709.jpg   a woman wearing shades and a coat looks upward .   \n",
       "317829  2294913223.jpg                  white duck with red face swimming   \n",
       "\n",
       "                                             description2  label  \n",
       "0       two asian woman at an archery competition gett...      0  \n",
       "1       a brunette wearing eyeglasses and white sweate...      0  \n",
       "2              horseback riders file down a wooded path .      0  \n",
       "3                              two people on motorbikes .      1  \n",
       "4       a man holding a little girl up in the air outs...      0  \n",
       "...                                                   ...    ...  \n",
       "317825  two men wearing plastic gloves are making juic...      0  \n",
       "317826         two soccer players rush to kick the ball .      1  \n",
       "317827                 an african walks through a field .      1  \n",
       "317828  a man in a white collared shirt plays a red gu...      0  \n",
       "317829  a man with a disability who does n't have legs...      0  \n",
       "\n",
       "[317830 rows x 4 columns]"
      ]
     },
     "execution_count": 49,
     "metadata": {},
     "output_type": "execute_result"
    }
   ],
   "source": [
    "dataset_final"
   ]
  },
  {
   "cell_type": "markdown",
   "metadata": {},
   "source": [
    "## Remove non-ASCII characters"
   ]
  },
  {
   "cell_type": "code",
   "execution_count": 50,
   "metadata": {},
   "outputs": [],
   "source": [
    "dataset_final[\"description\"] = dataset_final['description'].str.replace(\n",
    "    r'[^\\x00-\\x7F]+', '', regex=True)\n",
    "dataset_final[\"description2\"] = dataset_final['description2'].str.replace(\n",
    "    r'[^\\x00-\\x7F]+', '', regex=True)"
   ]
  },
  {
   "cell_type": "code",
   "execution_count": 51,
   "metadata": {},
   "outputs": [],
   "source": [
    "dataset_final = dataset_final.dropna()"
   ]
  },
  {
   "cell_type": "code",
   "execution_count": 52,
   "metadata": {},
   "outputs": [],
   "source": [
    "dataset_final = dataset_final.reset_index(drop=True)"
   ]
  },
  {
   "cell_type": "code",
   "execution_count": 53,
   "metadata": {},
   "outputs": [
    {
     "data": {
      "text/html": [
       "<div>\n",
       "<style scoped>\n",
       "    .dataframe tbody tr th:only-of-type {\n",
       "        vertical-align: middle;\n",
       "    }\n",
       "\n",
       "    .dataframe tbody tr th {\n",
       "        vertical-align: top;\n",
       "    }\n",
       "\n",
       "    .dataframe thead th {\n",
       "        text-align: right;\n",
       "    }\n",
       "</style>\n",
       "<table border=\"1\" class=\"dataframe\">\n",
       "  <thead>\n",
       "    <tr style=\"text-align: right;\">\n",
       "      <th></th>\n",
       "      <th>path</th>\n",
       "      <th>description</th>\n",
       "      <th>description2</th>\n",
       "      <th>label</th>\n",
       "    </tr>\n",
       "  </thead>\n",
       "  <tbody>\n",
       "    <tr>\n",
       "      <th>0</th>\n",
       "      <td>431018958.jpg</td>\n",
       "      <td>two teenagers walking down the street with an ...</td>\n",
       "      <td>two asian woman at an archery competition gett...</td>\n",
       "      <td>0</td>\n",
       "    </tr>\n",
       "    <tr>\n",
       "      <th>1</th>\n",
       "      <td>1698837338.jpg</td>\n",
       "      <td>performers in costumes are performing at a par...</td>\n",
       "      <td>a brunette wearing eyeglasses and white sweate...</td>\n",
       "      <td>0</td>\n",
       "    </tr>\n",
       "    <tr>\n",
       "      <th>2</th>\n",
       "      <td>2427731202.jpg</td>\n",
       "      <td>a woman off her bike looking at the area .</td>\n",
       "      <td>horseback riders file down a wooded path .</td>\n",
       "      <td>0</td>\n",
       "    </tr>\n",
       "    <tr>\n",
       "      <th>3</th>\n",
       "      <td>3104400277.jpg</td>\n",
       "      <td>two people on motorbikes .</td>\n",
       "      <td>two people on motorbikes .</td>\n",
       "      <td>1</td>\n",
       "    </tr>\n",
       "    <tr>\n",
       "      <th>4</th>\n",
       "      <td>2868575889.jpg</td>\n",
       "      <td>multiple people are hanging on to a pole while...</td>\n",
       "      <td>a man holding a little girl up in the air outs...</td>\n",
       "      <td>0</td>\n",
       "    </tr>\n",
       "    <tr>\n",
       "      <th>...</th>\n",
       "      <td>...</td>\n",
       "      <td>...</td>\n",
       "      <td>...</td>\n",
       "      <td>...</td>\n",
       "    </tr>\n",
       "    <tr>\n",
       "      <th>317822</th>\n",
       "      <td>5105885364.jpg</td>\n",
       "      <td>a chubby woman with her boyfriend .</td>\n",
       "      <td>two men wearing plastic gloves are making juic...</td>\n",
       "      <td>0</td>\n",
       "    </tr>\n",
       "    <tr>\n",
       "      <th>317823</th>\n",
       "      <td>2962977152.jpg</td>\n",
       "      <td>two soccer players rush to kick the ball .</td>\n",
       "      <td>two soccer players rush to kick the ball .</td>\n",
       "      <td>1</td>\n",
       "    </tr>\n",
       "    <tr>\n",
       "      <th>317824</th>\n",
       "      <td>3203653158.jpg</td>\n",
       "      <td>an african walks through a field .</td>\n",
       "      <td>an african walks through a field .</td>\n",
       "      <td>1</td>\n",
       "    </tr>\n",
       "    <tr>\n",
       "      <th>317825</th>\n",
       "      <td>4897359709.jpg</td>\n",
       "      <td>a woman wearing shades and a coat looks upward .</td>\n",
       "      <td>a man in a white collared shirt plays a red gu...</td>\n",
       "      <td>0</td>\n",
       "    </tr>\n",
       "    <tr>\n",
       "      <th>317826</th>\n",
       "      <td>2294913223.jpg</td>\n",
       "      <td>white duck with red face swimming</td>\n",
       "      <td>a man with a disability who does n't have legs...</td>\n",
       "      <td>0</td>\n",
       "    </tr>\n",
       "  </tbody>\n",
       "</table>\n",
       "<p>317827 rows × 4 columns</p>\n",
       "</div>"
      ],
      "text/plain": [
       "                  path                                        description  \\\n",
       "0        431018958.jpg  two teenagers walking down the street with an ...   \n",
       "1       1698837338.jpg  performers in costumes are performing at a par...   \n",
       "2       2427731202.jpg         a woman off her bike looking at the area .   \n",
       "3       3104400277.jpg                         two people on motorbikes .   \n",
       "4       2868575889.jpg  multiple people are hanging on to a pole while...   \n",
       "...                ...                                                ...   \n",
       "317822  5105885364.jpg                a chubby woman with her boyfriend .   \n",
       "317823  2962977152.jpg         two soccer players rush to kick the ball .   \n",
       "317824  3203653158.jpg                 an african walks through a field .   \n",
       "317825  4897359709.jpg   a woman wearing shades and a coat looks upward .   \n",
       "317826  2294913223.jpg                  white duck with red face swimming   \n",
       "\n",
       "                                             description2  label  \n",
       "0       two asian woman at an archery competition gett...      0  \n",
       "1       a brunette wearing eyeglasses and white sweate...      0  \n",
       "2              horseback riders file down a wooded path .      0  \n",
       "3                              two people on motorbikes .      1  \n",
       "4       a man holding a little girl up in the air outs...      0  \n",
       "...                                                   ...    ...  \n",
       "317822  two men wearing plastic gloves are making juic...      0  \n",
       "317823         two soccer players rush to kick the ball .      1  \n",
       "317824                 an african walks through a field .      1  \n",
       "317825  a man in a white collared shirt plays a red gu...      0  \n",
       "317826  a man with a disability who does n't have legs...      0  \n",
       "\n",
       "[317827 rows x 4 columns]"
      ]
     },
     "execution_count": 53,
     "metadata": {},
     "output_type": "execute_result"
    }
   ],
   "source": [
    "dataset_final"
   ]
  },
  {
   "cell_type": "markdown",
   "metadata": {},
   "source": [
    "## Export dataset"
   ]
  },
  {
   "cell_type": "code",
   "execution_count": 54,
   "metadata": {},
   "outputs": [],
   "source": [
    "dataset_final.to_csv(os.path.join(path, \"data.csv\"))"
   ]
  },
  {
   "cell_type": "code",
   "execution_count": 55,
   "metadata": {},
   "outputs": [
    {
     "data": {
      "text/html": [
       "<div>\n",
       "<style scoped>\n",
       "    .dataframe tbody tr th:only-of-type {\n",
       "        vertical-align: middle;\n",
       "    }\n",
       "\n",
       "    .dataframe tbody tr th {\n",
       "        vertical-align: top;\n",
       "    }\n",
       "\n",
       "    .dataframe thead th {\n",
       "        text-align: right;\n",
       "    }\n",
       "</style>\n",
       "<table border=\"1\" class=\"dataframe\">\n",
       "  <thead>\n",
       "    <tr style=\"text-align: right;\">\n",
       "      <th></th>\n",
       "      <th>path</th>\n",
       "      <th>description</th>\n",
       "      <th>description2</th>\n",
       "      <th>label</th>\n",
       "    </tr>\n",
       "  </thead>\n",
       "  <tbody>\n",
       "    <tr>\n",
       "      <th>0</th>\n",
       "      <td>431018958.jpg</td>\n",
       "      <td>two teenagers walking down the street with an ...</td>\n",
       "      <td>two asian woman at an archery competition gett...</td>\n",
       "      <td>0</td>\n",
       "    </tr>\n",
       "    <tr>\n",
       "      <th>1</th>\n",
       "      <td>1698837338.jpg</td>\n",
       "      <td>performers in costumes are performing at a par...</td>\n",
       "      <td>a brunette wearing eyeglasses and white sweate...</td>\n",
       "      <td>0</td>\n",
       "    </tr>\n",
       "    <tr>\n",
       "      <th>2</th>\n",
       "      <td>2427731202.jpg</td>\n",
       "      <td>a woman off her bike looking at the area .</td>\n",
       "      <td>horseback riders file down a wooded path .</td>\n",
       "      <td>0</td>\n",
       "    </tr>\n",
       "    <tr>\n",
       "      <th>3</th>\n",
       "      <td>3104400277.jpg</td>\n",
       "      <td>two people on motorbikes .</td>\n",
       "      <td>two people on motorbikes .</td>\n",
       "      <td>1</td>\n",
       "    </tr>\n",
       "    <tr>\n",
       "      <th>4</th>\n",
       "      <td>2868575889.jpg</td>\n",
       "      <td>multiple people are hanging on to a pole while...</td>\n",
       "      <td>a man holding a little girl up in the air outs...</td>\n",
       "      <td>0</td>\n",
       "    </tr>\n",
       "    <tr>\n",
       "      <th>...</th>\n",
       "      <td>...</td>\n",
       "      <td>...</td>\n",
       "      <td>...</td>\n",
       "      <td>...</td>\n",
       "    </tr>\n",
       "    <tr>\n",
       "      <th>317822</th>\n",
       "      <td>5105885364.jpg</td>\n",
       "      <td>a chubby woman with her boyfriend .</td>\n",
       "      <td>two men wearing plastic gloves are making juic...</td>\n",
       "      <td>0</td>\n",
       "    </tr>\n",
       "    <tr>\n",
       "      <th>317823</th>\n",
       "      <td>2962977152.jpg</td>\n",
       "      <td>two soccer players rush to kick the ball .</td>\n",
       "      <td>two soccer players rush to kick the ball .</td>\n",
       "      <td>1</td>\n",
       "    </tr>\n",
       "    <tr>\n",
       "      <th>317824</th>\n",
       "      <td>3203653158.jpg</td>\n",
       "      <td>an african walks through a field .</td>\n",
       "      <td>an african walks through a field .</td>\n",
       "      <td>1</td>\n",
       "    </tr>\n",
       "    <tr>\n",
       "      <th>317825</th>\n",
       "      <td>4897359709.jpg</td>\n",
       "      <td>a woman wearing shades and a coat looks upward .</td>\n",
       "      <td>a man in a white collared shirt plays a red gu...</td>\n",
       "      <td>0</td>\n",
       "    </tr>\n",
       "    <tr>\n",
       "      <th>317826</th>\n",
       "      <td>2294913223.jpg</td>\n",
       "      <td>white duck with red face swimming</td>\n",
       "      <td>a man with a disability who does n't have legs...</td>\n",
       "      <td>0</td>\n",
       "    </tr>\n",
       "  </tbody>\n",
       "</table>\n",
       "<p>317827 rows × 4 columns</p>\n",
       "</div>"
      ],
      "text/plain": [
       "                  path                                        description  \\\n",
       "0        431018958.jpg  two teenagers walking down the street with an ...   \n",
       "1       1698837338.jpg  performers in costumes are performing at a par...   \n",
       "2       2427731202.jpg         a woman off her bike looking at the area .   \n",
       "3       3104400277.jpg                         two people on motorbikes .   \n",
       "4       2868575889.jpg  multiple people are hanging on to a pole while...   \n",
       "...                ...                                                ...   \n",
       "317822  5105885364.jpg                a chubby woman with her boyfriend .   \n",
       "317823  2962977152.jpg         two soccer players rush to kick the ball .   \n",
       "317824  3203653158.jpg                 an african walks through a field .   \n",
       "317825  4897359709.jpg   a woman wearing shades and a coat looks upward .   \n",
       "317826  2294913223.jpg                  white duck with red face swimming   \n",
       "\n",
       "                                             description2  label  \n",
       "0       two asian woman at an archery competition gett...      0  \n",
       "1       a brunette wearing eyeglasses and white sweate...      0  \n",
       "2              horseback riders file down a wooded path .      0  \n",
       "3                              two people on motorbikes .      1  \n",
       "4       a man holding a little girl up in the air outs...      0  \n",
       "...                                                   ...    ...  \n",
       "317822  two men wearing plastic gloves are making juic...      0  \n",
       "317823         two soccer players rush to kick the ball .      1  \n",
       "317824                 an african walks through a field .      1  \n",
       "317825  a man in a white collared shirt plays a red gu...      0  \n",
       "317826  a man with a disability who does n't have legs...      0  \n",
       "\n",
       "[317827 rows x 4 columns]"
      ]
     },
     "execution_count": 55,
     "metadata": {},
     "output_type": "execute_result"
    }
   ],
   "source": [
    "dataset_final = pd.read_csv(os.path.join(path, \"data.csv\"))\n",
    "dataset_final = dataset_final.drop(['Unnamed: 0'], axis=1)\n",
    "dataset_final"
   ]
  }
 ],
 "metadata": {
  "kernelspec": {
   "display_name": "tf2.8",
   "language": "python",
   "name": "python3"
  },
  "language_info": {
   "codemirror_mode": {
    "name": "ipython",
    "version": 3
   },
   "file_extension": ".py",
   "mimetype": "text/x-python",
   "name": "python",
   "nbconvert_exporter": "python",
   "pygments_lexer": "ipython3",
   "version": "3.9.16"
  }
 },
 "nbformat": 4,
 "nbformat_minor": 4
}
