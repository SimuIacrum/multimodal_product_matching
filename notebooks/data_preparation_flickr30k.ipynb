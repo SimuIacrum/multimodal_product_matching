{
 "cells": [
  {
   "cell_type": "markdown",
   "metadata": {},
   "source": [
    "# Setup"
   ]
  },
  {
   "cell_type": "code",
   "execution_count": null,
   "metadata": {},
   "outputs": [],
   "source": [
    "pip install -r ../requirements.txt"
   ]
  },
  {
   "cell_type": "code",
   "execution_count": 2,
   "metadata": {},
   "outputs": [],
   "source": [
    "# Add directory above current directory to path\n",
    "import sys\n",
    "\n",
    "sys.path.insert(0, '..')"
   ]
  },
  {
   "cell_type": "code",
   "execution_count": 4,
   "metadata": {},
   "outputs": [],
   "source": [
    "import pandas as pd\n",
    "import numpy as np\n",
    "import os\n",
    "import gzip\n",
    "import glob\n",
    "import json\n",
    "from tqdm import tqdm"
   ]
  },
  {
   "cell_type": "code",
   "execution_count": 5,
   "metadata": {},
   "outputs": [],
   "source": [
    "path = \"../datasets/flickr30k_images\""
   ]
  },
  {
   "cell_type": "markdown",
   "metadata": {},
   "source": [
    "# Downloading data"
   ]
  },
  {
   "attachments": {},
   "cell_type": "markdown",
   "metadata": {},
   "source": [
    "The Flickr30k dataset is available at https://www.kaggle.com/datasets/hsankesara/flickr-image-dataset\n",
    "\n",
    "To automatically download the Flickr30k data using Kaggle API, ensure you have API credentials set up.\n",
    "\n",
    "For further information see https://github.com/Kaggle/kaggle-api"
   ]
  },
  {
   "cell_type": "code",
   "execution_count": 6,
   "metadata": {},
   "outputs": [
    {
     "name": "stdout",
     "output_type": "stream",
     "text": [
      "/bin/bash: /anaconda/envs/jupyter_env/lib/libtinfo.so.6: no version information available (required by /bin/bash)\n",
      "Downloading flickr-image-dataset.zip to ../datasets\n",
      "100%|█████████████████████████████████████▉| 8.16G/8.16G [03:48<00:00, 41.2MB/s]\n",
      "100%|██████████████████████████████████████| 8.16G/8.16G [03:48<00:00, 38.3MB/s]\n"
     ]
    }
   ],
   "source": [
    "!kaggle datasets download -d hsankesara/flickr-image-dataset -p ../datasets --unzip"
   ]
  },
  {
   "cell_type": "code",
   "execution_count": 7,
   "metadata": {},
   "outputs": [
    {
     "name": "stdout",
     "output_type": "stream",
     "text": [
      "/bin/bash: /anaconda/envs/jupyter_env/lib/libtinfo.so.6: no version information available (required by /bin/bash)\n"
     ]
    }
   ],
   "source": [
    "# removing duplicate images folder\n",
    "\n",
    "!rm -rf {os.path.join(path, \"flickr30k_images/flickr30k_images\")}"
   ]
  },
  {
   "attachments": {},
   "cell_type": "markdown",
   "metadata": {},
   "source": [
    "# Load data"
   ]
  },
  {
   "cell_type": "code",
   "execution_count": 6,
   "metadata": {},
   "outputs": [
    {
     "data": {
      "text/html": [
       "<div>\n",
       "<style scoped>\n",
       "    .dataframe tbody tr th:only-of-type {\n",
       "        vertical-align: middle;\n",
       "    }\n",
       "\n",
       "    .dataframe tbody tr th {\n",
       "        vertical-align: top;\n",
       "    }\n",
       "\n",
       "    .dataframe thead th {\n",
       "        text-align: right;\n",
       "    }\n",
       "</style>\n",
       "<table border=\"1\" class=\"dataframe\">\n",
       "  <thead>\n",
       "    <tr style=\"text-align: right;\">\n",
       "      <th></th>\n",
       "      <th>image_name</th>\n",
       "      <th>comment_number</th>\n",
       "      <th>comment</th>\n",
       "    </tr>\n",
       "  </thead>\n",
       "  <tbody>\n",
       "    <tr>\n",
       "      <th>0</th>\n",
       "      <td>1000092795.jpg</td>\n",
       "      <td>0</td>\n",
       "      <td>Two young guys with shaggy hair look at their ...</td>\n",
       "    </tr>\n",
       "    <tr>\n",
       "      <th>1</th>\n",
       "      <td>1000092795.jpg</td>\n",
       "      <td>1</td>\n",
       "      <td>Two young , White males are outside near many ...</td>\n",
       "    </tr>\n",
       "    <tr>\n",
       "      <th>2</th>\n",
       "      <td>1000092795.jpg</td>\n",
       "      <td>2</td>\n",
       "      <td>Two men in green shirts are standing in a yard .</td>\n",
       "    </tr>\n",
       "    <tr>\n",
       "      <th>3</th>\n",
       "      <td>1000092795.jpg</td>\n",
       "      <td>3</td>\n",
       "      <td>A man in a blue shirt standing in a garden .</td>\n",
       "    </tr>\n",
       "    <tr>\n",
       "      <th>4</th>\n",
       "      <td>1000092795.jpg</td>\n",
       "      <td>4</td>\n",
       "      <td>Two friends enjoy time spent together .</td>\n",
       "    </tr>\n",
       "    <tr>\n",
       "      <th>...</th>\n",
       "      <td>...</td>\n",
       "      <td>...</td>\n",
       "      <td>...</td>\n",
       "    </tr>\n",
       "    <tr>\n",
       "      <th>158910</th>\n",
       "      <td>998845445.jpg</td>\n",
       "      <td>0</td>\n",
       "      <td>A man in shorts and a Hawaiian shirt leans ove...</td>\n",
       "    </tr>\n",
       "    <tr>\n",
       "      <th>158911</th>\n",
       "      <td>998845445.jpg</td>\n",
       "      <td>1</td>\n",
       "      <td>A young man hanging over the side of a boat , ...</td>\n",
       "    </tr>\n",
       "    <tr>\n",
       "      <th>158912</th>\n",
       "      <td>998845445.jpg</td>\n",
       "      <td>2</td>\n",
       "      <td>A man is leaning off of the side of a blue and...</td>\n",
       "    </tr>\n",
       "    <tr>\n",
       "      <th>158913</th>\n",
       "      <td>998845445.jpg</td>\n",
       "      <td>3</td>\n",
       "      <td>A man riding a small boat in a harbor , with f...</td>\n",
       "    </tr>\n",
       "    <tr>\n",
       "      <th>158914</th>\n",
       "      <td>998845445.jpg</td>\n",
       "      <td>4</td>\n",
       "      <td>A man on a moored blue and white boat with hil...</td>\n",
       "    </tr>\n",
       "  </tbody>\n",
       "</table>\n",
       "<p>158915 rows × 3 columns</p>\n",
       "</div>"
      ],
      "text/plain": [
       "            image_name comment_number  \\\n",
       "0       1000092795.jpg              0   \n",
       "1       1000092795.jpg              1   \n",
       "2       1000092795.jpg              2   \n",
       "3       1000092795.jpg              3   \n",
       "4       1000092795.jpg              4   \n",
       "...                ...            ...   \n",
       "158910   998845445.jpg              0   \n",
       "158911   998845445.jpg              1   \n",
       "158912   998845445.jpg              2   \n",
       "158913   998845445.jpg              3   \n",
       "158914   998845445.jpg              4   \n",
       "\n",
       "                                                  comment  \n",
       "0       Two young guys with shaggy hair look at their ...  \n",
       "1       Two young , White males are outside near many ...  \n",
       "2        Two men in green shirts are standing in a yard .  \n",
       "3            A man in a blue shirt standing in a garden .  \n",
       "4                 Two friends enjoy time spent together .  \n",
       "...                                                   ...  \n",
       "158910  A man in shorts and a Hawaiian shirt leans ove...  \n",
       "158911  A young man hanging over the side of a boat , ...  \n",
       "158912  A man is leaning off of the side of a blue and...  \n",
       "158913  A man riding a small boat in a harbor , with f...  \n",
       "158914  A man on a moored blue and white boat with hil...  \n",
       "\n",
       "[158915 rows x 3 columns]"
      ]
     },
     "execution_count": 6,
     "metadata": {},
     "output_type": "execute_result"
    }
   ],
   "source": [
    "data = pd.read_csv(os.path.join(path, \"results.csv\"), sep=\"|\", skipinitialspace=True)\n",
    "data"
   ]
  },
  {
   "cell_type": "markdown",
   "metadata": {},
   "source": [
    "# Exploration"
   ]
  },
  {
   "cell_type": "markdown",
   "metadata": {},
   "source": [
    "## Columns, size..."
   ]
  },
  {
   "cell_type": "code",
   "execution_count": 7,
   "metadata": {},
   "outputs": [
    {
     "data": {
      "text/plain": [
       "Index(['image_name', 'comment_number', 'comment'], dtype='object')"
      ]
     },
     "execution_count": 7,
     "metadata": {},
     "output_type": "execute_result"
    }
   ],
   "source": [
    "data.columns"
   ]
  },
  {
   "cell_type": "code",
   "execution_count": 8,
   "metadata": {
    "tags": []
   },
   "outputs": [
    {
     "data": {
      "text/plain": [
       "(158915, 3)"
      ]
     },
     "execution_count": 8,
     "metadata": {},
     "output_type": "execute_result"
    }
   ],
   "source": [
    "data.shape"
   ]
  },
  {
   "cell_type": "code",
   "execution_count": 9,
   "metadata": {},
   "outputs": [
    {
     "data": {
      "text/plain": [
       "image_name    \n",
       "1000092795.jpg    5\n",
       "459538095.jpg     5\n",
       "459804826.jpg     5\n",
       "459778335.jpg     5\n",
       "4597303045.jpg    5\n",
       "                 ..\n",
       "3029715635.jpg    5\n",
       "3029472296.jpg    5\n",
       "3029463004.jpg    5\n",
       "3029411230.jpg    5\n",
       "998845445.jpg     5\n",
       "Length: 31783, dtype: int64"
      ]
     },
     "execution_count": 9,
     "metadata": {},
     "output_type": "execute_result"
    }
   ],
   "source": [
    "data.value_counts([\"image_name\"])"
   ]
  },
  {
   "cell_type": "markdown",
   "metadata": {},
   "source": [
    "# Ground truth"
   ]
  },
  {
   "cell_type": "code",
   "execution_count": 10,
   "metadata": {},
   "outputs": [],
   "source": [
    "data[\"path\"] = data[\"image_name\"]\n",
    "data[\"description\"] = data[\"comment\"]"
   ]
  },
  {
   "cell_type": "code",
   "execution_count": 11,
   "metadata": {},
   "outputs": [],
   "source": [
    "ground_truth = data[[\"path\", \"description\"]]"
   ]
  },
  {
   "cell_type": "markdown",
   "metadata": {},
   "source": [
    "## Copy columns for experiments on extended MNN-EM"
   ]
  },
  {
   "cell_type": "code",
   "execution_count": 12,
   "metadata": {},
   "outputs": [
    {
     "name": "stderr",
     "output_type": "stream",
     "text": [
      "/scratch/ipykernel_881787/3315395984.py:1: SettingWithCopyWarning: \n",
      "A value is trying to be set on a copy of a slice from a DataFrame.\n",
      "Try using .loc[row_indexer,col_indexer] = value instead\n",
      "\n",
      "See the caveats in the documentation: https://pandas.pydata.org/pandas-docs/stable/user_guide/indexing.html#returning-a-view-versus-a-copy\n",
      "  ground_truth[\"description2\"] = ground_truth[\"description\"]\n"
     ]
    }
   ],
   "source": [
    "ground_truth[\"description2\"] = ground_truth[\"description\"]"
   ]
  },
  {
   "cell_type": "markdown",
   "metadata": {},
   "source": [
    "## Target labels for MNN-EM"
   ]
  },
  {
   "cell_type": "code",
   "execution_count": 13,
   "metadata": {},
   "outputs": [
    {
     "name": "stderr",
     "output_type": "stream",
     "text": [
      "/scratch/ipykernel_881787/3465935695.py:1: SettingWithCopyWarning: \n",
      "A value is trying to be set on a copy of a slice from a DataFrame.\n",
      "Try using .loc[row_indexer,col_indexer] = value instead\n",
      "\n",
      "See the caveats in the documentation: https://pandas.pydata.org/pandas-docs/stable/user_guide/indexing.html#returning-a-view-versus-a-copy\n",
      "  ground_truth[\"label\"] = 1\n"
     ]
    }
   ],
   "source": [
    "ground_truth[\"label\"] = 1"
   ]
  },
  {
   "cell_type": "code",
   "execution_count": 14,
   "metadata": {},
   "outputs": [
    {
     "data": {
      "text/html": [
       "<div>\n",
       "<style scoped>\n",
       "    .dataframe tbody tr th:only-of-type {\n",
       "        vertical-align: middle;\n",
       "    }\n",
       "\n",
       "    .dataframe tbody tr th {\n",
       "        vertical-align: top;\n",
       "    }\n",
       "\n",
       "    .dataframe thead th {\n",
       "        text-align: right;\n",
       "    }\n",
       "</style>\n",
       "<table border=\"1\" class=\"dataframe\">\n",
       "  <thead>\n",
       "    <tr style=\"text-align: right;\">\n",
       "      <th></th>\n",
       "      <th>path</th>\n",
       "      <th>description</th>\n",
       "      <th>description2</th>\n",
       "      <th>label</th>\n",
       "    </tr>\n",
       "  </thead>\n",
       "  <tbody>\n",
       "    <tr>\n",
       "      <th>0</th>\n",
       "      <td>1000092795.jpg</td>\n",
       "      <td>Two young guys with shaggy hair look at their ...</td>\n",
       "      <td>Two young guys with shaggy hair look at their ...</td>\n",
       "      <td>1</td>\n",
       "    </tr>\n",
       "    <tr>\n",
       "      <th>1</th>\n",
       "      <td>1000092795.jpg</td>\n",
       "      <td>Two young , White males are outside near many ...</td>\n",
       "      <td>Two young , White males are outside near many ...</td>\n",
       "      <td>1</td>\n",
       "    </tr>\n",
       "    <tr>\n",
       "      <th>2</th>\n",
       "      <td>1000092795.jpg</td>\n",
       "      <td>Two men in green shirts are standing in a yard .</td>\n",
       "      <td>Two men in green shirts are standing in a yard .</td>\n",
       "      <td>1</td>\n",
       "    </tr>\n",
       "    <tr>\n",
       "      <th>3</th>\n",
       "      <td>1000092795.jpg</td>\n",
       "      <td>A man in a blue shirt standing in a garden .</td>\n",
       "      <td>A man in a blue shirt standing in a garden .</td>\n",
       "      <td>1</td>\n",
       "    </tr>\n",
       "    <tr>\n",
       "      <th>4</th>\n",
       "      <td>1000092795.jpg</td>\n",
       "      <td>Two friends enjoy time spent together .</td>\n",
       "      <td>Two friends enjoy time spent together .</td>\n",
       "      <td>1</td>\n",
       "    </tr>\n",
       "    <tr>\n",
       "      <th>5</th>\n",
       "      <td>10002456.jpg</td>\n",
       "      <td>Several men in hard hats are operating a giant...</td>\n",
       "      <td>Several men in hard hats are operating a giant...</td>\n",
       "      <td>1</td>\n",
       "    </tr>\n",
       "    <tr>\n",
       "      <th>6</th>\n",
       "      <td>10002456.jpg</td>\n",
       "      <td>Workers look down from up above on a piece of ...</td>\n",
       "      <td>Workers look down from up above on a piece of ...</td>\n",
       "      <td>1</td>\n",
       "    </tr>\n",
       "    <tr>\n",
       "      <th>7</th>\n",
       "      <td>10002456.jpg</td>\n",
       "      <td>Two men working on a machine wearing hard hats .</td>\n",
       "      <td>Two men working on a machine wearing hard hats .</td>\n",
       "      <td>1</td>\n",
       "    </tr>\n",
       "    <tr>\n",
       "      <th>8</th>\n",
       "      <td>10002456.jpg</td>\n",
       "      <td>Four men on top of a tall structure .</td>\n",
       "      <td>Four men on top of a tall structure .</td>\n",
       "      <td>1</td>\n",
       "    </tr>\n",
       "    <tr>\n",
       "      <th>9</th>\n",
       "      <td>10002456.jpg</td>\n",
       "      <td>Three men on a large rig .</td>\n",
       "      <td>Three men on a large rig .</td>\n",
       "      <td>1</td>\n",
       "    </tr>\n",
       "  </tbody>\n",
       "</table>\n",
       "</div>"
      ],
      "text/plain": [
       "             path                                        description  \\\n",
       "0  1000092795.jpg  Two young guys with shaggy hair look at their ...   \n",
       "1  1000092795.jpg  Two young , White males are outside near many ...   \n",
       "2  1000092795.jpg   Two men in green shirts are standing in a yard .   \n",
       "3  1000092795.jpg       A man in a blue shirt standing in a garden .   \n",
       "4  1000092795.jpg            Two friends enjoy time spent together .   \n",
       "5    10002456.jpg  Several men in hard hats are operating a giant...   \n",
       "6    10002456.jpg  Workers look down from up above on a piece of ...   \n",
       "7    10002456.jpg   Two men working on a machine wearing hard hats .   \n",
       "8    10002456.jpg              Four men on top of a tall structure .   \n",
       "9    10002456.jpg                         Three men on a large rig .   \n",
       "\n",
       "                                        description2  label  \n",
       "0  Two young guys with shaggy hair look at their ...      1  \n",
       "1  Two young , White males are outside near many ...      1  \n",
       "2   Two men in green shirts are standing in a yard .      1  \n",
       "3       A man in a blue shirt standing in a garden .      1  \n",
       "4            Two friends enjoy time spent together .      1  \n",
       "5  Several men in hard hats are operating a giant...      1  \n",
       "6  Workers look down from up above on a piece of ...      1  \n",
       "7   Two men working on a machine wearing hard hats .      1  \n",
       "8              Four men on top of a tall structure .      1  \n",
       "9                         Three men on a large rig .      1  "
      ]
     },
     "execution_count": 14,
     "metadata": {},
     "output_type": "execute_result"
    }
   ],
   "source": [
    "ground_truth.head(10)"
   ]
  },
  {
   "cell_type": "markdown",
   "metadata": {},
   "source": [
    "# False samples/Complement"
   ]
  },
  {
   "cell_type": "code",
   "execution_count": 15,
   "metadata": {},
   "outputs": [],
   "source": [
    "false_samples = ground_truth.apply(np.random.permutation, axis=0)"
   ]
  },
  {
   "cell_type": "markdown",
   "metadata": {},
   "source": [
    "## Target labels for MNN-EM"
   ]
  },
  {
   "cell_type": "code",
   "execution_count": 16,
   "metadata": {},
   "outputs": [],
   "source": [
    "false_samples[\"label\"] = 0"
   ]
  },
  {
   "cell_type": "code",
   "execution_count": 17,
   "metadata": {},
   "outputs": [
    {
     "data": {
      "text/html": [
       "<div>\n",
       "<style scoped>\n",
       "    .dataframe tbody tr th:only-of-type {\n",
       "        vertical-align: middle;\n",
       "    }\n",
       "\n",
       "    .dataframe tbody tr th {\n",
       "        vertical-align: top;\n",
       "    }\n",
       "\n",
       "    .dataframe thead th {\n",
       "        text-align: right;\n",
       "    }\n",
       "</style>\n",
       "<table border=\"1\" class=\"dataframe\">\n",
       "  <thead>\n",
       "    <tr style=\"text-align: right;\">\n",
       "      <th></th>\n",
       "      <th>path</th>\n",
       "      <th>description</th>\n",
       "      <th>description2</th>\n",
       "      <th>label</th>\n",
       "    </tr>\n",
       "  </thead>\n",
       "  <tbody>\n",
       "    <tr>\n",
       "      <th>0</th>\n",
       "      <td>356244046.jpg</td>\n",
       "      <td>A person sitting on the edge of a rock outcrop...</td>\n",
       "      <td>A blond women is singing in front of a band .</td>\n",
       "      <td>0</td>\n",
       "    </tr>\n",
       "    <tr>\n",
       "      <th>1</th>\n",
       "      <td>4125454115.jpg</td>\n",
       "      <td>A man and a woman are dancing in a crowd .</td>\n",
       "      <td>A white dog on a beach is carrying a stick in ...</td>\n",
       "      <td>0</td>\n",
       "    </tr>\n",
       "    <tr>\n",
       "      <th>2</th>\n",
       "      <td>2102115587.jpg</td>\n",
       "      <td>A woman sitting in a restaurant talking on her...</td>\n",
       "      <td>Four Musicians are playing music on a baseball...</td>\n",
       "      <td>0</td>\n",
       "    </tr>\n",
       "    <tr>\n",
       "      <th>3</th>\n",
       "      <td>499952922.jpg</td>\n",
       "      <td>Hikers walking along a pathway beside a high l...</td>\n",
       "      <td>Street vendors show their necklaces for sale t...</td>\n",
       "      <td>0</td>\n",
       "    </tr>\n",
       "    <tr>\n",
       "      <th>4</th>\n",
       "      <td>5457465605.jpg</td>\n",
       "      <td>A young man in a suit standing out from the cr...</td>\n",
       "      <td>A man running to help a car from burning after...</td>\n",
       "      <td>0</td>\n",
       "    </tr>\n",
       "    <tr>\n",
       "      <th>5</th>\n",
       "      <td>2840866676.jpg</td>\n",
       "      <td>A shirtless man behind a red pick up truck .</td>\n",
       "      <td>A man is pulling his luggage through the stree...</td>\n",
       "      <td>0</td>\n",
       "    </tr>\n",
       "    <tr>\n",
       "      <th>6</th>\n",
       "      <td>179829865.jpg</td>\n",
       "      <td>A man and woman kissing at a train station .</td>\n",
       "      <td>Two women holding umbrellas running across a r...</td>\n",
       "      <td>0</td>\n",
       "    </tr>\n",
       "    <tr>\n",
       "      <th>7</th>\n",
       "      <td>2330310763.jpg</td>\n",
       "      <td>A girl is running towards a field of tall flow...</td>\n",
       "      <td>An Asian man kept company by his cat is cookin...</td>\n",
       "      <td>0</td>\n",
       "    </tr>\n",
       "    <tr>\n",
       "      <th>8</th>\n",
       "      <td>2656252763.jpg</td>\n",
       "      <td>A group of friends are standing around a man w...</td>\n",
       "      <td>A barbecue with at least two attendants in an ...</td>\n",
       "      <td>0</td>\n",
       "    </tr>\n",
       "    <tr>\n",
       "      <th>9</th>\n",
       "      <td>6691367427.jpg</td>\n",
       "      <td>Firefighters stand on moist ground with a fire...</td>\n",
       "      <td>Two men are attaching a sign to a standing log .</td>\n",
       "      <td>0</td>\n",
       "    </tr>\n",
       "  </tbody>\n",
       "</table>\n",
       "</div>"
      ],
      "text/plain": [
       "             path                                        description  \\\n",
       "0   356244046.jpg  A person sitting on the edge of a rock outcrop...   \n",
       "1  4125454115.jpg         A man and a woman are dancing in a crowd .   \n",
       "2  2102115587.jpg  A woman sitting in a restaurant talking on her...   \n",
       "3   499952922.jpg  Hikers walking along a pathway beside a high l...   \n",
       "4  5457465605.jpg  A young man in a suit standing out from the cr...   \n",
       "5  2840866676.jpg       A shirtless man behind a red pick up truck .   \n",
       "6   179829865.jpg       A man and woman kissing at a train station .   \n",
       "7  2330310763.jpg  A girl is running towards a field of tall flow...   \n",
       "8  2656252763.jpg  A group of friends are standing around a man w...   \n",
       "9  6691367427.jpg  Firefighters stand on moist ground with a fire...   \n",
       "\n",
       "                                        description2  label  \n",
       "0      A blond women is singing in front of a band .      0  \n",
       "1  A white dog on a beach is carrying a stick in ...      0  \n",
       "2  Four Musicians are playing music on a baseball...      0  \n",
       "3  Street vendors show their necklaces for sale t...      0  \n",
       "4  A man running to help a car from burning after...      0  \n",
       "5  A man is pulling his luggage through the stree...      0  \n",
       "6  Two women holding umbrellas running across a r...      0  \n",
       "7  An Asian man kept company by his cat is cookin...      0  \n",
       "8  A barbecue with at least two attendants in an ...      0  \n",
       "9   Two men are attaching a sign to a standing log .      0  "
      ]
     },
     "execution_count": 17,
     "metadata": {},
     "output_type": "execute_result"
    }
   ],
   "source": [
    "false_samples.head(10)"
   ]
  },
  {
   "cell_type": "markdown",
   "metadata": {},
   "source": [
    "# Combine ground truth and complement"
   ]
  },
  {
   "cell_type": "code",
   "execution_count": 18,
   "metadata": {},
   "outputs": [],
   "source": [
    "dataset = pd.concat([ground_truth, false_samples])"
   ]
  },
  {
   "cell_type": "code",
   "execution_count": 19,
   "metadata": {},
   "outputs": [],
   "source": [
    "# random shuffle\n",
    "dataset_final = dataset.sample(frac=1, axis=0).reset_index(drop=True)"
   ]
  },
  {
   "cell_type": "code",
   "execution_count": 20,
   "metadata": {},
   "outputs": [],
   "source": [
    "dataset_final = dataset_final[[\"path\", \"description\", \"description2\", \"label\"]]"
   ]
  },
  {
   "cell_type": "markdown",
   "metadata": {},
   "source": [
    "## Set descriptions to lowercase"
   ]
  },
  {
   "cell_type": "markdown",
   "metadata": {},
   "source": [
    "As per [Zhang et al. (2015)](https://dl.acm.org/doi/10.5555/2969239.2969312)"
   ]
  },
  {
   "cell_type": "code",
   "execution_count": 21,
   "metadata": {},
   "outputs": [],
   "source": [
    "dataset_final[\"description\"] = dataset_final[\"description\"].str.lower()"
   ]
  },
  {
   "cell_type": "code",
   "execution_count": 22,
   "metadata": {},
   "outputs": [],
   "source": [
    "dataset_final[\"description2\"] = dataset_final[\"description2\"].str.lower()"
   ]
  },
  {
   "cell_type": "code",
   "execution_count": 23,
   "metadata": {},
   "outputs": [
    {
     "data": {
      "text/html": [
       "<div>\n",
       "<style scoped>\n",
       "    .dataframe tbody tr th:only-of-type {\n",
       "        vertical-align: middle;\n",
       "    }\n",
       "\n",
       "    .dataframe tbody tr th {\n",
       "        vertical-align: top;\n",
       "    }\n",
       "\n",
       "    .dataframe thead th {\n",
       "        text-align: right;\n",
       "    }\n",
       "</style>\n",
       "<table border=\"1\" class=\"dataframe\">\n",
       "  <thead>\n",
       "    <tr style=\"text-align: right;\">\n",
       "      <th></th>\n",
       "      <th>path</th>\n",
       "      <th>description</th>\n",
       "      <th>description2</th>\n",
       "      <th>label</th>\n",
       "    </tr>\n",
       "  </thead>\n",
       "  <tbody>\n",
       "    <tr>\n",
       "      <th>0</th>\n",
       "      <td>157308126.jpg</td>\n",
       "      <td>a skateboarder in a ty-dye shirt going down a ...</td>\n",
       "      <td>a woman with a floral blouse and brown shoulde...</td>\n",
       "      <td>0</td>\n",
       "    </tr>\n",
       "    <tr>\n",
       "      <th>1</th>\n",
       "      <td>2178295748.jpg</td>\n",
       "      <td>a man with a red shirt is holding a lot of lot...</td>\n",
       "      <td>a blue and black trampoline with two children ...</td>\n",
       "      <td>0</td>\n",
       "    </tr>\n",
       "    <tr>\n",
       "      <th>2</th>\n",
       "      <td>4627601777.jpg</td>\n",
       "      <td>a british guard marches while on duty .</td>\n",
       "      <td>an attractive woman wearing a bandanna is sing...</td>\n",
       "      <td>0</td>\n",
       "    </tr>\n",
       "    <tr>\n",
       "      <th>3</th>\n",
       "      <td>4850814517.jpg</td>\n",
       "      <td>a smiling man in a soccer shirt and eyeglasses...</td>\n",
       "      <td>a group of people are backpacking through the ...</td>\n",
       "      <td>0</td>\n",
       "    </tr>\n",
       "    <tr>\n",
       "      <th>4</th>\n",
       "      <td>4852389235.jpg</td>\n",
       "      <td>a little girl dressed in pink plays hopscotch .</td>\n",
       "      <td>a girl with black pants on is lowering a camer...</td>\n",
       "      <td>0</td>\n",
       "    </tr>\n",
       "    <tr>\n",
       "      <th>...</th>\n",
       "      <td>...</td>\n",
       "      <td>...</td>\n",
       "      <td>...</td>\n",
       "      <td>...</td>\n",
       "    </tr>\n",
       "    <tr>\n",
       "      <th>317825</th>\n",
       "      <td>2414136642.jpg</td>\n",
       "      <td>a girl going into a wooden building .</td>\n",
       "      <td>a young guy playing for an audience .</td>\n",
       "      <td>0</td>\n",
       "    </tr>\n",
       "    <tr>\n",
       "      <th>317826</th>\n",
       "      <td>8088028369.jpg</td>\n",
       "      <td>the old man in black clothes is holding his gl...</td>\n",
       "      <td>water is spraying on the child with its face t...</td>\n",
       "      <td>0</td>\n",
       "    </tr>\n",
       "    <tr>\n",
       "      <th>317827</th>\n",
       "      <td>1944813674.jpg</td>\n",
       "      <td>a dog wears jeans .</td>\n",
       "      <td>one woman in a black shirt swinging very high ...</td>\n",
       "      <td>0</td>\n",
       "    </tr>\n",
       "    <tr>\n",
       "      <th>317828</th>\n",
       "      <td>4293592995.jpg</td>\n",
       "      <td>an gentleman selling items on the beach .</td>\n",
       "      <td>an gentleman selling items on the beach .</td>\n",
       "      <td>1</td>\n",
       "    </tr>\n",
       "    <tr>\n",
       "      <th>317829</th>\n",
       "      <td>3859858842.jpg</td>\n",
       "      <td>a man in a striped shirt walks barefoot .</td>\n",
       "      <td>a man in a striped shirt walks barefoot .</td>\n",
       "      <td>1</td>\n",
       "    </tr>\n",
       "  </tbody>\n",
       "</table>\n",
       "<p>317830 rows × 4 columns</p>\n",
       "</div>"
      ],
      "text/plain": [
       "                  path                                        description  \\\n",
       "0        157308126.jpg  a skateboarder in a ty-dye shirt going down a ...   \n",
       "1       2178295748.jpg  a man with a red shirt is holding a lot of lot...   \n",
       "2       4627601777.jpg            a british guard marches while on duty .   \n",
       "3       4850814517.jpg  a smiling man in a soccer shirt and eyeglasses...   \n",
       "4       4852389235.jpg    a little girl dressed in pink plays hopscotch .   \n",
       "...                ...                                                ...   \n",
       "317825  2414136642.jpg              a girl going into a wooden building .   \n",
       "317826  8088028369.jpg  the old man in black clothes is holding his gl...   \n",
       "317827  1944813674.jpg                                a dog wears jeans .   \n",
       "317828  4293592995.jpg          an gentleman selling items on the beach .   \n",
       "317829  3859858842.jpg          a man in a striped shirt walks barefoot .   \n",
       "\n",
       "                                             description2  label  \n",
       "0       a woman with a floral blouse and brown shoulde...      0  \n",
       "1       a blue and black trampoline with two children ...      0  \n",
       "2       an attractive woman wearing a bandanna is sing...      0  \n",
       "3       a group of people are backpacking through the ...      0  \n",
       "4       a girl with black pants on is lowering a camer...      0  \n",
       "...                                                   ...    ...  \n",
       "317825              a young guy playing for an audience .      0  \n",
       "317826  water is spraying on the child with its face t...      0  \n",
       "317827  one woman in a black shirt swinging very high ...      0  \n",
       "317828          an gentleman selling items on the beach .      1  \n",
       "317829          a man in a striped shirt walks barefoot .      1  \n",
       "\n",
       "[317830 rows x 4 columns]"
      ]
     },
     "execution_count": 23,
     "metadata": {},
     "output_type": "execute_result"
    }
   ],
   "source": [
    "dataset_final"
   ]
  },
  {
   "cell_type": "markdown",
   "metadata": {},
   "source": [
    "## Remove non-ASCII characters"
   ]
  },
  {
   "cell_type": "code",
   "execution_count": 24,
   "metadata": {},
   "outputs": [],
   "source": [
    "dataset_final[\"description\"] = dataset_final['description'].str.replace(\n",
    "    r'[^\\x00-\\x7F]+', '', regex=True)\n",
    "dataset_final[\"description2\"] = dataset_final['description2'].str.replace(\n",
    "    r'[^\\x00-\\x7F]+', '', regex=True)"
   ]
  },
  {
   "cell_type": "code",
   "execution_count": 25,
   "metadata": {},
   "outputs": [],
   "source": [
    "dataset_final = dataset_final.dropna()"
   ]
  },
  {
   "cell_type": "code",
   "execution_count": 26,
   "metadata": {},
   "outputs": [],
   "source": [
    "dataset_final = dataset_final.reset_index(drop=True)"
   ]
  },
  {
   "cell_type": "code",
   "execution_count": 27,
   "metadata": {},
   "outputs": [
    {
     "data": {
      "text/html": [
       "<div>\n",
       "<style scoped>\n",
       "    .dataframe tbody tr th:only-of-type {\n",
       "        vertical-align: middle;\n",
       "    }\n",
       "\n",
       "    .dataframe tbody tr th {\n",
       "        vertical-align: top;\n",
       "    }\n",
       "\n",
       "    .dataframe thead th {\n",
       "        text-align: right;\n",
       "    }\n",
       "</style>\n",
       "<table border=\"1\" class=\"dataframe\">\n",
       "  <thead>\n",
       "    <tr style=\"text-align: right;\">\n",
       "      <th></th>\n",
       "      <th>path</th>\n",
       "      <th>description</th>\n",
       "      <th>description2</th>\n",
       "      <th>label</th>\n",
       "    </tr>\n",
       "  </thead>\n",
       "  <tbody>\n",
       "    <tr>\n",
       "      <th>0</th>\n",
       "      <td>157308126.jpg</td>\n",
       "      <td>a skateboarder in a ty-dye shirt going down a ...</td>\n",
       "      <td>a woman with a floral blouse and brown shoulde...</td>\n",
       "      <td>0</td>\n",
       "    </tr>\n",
       "    <tr>\n",
       "      <th>1</th>\n",
       "      <td>2178295748.jpg</td>\n",
       "      <td>a man with a red shirt is holding a lot of lot...</td>\n",
       "      <td>a blue and black trampoline with two children ...</td>\n",
       "      <td>0</td>\n",
       "    </tr>\n",
       "    <tr>\n",
       "      <th>2</th>\n",
       "      <td>4627601777.jpg</td>\n",
       "      <td>a british guard marches while on duty .</td>\n",
       "      <td>an attractive woman wearing a bandanna is sing...</td>\n",
       "      <td>0</td>\n",
       "    </tr>\n",
       "    <tr>\n",
       "      <th>3</th>\n",
       "      <td>4850814517.jpg</td>\n",
       "      <td>a smiling man in a soccer shirt and eyeglasses...</td>\n",
       "      <td>a group of people are backpacking through the ...</td>\n",
       "      <td>0</td>\n",
       "    </tr>\n",
       "    <tr>\n",
       "      <th>4</th>\n",
       "      <td>4852389235.jpg</td>\n",
       "      <td>a little girl dressed in pink plays hopscotch .</td>\n",
       "      <td>a girl with black pants on is lowering a camer...</td>\n",
       "      <td>0</td>\n",
       "    </tr>\n",
       "    <tr>\n",
       "      <th>...</th>\n",
       "      <td>...</td>\n",
       "      <td>...</td>\n",
       "      <td>...</td>\n",
       "      <td>...</td>\n",
       "    </tr>\n",
       "    <tr>\n",
       "      <th>317822</th>\n",
       "      <td>2414136642.jpg</td>\n",
       "      <td>a girl going into a wooden building .</td>\n",
       "      <td>a young guy playing for an audience .</td>\n",
       "      <td>0</td>\n",
       "    </tr>\n",
       "    <tr>\n",
       "      <th>317823</th>\n",
       "      <td>8088028369.jpg</td>\n",
       "      <td>the old man in black clothes is holding his gl...</td>\n",
       "      <td>water is spraying on the child with its face t...</td>\n",
       "      <td>0</td>\n",
       "    </tr>\n",
       "    <tr>\n",
       "      <th>317824</th>\n",
       "      <td>1944813674.jpg</td>\n",
       "      <td>a dog wears jeans .</td>\n",
       "      <td>one woman in a black shirt swinging very high ...</td>\n",
       "      <td>0</td>\n",
       "    </tr>\n",
       "    <tr>\n",
       "      <th>317825</th>\n",
       "      <td>4293592995.jpg</td>\n",
       "      <td>an gentleman selling items on the beach .</td>\n",
       "      <td>an gentleman selling items on the beach .</td>\n",
       "      <td>1</td>\n",
       "    </tr>\n",
       "    <tr>\n",
       "      <th>317826</th>\n",
       "      <td>3859858842.jpg</td>\n",
       "      <td>a man in a striped shirt walks barefoot .</td>\n",
       "      <td>a man in a striped shirt walks barefoot .</td>\n",
       "      <td>1</td>\n",
       "    </tr>\n",
       "  </tbody>\n",
       "</table>\n",
       "<p>317827 rows × 4 columns</p>\n",
       "</div>"
      ],
      "text/plain": [
       "                  path                                        description  \\\n",
       "0        157308126.jpg  a skateboarder in a ty-dye shirt going down a ...   \n",
       "1       2178295748.jpg  a man with a red shirt is holding a lot of lot...   \n",
       "2       4627601777.jpg            a british guard marches while on duty .   \n",
       "3       4850814517.jpg  a smiling man in a soccer shirt and eyeglasses...   \n",
       "4       4852389235.jpg    a little girl dressed in pink plays hopscotch .   \n",
       "...                ...                                                ...   \n",
       "317822  2414136642.jpg              a girl going into a wooden building .   \n",
       "317823  8088028369.jpg  the old man in black clothes is holding his gl...   \n",
       "317824  1944813674.jpg                                a dog wears jeans .   \n",
       "317825  4293592995.jpg          an gentleman selling items on the beach .   \n",
       "317826  3859858842.jpg          a man in a striped shirt walks barefoot .   \n",
       "\n",
       "                                             description2  label  \n",
       "0       a woman with a floral blouse and brown shoulde...      0  \n",
       "1       a blue and black trampoline with two children ...      0  \n",
       "2       an attractive woman wearing a bandanna is sing...      0  \n",
       "3       a group of people are backpacking through the ...      0  \n",
       "4       a girl with black pants on is lowering a camer...      0  \n",
       "...                                                   ...    ...  \n",
       "317822              a young guy playing for an audience .      0  \n",
       "317823  water is spraying on the child with its face t...      0  \n",
       "317824  one woman in a black shirt swinging very high ...      0  \n",
       "317825          an gentleman selling items on the beach .      1  \n",
       "317826          a man in a striped shirt walks barefoot .      1  \n",
       "\n",
       "[317827 rows x 4 columns]"
      ]
     },
     "execution_count": 27,
     "metadata": {},
     "output_type": "execute_result"
    }
   ],
   "source": [
    "dataset_final"
   ]
  },
  {
   "cell_type": "markdown",
   "metadata": {},
   "source": [
    "## Export dataset"
   ]
  },
  {
   "cell_type": "code",
   "execution_count": 28,
   "metadata": {},
   "outputs": [],
   "source": [
    "dataset_final.to_csv(os.path.join(path, \"data.csv\"))"
   ]
  },
  {
   "cell_type": "code",
   "execution_count": 29,
   "metadata": {},
   "outputs": [
    {
     "data": {
      "text/html": [
       "<div>\n",
       "<style scoped>\n",
       "    .dataframe tbody tr th:only-of-type {\n",
       "        vertical-align: middle;\n",
       "    }\n",
       "\n",
       "    .dataframe tbody tr th {\n",
       "        vertical-align: top;\n",
       "    }\n",
       "\n",
       "    .dataframe thead th {\n",
       "        text-align: right;\n",
       "    }\n",
       "</style>\n",
       "<table border=\"1\" class=\"dataframe\">\n",
       "  <thead>\n",
       "    <tr style=\"text-align: right;\">\n",
       "      <th></th>\n",
       "      <th>path</th>\n",
       "      <th>description</th>\n",
       "      <th>description2</th>\n",
       "      <th>label</th>\n",
       "    </tr>\n",
       "  </thead>\n",
       "  <tbody>\n",
       "    <tr>\n",
       "      <th>0</th>\n",
       "      <td>157308126.jpg</td>\n",
       "      <td>a skateboarder in a ty-dye shirt going down a ...</td>\n",
       "      <td>a woman with a floral blouse and brown shoulde...</td>\n",
       "      <td>0</td>\n",
       "    </tr>\n",
       "    <tr>\n",
       "      <th>1</th>\n",
       "      <td>2178295748.jpg</td>\n",
       "      <td>a man with a red shirt is holding a lot of lot...</td>\n",
       "      <td>a blue and black trampoline with two children ...</td>\n",
       "      <td>0</td>\n",
       "    </tr>\n",
       "    <tr>\n",
       "      <th>2</th>\n",
       "      <td>4627601777.jpg</td>\n",
       "      <td>a british guard marches while on duty .</td>\n",
       "      <td>an attractive woman wearing a bandanna is sing...</td>\n",
       "      <td>0</td>\n",
       "    </tr>\n",
       "    <tr>\n",
       "      <th>3</th>\n",
       "      <td>4850814517.jpg</td>\n",
       "      <td>a smiling man in a soccer shirt and eyeglasses...</td>\n",
       "      <td>a group of people are backpacking through the ...</td>\n",
       "      <td>0</td>\n",
       "    </tr>\n",
       "    <tr>\n",
       "      <th>4</th>\n",
       "      <td>4852389235.jpg</td>\n",
       "      <td>a little girl dressed in pink plays hopscotch .</td>\n",
       "      <td>a girl with black pants on is lowering a camer...</td>\n",
       "      <td>0</td>\n",
       "    </tr>\n",
       "    <tr>\n",
       "      <th>...</th>\n",
       "      <td>...</td>\n",
       "      <td>...</td>\n",
       "      <td>...</td>\n",
       "      <td>...</td>\n",
       "    </tr>\n",
       "    <tr>\n",
       "      <th>317822</th>\n",
       "      <td>2414136642.jpg</td>\n",
       "      <td>a girl going into a wooden building .</td>\n",
       "      <td>a young guy playing for an audience .</td>\n",
       "      <td>0</td>\n",
       "    </tr>\n",
       "    <tr>\n",
       "      <th>317823</th>\n",
       "      <td>8088028369.jpg</td>\n",
       "      <td>the old man in black clothes is holding his gl...</td>\n",
       "      <td>water is spraying on the child with its face t...</td>\n",
       "      <td>0</td>\n",
       "    </tr>\n",
       "    <tr>\n",
       "      <th>317824</th>\n",
       "      <td>1944813674.jpg</td>\n",
       "      <td>a dog wears jeans .</td>\n",
       "      <td>one woman in a black shirt swinging very high ...</td>\n",
       "      <td>0</td>\n",
       "    </tr>\n",
       "    <tr>\n",
       "      <th>317825</th>\n",
       "      <td>4293592995.jpg</td>\n",
       "      <td>an gentleman selling items on the beach .</td>\n",
       "      <td>an gentleman selling items on the beach .</td>\n",
       "      <td>1</td>\n",
       "    </tr>\n",
       "    <tr>\n",
       "      <th>317826</th>\n",
       "      <td>3859858842.jpg</td>\n",
       "      <td>a man in a striped shirt walks barefoot .</td>\n",
       "      <td>a man in a striped shirt walks barefoot .</td>\n",
       "      <td>1</td>\n",
       "    </tr>\n",
       "  </tbody>\n",
       "</table>\n",
       "<p>317827 rows × 4 columns</p>\n",
       "</div>"
      ],
      "text/plain": [
       "                  path                                        description  \\\n",
       "0        157308126.jpg  a skateboarder in a ty-dye shirt going down a ...   \n",
       "1       2178295748.jpg  a man with a red shirt is holding a lot of lot...   \n",
       "2       4627601777.jpg            a british guard marches while on duty .   \n",
       "3       4850814517.jpg  a smiling man in a soccer shirt and eyeglasses...   \n",
       "4       4852389235.jpg    a little girl dressed in pink plays hopscotch .   \n",
       "...                ...                                                ...   \n",
       "317822  2414136642.jpg              a girl going into a wooden building .   \n",
       "317823  8088028369.jpg  the old man in black clothes is holding his gl...   \n",
       "317824  1944813674.jpg                                a dog wears jeans .   \n",
       "317825  4293592995.jpg          an gentleman selling items on the beach .   \n",
       "317826  3859858842.jpg          a man in a striped shirt walks barefoot .   \n",
       "\n",
       "                                             description2  label  \n",
       "0       a woman with a floral blouse and brown shoulde...      0  \n",
       "1       a blue and black trampoline with two children ...      0  \n",
       "2       an attractive woman wearing a bandanna is sing...      0  \n",
       "3       a group of people are backpacking through the ...      0  \n",
       "4       a girl with black pants on is lowering a camer...      0  \n",
       "...                                                   ...    ...  \n",
       "317822              a young guy playing for an audience .      0  \n",
       "317823  water is spraying on the child with its face t...      0  \n",
       "317824  one woman in a black shirt swinging very high ...      0  \n",
       "317825          an gentleman selling items on the beach .      1  \n",
       "317826          a man in a striped shirt walks barefoot .      1  \n",
       "\n",
       "[317827 rows x 4 columns]"
      ]
     },
     "execution_count": 29,
     "metadata": {},
     "output_type": "execute_result"
    }
   ],
   "source": [
    "dataset_final = pd.read_csv(os.path.join(path, \"data.csv\"))\n",
    "dataset_final = dataset_final.drop(['Unnamed: 0'], axis=1)\n",
    "dataset_final"
   ]
  }
 ],
 "metadata": {
  "kernelspec": {
   "display_name": "tf2.8",
   "language": "python",
   "name": "python3"
  },
  "language_info": {
   "codemirror_mode": {
    "name": "ipython",
    "version": 3
   },
   "file_extension": ".py",
   "mimetype": "text/x-python",
   "name": "python",
   "nbconvert_exporter": "python",
   "pygments_lexer": "ipython3",
   "version": "3.9.16"
  }
 },
 "nbformat": 4,
 "nbformat_minor": 4
}
