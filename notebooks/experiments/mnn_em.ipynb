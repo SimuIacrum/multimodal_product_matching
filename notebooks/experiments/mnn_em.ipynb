{
 "cells": [
  {
   "attachments": {},
   "cell_type": "markdown",
   "metadata": {},
   "source": [
    "# Setup"
   ]
  },
  {
   "cell_type": "code",
   "execution_count": 1,
   "metadata": {
    "scrolled": true
   },
   "outputs": [
    {
     "name": "stdout",
     "output_type": "stream",
     "text": [
      "Looking in indexes: https://pypi.org/simple/, https://****@pkgs.dev.azure.com/parsionate-ai/ps-libraries/_packaging/pypi-feed/pypi/simple\n",
      "Requirement already satisfied: tensorflow==2.8.* in /tank/home/rsns01/stud2/it/kamait02/unix/anaconda3/envs/tf2.8/lib/python3.9/site-packages (from -r ../../requirements.txt (line 1)) (2.8.4)\n",
      "Requirement already satisfied: tensorflow-addons in /tank/home/rsns01/stud2/it/kamait02/unix/anaconda3/envs/tf2.8/lib/python3.9/site-packages (from -r ../../requirements.txt (line 2)) (0.20.0)\n",
      "Requirement already satisfied: pandas in /tank/home/rsns01/stud2/it/kamait02/unix/anaconda3/envs/tf2.8/lib/python3.9/site-packages (from -r ../../requirements.txt (line 3)) (2.0.1)\n",
      "Requirement already satisfied: scikit-learn in /tank/home/rsns01/stud2/it/kamait02/unix/anaconda3/envs/tf2.8/lib/python3.9/site-packages (from -r ../../requirements.txt (line 4)) (1.2.2)\n",
      "Requirement already satisfied: scipy in /tank/home/rsns01/stud2/it/kamait02/unix/anaconda3/envs/tf2.8/lib/python3.9/site-packages (from -r ../../requirements.txt (line 5)) (1.10.1)\n",
      "Requirement already satisfied: matplotlib in /tank/home/rsns01/stud2/it/kamait02/unix/anaconda3/envs/tf2.8/lib/python3.9/site-packages (from -r ../../requirements.txt (line 6)) (3.7.1)\n",
      "Requirement already satisfied: tqdm in /tank/home/rsns01/stud2/it/kamait02/unix/anaconda3/envs/tf2.8/lib/python3.9/site-packages (from -r ../../requirements.txt (line 7)) (4.65.0)\n",
      "Requirement already satisfied: Pillow in /tank/home/rsns01/stud2/it/kamait02/unix/anaconda3/envs/tf2.8/lib/python3.9/site-packages (from -r ../../requirements.txt (line 8)) (9.5.0)\n",
      "Requirement already satisfied: absl-py>=0.4.0 in /tank/home/rsns01/stud2/it/kamait02/unix/anaconda3/envs/tf2.8/lib/python3.9/site-packages (from tensorflow==2.8.*->-r ../../requirements.txt (line 1)) (1.4.0)\n",
      "Requirement already satisfied: astunparse>=1.6.0 in /tank/home/rsns01/stud2/it/kamait02/unix/anaconda3/envs/tf2.8/lib/python3.9/site-packages (from tensorflow==2.8.*->-r ../../requirements.txt (line 1)) (1.6.3)\n",
      "Requirement already satisfied: flatbuffers>=1.12 in /tank/home/rsns01/stud2/it/kamait02/unix/anaconda3/envs/tf2.8/lib/python3.9/site-packages (from tensorflow==2.8.*->-r ../../requirements.txt (line 1)) (23.5.9)\n",
      "Requirement already satisfied: gast>=0.2.1 in /tank/home/rsns01/stud2/it/kamait02/unix/anaconda3/envs/tf2.8/lib/python3.9/site-packages (from tensorflow==2.8.*->-r ../../requirements.txt (line 1)) (0.5.4)\n",
      "Requirement already satisfied: google-pasta>=0.1.1 in /tank/home/rsns01/stud2/it/kamait02/unix/anaconda3/envs/tf2.8/lib/python3.9/site-packages (from tensorflow==2.8.*->-r ../../requirements.txt (line 1)) (0.2.0)\n",
      "Requirement already satisfied: h5py>=2.9.0 in /tank/home/rsns01/stud2/it/kamait02/unix/anaconda3/envs/tf2.8/lib/python3.9/site-packages (from tensorflow==2.8.*->-r ../../requirements.txt (line 1)) (3.8.0)\n",
      "Requirement already satisfied: keras-preprocessing>=1.1.1 in /tank/home/rsns01/stud2/it/kamait02/unix/anaconda3/envs/tf2.8/lib/python3.9/site-packages (from tensorflow==2.8.*->-r ../../requirements.txt (line 1)) (1.1.2)\n",
      "Requirement already satisfied: libclang>=9.0.1 in /tank/home/rsns01/stud2/it/kamait02/unix/anaconda3/envs/tf2.8/lib/python3.9/site-packages (from tensorflow==2.8.*->-r ../../requirements.txt (line 1)) (16.0.0)\n",
      "Requirement already satisfied: numpy>=1.20 in /tank/home/rsns01/stud2/it/kamait02/unix/anaconda3/envs/tf2.8/lib/python3.9/site-packages (from tensorflow==2.8.*->-r ../../requirements.txt (line 1)) (1.24.3)\n",
      "Requirement already satisfied: opt-einsum>=2.3.2 in /tank/home/rsns01/stud2/it/kamait02/unix/anaconda3/envs/tf2.8/lib/python3.9/site-packages (from tensorflow==2.8.*->-r ../../requirements.txt (line 1)) (3.3.0)\n",
      "Requirement already satisfied: protobuf<3.20,>=3.9.2 in /tank/home/rsns01/stud2/it/kamait02/unix/anaconda3/envs/tf2.8/lib/python3.9/site-packages (from tensorflow==2.8.*->-r ../../requirements.txt (line 1)) (3.19.6)\n",
      "Requirement already satisfied: setuptools in /tank/home/rsns01/stud2/it/kamait02/unix/anaconda3/envs/tf2.8/lib/python3.9/site-packages (from tensorflow==2.8.*->-r ../../requirements.txt (line 1)) (67.7.2)\n",
      "Requirement already satisfied: six>=1.12.0 in /tank/home/rsns01/stud2/it/kamait02/unix/anaconda3/envs/tf2.8/lib/python3.9/site-packages (from tensorflow==2.8.*->-r ../../requirements.txt (line 1)) (1.16.0)\n",
      "Requirement already satisfied: termcolor>=1.1.0 in /tank/home/rsns01/stud2/it/kamait02/unix/anaconda3/envs/tf2.8/lib/python3.9/site-packages (from tensorflow==2.8.*->-r ../../requirements.txt (line 1)) (2.3.0)\n",
      "Requirement already satisfied: typing-extensions>=3.6.6 in /tank/home/rsns01/stud2/it/kamait02/unix/anaconda3/envs/tf2.8/lib/python3.9/site-packages (from tensorflow==2.8.*->-r ../../requirements.txt (line 1)) (4.5.0)\n",
      "Requirement already satisfied: wrapt>=1.11.0 in /tank/home/rsns01/stud2/it/kamait02/unix/anaconda3/envs/tf2.8/lib/python3.9/site-packages (from tensorflow==2.8.*->-r ../../requirements.txt (line 1)) (1.15.0)\n",
      "Requirement already satisfied: tensorboard<2.9,>=2.8 in /tank/home/rsns01/stud2/it/kamait02/unix/anaconda3/envs/tf2.8/lib/python3.9/site-packages (from tensorflow==2.8.*->-r ../../requirements.txt (line 1)) (2.8.0)\n",
      "Requirement already satisfied: tensorflow-estimator<2.9,>=2.8 in /tank/home/rsns01/stud2/it/kamait02/unix/anaconda3/envs/tf2.8/lib/python3.9/site-packages (from tensorflow==2.8.*->-r ../../requirements.txt (line 1)) (2.8.0)\n",
      "Requirement already satisfied: keras<2.9,>=2.8.0rc0 in /tank/home/rsns01/stud2/it/kamait02/unix/anaconda3/envs/tf2.8/lib/python3.9/site-packages (from tensorflow==2.8.*->-r ../../requirements.txt (line 1)) (2.8.0)\n",
      "Requirement already satisfied: tensorflow-io-gcs-filesystem>=0.23.1 in /tank/home/rsns01/stud2/it/kamait02/unix/anaconda3/envs/tf2.8/lib/python3.9/site-packages (from tensorflow==2.8.*->-r ../../requirements.txt (line 1)) (0.32.0)\n",
      "Requirement already satisfied: grpcio<2.0,>=1.24.3 in /tank/home/rsns01/stud2/it/kamait02/unix/anaconda3/envs/tf2.8/lib/python3.9/site-packages (from tensorflow==2.8.*->-r ../../requirements.txt (line 1)) (1.54.2)\n",
      "Requirement already satisfied: packaging in /tank/home/rsns01/stud2/it/kamait02/unix/anaconda3/envs/tf2.8/lib/python3.9/site-packages (from tensorflow-addons->-r ../../requirements.txt (line 2)) (23.1)\n",
      "Requirement already satisfied: typeguard<3.0.0,>=2.7 in /tank/home/rsns01/stud2/it/kamait02/unix/anaconda3/envs/tf2.8/lib/python3.9/site-packages (from tensorflow-addons->-r ../../requirements.txt (line 2)) (2.13.3)\n",
      "Requirement already satisfied: python-dateutil>=2.8.2 in /tank/home/rsns01/stud2/it/kamait02/unix/anaconda3/envs/tf2.8/lib/python3.9/site-packages (from pandas->-r ../../requirements.txt (line 3)) (2.8.2)\n",
      "Requirement already satisfied: pytz>=2020.1 in /tank/home/rsns01/stud2/it/kamait02/unix/anaconda3/envs/tf2.8/lib/python3.9/site-packages (from pandas->-r ../../requirements.txt (line 3)) (2023.3)\n",
      "Requirement already satisfied: tzdata>=2022.1 in /tank/home/rsns01/stud2/it/kamait02/unix/anaconda3/envs/tf2.8/lib/python3.9/site-packages (from pandas->-r ../../requirements.txt (line 3)) (2023.3)\n",
      "Requirement already satisfied: joblib>=1.1.1 in /tank/home/rsns01/stud2/it/kamait02/unix/anaconda3/envs/tf2.8/lib/python3.9/site-packages (from scikit-learn->-r ../../requirements.txt (line 4)) (1.2.0)\n",
      "Requirement already satisfied: threadpoolctl>=2.0.0 in /tank/home/rsns01/stud2/it/kamait02/unix/anaconda3/envs/tf2.8/lib/python3.9/site-packages (from scikit-learn->-r ../../requirements.txt (line 4)) (3.1.0)\n",
      "Requirement already satisfied: contourpy>=1.0.1 in /tank/home/rsns01/stud2/it/kamait02/unix/anaconda3/envs/tf2.8/lib/python3.9/site-packages (from matplotlib->-r ../../requirements.txt (line 6)) (1.0.7)\n",
      "Requirement already satisfied: cycler>=0.10 in /tank/home/rsns01/stud2/it/kamait02/unix/anaconda3/envs/tf2.8/lib/python3.9/site-packages (from matplotlib->-r ../../requirements.txt (line 6)) (0.11.0)\n",
      "Requirement already satisfied: fonttools>=4.22.0 in /tank/home/rsns01/stud2/it/kamait02/unix/anaconda3/envs/tf2.8/lib/python3.9/site-packages (from matplotlib->-r ../../requirements.txt (line 6)) (4.39.4)\n",
      "Requirement already satisfied: kiwisolver>=1.0.1 in /tank/home/rsns01/stud2/it/kamait02/unix/anaconda3/envs/tf2.8/lib/python3.9/site-packages (from matplotlib->-r ../../requirements.txt (line 6)) (1.4.4)\n",
      "Requirement already satisfied: pyparsing>=2.3.1 in /tank/home/rsns01/stud2/it/kamait02/unix/anaconda3/envs/tf2.8/lib/python3.9/site-packages (from matplotlib->-r ../../requirements.txt (line 6)) (3.0.9)\n",
      "Requirement already satisfied: importlib-resources>=3.2.0 in /tank/home/rsns01/stud2/it/kamait02/unix/anaconda3/envs/tf2.8/lib/python3.9/site-packages (from matplotlib->-r ../../requirements.txt (line 6)) (5.12.0)\n",
      "Requirement already satisfied: wheel<1.0,>=0.23.0 in /tank/home/rsns01/stud2/it/kamait02/unix/anaconda3/envs/tf2.8/lib/python3.9/site-packages (from astunparse>=1.6.0->tensorflow==2.8.*->-r ../../requirements.txt (line 1)) (0.40.0)\n",
      "Requirement already satisfied: zipp>=3.1.0 in /tank/home/rsns01/stud2/it/kamait02/unix/anaconda3/envs/tf2.8/lib/python3.9/site-packages (from importlib-resources>=3.2.0->matplotlib->-r ../../requirements.txt (line 6)) (3.15.0)\n",
      "Requirement already satisfied: google-auth<3,>=1.6.3 in /tank/home/rsns01/stud2/it/kamait02/unix/anaconda3/envs/tf2.8/lib/python3.9/site-packages (from tensorboard<2.9,>=2.8->tensorflow==2.8.*->-r ../../requirements.txt (line 1)) (2.18.1)\n",
      "Requirement already satisfied: google-auth-oauthlib<0.5,>=0.4.1 in /tank/home/rsns01/stud2/it/kamait02/unix/anaconda3/envs/tf2.8/lib/python3.9/site-packages (from tensorboard<2.9,>=2.8->tensorflow==2.8.*->-r ../../requirements.txt (line 1)) (0.4.6)\n",
      "Requirement already satisfied: markdown>=2.6.8 in /tank/home/rsns01/stud2/it/kamait02/unix/anaconda3/envs/tf2.8/lib/python3.9/site-packages (from tensorboard<2.9,>=2.8->tensorflow==2.8.*->-r ../../requirements.txt (line 1)) (3.4.3)\n",
      "Requirement already satisfied: requests<3,>=2.21.0 in /tank/home/rsns01/stud2/it/kamait02/unix/anaconda3/envs/tf2.8/lib/python3.9/site-packages (from tensorboard<2.9,>=2.8->tensorflow==2.8.*->-r ../../requirements.txt (line 1)) (2.31.0)\n",
      "Requirement already satisfied: tensorboard-data-server<0.7.0,>=0.6.0 in /tank/home/rsns01/stud2/it/kamait02/unix/anaconda3/envs/tf2.8/lib/python3.9/site-packages (from tensorboard<2.9,>=2.8->tensorflow==2.8.*->-r ../../requirements.txt (line 1)) (0.6.1)\n",
      "Requirement already satisfied: tensorboard-plugin-wit>=1.6.0 in /tank/home/rsns01/stud2/it/kamait02/unix/anaconda3/envs/tf2.8/lib/python3.9/site-packages (from tensorboard<2.9,>=2.8->tensorflow==2.8.*->-r ../../requirements.txt (line 1)) (1.8.1)\n",
      "Requirement already satisfied: werkzeug>=0.11.15 in /tank/home/rsns01/stud2/it/kamait02/unix/anaconda3/envs/tf2.8/lib/python3.9/site-packages (from tensorboard<2.9,>=2.8->tensorflow==2.8.*->-r ../../requirements.txt (line 1)) (2.3.4)\n",
      "Requirement already satisfied: cachetools<6.0,>=2.0.0 in /tank/home/rsns01/stud2/it/kamait02/unix/anaconda3/envs/tf2.8/lib/python3.9/site-packages (from google-auth<3,>=1.6.3->tensorboard<2.9,>=2.8->tensorflow==2.8.*->-r ../../requirements.txt (line 1)) (5.3.0)\n",
      "Requirement already satisfied: pyasn1-modules>=0.2.1 in /tank/home/rsns01/stud2/it/kamait02/unix/anaconda3/envs/tf2.8/lib/python3.9/site-packages (from google-auth<3,>=1.6.3->tensorboard<2.9,>=2.8->tensorflow==2.8.*->-r ../../requirements.txt (line 1)) (0.3.0)\n",
      "Requirement already satisfied: urllib3<2.0 in /tank/home/rsns01/stud2/it/kamait02/unix/anaconda3/envs/tf2.8/lib/python3.9/site-packages (from google-auth<3,>=1.6.3->tensorboard<2.9,>=2.8->tensorflow==2.8.*->-r ../../requirements.txt (line 1)) (1.26.15)\n",
      "Requirement already satisfied: rsa<5,>=3.1.4 in /tank/home/rsns01/stud2/it/kamait02/unix/anaconda3/envs/tf2.8/lib/python3.9/site-packages (from google-auth<3,>=1.6.3->tensorboard<2.9,>=2.8->tensorflow==2.8.*->-r ../../requirements.txt (line 1)) (4.9)\n",
      "Requirement already satisfied: requests-oauthlib>=0.7.0 in /tank/home/rsns01/stud2/it/kamait02/unix/anaconda3/envs/tf2.8/lib/python3.9/site-packages (from google-auth-oauthlib<0.5,>=0.4.1->tensorboard<2.9,>=2.8->tensorflow==2.8.*->-r ../../requirements.txt (line 1)) (1.3.1)\n",
      "Requirement already satisfied: importlib-metadata>=4.4 in /tank/home/rsns01/stud2/it/kamait02/unix/anaconda3/envs/tf2.8/lib/python3.9/site-packages (from markdown>=2.6.8->tensorboard<2.9,>=2.8->tensorflow==2.8.*->-r ../../requirements.txt (line 1)) (6.6.0)\n",
      "Requirement already satisfied: charset-normalizer<4,>=2 in /tank/home/rsns01/stud2/it/kamait02/unix/anaconda3/envs/tf2.8/lib/python3.9/site-packages (from requests<3,>=2.21.0->tensorboard<2.9,>=2.8->tensorflow==2.8.*->-r ../../requirements.txt (line 1)) (3.1.0)\n",
      "Requirement already satisfied: idna<4,>=2.5 in /tank/home/rsns01/stud2/it/kamait02/unix/anaconda3/envs/tf2.8/lib/python3.9/site-packages (from requests<3,>=2.21.0->tensorboard<2.9,>=2.8->tensorflow==2.8.*->-r ../../requirements.txt (line 1)) (3.4)\n",
      "Requirement already satisfied: certifi>=2017.4.17 in /tank/home/rsns01/stud2/it/kamait02/unix/anaconda3/envs/tf2.8/lib/python3.9/site-packages (from requests<3,>=2.21.0->tensorboard<2.9,>=2.8->tensorflow==2.8.*->-r ../../requirements.txt (line 1)) (2023.5.7)\n",
      "Requirement already satisfied: MarkupSafe>=2.1.1 in /tank/home/rsns01/stud2/it/kamait02/unix/anaconda3/envs/tf2.8/lib/python3.9/site-packages (from werkzeug>=0.11.15->tensorboard<2.9,>=2.8->tensorflow==2.8.*->-r ../../requirements.txt (line 1)) (2.1.2)\n",
      "Requirement already satisfied: pyasn1<0.6.0,>=0.4.6 in /tank/home/rsns01/stud2/it/kamait02/unix/anaconda3/envs/tf2.8/lib/python3.9/site-packages (from pyasn1-modules>=0.2.1->google-auth<3,>=1.6.3->tensorboard<2.9,>=2.8->tensorflow==2.8.*->-r ../../requirements.txt (line 1)) (0.5.0)\n",
      "Requirement already satisfied: oauthlib>=3.0.0 in /tank/home/rsns01/stud2/it/kamait02/unix/anaconda3/envs/tf2.8/lib/python3.9/site-packages (from requests-oauthlib>=0.7.0->google-auth-oauthlib<0.5,>=0.4.1->tensorboard<2.9,>=2.8->tensorflow==2.8.*->-r ../../requirements.txt (line 1)) (3.2.2)\n",
      "Note: you may need to restart the kernel to use updated packages.\n"
     ]
    }
   ],
   "source": [
    "pip install -r ../../requirements.txt"
   ]
  },
  {
   "cell_type": "code",
   "execution_count": 2,
   "metadata": {},
   "outputs": [],
   "source": [
    "import os\n",
    "\n",
    "os.environ[\"CUDA_DEVICE_ORDER\"] = \"PCI_BUS_ID\"\n",
    "os.environ[\"CUDA_VISIBLE_DEVICES\"] = \"0\"\n",
    "os.environ[\"TF_FORCE_GPU_ALLOW_GROWTH\"] = \"true\""
   ]
  },
  {
   "cell_type": "code",
   "execution_count": 3,
   "metadata": {},
   "outputs": [],
   "source": [
    "# Add directory above current directory to path\n",
    "import sys; sys.path.insert(0, '../..')"
   ]
  },
  {
   "cell_type": "code",
   "execution_count": 4,
   "metadata": {},
   "outputs": [],
   "source": [
    "import tensorflow as tf\n",
    "import pandas as pd\n",
    "import numpy as np\n",
    "import json\n",
    "from utils.text_processing import CharTokenizer"
   ]
  },
  {
   "cell_type": "code",
   "execution_count": 5,
   "metadata": {},
   "outputs": [
    {
     "name": "stderr",
     "output_type": "stream",
     "text": [
      "2023-05-28 11:13:36.007819: I tensorflow/core/platform/cpu_feature_guard.cc:151] This TensorFlow binary is optimized with oneAPI Deep Neural Network Library (oneDNN) to use the following CPU instructions in performance-critical operations:  AVX2 AVX512F FMA\n",
      "To enable them in other operations, rebuild TensorFlow with the appropriate compiler flags.\n",
      "2023-05-28 11:13:36.657999: W tensorflow/core/common_runtime/gpu/gpu_bfc_allocator.cc:39] Overriding allow_growth setting because the TF_FORCE_GPU_ALLOW_GROWTH environment variable is set. Original config value was 0.\n",
      "2023-05-28 11:13:36.658059: I tensorflow/core/common_runtime/gpu/gpu_device.cc:1525] Created device /job:localhost/replica:0/task:0/device:GPU:0 with 21840 MB memory:  -> device: 0, name: Tesla V100S-PCIE-32GB, pci bus id: 0000:25:00.0, compute capability: 7.0\n"
     ]
    }
   ],
   "source": [
    "if tf.config.list_physical_devices('GPU'):\n",
    "    tf.config.experimental.get_memory_info(\"GPU:0\")"
   ]
  },
  {
   "cell_type": "code",
   "execution_count": 6,
   "metadata": {},
   "outputs": [],
   "source": [
    "config = json.load(open(\"./configs/mnn_em.json\"))"
   ]
  },
  {
   "attachments": {},
   "cell_type": "markdown",
   "metadata": {},
   "source": [
    "# Loading data"
   ]
  },
  {
   "cell_type": "code",
   "execution_count": 7,
   "metadata": {},
   "outputs": [],
   "source": [
    "from data_loader.abo import ABO"
   ]
  },
  {
   "cell_type": "code",
   "execution_count": 8,
   "metadata": {},
   "outputs": [
    {
     "name": "stdout",
     "output_type": "stream",
     "text": [
      "Downloading abo-listings.tar...\n",
      "abo-listings.tar already exists.\n",
      "Downloading abo-images-small.tar...\n",
      "abo-images-small.tar already exists.\n",
      "Loading images...\n",
      "Loading texts...\n",
      "Importing listings CSV...\n",
      "Creating false samples/complement...\n",
      "Merging ground truth and complement...\n",
      "Performing random deletion...\n",
      "Concatenating attributes into description columns...\n",
      "Finishing up...\n",
      "Exporting to CSV...\n",
      "Data processing complete\n"
     ]
    },
    {
     "data": {
      "text/html": [
       "<div>\n",
       "<style scoped>\n",
       "    .dataframe tbody tr th:only-of-type {\n",
       "        vertical-align: middle;\n",
       "    }\n",
       "\n",
       "    .dataframe tbody tr th {\n",
       "        vertical-align: top;\n",
       "    }\n",
       "\n",
       "    .dataframe thead th {\n",
       "        text-align: right;\n",
       "    }\n",
       "</style>\n",
       "<table border=\"1\" class=\"dataframe\">\n",
       "  <thead>\n",
       "    <tr style=\"text-align: right;\">\n",
       "      <th></th>\n",
       "      <th>description</th>\n",
       "      <th>path</th>\n",
       "      <th>product_type</th>\n",
       "      <th>label</th>\n",
       "    </tr>\n",
       "  </thead>\n",
       "  <tbody>\n",
       "    <tr>\n",
       "      <th>0</th>\n",
       "      <td>amazon brand - solimo designer kitty with glit...</td>\n",
       "      <td>24/24297dfc.jpg</td>\n",
       "      <td>CELLULAR_PHONE_CASE</td>\n",
       "      <td>1</td>\n",
       "    </tr>\n",
       "    <tr>\n",
       "      <th>1</th>\n",
       "      <td>amazonbasics fabric storage bin - tall round, ...</td>\n",
       "      <td>f8/f877b523.jpg</td>\n",
       "      <td>BASKET</td>\n",
       "      <td>1</td>\n",
       "    </tr>\n",
       "    <tr>\n",
       "      <th>2</th>\n",
       "      <td>b07tg4mjz7amazon brand - solimo designer multi...</td>\n",
       "      <td>e3/e3a54c1b.jpg</td>\n",
       "      <td>CELLULAR_PHONE_CASE</td>\n",
       "      <td>1</td>\n",
       "    </tr>\n",
       "    <tr>\n",
       "      <th>3</th>\n",
       "      <td>apple iphone 8 plus &amp; 7 plus mobile back case ...</td>\n",
       "      <td>56/5687cdcd.jpg</td>\n",
       "      <td>CELLULAR_PHONE_CASE</td>\n",
       "      <td>1</td>\n",
       "    </tr>\n",
       "    <tr>\n",
       "      <th>4</th>\n",
       "      <td>b085635sypamazon brand - solimo designer multi...</td>\n",
       "      <td>f1/f1533b11.jpg</td>\n",
       "      <td>CELLULAR_PHONE_CASE</td>\n",
       "      <td>1</td>\n",
       "    </tr>\n",
       "    <tr>\n",
       "      <th>...</th>\n",
       "      <td>...</td>\n",
       "      <td>...</td>\n",
       "      <td>...</td>\n",
       "      <td>...</td>\n",
       "    </tr>\n",
       "    <tr>\n",
       "      <th>141721</th>\n",
       "      <td>bigb085636546</td>\n",
       "      <td>70/705a58c0.jpg</td>\n",
       "      <td>CELLULAR_PHONE_CASE</td>\n",
       "      <td>0</td>\n",
       "    </tr>\n",
       "    <tr>\n",
       "      <th>141722</th>\n",
       "      <td>amazon brand - solimo designer black pattern a...</td>\n",
       "      <td>95/9512df87.jpg</td>\n",
       "      <td>CELLULAR_PHONE_CASE</td>\n",
       "      <td>1</td>\n",
       "    </tr>\n",
       "    <tr>\n",
       "      <th>141723</th>\n",
       "      <td>365 everyday value, organic whole kernel corn,...</td>\n",
       "      <td>b7/b7b6d0fb.jpg</td>\n",
       "      <td>GROCERY</td>\n",
       "      <td>1</td>\n",
       "    </tr>\n",
       "    <tr>\n",
       "      <th>141724</th>\n",
       "      <td>mobile coverallegro, tea green pomegranate org...</td>\n",
       "      <td>3b/3b33ad01.jpg</td>\n",
       "      <td>CELLULAR_PHONE_CASE</td>\n",
       "      <td>0</td>\n",
       "    </tr>\n",
       "    <tr>\n",
       "      <th>141725</th>\n",
       "      <td>mobile coverb07tc5hf3damazon brand - solimo de...</td>\n",
       "      <td>19/19a1076e.jpg</td>\n",
       "      <td>CELLULAR_PHONE_CASE</td>\n",
       "      <td>1</td>\n",
       "    </tr>\n",
       "  </tbody>\n",
       "</table>\n",
       "<p>141726 rows × 4 columns</p>\n",
       "</div>"
      ],
      "text/plain": [
       "                                              description             path   \n",
       "0       amazon brand - solimo designer kitty with glit...  24/24297dfc.jpg  \\\n",
       "1       amazonbasics fabric storage bin - tall round, ...  f8/f877b523.jpg   \n",
       "2       b07tg4mjz7amazon brand - solimo designer multi...  e3/e3a54c1b.jpg   \n",
       "3       apple iphone 8 plus & 7 plus mobile back case ...  56/5687cdcd.jpg   \n",
       "4       b085635sypamazon brand - solimo designer multi...  f1/f1533b11.jpg   \n",
       "...                                                   ...              ...   \n",
       "141721                                      bigb085636546  70/705a58c0.jpg   \n",
       "141722  amazon brand - solimo designer black pattern a...  95/9512df87.jpg   \n",
       "141723  365 everyday value, organic whole kernel corn,...  b7/b7b6d0fb.jpg   \n",
       "141724  mobile coverallegro, tea green pomegranate org...  3b/3b33ad01.jpg   \n",
       "141725  mobile coverb07tc5hf3damazon brand - solimo de...  19/19a1076e.jpg   \n",
       "\n",
       "               product_type  label  \n",
       "0       CELLULAR_PHONE_CASE      1  \n",
       "1                    BASKET      1  \n",
       "2       CELLULAR_PHONE_CASE      1  \n",
       "3       CELLULAR_PHONE_CASE      1  \n",
       "4       CELLULAR_PHONE_CASE      1  \n",
       "...                     ...    ...  \n",
       "141721  CELLULAR_PHONE_CASE      0  \n",
       "141722  CELLULAR_PHONE_CASE      1  \n",
       "141723              GROCERY      1  \n",
       "141724  CELLULAR_PHONE_CASE      0  \n",
       "141725  CELLULAR_PHONE_CASE      1  \n",
       "\n",
       "[141726 rows x 4 columns]"
      ]
     },
     "execution_count": 8,
     "metadata": {},
     "output_type": "execute_result"
    }
   ],
   "source": [
    "data = ABO(\n",
    "    path=config[\"data\"][\"path\"],\n",
    "    download=True,\n",
    "    extract=False,\n",
    "    preprocess=True,\n",
    "    alt_augment=False,\n",
    "    random_deletion=True,\n",
    "    export_csv=True).data\n",
    "\n",
    "# data = pd.read_csv(os.path.join(config[\"data\"][\"path\"], \"data.csv\"))\n",
    "# data = data.drop({\"Unnamed: 0\"}, axis=1)\n",
    "\n",
    "data = data[['description', 'path', 'product_type', 'label']]\n",
    "data"
   ]
  },
  {
   "cell_type": "code",
   "execution_count": 8,
   "metadata": {},
   "outputs": [],
   "source": [
    "img = data[[\"path\"]] # two brackets for keeping the column name\n",
    "text = data[\"description\"]\n",
    "product_types = data[[\"product_type\"]]\n",
    "labels = data[[\"label\"]]"
   ]
  },
  {
   "attachments": {},
   "cell_type": "markdown",
   "metadata": {},
   "source": [
    "# Text processing"
   ]
  },
  {
   "attachments": {},
   "cell_type": "markdown",
   "metadata": {},
   "source": [
    "## Tokenize texts"
   ]
  },
  {
   "cell_type": "code",
   "execution_count": 9,
   "metadata": {},
   "outputs": [
    {
     "data": {
      "text/plain": [
       "(141581, 1014)"
      ]
     },
     "execution_count": 9,
     "metadata": {},
     "output_type": "execute_result"
    }
   ],
   "source": [
    "tk = CharTokenizer(config[\"data\"][\"alphabet\"])\n",
    "text = tk.tokenize(text)\n",
    "text.shape"
   ]
  },
  {
   "attachments": {},
   "cell_type": "markdown",
   "metadata": {},
   "source": [
    "## Create embedding weights"
   ]
  },
  {
   "cell_type": "code",
   "execution_count": 10,
   "metadata": {},
   "outputs": [
    {
     "data": {
      "text/plain": [
       "(66, 65)"
      ]
     },
     "execution_count": 10,
     "metadata": {},
     "output_type": "execute_result"
    }
   ],
   "source": [
    "weights = tk.create_embedding_weights()\n",
    "weights.shape"
   ]
  },
  {
   "attachments": {},
   "cell_type": "markdown",
   "metadata": {},
   "source": [
    "# Image processing"
   ]
  },
  {
   "attachments": {},
   "cell_type": "markdown",
   "metadata": {},
   "source": [
    "## Load image model"
   ]
  },
  {
   "cell_type": "code",
   "execution_count": 11,
   "metadata": {},
   "outputs": [],
   "source": [
    "from utils.img_processing import load_img_model, create_embeddings_from"
   ]
  },
  {
   "cell_type": "code",
   "execution_count": 12,
   "metadata": {},
   "outputs": [
    {
     "name": "stdout",
     "output_type": "stream",
     "text": [
      "WARNING:tensorflow:`input_shape` is undefined or non-square, or `rows` is not 224. Weights for input shape (224, 224) will be loaded as the default.\n"
     ]
    },
    {
     "data": {
      "text/plain": [
       "(None, 576)"
      ]
     },
     "execution_count": 12,
     "metadata": {},
     "output_type": "execute_result"
    }
   ],
   "source": [
    "img_model = load_img_model(config[\"img_model\"])\n",
    "\n",
    "img_model.output_shape"
   ]
  },
  {
   "attachments": {},
   "cell_type": "markdown",
   "metadata": {},
   "source": [
    "## Create image embeddings"
   ]
  },
  {
   "cell_type": "code",
   "execution_count": 13,
   "metadata": {},
   "outputs": [],
   "source": [
    "# Mobilenetv3small:\n",
    "# batch_size = 1024 -> 8 GB VRAM\n",
    "# batch_size = 2048 -> 16 GB VRAM\n",
    "# ...\n",
    "# Mobilenetv3large: twice as much as Mobilenetv3small\n",
    "\n",
    "img = create_embeddings_from(img_model, img, os.path.join(config[\"data\"][\"path\"], \"images/small\"), batch_size=1024)"
   ]
  },
  {
   "cell_type": "code",
   "execution_count": 14,
   "metadata": {},
   "outputs": [
    {
     "data": {
      "text/plain": [
       "(141581, 1)"
      ]
     },
     "execution_count": 14,
     "metadata": {},
     "output_type": "execute_result"
    }
   ],
   "source": [
    "img.shape"
   ]
  },
  {
   "attachments": {},
   "cell_type": "markdown",
   "metadata": {},
   "source": [
    "# Save embeddings"
   ]
  },
  {
   "cell_type": "code",
   "execution_count": 15,
   "metadata": {},
   "outputs": [],
   "source": [
    "save_path = os.path.join(config[\"data\"][\"path\"], f\"embeddings/{img_model.name}\")"
   ]
  },
  {
   "cell_type": "code",
   "execution_count": 16,
   "metadata": {},
   "outputs": [],
   "source": [
    "os.makedirs(save_path, exist_ok=True)\n",
    "np.save(f\"{save_path}/img.npy\", img)\n",
    "np.save(f\"{save_path}/text.npy\", text)\n",
    "data.to_csv(f\"{save_path}/data.csv\")"
   ]
  },
  {
   "attachments": {},
   "cell_type": "markdown",
   "metadata": {},
   "source": [
    "## Verify import"
   ]
  },
  {
   "cell_type": "code",
   "execution_count": 17,
   "metadata": {},
   "outputs": [
    {
     "data": {
      "text/html": [
       "<div>\n",
       "<style scoped>\n",
       "    .dataframe tbody tr th:only-of-type {\n",
       "        vertical-align: middle;\n",
       "    }\n",
       "\n",
       "    .dataframe tbody tr th {\n",
       "        vertical-align: top;\n",
       "    }\n",
       "\n",
       "    .dataframe thead th {\n",
       "        text-align: right;\n",
       "    }\n",
       "</style>\n",
       "<table border=\"1\" class=\"dataframe\">\n",
       "  <thead>\n",
       "    <tr style=\"text-align: right;\">\n",
       "      <th></th>\n",
       "      <th>description</th>\n",
       "      <th>description2</th>\n",
       "      <th>path</th>\n",
       "      <th>product_type</th>\n",
       "      <th>label</th>\n",
       "    </tr>\n",
       "  </thead>\n",
       "  <tbody>\n",
       "    <tr>\n",
       "      <th>0</th>\n",
       "      <td>mobile cover</td>\n",
       "      <td>b07tg4sw3yamazon brand - solimo designer brush...</td>\n",
       "      <td>d8/d86c181c.jpg</td>\n",
       "      <td>CELLULAR_PHONE_CASE</td>\n",
       "      <td>1</td>\n",
       "    </tr>\n",
       "    <tr>\n",
       "      <th>1</th>\n",
       "      <td>sloppy joe seasoning mix</td>\n",
       "      <td>xiaomi redmi 5 mobile back case cover transpar...</td>\n",
       "      <td>a8/a8fb976a.jpg</td>\n",
       "      <td>HOME_BED_AND_BATH</td>\n",
       "      <td>0</td>\n",
       "    </tr>\n",
       "    <tr>\n",
       "      <th>2</th>\n",
       "      <td>clock: designer: wall clocks: wallclock: antiq...</td>\n",
       "      <td>amazon brand - solimo 12-inch wall clock -sunr...</td>\n",
       "      <td>4a/4a5c0c46.jpg</td>\n",
       "      <td>HOME_FURNITURE_AND_DECOR</td>\n",
       "      <td>1</td>\n",
       "    </tr>\n",
       "    <tr>\n",
       "      <th>3</th>\n",
       "      <td>mobile coverb0752njbk5</td>\n",
       "      <td>mobile cover</td>\n",
       "      <td>81/8146b66b.jpg</td>\n",
       "      <td>CELLULAR_PHONE_CASE</td>\n",
       "      <td>0</td>\n",
       "    </tr>\n",
       "    <tr>\n",
       "      <th>4</th>\n",
       "      <td>b07tf1ct2n</td>\n",
       "      <td>b0853x5j7zamazon brand - solimo wall sticker f...</td>\n",
       "      <td>d6/d699c639.jpg</td>\n",
       "      <td>CELLULAR_PHONE_CASE</td>\n",
       "      <td>0</td>\n",
       "    </tr>\n",
       "    <tr>\n",
       "      <th>...</th>\n",
       "      <td>...</td>\n",
       "      <td>...</td>\n",
       "      <td>...</td>\n",
       "      <td>...</td>\n",
       "      <td>...</td>\n",
       "    </tr>\n",
       "    <tr>\n",
       "      <th>141894</th>\n",
       "      <td>365 everyday value, cape cod trail mix, 32 oz</td>\n",
       "      <td>b07rm24gs4365 everyday value, cape cod trail m...</td>\n",
       "      <td>99/99bf15a7.jpg</td>\n",
       "      <td>GROCERY</td>\n",
       "      <td>1</td>\n",
       "    </tr>\n",
       "    <tr>\n",
       "      <th>141895</th>\n",
       "      <td>mobile coverb0824bn7zwamazon brand - solimo de...</td>\n",
       "      <td>mobile coverb07nrcdjnxamazon brand - solimo de...</td>\n",
       "      <td>fc/fc19dddf.jpg</td>\n",
       "      <td>CELLULAR_PHONE_CASE</td>\n",
       "      <td>0</td>\n",
       "    </tr>\n",
       "    <tr>\n",
       "      <th>141896</th>\n",
       "      <td>formal shoesfind. archie, mens boat shoes, blu...</td>\n",
       "      <td>formal shoesb06xccj4xqfind. archie, mens boat ...</td>\n",
       "      <td>2c/2cb438f3.jpg</td>\n",
       "      <td>SHOES</td>\n",
       "      <td>1</td>\n",
       "    </tr>\n",
       "    <tr>\n",
       "      <th>141897</th>\n",
       "      <td>mobile coveramazon brand - solimo designer pai...</td>\n",
       "      <td>mobile coverb07th383pz</td>\n",
       "      <td>22/22087b43.jpg</td>\n",
       "      <td>CELLULAR_PHONE_CASE</td>\n",
       "      <td>1</td>\n",
       "    </tr>\n",
       "    <tr>\n",
       "      <th>141898</th>\n",
       "      <td>mobile cover</td>\n",
       "      <td>mobile coverb08545p3c2amazon brand - solimo de...</td>\n",
       "      <td>76/761eb4ef.jpg</td>\n",
       "      <td>CELLULAR_PHONE_CASE</td>\n",
       "      <td>1</td>\n",
       "    </tr>\n",
       "  </tbody>\n",
       "</table>\n",
       "<p>141899 rows × 5 columns</p>\n",
       "</div>"
      ],
      "text/plain": [
       "                                              description   \n",
       "0                                            mobile cover  \\\n",
       "1                                sloppy joe seasoning mix   \n",
       "2       clock: designer: wall clocks: wallclock: antiq...   \n",
       "3                                  mobile coverb0752njbk5   \n",
       "4                                              b07tf1ct2n   \n",
       "...                                                   ...   \n",
       "141894      365 everyday value, cape cod trail mix, 32 oz   \n",
       "141895  mobile coverb0824bn7zwamazon brand - solimo de...   \n",
       "141896  formal shoesfind. archie, mens boat shoes, blu...   \n",
       "141897  mobile coveramazon brand - solimo designer pai...   \n",
       "141898                                       mobile cover   \n",
       "\n",
       "                                             description2             path   \n",
       "0       b07tg4sw3yamazon brand - solimo designer brush...  d8/d86c181c.jpg  \\\n",
       "1       xiaomi redmi 5 mobile back case cover transpar...  a8/a8fb976a.jpg   \n",
       "2       amazon brand - solimo 12-inch wall clock -sunr...  4a/4a5c0c46.jpg   \n",
       "3                                            mobile cover  81/8146b66b.jpg   \n",
       "4       b0853x5j7zamazon brand - solimo wall sticker f...  d6/d699c639.jpg   \n",
       "...                                                   ...              ...   \n",
       "141894  b07rm24gs4365 everyday value, cape cod trail m...  99/99bf15a7.jpg   \n",
       "141895  mobile coverb07nrcdjnxamazon brand - solimo de...  fc/fc19dddf.jpg   \n",
       "141896  formal shoesb06xccj4xqfind. archie, mens boat ...  2c/2cb438f3.jpg   \n",
       "141897                             mobile coverb07th383pz  22/22087b43.jpg   \n",
       "141898  mobile coverb08545p3c2amazon brand - solimo de...  76/761eb4ef.jpg   \n",
       "\n",
       "                    product_type  label  \n",
       "0            CELLULAR_PHONE_CASE      1  \n",
       "1              HOME_BED_AND_BATH      0  \n",
       "2       HOME_FURNITURE_AND_DECOR      1  \n",
       "3            CELLULAR_PHONE_CASE      0  \n",
       "4            CELLULAR_PHONE_CASE      0  \n",
       "...                          ...    ...  \n",
       "141894                   GROCERY      1  \n",
       "141895       CELLULAR_PHONE_CASE      0  \n",
       "141896                     SHOES      1  \n",
       "141897       CELLULAR_PHONE_CASE      1  \n",
       "141898       CELLULAR_PHONE_CASE      1  \n",
       "\n",
       "[141899 rows x 5 columns]"
      ]
     },
     "execution_count": 17,
     "metadata": {},
     "output_type": "execute_result"
    }
   ],
   "source": [
    "data = pd.read_csv(f\"{save_path}/data.csv\")\n",
    "data = data.drop({\"Unnamed: 0\"}, axis=1)\n",
    "data"
   ]
  },
  {
   "cell_type": "code",
   "execution_count": 18,
   "metadata": {},
   "outputs": [
    {
     "data": {
      "text/plain": [
       "(141899, 576)"
      ]
     },
     "execution_count": 18,
     "metadata": {},
     "output_type": "execute_result"
    }
   ],
   "source": [
    "img = np.load(f\"{save_path}/img.npy\", allow_pickle=True)\n",
    "img.shape"
   ]
  },
  {
   "cell_type": "code",
   "execution_count": 19,
   "metadata": {},
   "outputs": [
    {
     "data": {
      "text/plain": [
       "(141899, 1014)"
      ]
     },
     "execution_count": 19,
     "metadata": {},
     "output_type": "execute_result"
    }
   ],
   "source": [
    "text = np.load(f\"{save_path}/text.npy\", allow_pickle=True)\n",
    "text.shape"
   ]
  },
  {
   "attachments": {},
   "cell_type": "markdown",
   "metadata": {},
   "source": [
    "# Train-Test Split"
   ]
  },
  {
   "attachments": {},
   "cell_type": "markdown",
   "metadata": {},
   "source": [
    "To use `stratify` parameter of `sklearn.model_selection.train_test_split()`, we need to select all product instances which appear more than once"
   ]
  },
  {
   "cell_type": "code",
   "execution_count": 20,
   "metadata": {},
   "outputs": [],
   "source": [
    "data[\"product_type_count\"] = data.groupby([\"product_type\"])[\"product_type\"].transform(\"count\")\n",
    "\n",
    "data = data[data[\"product_type_count\"] > config[\"data\"][\"cls\"]]"
   ]
  },
  {
   "cell_type": "code",
   "execution_count": 21,
   "metadata": {},
   "outputs": [],
   "source": [
    "# Update both columns\n",
    "product_types = data[[\"product_type\"]]\n",
    "\n",
    "labels = data[[\"label\"]]"
   ]
  },
  {
   "cell_type": "code",
   "execution_count": 22,
   "metadata": {},
   "outputs": [],
   "source": [
    "from sklearn.model_selection import train_test_split"
   ]
  },
  {
   "cell_type": "code",
   "execution_count": 23,
   "metadata": {},
   "outputs": [],
   "source": [
    "train, test, labels_train, labels_test = train_test_split(data, labels, stratify=product_types, test_size=config[\"mnn_em\"][\"training\"][\"test_split\"], random_state=42)"
   ]
  },
  {
   "cell_type": "code",
   "execution_count": 24,
   "metadata": {},
   "outputs": [],
   "source": [
    "img_train = img[train.index]\n",
    "img_test = img[test.index]\n",
    "\n",
    "text_train = text[train.index]\n",
    "text_test = text[test.index]"
   ]
  },
  {
   "attachments": {},
   "cell_type": "markdown",
   "metadata": {},
   "source": [
    "# Save Char CNN config"
   ]
  },
  {
   "cell_type": "code",
   "execution_count": 25,
   "metadata": {},
   "outputs": [],
   "source": [
    "from models.char_cnn_zhang import CharCNNZhang"
   ]
  },
  {
   "cell_type": "code",
   "execution_count": 26,
   "metadata": {},
   "outputs": [],
   "source": [
    "char_cnn_config = {\n",
    "    \"input_size\": config[\"data\"][\"input_size\"],\n",
    "    \"embedding_size\": len(tk.word_index),\n",
    "    \"conv_layers\": config[\"char_cnn_zhang\"][\"conv_layers\"],\n",
    "    \"fc_layers\": config[\"char_cnn_zhang\"][\"fc_layers\"],\n",
    "    \"output_size\": config[\"char_cnn_zhang\"][\"output_size\"],\n",
    "    \"embedding_weights\": weights\n",
    "}"
   ]
  },
  {
   "cell_type": "code",
   "execution_count": 27,
   "metadata": {},
   "outputs": [
    {
     "data": {
      "text/plain": [
       "<keras.engine.functional.Functional at 0x7f43003318b0>"
      ]
     },
     "execution_count": 27,
     "metadata": {},
     "output_type": "execute_result"
    }
   ],
   "source": [
    "char_cnn = CharCNNZhang(**char_cnn_config)"
   ]
  },
  {
   "attachments": {},
   "cell_type": "markdown",
   "metadata": {},
   "source": [
    "# Build MNN-EM Model"
   ]
  },
  {
   "attachments": {},
   "cell_type": "markdown",
   "metadata": {},
   "source": [
    "![](../../assets/images/MNN_EM.png)"
   ]
  },
  {
   "cell_type": "code",
   "execution_count": 28,
   "metadata": {},
   "outputs": [],
   "source": [
    "from models.mnn_em import MNNEM\n",
    "from utils.eval import create_metrics"
   ]
  },
  {
   "cell_type": "code",
   "execution_count": 29,
   "metadata": {},
   "outputs": [],
   "source": [
    "head_config = {\n",
    "    \"img_input_size\": img_model.layers[-1].output_shape[1],\n",
    "    \"txt_input_size\": config[\"data\"][\"input_size\"],\n",
    "    \"txt_weights\": weights,\n",
    "    \"img_fc_layers\": config[\"mnn_em\"][\"img_fc_layers\"],\n",
    "    \"txt_fc_layers\": config[\"mnn_em\"][\"txt_fc_layers\"],\n",
    "    \"extended\": False,\n",
    "}"
   ]
  },
  {
   "cell_type": "code",
   "execution_count": 30,
   "metadata": {},
   "outputs": [],
   "source": [
    "mnn_em = MNNEM(\n",
    "    head_config=head_config,\n",
    "    char_cnn=char_cnn.model,\n",
    "    combined_fc_layers=config[\"mnn_em\"][\"combined_fc_layers\"],\n",
    "    learning_rate=config[\"mnn_em\"][\"training\"][\"learning_rate\"],\n",
    "    metrics=create_metrics(config[\"mnn_em\"][\"training\"][\"metrics\"]))"
   ]
  },
  {
   "cell_type": "code",
   "execution_count": 31,
   "metadata": {},
   "outputs": [
    {
     "name": "stdout",
     "output_type": "stream",
     "text": [
      "Model: \"model\"\n",
      "__________________________________________________________________________________________________\n",
      " Layer (type)                   Output Shape         Param #     Connected to                     \n",
      "==================================================================================================\n",
      " Image_Input (InputLayer)       [(None, 576)]        0           []                               \n",
      "                                                                                                  \n",
      " Text_Input (InputLayer)        [(None, 1014)]       0           []                               \n",
      "                                                                                                  \n",
      " MNN_EM_Head (Functional)       (None, 512)          17172930    ['Image_Input[0][0]',            \n",
      "                                                                  'Text_Input[0][0]']             \n",
      "|¯¯¯¯¯¯¯¯¯¯¯¯¯¯¯¯¯¯¯¯¯¯¯¯¯¯¯¯¯¯¯¯¯¯¯¯¯¯¯¯¯¯¯¯¯¯¯¯¯¯¯¯¯¯¯¯¯¯¯¯¯¯¯¯¯¯¯¯¯¯¯¯¯¯¯¯¯¯¯¯¯¯¯¯¯¯¯¯¯¯¯¯¯¯¯¯|\n",
      "| input_3 (InputLayer)         [(None, 1014)]       0           []                               |\n",
      "|                                                                                                |\n",
      "| input_2 (InputLayer)         [(None, 576)]        0           []                               |\n",
      "|                                                                                                |\n",
      "| Character_Level_CNN (Functiona  (None, 2048)      13430210    []                               |\n",
      "| l)                                                                                             |\n",
      "||¯¯¯¯¯¯¯¯¯¯¯¯¯¯¯¯¯¯¯¯¯¯¯¯¯¯¯¯¯¯¯¯¯¯¯¯¯¯¯¯¯¯¯¯¯¯¯¯¯¯¯¯¯¯¯¯¯¯¯¯¯¯¯¯¯¯¯¯¯¯¯¯¯¯¯¯¯¯¯¯¯¯¯¯¯¯¯¯¯¯¯¯¯¯||\n",
      "|| sent_input (InputLayer)    [(None, 1014)]       0           []                               ||\n",
      "||                                                                                              ||\n",
      "|| embedding (Embedding)      (None, 1014, 65)     4290        []                               ||\n",
      "||                                                                                              ||\n",
      "|| conv1d (Conv1D)            (None, 1008, 256)    116736      []                               ||\n",
      "||                                                                                              ||\n",
      "|| activation (Activation)    (None, 1008, 256)    0           []                               ||\n",
      "||                                                                                              ||\n",
      "|| max_pooling1d (MaxPooling1D)  (None, 336, 256)  0           []                               ||\n",
      "||                                                                                              ||\n",
      "|| conv1d_1 (Conv1D)          (None, 330, 256)     459008      []                               ||\n",
      "||                                                                                              ||\n",
      "|| activation_1 (Activation)  (None, 330, 256)     0           []                               ||\n",
      "||                                                                                              ||\n",
      "|| max_pooling1d_1 (MaxPooling1D)  (None, 110, 256)  0         []                               ||\n",
      "||                                                                                              ||\n",
      "|| conv1d_2 (Conv1D)          (None, 108, 256)     196864      []                               ||\n",
      "||                                                                                              ||\n",
      "|| activation_2 (Activation)  (None, 108, 256)     0           []                               ||\n",
      "||                                                                                              ||\n",
      "|| conv1d_3 (Conv1D)          (None, 106, 256)     196864      []                               ||\n",
      "||                                                                                              ||\n",
      "|| activation_3 (Activation)  (None, 106, 256)     0           []                               ||\n",
      "||                                                                                              ||\n",
      "|| conv1d_4 (Conv1D)          (None, 104, 256)     196864      []                               ||\n",
      "||                                                                                              ||\n",
      "|| activation_4 (Activation)  (None, 104, 256)     0           []                               ||\n",
      "||                                                                                              ||\n",
      "|| conv1d_5 (Conv1D)          (None, 102, 256)     196864      []                               ||\n",
      "||                                                                                              ||\n",
      "|| activation_5 (Activation)  (None, 102, 256)     0           []                               ||\n",
      "||                                                                                              ||\n",
      "|| max_pooling1d_2 (MaxPooling1D)  (None, 34, 256)  0          []                               ||\n",
      "||                                                                                              ||\n",
      "|| flatten (Flatten)          (None, 8704)         0           []                               ||\n",
      "||                                                                                              ||\n",
      "|| dense (Dense)              (None, 1024)         8913920     []                               ||\n",
      "||                                                                                              ||\n",
      "|| dense_1 (Dense)            (None, 1024)         1049600     []                               ||\n",
      "||                                                                                              ||\n",
      "|| dense_2 (Dense)            (None, 2048)         2099200     []                               ||\n",
      "|¯¯¯¯¯¯¯¯¯¯¯¯¯¯¯¯¯¯¯¯¯¯¯¯¯¯¯¯¯¯¯¯¯¯¯¯¯¯¯¯¯¯¯¯¯¯¯¯¯¯¯¯¯¯¯¯¯¯¯¯¯¯¯¯¯¯¯¯¯¯¯¯¯¯¯¯¯¯¯¯¯¯¯¯¯¯¯¯¯¯¯¯¯¯¯¯|\n",
      "| Image_FC_1 (Dense)           (None, 1024)         590848      []                               |\n",
      "|                                                                                                |\n",
      "| Text_FC_1 (Dense)            (None, 1024)         2098176     []                               |\n",
      "|                                                                                                |\n",
      "| Image_FC_last (Dense)        (None, 512)          524800      []                               |\n",
      "|                                                                                                |\n",
      "| Text_FC_last (Dense)         (None, 512)          524800      []                               |\n",
      "|                                                                                                |\n",
      "| Image_Batch_Normalization (Bat  (None, 512)       2048        []                               |\n",
      "| chNormalization)                                                                               |\n",
      "|                                                                                                |\n",
      "| Text_Batch_Normalization (Batc  (None, 512)       2048        []                               |\n",
      "| hNormalization)                                                                                |\n",
      "|                                                                                                |\n",
      "| Element-wise_Multiplication (M  (None, 512)       0           []                               |\n",
      "| ultiply)                                                                                       |\n",
      "¯¯¯¯¯¯¯¯¯¯¯¯¯¯¯¯¯¯¯¯¯¯¯¯¯¯¯¯¯¯¯¯¯¯¯¯¯¯¯¯¯¯¯¯¯¯¯¯¯¯¯¯¯¯¯¯¯¯¯¯¯¯¯¯¯¯¯¯¯¯¯¯¯¯¯¯¯¯¯¯¯¯¯¯¯¯¯¯¯¯¯¯¯¯¯¯¯¯\n",
      " Combined_FC_1 (Dense)          (None, 512)          262656      ['MNN_EM_Head[0][0]']            \n",
      "                                                                                                  \n",
      " Combined_FC_2 (Dense)          (None, 256)          131328      ['Combined_FC_1[0][0]']          \n",
      "                                                                                                  \n",
      " Sigmoid (Dense)                (None, 1)            257         ['Combined_FC_2[0][0]']          \n",
      "                                                                                                  \n",
      "==================================================================================================\n",
      "Total params: 17,567,171\n",
      "Trainable params: 17,565,123\n",
      "Non-trainable params: 2,048\n",
      "__________________________________________________________________________________________________\n"
     ]
    }
   ],
   "source": [
    "mnn_em.model.summary(expand_nested=True)"
   ]
  },
  {
   "cell_type": "code",
   "execution_count": 32,
   "metadata": {},
   "outputs": [
    {
     "data": {
      "image/png": "[encoded data removed]",
      "text/plain": [
       "<IPython.core.display.Image object>"
      ]
     },
     "execution_count": 32,
     "metadata": {},
     "output_type": "execute_result"
    }
   ],
   "source": [
    "tf.keras.utils.plot_model(mnn_em.model, rankdir=\"TB\", show_layer_activations=True, show_shapes=True)"
   ]
  },
  {
   "attachments": {},
   "cell_type": "markdown",
   "metadata": {},
   "source": [
    "# Callbacks"
   ]
  },
  {
   "cell_type": "code",
   "execution_count": 33,
   "metadata": {},
   "outputs": [],
   "source": [
    "from utils.eval import create_callbacks"
   ]
  },
  {
   "cell_type": "code",
   "execution_count": 34,
   "metadata": {},
   "outputs": [],
   "source": [
    "log_dir = config[\"ext_mnn_em\"][\"training\"][\"log_dir\"]\n",
    "model_name = config[\"ext_mnn_em\"][\"name\"]\n",
    "optimizer_name = config[\"ext_mnn_em\"][\"training\"][\"optimizer\"]\n",
    "learning_rate = config[\"ext_mnn_em\"][\"training\"][\"learning_rate\"]"
   ]
  },
  {
   "cell_type": "code",
   "execution_count": 35,
   "metadata": {},
   "outputs": [],
   "source": [
    "callbacks = create_callbacks(\n",
    "    callbacks_list=config[\"mnn_em\"][\"training\"][\"callbacks\"],\n",
    "    log_dir=log_dir,\n",
    "    model_name=model_name,\n",
    "    img_model_name=img_model.name,\n",
    "    optimizer_name=optimizer_name,\n",
    "    learning_rate=learning_rate,\n",
    "    cls=config[\"data\"][\"cls\"]\n",
    "    )"
   ]
  },
  {
   "attachments": {},
   "cell_type": "markdown",
   "metadata": {},
   "source": [
    "# Training"
   ]
  },
  {
   "cell_type": "code",
   "execution_count": null,
   "metadata": {},
   "outputs": [],
   "source": [
    "history = mnn_em.model.fit(\n",
    "    x=[img_train, text_train],\n",
    "    y=labels_train,\n",
    "    epochs=config[\"mnn_em\"][\"training\"][\"epochs\"],\n",
    "    validation_split=config[\"mnn_em\"][\"training\"][\"validation_split\"],\n",
    "    batch_size=config[\"mnn_em\"][\"training\"][\"batch_size\"], \n",
    "callbacks=callbacks)\n"
   ]
  },
  {
   "attachments": {},
   "cell_type": "markdown",
   "metadata": {},
   "source": [
    "# Evaluation"
   ]
  },
  {
   "attachments": {},
   "cell_type": "markdown",
   "metadata": {},
   "source": [
    "## Plot loss and metrics"
   ]
  },
  {
   "cell_type": "code",
   "execution_count": null,
   "metadata": {},
   "outputs": [],
   "source": [
    "from utils.eval import plot_metrics"
   ]
  },
  {
   "cell_type": "code",
   "execution_count": null,
   "metadata": {},
   "outputs": [],
   "source": [
    "plot_metrics(history.history, config[\"mnn_em\"][\"training\"][\"metrics\"], model_name, img_model.name, optimizer_name, learning_rate, config[\"data\"][\"cls\"])"
   ]
  },
  {
   "attachments": {},
   "cell_type": "markdown",
   "metadata": {},
   "source": [
    "## Evaluate model and save metrics"
   ]
  },
  {
   "cell_type": "code",
   "execution_count": null,
   "metadata": {},
   "outputs": [],
   "source": [
    "from utils.eval import evaluate"
   ]
  },
  {
   "cell_type": "code",
   "execution_count": null,
   "metadata": {},
   "outputs": [],
   "source": [
    "evaluate(mnn_em.model, [img_test, text_test], labels_test, log_dir, model_name, img_model.name, optimizer_name, learning_rate, config[\"data\"][\"cls\"])"
   ]
  }
 ],
 "metadata": {
  "kernelspec": {
   "display_name": "tf2.8",
   "language": "python",
   "name": "python3"
  },
  "language_info": {
   "codemirror_mode": {
    "name": "ipython",
    "version": 3
   },
   "file_extension": ".py",
   "mimetype": "text/x-python",
   "name": "python",
   "nbconvert_exporter": "python",
   "pygments_lexer": "ipython3",
   "version": "3.9.16"
  }
 },
 "nbformat": 4,
 "nbformat_minor": 4
}
