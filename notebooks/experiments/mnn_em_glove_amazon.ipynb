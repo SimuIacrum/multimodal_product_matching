{
 "cells": [
  {
   "cell_type": "markdown",
   "metadata": {},
   "source": [
    "# Setup"
   ]
  },
  {
   "cell_type": "code",
   "execution_count": 1,
   "metadata": {
    "scrolled": true
   },
   "outputs": [
    {
     "name": "stdout",
     "output_type": "stream",
     "text": [
      "Requirement already satisfied: tensorflow==2.8.* in /pfs/data5/home/es/es_es/es_kamait02/miniconda3/envs/tf2.8/lib/python3.9/site-packages (from -r ../../requirements.txt (line 1)) (2.8.4)\n",
      "Requirement already satisfied: tensorflow-addons==0.18.0 in /pfs/data5/home/es/es_es/es_kamait02/miniconda3/envs/tf2.8/lib/python3.9/site-packages (from -r ../../requirements.txt (line 2)) (0.18.0)\n",
      "Requirement already satisfied: wheel in /pfs/data5/home/es/es_es/es_kamait02/miniconda3/envs/tf2.8/lib/python3.9/site-packages (from -r ../../requirements.txt (line 3)) (0.40.0)\n",
      "Requirement already satisfied: pandas<2.0.0 in /pfs/data5/home/es/es_es/es_kamait02/miniconda3/envs/tf2.8/lib/python3.9/site-packages (from -r ../../requirements.txt (line 4)) (1.5.3)\n",
      "Requirement already satisfied: scikit-learn in /pfs/data5/home/es/es_es/es_kamait02/miniconda3/envs/tf2.8/lib/python3.9/site-packages (from -r ../../requirements.txt (line 5)) (1.2.2)\n",
      "Requirement already satisfied: scipy in /pfs/data5/home/es/es_es/es_kamait02/miniconda3/envs/tf2.8/lib/python3.9/site-packages (from -r ../../requirements.txt (line 6)) (1.10.1)\n",
      "Requirement already satisfied: matplotlib in /pfs/data5/home/es/es_es/es_kamait02/miniconda3/envs/tf2.8/lib/python3.9/site-packages (from -r ../../requirements.txt (line 7)) (3.7.1)\n",
      "Requirement already satisfied: tqdm in /pfs/data5/home/es/es_es/es_kamait02/miniconda3/envs/tf2.8/lib/python3.9/site-packages (from -r ../../requirements.txt (line 8)) (4.65.0)\n",
      "Requirement already satisfied: Pillow in /pfs/data5/home/es/es_es/es_kamait02/miniconda3/envs/tf2.8/lib/python3.9/site-packages (from -r ../../requirements.txt (line 9)) (9.5.0)\n",
      "Requirement already satisfied: kaggle in /pfs/data5/home/es/es_es/es_kamait02/miniconda3/envs/tf2.8/lib/python3.9/site-packages (from -r ../../requirements.txt (line 10)) (1.5.13)\n",
      "Requirement already satisfied: absl-py>=0.4.0 in /pfs/data5/home/es/es_es/es_kamait02/.local/lib/python3.9/site-packages (from tensorflow==2.8.*->-r ../../requirements.txt (line 1)) (1.4.0)\n",
      "Requirement already satisfied: astunparse>=1.6.0 in /pfs/data5/home/es/es_es/es_kamait02/.local/lib/python3.9/site-packages (from tensorflow==2.8.*->-r ../../requirements.txt (line 1)) (1.6.3)\n",
      "Requirement already satisfied: flatbuffers>=1.12 in /pfs/data5/home/es/es_es/es_kamait02/.local/lib/python3.9/site-packages (from tensorflow==2.8.*->-r ../../requirements.txt (line 1)) (23.5.26)\n",
      "Requirement already satisfied: gast>=0.2.1 in /pfs/data5/home/es/es_es/es_kamait02/.local/lib/python3.9/site-packages (from tensorflow==2.8.*->-r ../../requirements.txt (line 1)) (0.5.4)\n",
      "Requirement already satisfied: google-pasta>=0.1.1 in /pfs/data5/home/es/es_es/es_kamait02/.local/lib/python3.9/site-packages (from tensorflow==2.8.*->-r ../../requirements.txt (line 1)) (0.2.0)\n",
      "Requirement already satisfied: h5py>=2.9.0 in /pfs/data5/home/es/es_es/es_kamait02/miniconda3/envs/tf2.8/lib/python3.9/site-packages (from tensorflow==2.8.*->-r ../../requirements.txt (line 1)) (3.8.0)\n",
      "Requirement already satisfied: keras-preprocessing>=1.1.1 in /pfs/data5/home/es/es_es/es_kamait02/.local/lib/python3.9/site-packages (from tensorflow==2.8.*->-r ../../requirements.txt (line 1)) (1.1.2)\n",
      "Requirement already satisfied: libclang>=9.0.1 in /pfs/data5/home/es/es_es/es_kamait02/.local/lib/python3.9/site-packages (from tensorflow==2.8.*->-r ../../requirements.txt (line 1)) (16.0.0)\n",
      "Requirement already satisfied: numpy>=1.20 in /pfs/data5/home/es/es_es/es_kamait02/miniconda3/envs/tf2.8/lib/python3.9/site-packages (from tensorflow==2.8.*->-r ../../requirements.txt (line 1)) (1.24.3)\n",
      "Requirement already satisfied: opt-einsum>=2.3.2 in /pfs/data5/home/es/es_es/es_kamait02/miniconda3/envs/tf2.8/lib/python3.9/site-packages (from tensorflow==2.8.*->-r ../../requirements.txt (line 1)) (3.3.0)\n",
      "Requirement already satisfied: protobuf<3.20,>=3.9.2 in /pfs/data5/home/es/es_es/es_kamait02/.local/lib/python3.9/site-packages (from tensorflow==2.8.*->-r ../../requirements.txt (line 1)) (3.19.6)\n",
      "Requirement already satisfied: setuptools in /pfs/data5/home/es/es_es/es_kamait02/miniconda3/envs/tf2.8/lib/python3.9/site-packages (from tensorflow==2.8.*->-r ../../requirements.txt (line 1)) (67.8.0)\n",
      "Requirement already satisfied: six>=1.12.0 in /pfs/data5/home/es/es_es/es_kamait02/miniconda3/envs/tf2.8/lib/python3.9/site-packages (from tensorflow==2.8.*->-r ../../requirements.txt (line 1)) (1.16.0)\n",
      "Requirement already satisfied: termcolor>=1.1.0 in /pfs/data5/home/es/es_es/es_kamait02/.local/lib/python3.9/site-packages (from tensorflow==2.8.*->-r ../../requirements.txt (line 1)) (2.3.0)\n",
      "Requirement already satisfied: typing-extensions>=3.6.6 in /pfs/data5/home/es/es_es/es_kamait02/miniconda3/envs/tf2.8/lib/python3.9/site-packages (from tensorflow==2.8.*->-r ../../requirements.txt (line 1)) (4.6.3)\n",
      "Requirement already satisfied: wrapt>=1.11.0 in /pfs/data5/home/es/es_es/es_kamait02/.local/lib/python3.9/site-packages (from tensorflow==2.8.*->-r ../../requirements.txt (line 1)) (1.15.0)\n",
      "Requirement already satisfied: tensorboard<2.9,>=2.8 in /pfs/data5/home/es/es_es/es_kamait02/.local/lib/python3.9/site-packages (from tensorflow==2.8.*->-r ../../requirements.txt (line 1)) (2.8.0)\n",
      "Requirement already satisfied: tensorflow-estimator<2.9,>=2.8 in /pfs/data5/home/es/es_es/es_kamait02/.local/lib/python3.9/site-packages (from tensorflow==2.8.*->-r ../../requirements.txt (line 1)) (2.8.0)\n",
      "Requirement already satisfied: keras<2.9,>=2.8.0rc0 in /pfs/data5/home/es/es_es/es_kamait02/.local/lib/python3.9/site-packages (from tensorflow==2.8.*->-r ../../requirements.txt (line 1)) (2.8.0)\n",
      "Requirement already satisfied: tensorflow-io-gcs-filesystem>=0.23.1 in /pfs/data5/home/es/es_es/es_kamait02/.local/lib/python3.9/site-packages (from tensorflow==2.8.*->-r ../../requirements.txt (line 1)) (0.32.0)\n",
      "Requirement already satisfied: grpcio<2.0,>=1.24.3 in /pfs/data5/home/es/es_es/es_kamait02/.local/lib/python3.9/site-packages (from tensorflow==2.8.*->-r ../../requirements.txt (line 1)) (1.54.2)\n",
      "Requirement already satisfied: packaging in /pfs/data5/home/es/es_es/es_kamait02/miniconda3/envs/tf2.8/lib/python3.9/site-packages (from tensorflow-addons==0.18.0->-r ../../requirements.txt (line 2)) (23.1)\n",
      "Requirement already satisfied: typeguard>=2.7 in /pfs/data5/home/es/es_es/es_kamait02/.local/lib/python3.9/site-packages (from tensorflow-addons==0.18.0->-r ../../requirements.txt (line 2)) (4.0.0)\n",
      "Requirement already satisfied: python-dateutil>=2.8.1 in /pfs/data5/home/es/es_es/es_kamait02/miniconda3/envs/tf2.8/lib/python3.9/site-packages (from pandas<2.0.0->-r ../../requirements.txt (line 4)) (2.8.2)\n",
      "Requirement already satisfied: pytz>=2020.1 in /pfs/data5/home/es/es_es/es_kamait02/miniconda3/envs/tf2.8/lib/python3.9/site-packages (from pandas<2.0.0->-r ../../requirements.txt (line 4)) (2023.3)\n",
      "Requirement already satisfied: joblib>=1.1.1 in /pfs/data5/home/es/es_es/es_kamait02/.local/lib/python3.9/site-packages (from scikit-learn->-r ../../requirements.txt (line 5)) (1.2.0)\n",
      "Requirement already satisfied: threadpoolctl>=2.0.0 in /pfs/data5/home/es/es_es/es_kamait02/.local/lib/python3.9/site-packages (from scikit-learn->-r ../../requirements.txt (line 5)) (3.1.0)\n",
      "Requirement already satisfied: contourpy>=1.0.1 in /pfs/data5/home/es/es_es/es_kamait02/miniconda3/envs/tf2.8/lib/python3.9/site-packages (from matplotlib->-r ../../requirements.txt (line 7)) (1.0.7)\n",
      "Requirement already satisfied: cycler>=0.10 in /pfs/data5/home/es/es_es/es_kamait02/.local/lib/python3.9/site-packages (from matplotlib->-r ../../requirements.txt (line 7)) (0.11.0)\n",
      "Requirement already satisfied: fonttools>=4.22.0 in /pfs/data5/home/es/es_es/es_kamait02/.local/lib/python3.9/site-packages (from matplotlib->-r ../../requirements.txt (line 7)) (4.40.0)\n",
      "Requirement already satisfied: kiwisolver>=1.0.1 in /pfs/data5/home/es/es_es/es_kamait02/.local/lib/python3.9/site-packages (from matplotlib->-r ../../requirements.txt (line 7)) (1.4.4)\n",
      "Requirement already satisfied: pyparsing>=2.3.1 in /pfs/data5/home/es/es_es/es_kamait02/.local/lib/python3.9/site-packages (from matplotlib->-r ../../requirements.txt (line 7)) (3.0.9)\n",
      "Requirement already satisfied: importlib-resources>=3.2.0 in /pfs/data5/home/es/es_es/es_kamait02/.local/lib/python3.9/site-packages (from matplotlib->-r ../../requirements.txt (line 7)) (5.12.0)\n",
      "Requirement already satisfied: certifi in /pfs/data5/home/es/es_es/es_kamait02/.local/lib/python3.9/site-packages (from kaggle->-r ../../requirements.txt (line 10)) (2023.5.7)\n",
      "Requirement already satisfied: requests in /pfs/data5/home/es/es_es/es_kamait02/.local/lib/python3.9/site-packages (from kaggle->-r ../../requirements.txt (line 10)) (2.31.0)\n",
      "Requirement already satisfied: python-slugify in /pfs/data5/home/es/es_es/es_kamait02/.local/lib/python3.9/site-packages (from kaggle->-r ../../requirements.txt (line 10)) (8.0.1)\n",
      "Requirement already satisfied: urllib3 in /pfs/data5/home/es/es_es/es_kamait02/.local/lib/python3.9/site-packages (from kaggle->-r ../../requirements.txt (line 10)) (1.26.16)\n",
      "Requirement already satisfied: zipp>=3.1.0 in /pfs/data5/home/es/es_es/es_kamait02/miniconda3/envs/tf2.8/lib/python3.9/site-packages (from importlib-resources>=3.2.0->matplotlib->-r ../../requirements.txt (line 7)) (3.15.0)\n",
      "Requirement already satisfied: google-auth<3,>=1.6.3 in /pfs/data5/home/es/es_es/es_kamait02/miniconda3/envs/tf2.8/lib/python3.9/site-packages (from tensorboard<2.9,>=2.8->tensorflow==2.8.*->-r ../../requirements.txt (line 1)) (2.19.1)\n",
      "Requirement already satisfied: google-auth-oauthlib<0.5,>=0.4.1 in /pfs/data5/home/es/es_es/es_kamait02/miniconda3/envs/tf2.8/lib/python3.9/site-packages (from tensorboard<2.9,>=2.8->tensorflow==2.8.*->-r ../../requirements.txt (line 1)) (0.4.6)\n",
      "Requirement already satisfied: markdown>=2.6.8 in /pfs/data5/home/es/es_es/es_kamait02/miniconda3/envs/tf2.8/lib/python3.9/site-packages (from tensorboard<2.9,>=2.8->tensorflow==2.8.*->-r ../../requirements.txt (line 1)) (3.4.3)\n",
      "Requirement already satisfied: tensorboard-data-server<0.7.0,>=0.6.0 in /pfs/data5/home/es/es_es/es_kamait02/.local/lib/python3.9/site-packages (from tensorboard<2.9,>=2.8->tensorflow==2.8.*->-r ../../requirements.txt (line 1)) (0.6.1)\n",
      "Requirement already satisfied: tensorboard-plugin-wit>=1.6.0 in /pfs/data5/home/es/es_es/es_kamait02/.local/lib/python3.9/site-packages (from tensorboard<2.9,>=2.8->tensorflow==2.8.*->-r ../../requirements.txt (line 1)) (1.8.1)\n",
      "Requirement already satisfied: werkzeug>=0.11.15 in /pfs/data5/home/es/es_es/es_kamait02/.local/lib/python3.9/site-packages (from tensorboard<2.9,>=2.8->tensorflow==2.8.*->-r ../../requirements.txt (line 1)) (2.3.6)\n",
      "Requirement already satisfied: charset-normalizer<4,>=2 in /pfs/data5/home/es/es_es/es_kamait02/.local/lib/python3.9/site-packages (from requests->kaggle->-r ../../requirements.txt (line 10)) (3.1.0)\n",
      "Requirement already satisfied: idna<4,>=2.5 in /pfs/data5/home/es/es_es/es_kamait02/.local/lib/python3.9/site-packages (from requests->kaggle->-r ../../requirements.txt (line 10)) (3.4)\n",
      "Requirement already satisfied: importlib-metadata>=3.6 in /pfs/data5/home/es/es_es/es_kamait02/miniconda3/envs/tf2.8/lib/python3.9/site-packages (from typeguard>=2.7->tensorflow-addons==0.18.0->-r ../../requirements.txt (line 2)) (6.6.0)\n",
      "Requirement already satisfied: text-unidecode>=1.3 in /pfs/data5/home/es/es_es/es_kamait02/miniconda3/envs/tf2.8/lib/python3.9/site-packages (from python-slugify->kaggle->-r ../../requirements.txt (line 10)) (1.3)\n",
      "Requirement already satisfied: cachetools<6.0,>=2.0.0 in /pfs/data5/home/es/es_es/es_kamait02/.local/lib/python3.9/site-packages (from google-auth<3,>=1.6.3->tensorboard<2.9,>=2.8->tensorflow==2.8.*->-r ../../requirements.txt (line 1)) (5.3.1)\n",
      "Requirement already satisfied: pyasn1-modules>=0.2.1 in /pfs/data5/home/es/es_es/es_kamait02/.local/lib/python3.9/site-packages (from google-auth<3,>=1.6.3->tensorboard<2.9,>=2.8->tensorflow==2.8.*->-r ../../requirements.txt (line 1)) (0.3.0)\n",
      "Requirement already satisfied: rsa<5,>=3.1.4 in /pfs/data5/home/es/es_es/es_kamait02/.local/lib/python3.9/site-packages (from google-auth<3,>=1.6.3->tensorboard<2.9,>=2.8->tensorflow==2.8.*->-r ../../requirements.txt (line 1)) (4.9)\n",
      "Requirement already satisfied: requests-oauthlib>=0.7.0 in /pfs/data5/home/es/es_es/es_kamait02/miniconda3/envs/tf2.8/lib/python3.9/site-packages (from google-auth-oauthlib<0.5,>=0.4.1->tensorboard<2.9,>=2.8->tensorflow==2.8.*->-r ../../requirements.txt (line 1)) (1.3.1)\n",
      "Requirement already satisfied: MarkupSafe>=2.1.1 in /pfs/data5/home/es/es_es/es_kamait02/.local/lib/python3.9/site-packages (from werkzeug>=0.11.15->tensorboard<2.9,>=2.8->tensorflow==2.8.*->-r ../../requirements.txt (line 1)) (2.1.3)\n",
      "Requirement already satisfied: pyasn1<0.6.0,>=0.4.6 in /pfs/data5/home/es/es_es/es_kamait02/.local/lib/python3.9/site-packages (from pyasn1-modules>=0.2.1->google-auth<3,>=1.6.3->tensorboard<2.9,>=2.8->tensorflow==2.8.*->-r ../../requirements.txt (line 1)) (0.5.0)\n",
      "Requirement already satisfied: oauthlib>=3.0.0 in /pfs/data5/home/es/es_es/es_kamait02/.local/lib/python3.9/site-packages (from requests-oauthlib>=0.7.0->google-auth-oauthlib<0.5,>=0.4.1->tensorboard<2.9,>=2.8->tensorflow==2.8.*->-r ../../requirements.txt (line 1)) (3.2.2)\n",
      "Note: you may need to restart the kernel to use updated packages.\n"
     ]
    }
   ],
   "source": [
    "pip install -r ../../requirements.txt"
   ]
  },
  {
   "cell_type": "code",
   "execution_count": 2,
   "metadata": {},
   "outputs": [],
   "source": [
    "import os\n",
    "\n",
    "os.environ[\"CUDA_DEVICE_ORDER\"] = \"PCI_BUS_ID\"\n",
    "os.environ[\"CUDA_VISIBLE_DEVICES\"] = \"0\"\n",
    "os.environ[\"TF_FORCE_GPU_ALLOW_GROWTH\"] = \"true\""
   ]
  },
  {
   "cell_type": "code",
   "execution_count": 3,
   "metadata": {},
   "outputs": [],
   "source": [
    "# Add directory above current directory to path\n",
    "import sys\n",
    "\n",
    "sys.path.insert(0, '../..')"
   ]
  },
  {
   "cell_type": "code",
   "execution_count": 5,
   "metadata": {},
   "outputs": [],
   "source": [
    "import tensorflow as tf\n",
    "import pandas as pd\n",
    "import numpy as np\n",
    "import json\n",
    "from utils.text_processing import CharTokenizer"
   ]
  },
  {
   "cell_type": "code",
   "execution_count": 6,
   "metadata": {},
   "outputs": [
    {
     "name": "stderr",
     "output_type": "stream",
     "text": [
      "2023-06-14 13:34:26.451880: I tensorflow/core/platform/cpu_feature_guard.cc:151] This TensorFlow binary is optimized with oneAPI Deep Neural Network Library (oneDNN) to use the following CPU instructions in performance-critical operations:  AVX2 AVX512F FMA\n",
      "To enable them in other operations, rebuild TensorFlow with the appropriate compiler flags.\n",
      "2023-06-14 13:34:26.987300: W tensorflow/core/common_runtime/gpu/gpu_bfc_allocator.cc:39] Overriding allow_growth setting because the TF_FORCE_GPU_ALLOW_GROWTH environment variable is set. Original config value was 0.\n",
      "2023-06-14 13:34:26.987351: I tensorflow/core/common_runtime/gpu/gpu_device.cc:1525] Created device /job:localhost/replica:0/task:0/device:GPU:0 with 30945 MB memory:  -> device: 0, name: Tesla V100-SXM2-32GB, pci bus id: 0000:b2:00.0, compute capability: 7.0\n"
     ]
    }
   ],
   "source": [
    "if tf.config.list_physical_devices('GPU'):\n",
    "    tf.config.experimental.get_memory_info(\"GPU:0\")"
   ]
  },
  {
   "cell_type": "code",
   "execution_count": 7,
   "metadata": {},
   "outputs": [],
   "source": [
    "config = json.load(open(\"./configs/mnn_em_glove.6B.300d_amazon.json\"))"
   ]
  },
  {
   "cell_type": "markdown",
   "metadata": {},
   "source": [
    "# Loading data"
   ]
  },
  {
   "cell_type": "code",
   "execution_count": 8,
   "metadata": {},
   "outputs": [],
   "source": [
    "from data_loader.abo import ABO"
   ]
  },
  {
   "cell_type": "code",
   "execution_count": 9,
   "metadata": {},
   "outputs": [
    {
     "name": "stdout",
     "output_type": "stream",
     "text": [
      "Loading images...\n",
      "Loading texts...\n",
      "Importing listings CSV...\n",
      "Creating false samples/complement...\n",
      "Merging ground truth and complement...\n",
      "Concatenating attributes into description columns...\n",
      "Finishing up...\n",
      "Exporting to CSV...\n",
      "Data processing complete\n"
     ]
    },
    {
     "data": {
      "text/html": [
       "<div>\n",
       "<style scoped>\n",
       "    .dataframe tbody tr th:only-of-type {\n",
       "        vertical-align: middle;\n",
       "    }\n",
       "\n",
       "    .dataframe tbody tr th {\n",
       "        vertical-align: top;\n",
       "    }\n",
       "\n",
       "    .dataframe thead th {\n",
       "        text-align: right;\n",
       "    }\n",
       "</style>\n",
       "<table border=\"1\" class=\"dataframe\">\n",
       "  <thead>\n",
       "    <tr style=\"text-align: right;\">\n",
       "      <th></th>\n",
       "      <th>description</th>\n",
       "      <th>path</th>\n",
       "      <th>product_type</th>\n",
       "      <th>label</th>\n",
       "    </tr>\n",
       "  </thead>\n",
       "  <tbody>\n",
       "    <tr>\n",
       "      <th>0</th>\n",
       "      <td>mobile coverb081hp8fqnamazon brand - solimo de...</td>\n",
       "      <td>e0/e0dcad1a.jpg</td>\n",
       "      <td>CELLULAR_PHONE_CASE</td>\n",
       "      <td>1</td>\n",
       "    </tr>\n",
       "    <tr>\n",
       "      <th>1</th>\n",
       "      <td>kitchen containers for storageb0853xbhzmamazon...</td>\n",
       "      <td>b6/b608469a.jpg</td>\n",
       "      <td>HOME</td>\n",
       "      <td>0</td>\n",
       "    </tr>\n",
       "    <tr>\n",
       "      <th>2</th>\n",
       "      <td>mobile coverb07th2zwqsamazon brand - solimo de...</td>\n",
       "      <td>d6/d651034f.jpg</td>\n",
       "      <td>CELLULAR_PHONE_CASE</td>\n",
       "      <td>1</td>\n",
       "    </tr>\n",
       "    <tr>\n",
       "      <th>3</th>\n",
       "      <td>ac quiltb076bsftvwamazon brand - solimo arenda...</td>\n",
       "      <td>d5/d58e474d.jpg</td>\n",
       "      <td>HOME_BED_AND_BATH</td>\n",
       "      <td>1</td>\n",
       "    </tr>\n",
       "    <tr>\n",
       "      <th>4</th>\n",
       "      <td>mobile coverb07tgzz6v3amazon brand - solimo de...</td>\n",
       "      <td>14/1485f3b0.jpg</td>\n",
       "      <td>CELLULAR_PHONE_CASE</td>\n",
       "      <td>1</td>\n",
       "    </tr>\n",
       "    <tr>\n",
       "      <th>...</th>\n",
       "      <td>...</td>\n",
       "      <td>...</td>\n",
       "      <td>...</td>\n",
       "      <td>...</td>\n",
       "    </tr>\n",
       "    <tr>\n",
       "      <th>168160</th>\n",
       "      <td>mobile coverb07sykf3r4amazon brand - solimo de...</td>\n",
       "      <td>de/de494dfb.jpg</td>\n",
       "      <td>CELLULAR_PHONE_CASE</td>\n",
       "      <td>0</td>\n",
       "    </tr>\n",
       "    <tr>\n",
       "      <th>168161</th>\n",
       "      <td>metal metal shelving shelves garage shelves me...</td>\n",
       "      <td>92/9228a6f6.jpg</td>\n",
       "      <td>CELLULAR_PHONE_CASE</td>\n",
       "      <td>0</td>\n",
       "    </tr>\n",
       "    <tr>\n",
       "      <th>168162</th>\n",
       "      <td>mobile coverb07th3bq6vamazon brand - solimo de...</td>\n",
       "      <td>28/28dea160.jpg</td>\n",
       "      <td>CELLULAR_PHONE_CASE</td>\n",
       "      <td>1</td>\n",
       "    </tr>\n",
       "    <tr>\n",
       "      <th>168163</th>\n",
       "      <td>formal shoes for mens leatherb075t4vs6vamazon ...</td>\n",
       "      <td>fe/feba85ca.jpg</td>\n",
       "      <td>SHOES</td>\n",
       "      <td>1</td>\n",
       "    </tr>\n",
       "    <tr>\n",
       "      <th>168164</th>\n",
       "      <td>back coverb08569swpramazon brand - solimo desi...</td>\n",
       "      <td>a6/a6b02440.jpg</td>\n",
       "      <td>CELLULAR_PHONE_CASE</td>\n",
       "      <td>0</td>\n",
       "    </tr>\n",
       "  </tbody>\n",
       "</table>\n",
       "<p>168165 rows × 4 columns</p>\n",
       "</div>"
      ],
      "text/plain": [
       "                                              description             path  \\\n",
       "0       mobile coverb081hp8fqnamazon brand - solimo de...  e0/e0dcad1a.jpg   \n",
       "1       kitchen containers for storageb0853xbhzmamazon...  b6/b608469a.jpg   \n",
       "2       mobile coverb07th2zwqsamazon brand - solimo de...  d6/d651034f.jpg   \n",
       "3       ac quiltb076bsftvwamazon brand - solimo arenda...  d5/d58e474d.jpg   \n",
       "4       mobile coverb07tgzz6v3amazon brand - solimo de...  14/1485f3b0.jpg   \n",
       "...                                                   ...              ...   \n",
       "168160  mobile coverb07sykf3r4amazon brand - solimo de...  de/de494dfb.jpg   \n",
       "168161  metal metal shelving shelves garage shelves me...  92/9228a6f6.jpg   \n",
       "168162  mobile coverb07th3bq6vamazon brand - solimo de...  28/28dea160.jpg   \n",
       "168163  formal shoes for mens leatherb075t4vs6vamazon ...  fe/feba85ca.jpg   \n",
       "168164  back coverb08569swpramazon brand - solimo desi...  a6/a6b02440.jpg   \n",
       "\n",
       "               product_type  label  \n",
       "0       CELLULAR_PHONE_CASE      1  \n",
       "1                      HOME      0  \n",
       "2       CELLULAR_PHONE_CASE      1  \n",
       "3         HOME_BED_AND_BATH      1  \n",
       "4       CELLULAR_PHONE_CASE      1  \n",
       "...                     ...    ...  \n",
       "168160  CELLULAR_PHONE_CASE      0  \n",
       "168161  CELLULAR_PHONE_CASE      0  \n",
       "168162  CELLULAR_PHONE_CASE      1  \n",
       "168163                SHOES      1  \n",
       "168164  CELLULAR_PHONE_CASE      0  \n",
       "\n",
       "[168165 rows x 4 columns]"
      ]
     },
     "execution_count": 9,
     "metadata": {},
     "output_type": "execute_result"
    }
   ],
   "source": [
    "data = ABO(path=config[\"data\"][\"path\"],\n",
    "           download=False,\n",
    "           extract=False,\n",
    "           preprocess=True,\n",
    "           alt_augment=False,\n",
    "           random_deletion=False,\n",
    "           export_csv=True).data\n",
    "\n",
    "# data = pd.read_csv(os.path.join(config[\"data\"][\"path\"], \"data.csv\"))\n",
    "# data = data.drop({\"Unnamed: 0\"}, axis=1)\n",
    "\n",
    "data = data[['description', 'path', 'product_type', 'label']]\n",
    "# data = data.sample(10000)\n",
    "data"
   ]
  },
  {
   "cell_type": "code",
   "execution_count": 10,
   "metadata": {},
   "outputs": [],
   "source": [
    "img = data[[\"path\"]]  # two brackets for keeping the column name\n",
    "text = data[\"description\"]\n",
    "product_types = data[[\"product_type\"]]\n",
    "labels = data[[\"label\"]]"
   ]
  },
  {
   "attachments": {},
   "cell_type": "markdown",
   "metadata": {},
   "source": [
    "# Text processing"
   ]
  },
  {
   "cell_type": "markdown",
   "metadata": {},
   "source": [
    "This part is largely based off of https://keras.io/examples/nlp/pretrained_word_embeddings/"
   ]
  },
  {
   "cell_type": "markdown",
   "metadata": {},
   "source": [
    "GloVe Embeddings: https://nlp.stanford.edu/projects/glove/"
   ]
  },
  {
   "cell_type": "code",
   "execution_count": 11,
   "metadata": {},
   "outputs": [],
   "source": [
    "from tensorflow.keras.layers import TextVectorization\n",
    "\n",
    "vectorizer = TextVectorization(max_tokens=None, output_sequence_length=300)\n",
    "\n",
    "vectorizer.adapt(text)"
   ]
  },
  {
   "cell_type": "code",
   "execution_count": 12,
   "metadata": {},
   "outputs": [
    {
     "data": {
      "text/plain": [
       "(168165, 300)"
      ]
     },
     "execution_count": 12,
     "metadata": {},
     "output_type": "execute_result"
    }
   ],
   "source": [
    "text = vectorizer(text).numpy()\n",
    "text.shape"
   ]
  },
  {
   "cell_type": "code",
   "execution_count": 13,
   "metadata": {},
   "outputs": [
    {
     "data": {
      "text/plain": [
       "['',\n",
       " '[UNK]',\n",
       " 'mobile',\n",
       " 'back',\n",
       " 'brand',\n",
       " 'for',\n",
       " 'solimo',\n",
       " 'cover',\n",
       " 'case',\n",
       " 'designer']"
      ]
     },
     "execution_count": 13,
     "metadata": {},
     "output_type": "execute_result"
    }
   ],
   "source": [
    "voc = vectorizer.get_vocabulary()\n",
    "voc[:10]"
   ]
  },
  {
   "cell_type": "code",
   "execution_count": 14,
   "metadata": {},
   "outputs": [],
   "source": [
    "word_index = dict(zip(voc, range(len(voc))))"
   ]
  },
  {
   "cell_type": "code",
   "execution_count": 15,
   "metadata": {},
   "outputs": [
    {
     "name": "stdout",
     "output_type": "stream",
     "text": [
      "Found 400000 word vectors.\n"
     ]
    }
   ],
   "source": [
    "embeddings_index = {}\n",
    "with open(\"./glove.6B.300d.txt\") as f:\n",
    "    for line in f:\n",
    "        word, coefs = line.split(maxsplit=1)\n",
    "        coefs = np.fromstring(coefs, \"f\", sep=\" \")\n",
    "        embeddings_index[word] = coefs\n",
    "\n",
    "print(\"Found %s word vectors.\" % len(embeddings_index))"
   ]
  },
  {
   "cell_type": "code",
   "execution_count": 16,
   "metadata": {},
   "outputs": [
    {
     "name": "stdout",
     "output_type": "stream",
     "text": [
      "Converted 10305 words (153809 misses)\n"
     ]
    }
   ],
   "source": [
    "num_tokens = len(voc) + 2\n",
    "embedding_dim = 300\n",
    "hits = 0\n",
    "misses = 0\n",
    "\n",
    "# Prepare embedding matrix\n",
    "embedding_matrix = np.zeros((num_tokens, embedding_dim))\n",
    "for word, i in word_index.items():\n",
    "    embedding_vector = embeddings_index.get(word)\n",
    "    if embedding_vector is not None:\n",
    "        # Words not found in embedding index will be all-zeros.\n",
    "        # This includes the representation for \"padding\" and \"OOV\"\n",
    "        embedding_matrix[i] = embedding_vector\n",
    "        hits += 1\n",
    "    else:\n",
    "        misses += 1\n",
    "print(\"Converted %d words (%d misses)\" % (hits, misses))"
   ]
  },
  {
   "cell_type": "markdown",
   "metadata": {},
   "source": [
    "GloVe Embedding only converts less than 10% of data!"
   ]
  },
  {
   "cell_type": "markdown",
   "metadata": {},
   "source": [
    "# Image processing"
   ]
  },
  {
   "cell_type": "code",
   "execution_count": 17,
   "metadata": {},
   "outputs": [],
   "source": [
    "from utils.img_processing import load_img_model, create_embeddings_from"
   ]
  },
  {
   "cell_type": "code",
   "execution_count": 18,
   "metadata": {},
   "outputs": [
    {
     "name": "stdout",
     "output_type": "stream",
     "text": [
      "WARNING:tensorflow:`input_shape` is undefined or non-square, or `rows` is not 224. Weights for input shape (224, 224) will be loaded as the default.\n"
     ]
    },
    {
     "data": {
      "text/plain": [
       "(None, 576)"
      ]
     },
     "execution_count": 18,
     "metadata": {},
     "output_type": "execute_result"
    }
   ],
   "source": [
    "img_model = load_img_model(config[\"img_model\"])\n",
    "\n",
    "img_model.output_shape"
   ]
  },
  {
   "cell_type": "markdown",
   "metadata": {},
   "source": [
    "## Create image embeddings"
   ]
  },
  {
   "cell_type": "code",
   "execution_count": 19,
   "metadata": {},
   "outputs": [
    {
     "name": "stdout",
     "output_type": "stream",
     "text": [
      "Found 168165 validated image filenames.\n"
     ]
    },
    {
     "name": "stderr",
     "output_type": "stream",
     "text": [
      "2023-06-14 13:35:48.452420: I tensorflow/stream_executor/cuda/cuda_dnn.cc:368] Loaded cuDNN version 8700\n",
      "2023-06-14 13:35:55.206146: W tensorflow/core/kernels/gpu_utils.cc:50] Failed to allocate memory for convolution redzone checking; skipping this check. This is benign and only means that we won't check cudnn for out-of-bounds reads and writes. This message will only be printed once.\n"
     ]
    },
    {
     "name": "stdout",
     "output_type": "stream",
     "text": [
      "CPU times: user 4min 29s, sys: 2min 48s, total: 7min 17s\n",
      "Wall time: 12min 9s\n"
     ]
    }
   ],
   "source": [
    "%%time\n",
    "# Mobilenetv3small:\n",
    "# batch_size = 1024 -> 8 GB VRAM\n",
    "# batch_size = 2048 -> 16 GB VRAM\n",
    "# ...\n",
    "# Mobilenetv3large: twice as much as Mobilenetv3small\n",
    "\n",
    "img = create_embeddings_from(img_model,\n",
    "                             img,\n",
    "                             os.path.join(config[\"data\"][\"path\"],\n",
    "                                          \"images/small\"),\n",
    "                             batch_size=4096)"
   ]
  },
  {
   "cell_type": "code",
   "execution_count": 20,
   "metadata": {},
   "outputs": [
    {
     "data": {
      "text/plain": [
       "(168165, 576)"
      ]
     },
     "execution_count": 20,
     "metadata": {},
     "output_type": "execute_result"
    }
   ],
   "source": [
    "img.shape"
   ]
  },
  {
   "cell_type": "markdown",
   "metadata": {},
   "source": [
    "# Save embeddings"
   ]
  },
  {
   "cell_type": "code",
   "execution_count": 21,
   "metadata": {},
   "outputs": [],
   "source": [
    "save_path = os.path.join(config[\"data\"][\"path\"],\n",
    "                         f\"embeddings/glove/{img_model.name}\")"
   ]
  },
  {
   "cell_type": "code",
   "execution_count": 22,
   "metadata": {},
   "outputs": [],
   "source": [
    "os.makedirs(save_path, exist_ok=True)\n",
    "np.save(f\"{save_path}/img.npy\", img)\n",
    "np.save(f\"{save_path}/text.npy\", text)\n",
    "data.to_csv(f\"{save_path}/data.csv\")"
   ]
  },
  {
   "cell_type": "markdown",
   "metadata": {},
   "source": [
    "## Verify import"
   ]
  },
  {
   "cell_type": "code",
   "execution_count": 23,
   "metadata": {},
   "outputs": [
    {
     "data": {
      "text/html": [
       "<div>\n",
       "<style scoped>\n",
       "    .dataframe tbody tr th:only-of-type {\n",
       "        vertical-align: middle;\n",
       "    }\n",
       "\n",
       "    .dataframe tbody tr th {\n",
       "        vertical-align: top;\n",
       "    }\n",
       "\n",
       "    .dataframe thead th {\n",
       "        text-align: right;\n",
       "    }\n",
       "</style>\n",
       "<table border=\"1\" class=\"dataframe\">\n",
       "  <thead>\n",
       "    <tr style=\"text-align: right;\">\n",
       "      <th></th>\n",
       "      <th>description</th>\n",
       "      <th>path</th>\n",
       "      <th>product_type</th>\n",
       "      <th>label</th>\n",
       "    </tr>\n",
       "  </thead>\n",
       "  <tbody>\n",
       "    <tr>\n",
       "      <th>0</th>\n",
       "      <td>mobile coverb081hp8fqnamazon brand - solimo de...</td>\n",
       "      <td>e0/e0dcad1a.jpg</td>\n",
       "      <td>CELLULAR_PHONE_CASE</td>\n",
       "      <td>1</td>\n",
       "    </tr>\n",
       "    <tr>\n",
       "      <th>1</th>\n",
       "      <td>kitchen containers for storageb0853xbhzmamazon...</td>\n",
       "      <td>b6/b608469a.jpg</td>\n",
       "      <td>HOME</td>\n",
       "      <td>0</td>\n",
       "    </tr>\n",
       "    <tr>\n",
       "      <th>2</th>\n",
       "      <td>mobile coverb07th2zwqsamazon brand - solimo de...</td>\n",
       "      <td>d6/d651034f.jpg</td>\n",
       "      <td>CELLULAR_PHONE_CASE</td>\n",
       "      <td>1</td>\n",
       "    </tr>\n",
       "    <tr>\n",
       "      <th>3</th>\n",
       "      <td>ac quiltb076bsftvwamazon brand - solimo arenda...</td>\n",
       "      <td>d5/d58e474d.jpg</td>\n",
       "      <td>HOME_BED_AND_BATH</td>\n",
       "      <td>1</td>\n",
       "    </tr>\n",
       "    <tr>\n",
       "      <th>4</th>\n",
       "      <td>mobile coverb07tgzz6v3amazon brand - solimo de...</td>\n",
       "      <td>14/1485f3b0.jpg</td>\n",
       "      <td>CELLULAR_PHONE_CASE</td>\n",
       "      <td>1</td>\n",
       "    </tr>\n",
       "    <tr>\n",
       "      <th>...</th>\n",
       "      <td>...</td>\n",
       "      <td>...</td>\n",
       "      <td>...</td>\n",
       "      <td>...</td>\n",
       "    </tr>\n",
       "    <tr>\n",
       "      <th>168160</th>\n",
       "      <td>mobile coverb07sykf3r4amazon brand - solimo de...</td>\n",
       "      <td>de/de494dfb.jpg</td>\n",
       "      <td>CELLULAR_PHONE_CASE</td>\n",
       "      <td>0</td>\n",
       "    </tr>\n",
       "    <tr>\n",
       "      <th>168161</th>\n",
       "      <td>metal metal shelving shelves garage shelves me...</td>\n",
       "      <td>92/9228a6f6.jpg</td>\n",
       "      <td>CELLULAR_PHONE_CASE</td>\n",
       "      <td>0</td>\n",
       "    </tr>\n",
       "    <tr>\n",
       "      <th>168162</th>\n",
       "      <td>mobile coverb07th3bq6vamazon brand - solimo de...</td>\n",
       "      <td>28/28dea160.jpg</td>\n",
       "      <td>CELLULAR_PHONE_CASE</td>\n",
       "      <td>1</td>\n",
       "    </tr>\n",
       "    <tr>\n",
       "      <th>168163</th>\n",
       "      <td>formal shoes for mens leatherb075t4vs6vamazon ...</td>\n",
       "      <td>fe/feba85ca.jpg</td>\n",
       "      <td>SHOES</td>\n",
       "      <td>1</td>\n",
       "    </tr>\n",
       "    <tr>\n",
       "      <th>168164</th>\n",
       "      <td>back coverb08569swpramazon brand - solimo desi...</td>\n",
       "      <td>a6/a6b02440.jpg</td>\n",
       "      <td>CELLULAR_PHONE_CASE</td>\n",
       "      <td>0</td>\n",
       "    </tr>\n",
       "  </tbody>\n",
       "</table>\n",
       "<p>168165 rows × 4 columns</p>\n",
       "</div>"
      ],
      "text/plain": [
       "                                              description             path  \\\n",
       "0       mobile coverb081hp8fqnamazon brand - solimo de...  e0/e0dcad1a.jpg   \n",
       "1       kitchen containers for storageb0853xbhzmamazon...  b6/b608469a.jpg   \n",
       "2       mobile coverb07th2zwqsamazon brand - solimo de...  d6/d651034f.jpg   \n",
       "3       ac quiltb076bsftvwamazon brand - solimo arenda...  d5/d58e474d.jpg   \n",
       "4       mobile coverb07tgzz6v3amazon brand - solimo de...  14/1485f3b0.jpg   \n",
       "...                                                   ...              ...   \n",
       "168160  mobile coverb07sykf3r4amazon brand - solimo de...  de/de494dfb.jpg   \n",
       "168161  metal metal shelving shelves garage shelves me...  92/9228a6f6.jpg   \n",
       "168162  mobile coverb07th3bq6vamazon brand - solimo de...  28/28dea160.jpg   \n",
       "168163  formal shoes for mens leatherb075t4vs6vamazon ...  fe/feba85ca.jpg   \n",
       "168164  back coverb08569swpramazon brand - solimo desi...  a6/a6b02440.jpg   \n",
       "\n",
       "               product_type  label  \n",
       "0       CELLULAR_PHONE_CASE      1  \n",
       "1                      HOME      0  \n",
       "2       CELLULAR_PHONE_CASE      1  \n",
       "3         HOME_BED_AND_BATH      1  \n",
       "4       CELLULAR_PHONE_CASE      1  \n",
       "...                     ...    ...  \n",
       "168160  CELLULAR_PHONE_CASE      0  \n",
       "168161  CELLULAR_PHONE_CASE      0  \n",
       "168162  CELLULAR_PHONE_CASE      1  \n",
       "168163                SHOES      1  \n",
       "168164  CELLULAR_PHONE_CASE      0  \n",
       "\n",
       "[168165 rows x 4 columns]"
      ]
     },
     "execution_count": 23,
     "metadata": {},
     "output_type": "execute_result"
    }
   ],
   "source": [
    "data = pd.read_csv(f\"{save_path}/data.csv\")\n",
    "data = data.drop({\"Unnamed: 0\"}, axis=1)\n",
    "data"
   ]
  },
  {
   "cell_type": "code",
   "execution_count": 24,
   "metadata": {},
   "outputs": [
    {
     "data": {
      "text/plain": [
       "(168165, 576)"
      ]
     },
     "execution_count": 24,
     "metadata": {},
     "output_type": "execute_result"
    }
   ],
   "source": [
    "img = np.load(f\"{save_path}/img.npy\", allow_pickle=True)\n",
    "img.shape"
   ]
  },
  {
   "cell_type": "code",
   "execution_count": 25,
   "metadata": {},
   "outputs": [
    {
     "data": {
      "text/plain": [
       "(168165, 300)"
      ]
     },
     "execution_count": 25,
     "metadata": {},
     "output_type": "execute_result"
    }
   ],
   "source": [
    "text = np.load(f\"{save_path}/text.npy\", allow_pickle=True)\n",
    "text.shape"
   ]
  },
  {
   "cell_type": "markdown",
   "metadata": {},
   "source": [
    "# Train-Test Split"
   ]
  },
  {
   "cell_type": "markdown",
   "metadata": {},
   "source": [
    "To use `stratify` parameter of `sklearn.model_selection.train_test_split()`, we need to select all product instances which appear more than once"
   ]
  },
  {
   "cell_type": "code",
   "execution_count": 26,
   "metadata": {},
   "outputs": [],
   "source": [
    "data[\"product_type_count\"] = data.groupby(\n",
    "    [\"product_type\"])[\"product_type\"].transform(\"count\")\n",
    "\n",
    "data = data[data[\"product_type_count\"] > config[\"data\"][\"cls\"]]"
   ]
  },
  {
   "cell_type": "code",
   "execution_count": 27,
   "metadata": {},
   "outputs": [],
   "source": [
    "# Update both columns\n",
    "product_types = data[[\"product_type\"]]\n",
    "\n",
    "labels = data[[\"label\"]]"
   ]
  },
  {
   "cell_type": "code",
   "execution_count": 28,
   "metadata": {},
   "outputs": [],
   "source": [
    "from sklearn.model_selection import train_test_split"
   ]
  },
  {
   "cell_type": "code",
   "execution_count": 29,
   "metadata": {},
   "outputs": [],
   "source": [
    "train, test, labels_train, labels_test = train_test_split(\n",
    "    data,\n",
    "    labels,\n",
    "    stratify=product_types,\n",
    "    test_size=config[\"model\"][\"training\"][\"test_split\"],\n",
    "    random_state=42)"
   ]
  },
  {
   "cell_type": "code",
   "execution_count": 30,
   "metadata": {},
   "outputs": [],
   "source": [
    "img_train = img[train.index]\n",
    "img_test = img[test.index]\n",
    "\n",
    "text_train = text[train.index]\n",
    "text_test = text[test.index]"
   ]
  },
  {
   "cell_type": "markdown",
   "metadata": {},
   "source": [
    "# Save Char CNN config"
   ]
  },
  {
   "attachments": {},
   "cell_type": "markdown",
   "metadata": {},
   "source": [
    "Not needed, as we use GloVe for text embeddings instead"
   ]
  },
  {
   "cell_type": "code",
   "execution_count": 31,
   "metadata": {},
   "outputs": [],
   "source": [
    "# from models.char_cnn_zhang import CharCNNZhang"
   ]
  },
  {
   "cell_type": "code",
   "execution_count": 32,
   "metadata": {},
   "outputs": [],
   "source": [
    "# char_cnn_config = {\n",
    "#     \"input_size\": config[\"data\"][\"input_size\"],\n",
    "#     \"embedding_size\": len(tk.word_index),\n",
    "#     \"conv_layers\": config[\"char_cnn_zhang\"][\"conv_layers\"],\n",
    "#     \"fc_layers\": config[\"char_cnn_zhang\"][\"fc_layers\"],\n",
    "#     \"output_size\": config[\"char_cnn_zhang\"][\"output_size\"],\n",
    "#     \"embedding_weights\": weights\n",
    "# }"
   ]
  },
  {
   "cell_type": "code",
   "execution_count": 33,
   "metadata": {},
   "outputs": [],
   "source": [
    "# char_cnn = CharCNNZhang(**char_cnn_config)"
   ]
  },
  {
   "cell_type": "markdown",
   "metadata": {},
   "source": [
    "# Build MNN-EM Model"
   ]
  },
  {
   "cell_type": "markdown",
   "metadata": {},
   "source": [
    "![](../../assets/images/MNN_EM.png)"
   ]
  },
  {
   "cell_type": "code",
   "execution_count": 34,
   "metadata": {},
   "outputs": [],
   "source": [
    "# from models.mnn_em import MNNEM\n",
    "from utils.metrics import create_metrics"
   ]
  },
  {
   "cell_type": "code",
   "execution_count": 35,
   "metadata": {},
   "outputs": [],
   "source": [
    "from tensorflow.keras.models import Model\n",
    "from tensorflow.keras.layers import Input, Dense, Multiply, BatchNormalization, Embedding, Flatten\n",
    "from tensorflow.keras.optimizers import Adam\n",
    "from tensorflow.keras.metrics import Recall, Precision, BinaryAccuracy, CosineSimilarity\n",
    "\n",
    "\n",
    "class MNNEMGlove(object):\n",
    "    def __init__(\n",
    "            self, head_config, combined_fc_layers, learning_rate,\n",
    "            metrics=[\"recall\", \"precision\", \"binary_accuracy\", \"cosine_similarity\"],\n",
    "            loss='binary_crossentropy', name=\"MNN_EM\") -> None:\n",
    "        self.head_config = head_config\n",
    "        self.combined_fc_layers = combined_fc_layers\n",
    "        self.learning_rate = learning_rate\n",
    "        self.metrics = metrics\n",
    "        self.loss = loss\n",
    "        self.name = name\n",
    "        self._build_model()  # builds self.model variable\n",
    "\n",
    "    def _build_model(self):\n",
    "        # Input Layer\n",
    "        img_features = Input(\n",
    "            shape=(self.head_config[\"img_input_size\"]), name=\"Image_Input\")\n",
    "\n",
    "        # Input Layer\n",
    "        text_features = Input(\n",
    "            shape=(self.head_config[\"txt_input_size\"]), dtype=tf.int64, name=\"Text_Input\")\n",
    "\n",
    "        x = _MNNEMHead(**self.head_config)\n",
    "\n",
    "        x = x.model([img_features, text_features])\n",
    "\n",
    "        # FC Layers\n",
    "        for i, comb_fl in enumerate(self.combined_fc_layers, 1):\n",
    "            x = Dense(comb_fl, activation='relu',\n",
    "                      name=f\"Combined_FC_{i}\")(x)\n",
    "\n",
    "        output = Dense(1, activation='sigmoid', name=\"Sigmoid\")(x)\n",
    "        model = Model(inputs=[img_features, text_features],\n",
    "                      outputs=output, name=self.name)\n",
    "\n",
    "        optimizer = Adam(learning_rate=self.learning_rate)\n",
    "\n",
    "        model.compile(optimizer=optimizer, loss=self.loss,\n",
    "                      metrics=self.metrics)\n",
    "        self.model = model\n",
    "        # print(\"MNN-EM model built: \")\n",
    "        # self.model.summary()\n",
    "\n",
    "\n",
    "class _MNNEMHead(object):\n",
    "    def __init__(self, img_input_size, txt_input_size, img_fc_layers,\n",
    "                 txt_fc_layers, extended):\n",
    "        self.img_input_size = img_input_size\n",
    "        self.txt_input_size = txt_input_size\n",
    "        self.img_fc_layers = img_fc_layers\n",
    "        self.txt_fc_layers = txt_fc_layers\n",
    "        self.extended = extended\n",
    "        self._build_model()  # builds self.model variable\n",
    "\n",
    "    def _build_model(self):\n",
    "        # Text Input\n",
    "        img_features = Input(shape=(self.img_input_size),\n",
    "                             name=\"Image_Input_Head_Outer\")\n",
    "\n",
    "        img_cnn = _CNNBranch(self.img_input_size,\n",
    "                             self.img_fc_layers, self.extended, name=\"Image\")\n",
    "\n",
    "        output_img = img_cnn.model(img_features)\n",
    "\n",
    "        # Image Input\n",
    "        text_features = Input(shape=(self.txt_input_size), dtype=tf.int64, name=\"Text_Input_Head_Outer\")\n",
    "\n",
    "        embedding_layer = Embedding(\n",
    "            num_tokens,\n",
    "            self.txt_input_size,\n",
    "            embeddings_initializer=tf.keras.initializers.Constant(embedding_matrix),\n",
    "            trainable=False,\n",
    "        )\n",
    "\n",
    "        x = embedding_layer(text_features)\n",
    "\n",
    "        x = Flatten()(x)\n",
    "\n",
    "        text_cnn = _CNNBranch(x.shape[1],\n",
    "                             self.txt_fc_layers, self.extended, name=\"Text\")\n",
    "\n",
    "        output_text = text_cnn.model(x)\n",
    "\n",
    "        # Element-wise product\n",
    "        combined = Multiply(\n",
    "            name=\"Element-wise_Multiplication\")([output_img, output_text])\n",
    "\n",
    "        model = Model(inputs=[img_features, text_features],\n",
    "                      outputs=combined, name=\"MNN_EM_Head\")\n",
    "\n",
    "        self.model = model\n",
    "\n",
    "\n",
    "class _CNNBranch(object):\n",
    "    def __init__(self, input_size, fc_layers, extended, name):\n",
    "        self.input_size = input_size\n",
    "        self.fc_layers = fc_layers\n",
    "        self.extended = extended\n",
    "        self.name = name\n",
    "        self._build_model()  # builds self.model variable\n",
    "\n",
    "    def _build_model(self):\n",
    "        # Input Layer\n",
    "        features = Input(shape=(self.input_size),\n",
    "                         name=f\"{self.name}_Input_Head_Inner\")\n",
    "\n",
    "        # fc + ReLU\n",
    "        for i, fl in enumerate(\n",
    "                self.fc_layers[: None if self.extended else -1],\n",
    "                1):\n",
    "            x = Dense(fl, activation='relu',\n",
    "                      name=f\"{self.name}_FC_{i}\")(features if i == 1 else x)\n",
    "\n",
    "        if not self.extended:\n",
    "            # fc + L2 Norm\n",
    "            x = Dense(\n",
    "                self.fc_layers[-1],\n",
    "                kernel_regularizer='l2', name=f\"{self.name}_FC_last\")(\n",
    "                features if len(self.fc_layers) == 1 else x)\n",
    "\n",
    "        output = BatchNormalization(name=f\"{self.name}_Batch_Normalization\")(x)\n",
    "\n",
    "        model = Model(inputs=features, outputs=output, name=f\"{self.name}_CNN\")\n",
    "\n",
    "        self.model = model"
   ]
  },
  {
   "cell_type": "code",
   "execution_count": 36,
   "metadata": {},
   "outputs": [],
   "source": [
    "head_config = {\n",
    "    \"img_input_size\": img_model.layers[-1].output_shape[1],\n",
    "    \"txt_input_size\": embedding_dim,\n",
    "    \"img_fc_layers\": config[\"model\"][\"img_fc_layers\"],\n",
    "    \"txt_fc_layers\": config[\"model\"][\"txt_fc_layers\"],\n",
    "    \"extended\": False,\n",
    "}"
   ]
  },
  {
   "cell_type": "code",
   "execution_count": 37,
   "metadata": {},
   "outputs": [],
   "source": [
    "mnn_em = MNNEMGlove(head_config=head_config,\n",
    "               combined_fc_layers=config[\"model\"][\"combined_fc_layers\"],\n",
    "               learning_rate=config[\"model\"][\"training\"][\"learning_rate\"],\n",
    "               metrics=create_metrics(config[\"model\"][\"training\"][\"metrics\"]))"
   ]
  },
  {
   "cell_type": "code",
   "execution_count": 38,
   "metadata": {},
   "outputs": [
    {
     "name": "stdout",
     "output_type": "stream",
     "text": [
      "Model: \"MNN_EM\"\n",
      "__________________________________________________________________________________________________\n",
      " Layer (type)                   Output Shape         Param #     Connected to                     \n",
      "==================================================================================================\n",
      " Image_Input (InputLayer)       [(None, 576)]        0           []                               \n",
      "                                                                                                  \n",
      " Text_Input (InputLayer)        [(None, 300)]        0           []                               \n",
      "                                                                                                  \n",
      " MNN_EM_Head (Functional)       (None, 512)          143040368   ['Image_Input[0][0]',            \n",
      "                                                                  'Text_Input[0][0]']             \n",
      "|¯¯¯¯¯¯¯¯¯¯¯¯¯¯¯¯¯¯¯¯¯¯¯¯¯¯¯¯¯¯¯¯¯¯¯¯¯¯¯¯¯¯¯¯¯¯¯¯¯¯¯¯¯¯¯¯¯¯¯¯¯¯¯¯¯¯¯¯¯¯¯¯¯¯¯¯¯¯¯¯¯¯¯¯¯¯¯¯¯¯¯¯¯¯¯¯|\n",
      "| Text_Input_Head_Outer (InputLa  [(None, 300)]     0           []                               |\n",
      "| yer)                                                                                           |\n",
      "|                                                                                                |\n",
      "| embedding (Embedding)        (None, 300, 300)     49234800    []                               |\n",
      "|                                                                                                |\n",
      "| Image_Input_Head_Outer (InputL  [(None, 576)]     0           []                               |\n",
      "| ayer)                                                                                          |\n",
      "|                                                                                                |\n",
      "| flatten (Flatten)            (None, 90000)        0           []                               |\n",
      "|                                                                                                |\n",
      "| Image_CNN (Functional)       (None, 512)          1117696     []                               |\n",
      "||¯¯¯¯¯¯¯¯¯¯¯¯¯¯¯¯¯¯¯¯¯¯¯¯¯¯¯¯¯¯¯¯¯¯¯¯¯¯¯¯¯¯¯¯¯¯¯¯¯¯¯¯¯¯¯¯¯¯¯¯¯¯¯¯¯¯¯¯¯¯¯¯¯¯¯¯¯¯¯¯¯¯¯¯¯¯¯¯¯¯¯¯¯¯||\n",
      "|| Image_Input_Head_Inner (InputL  [(None, 576)]   0           []                               ||\n",
      "|| ayer)                                                                                        ||\n",
      "||                                                                                              ||\n",
      "|| Image_FC_1 (Dense)         (None, 1024)         590848      []                               ||\n",
      "||                                                                                              ||\n",
      "|| Image_FC_last (Dense)      (None, 512)          524800      []                               ||\n",
      "||                                                                                              ||\n",
      "|| Image_Batch_Normalization (Bat  (None, 512)     2048        []                               ||\n",
      "|| chNormalization)                                                                             ||\n",
      "|¯¯¯¯¯¯¯¯¯¯¯¯¯¯¯¯¯¯¯¯¯¯¯¯¯¯¯¯¯¯¯¯¯¯¯¯¯¯¯¯¯¯¯¯¯¯¯¯¯¯¯¯¯¯¯¯¯¯¯¯¯¯¯¯¯¯¯¯¯¯¯¯¯¯¯¯¯¯¯¯¯¯¯¯¯¯¯¯¯¯¯¯¯¯¯¯|\n",
      "| Text_CNN (Functional)        (None, 512)          92687872    []                               |\n",
      "||¯¯¯¯¯¯¯¯¯¯¯¯¯¯¯¯¯¯¯¯¯¯¯¯¯¯¯¯¯¯¯¯¯¯¯¯¯¯¯¯¯¯¯¯¯¯¯¯¯¯¯¯¯¯¯¯¯¯¯¯¯¯¯¯¯¯¯¯¯¯¯¯¯¯¯¯¯¯¯¯¯¯¯¯¯¯¯¯¯¯¯¯¯¯||\n",
      "|| Text_Input_Head_Inner (InputLa  [(None, 90000)]  0          []                               ||\n",
      "|| yer)                                                                                         ||\n",
      "||                                                                                              ||\n",
      "|| Text_FC_1 (Dense)          (None, 1024)         92161024    []                               ||\n",
      "||                                                                                              ||\n",
      "|| Text_FC_last (Dense)       (None, 512)          524800      []                               ||\n",
      "||                                                                                              ||\n",
      "|| Text_Batch_Normalization (Batc  (None, 512)     2048        []                               ||\n",
      "|| hNormalization)                                                                              ||\n",
      "|¯¯¯¯¯¯¯¯¯¯¯¯¯¯¯¯¯¯¯¯¯¯¯¯¯¯¯¯¯¯¯¯¯¯¯¯¯¯¯¯¯¯¯¯¯¯¯¯¯¯¯¯¯¯¯¯¯¯¯¯¯¯¯¯¯¯¯¯¯¯¯¯¯¯¯¯¯¯¯¯¯¯¯¯¯¯¯¯¯¯¯¯¯¯¯¯|\n",
      "| Element-wise_Multiplication (M  (None, 512)       0           []                               |\n",
      "| ultiply)                                                                                       |\n",
      "¯¯¯¯¯¯¯¯¯¯¯¯¯¯¯¯¯¯¯¯¯¯¯¯¯¯¯¯¯¯¯¯¯¯¯¯¯¯¯¯¯¯¯¯¯¯¯¯¯¯¯¯¯¯¯¯¯¯¯¯¯¯¯¯¯¯¯¯¯¯¯¯¯¯¯¯¯¯¯¯¯¯¯¯¯¯¯¯¯¯¯¯¯¯¯¯¯¯\n",
      " Combined_FC_1 (Dense)          (None, 512)          262656      ['MNN_EM_Head[0][0]']            \n",
      "                                                                                                  \n",
      " Combined_FC_2 (Dense)          (None, 256)          131328      ['Combined_FC_1[0][0]']          \n",
      "                                                                                                  \n",
      " Sigmoid (Dense)                (None, 1)            257         ['Combined_FC_2[0][0]']          \n",
      "                                                                                                  \n",
      "==================================================================================================\n",
      "Total params: 143,434,609\n",
      "Trainable params: 94,197,761\n",
      "Non-trainable params: 49,236,848\n",
      "__________________________________________________________________________________________________\n"
     ]
    }
   ],
   "source": [
    "mnn_em.model.summary(expand_nested=True)"
   ]
  },
  {
   "cell_type": "code",
   "execution_count": 39,
   "metadata": {},
   "outputs": [
    {
     "name": "stdout",
     "output_type": "stream",
     "text": [
      "You must install pydot (`pip install pydot`) and install graphviz (see instructions at https://graphviz.gitlab.io/download/) for plot_model/model_to_dot to work.\n"
     ]
    }
   ],
   "source": [
    "# \"Head\"\n",
    "\n",
    "tf.keras.utils.plot_model(mnn_em.model.layers[2],\n",
    "                          rankdir=\"TB\",\n",
    "                          show_layer_activations=True,\n",
    "                          show_shapes=True)"
   ]
  },
  {
   "cell_type": "code",
   "execution_count": 40,
   "metadata": {},
   "outputs": [
    {
     "name": "stdout",
     "output_type": "stream",
     "text": [
      "You must install pydot (`pip install pydot`) and install graphviz (see instructions at https://graphviz.gitlab.io/download/) for plot_model/model_to_dot to work.\n"
     ]
    }
   ],
   "source": [
    "# Image CNN\n",
    "\n",
    "tf.keras.utils.plot_model(mnn_em.model.layers[2].layers[4],\n",
    "                          rankdir=\"TB\",\n",
    "                          show_layer_activations=True,\n",
    "                          show_shapes=True)"
   ]
  },
  {
   "cell_type": "code",
   "execution_count": 41,
   "metadata": {},
   "outputs": [
    {
     "name": "stdout",
     "output_type": "stream",
     "text": [
      "You must install pydot (`pip install pydot`) and install graphviz (see instructions at https://graphviz.gitlab.io/download/) for plot_model/model_to_dot to work.\n"
     ]
    }
   ],
   "source": [
    "# Full model\n",
    "\n",
    "tf.keras.utils.plot_model(mnn_em.model,\n",
    "                          rankdir=\"TB\",\n",
    "                          show_layer_activations=True,\n",
    "                          show_shapes=True)"
   ]
  },
  {
   "cell_type": "markdown",
   "metadata": {},
   "source": [
    "# Callbacks"
   ]
  },
  {
   "cell_type": "code",
   "execution_count": 42,
   "metadata": {},
   "outputs": [],
   "source": [
    "from utils.metrics import create_callbacks"
   ]
  },
  {
   "cell_type": "code",
   "execution_count": 43,
   "metadata": {},
   "outputs": [],
   "source": [
    "log_dir = config[\"model\"][\"training\"][\"log_dir\"]\n",
    "model_name = config[\"model\"][\"name\"]\n",
    "optimizer_name = config[\"model\"][\"training\"][\"optimizer\"]\n",
    "learning_rate = config[\"model\"][\"training\"][\"learning_rate\"]"
   ]
  },
  {
   "cell_type": "code",
   "execution_count": 44,
   "metadata": {},
   "outputs": [],
   "source": [
    "callbacks = create_callbacks(\n",
    "    callbacks_list=config[\"model\"][\"training\"][\"callbacks\"],\n",
    "    log_dir=log_dir,\n",
    "    model_name=model_name,\n",
    "    img_model_name=img_model.name,\n",
    "    optimizer_name=optimizer_name,\n",
    "    learning_rate=learning_rate,\n",
    "    cls=config[\"data\"][\"cls\"])"
   ]
  },
  {
   "cell_type": "markdown",
   "metadata": {},
   "source": [
    "# Training"
   ]
  },
  {
   "cell_type": "code",
   "execution_count": 45,
   "metadata": {},
   "outputs": [
    {
     "name": "stdout",
     "output_type": "stream",
     "text": [
      "Epoch 1/10\n",
      "8513/8513 [==============================] - ETA: 0s - loss: 1.5606 - recall: 0.9217 - precision: 0.8827 - binary_accuracy: 0.8957 - cosine_similarity: 0.5192"
     ]
    },
    {
     "name": "stderr",
     "output_type": "stream",
     "text": [
      "2023-06-14 13:48:42.968646: W tensorflow/python/util/util.cc:368] Sets are not currently considered sequences, but this may change in the future, so consider avoiding using them.\n",
      "WARNING:absl:Function `_wrapped_model` contains input name(s) Image_Input, Text_Input with unsupported characters which will be renamed to image_input, text_input in the SavedModel.\n"
     ]
    },
    {
     "name": "stdout",
     "output_type": "stream",
     "text": [
      "INFO:tensorflow:Assets written to: ./runs/models/MNN_EM_GloVe.6B.300d_ABO/cls_1/MobilenetV3small/Adam/lr_0.0001/assets\n"
     ]
    },
    {
     "name": "stderr",
     "output_type": "stream",
     "text": [
      "INFO:tensorflow:Assets written to: ./runs/models/MNN_EM_GloVe.6B.300d_ABO/cls_1/MobilenetV3small/Adam/lr_0.0001/assets\n"
     ]
    },
    {
     "name": "stdout",
     "output_type": "stream",
     "text": [
      "8513/8513 [==============================] - 162s 19ms/step - loss: 1.5606 - recall: 0.9217 - precision: 0.8827 - binary_accuracy: 0.8957 - cosine_similarity: 0.5192 - val_loss: 0.3542 - val_recall: 0.9384 - val_precision: 0.9214 - val_binary_accuracy: 0.9253 - val_cosine_similarity: 0.5273\n",
      "Epoch 2/10\n",
      "8513/8513 [==============================] - ETA: 0s - loss: 0.2502 - recall: 0.9652 - precision: 0.9407 - binary_accuracy: 0.9503 - cosine_similarity: 0.5192"
     ]
    },
    {
     "name": "stderr",
     "output_type": "stream",
     "text": [
      "WARNING:absl:Function `_wrapped_model` contains input name(s) Image_Input, Text_Input with unsupported characters which will be renamed to image_input, text_input in the SavedModel.\n"
     ]
    },
    {
     "name": "stdout",
     "output_type": "stream",
     "text": [
      "INFO:tensorflow:Assets written to: ./runs/models/MNN_EM_GloVe.6B.300d_ABO/cls_1/MobilenetV3small/Adam/lr_0.0001/assets\n"
     ]
    },
    {
     "name": "stderr",
     "output_type": "stream",
     "text": [
      "INFO:tensorflow:Assets written to: ./runs/models/MNN_EM_GloVe.6B.300d_ABO/cls_1/MobilenetV3small/Adam/lr_0.0001/assets\n"
     ]
    },
    {
     "name": "stdout",
     "output_type": "stream",
     "text": [
      "8513/8513 [==============================] - 161s 19ms/step - loss: 0.2502 - recall: 0.9652 - precision: 0.9407 - binary_accuracy: 0.9503 - cosine_similarity: 0.5192 - val_loss: 0.2411 - val_recall: 0.9694 - val_precision: 0.9411 - val_binary_accuracy: 0.9519 - val_cosine_similarity: 0.5273\n",
      "Epoch 3/10\n",
      "8509/8513 [============================>.] - ETA: 0s - loss: 0.1942 - recall: 0.9746 - precision: 0.9573 - binary_accuracy: 0.9643 - cosine_similarity: 0.5192"
     ]
    },
    {
     "name": "stderr",
     "output_type": "stream",
     "text": [
      "WARNING:absl:Function `_wrapped_model` contains input name(s) Image_Input, Text_Input with unsupported characters which will be renamed to image_input, text_input in the SavedModel.\n"
     ]
    },
    {
     "name": "stdout",
     "output_type": "stream",
     "text": [
      "INFO:tensorflow:Assets written to: ./runs/models/MNN_EM_GloVe.6B.300d_ABO/cls_1/MobilenetV3small/Adam/lr_0.0001/assets\n"
     ]
    },
    {
     "name": "stderr",
     "output_type": "stream",
     "text": [
      "INFO:tensorflow:Assets written to: ./runs/models/MNN_EM_GloVe.6B.300d_ABO/cls_1/MobilenetV3small/Adam/lr_0.0001/assets\n"
     ]
    },
    {
     "name": "stdout",
     "output_type": "stream",
     "text": [
      "8513/8513 [==============================] - 164s 19ms/step - loss: 0.1942 - recall: 0.9746 - precision: 0.9573 - binary_accuracy: 0.9643 - cosine_similarity: 0.5192 - val_loss: 0.2117 - val_recall: 0.9741 - val_precision: 0.9508 - val_binary_accuracy: 0.9598 - val_cosine_similarity: 0.5274\n",
      "Epoch 4/10\n",
      "8510/8513 [============================>.] - ETA: 0s - loss: 0.1651 - recall: 0.9802 - precision: 0.9664 - binary_accuracy: 0.9720 - cosine_similarity: 0.5192"
     ]
    },
    {
     "name": "stderr",
     "output_type": "stream",
     "text": [
      "WARNING:absl:Function `_wrapped_model` contains input name(s) Image_Input, Text_Input with unsupported characters which will be renamed to image_input, text_input in the SavedModel.\n"
     ]
    },
    {
     "name": "stdout",
     "output_type": "stream",
     "text": [
      "INFO:tensorflow:Assets written to: ./runs/models/MNN_EM_GloVe.6B.300d_ABO/cls_1/MobilenetV3small/Adam/lr_0.0001/assets\n"
     ]
    },
    {
     "name": "stderr",
     "output_type": "stream",
     "text": [
      "INFO:tensorflow:Assets written to: ./runs/models/MNN_EM_GloVe.6B.300d_ABO/cls_1/MobilenetV3small/Adam/lr_0.0001/assets\n"
     ]
    },
    {
     "name": "stdout",
     "output_type": "stream",
     "text": [
      "8513/8513 [==============================] - 162s 19ms/step - loss: 0.1651 - recall: 0.9802 - precision: 0.9663 - binary_accuracy: 0.9720 - cosine_similarity: 0.5192 - val_loss: 0.2067 - val_recall: 0.9805 - val_precision: 0.9460 - val_binary_accuracy: 0.9602 - val_cosine_similarity: 0.5273\n",
      "Epoch 5/10\n",
      "8513/8513 [==============================] - ETA: 0s - loss: 0.1455 - recall: 0.9829 - precision: 0.9727 - binary_accuracy: 0.9768 - cosine_similarity: 0.5192"
     ]
    },
    {
     "name": "stderr",
     "output_type": "stream",
     "text": [
      "WARNING:absl:Function `_wrapped_model` contains input name(s) Image_Input, Text_Input with unsupported characters which will be renamed to image_input, text_input in the SavedModel.\n"
     ]
    },
    {
     "name": "stdout",
     "output_type": "stream",
     "text": [
      "INFO:tensorflow:Assets written to: ./runs/models/MNN_EM_GloVe.6B.300d_ABO/cls_1/MobilenetV3small/Adam/lr_0.0001/assets\n"
     ]
    },
    {
     "name": "stderr",
     "output_type": "stream",
     "text": [
      "INFO:tensorflow:Assets written to: ./runs/models/MNN_EM_GloVe.6B.300d_ABO/cls_1/MobilenetV3small/Adam/lr_0.0001/assets\n"
     ]
    },
    {
     "name": "stdout",
     "output_type": "stream",
     "text": [
      "8513/8513 [==============================] - 162s 19ms/step - loss: 0.1455 - recall: 0.9829 - precision: 0.9727 - binary_accuracy: 0.9768 - cosine_similarity: 0.5192 - val_loss: 0.1933 - val_recall: 0.9717 - val_precision: 0.9626 - val_binary_accuracy: 0.9652 - val_cosine_similarity: 0.5273\n",
      "Epoch 6/10\n",
      "8513/8513 [==============================] - ETA: 0s - loss: 0.1341 - recall: 0.9845 - precision: 0.9756 - binary_accuracy: 0.9792 - cosine_similarity: 0.5192"
     ]
    },
    {
     "name": "stderr",
     "output_type": "stream",
     "text": [
      "WARNING:absl:Function `_wrapped_model` contains input name(s) Image_Input, Text_Input with unsupported characters which will be renamed to image_input, text_input in the SavedModel.\n"
     ]
    },
    {
     "name": "stdout",
     "output_type": "stream",
     "text": [
      "INFO:tensorflow:Assets written to: ./runs/models/MNN_EM_GloVe.6B.300d_ABO/cls_1/MobilenetV3small/Adam/lr_0.0001/assets\n"
     ]
    },
    {
     "name": "stderr",
     "output_type": "stream",
     "text": [
      "INFO:tensorflow:Assets written to: ./runs/models/MNN_EM_GloVe.6B.300d_ABO/cls_1/MobilenetV3small/Adam/lr_0.0001/assets\n"
     ]
    },
    {
     "name": "stdout",
     "output_type": "stream",
     "text": [
      "8513/8513 [==============================] - 162s 19ms/step - loss: 0.1341 - recall: 0.9845 - precision: 0.9756 - binary_accuracy: 0.9792 - cosine_similarity: 0.5192 - val_loss: 0.1733 - val_recall: 0.9831 - val_precision: 0.9596 - val_binary_accuracy: 0.9693 - val_cosine_similarity: 0.5273\n",
      "Epoch 7/10\n",
      "8513/8513 [==============================] - 66s 8ms/step - loss: 0.1234 - recall: 0.9865 - precision: 0.9793 - binary_accuracy: 0.9822 - cosine_similarity: 0.5192 - val_loss: 0.1986 - val_recall: 0.9645 - val_precision: 0.9642 - val_binary_accuracy: 0.9624 - val_cosine_similarity: 0.5273\n",
      "Epoch 8/10\n",
      "8513/8513 [==============================] - ETA: 0s - loss: 0.1153 - recall: 0.9871 - precision: 0.9806 - binary_accuracy: 0.9832 - cosine_similarity: 0.5192"
     ]
    },
    {
     "name": "stderr",
     "output_type": "stream",
     "text": [
      "WARNING:absl:Function `_wrapped_model` contains input name(s) Image_Input, Text_Input with unsupported characters which will be renamed to image_input, text_input in the SavedModel.\n"
     ]
    },
    {
     "name": "stdout",
     "output_type": "stream",
     "text": [
      "INFO:tensorflow:Assets written to: ./runs/models/MNN_EM_GloVe.6B.300d_ABO/cls_1/MobilenetV3small/Adam/lr_0.0001/assets\n"
     ]
    },
    {
     "name": "stderr",
     "output_type": "stream",
     "text": [
      "INFO:tensorflow:Assets written to: ./runs/models/MNN_EM_GloVe.6B.300d_ABO/cls_1/MobilenetV3small/Adam/lr_0.0001/assets\n"
     ]
    },
    {
     "name": "stdout",
     "output_type": "stream",
     "text": [
      "8513/8513 [==============================] - 162s 19ms/step - loss: 0.1153 - recall: 0.9871 - precision: 0.9806 - binary_accuracy: 0.9832 - cosine_similarity: 0.5192 - val_loss: 0.1648 - val_recall: 0.9807 - val_precision: 0.9651 - val_binary_accuracy: 0.9711 - val_cosine_similarity: 0.5273\n",
      "Epoch 9/10\n",
      "8513/8513 [==============================] - 66s 8ms/step - loss: 0.1065 - recall: 0.9885 - precision: 0.9834 - binary_accuracy: 0.9853 - cosine_similarity: 0.5192 - val_loss: 0.1701 - val_recall: 0.9832 - val_precision: 0.9621 - val_binary_accuracy: 0.9707 - val_cosine_similarity: 0.5274\n",
      "Epoch 10/10\n",
      "8513/8513 [==============================] - ETA: 0s - loss: 0.1019 - recall: 0.9894 - precision: 0.9840 - binary_accuracy: 0.9861 - cosine_similarity: 0.5192"
     ]
    },
    {
     "name": "stderr",
     "output_type": "stream",
     "text": [
      "WARNING:absl:Function `_wrapped_model` contains input name(s) Image_Input, Text_Input with unsupported characters which will be renamed to image_input, text_input in the SavedModel.\n"
     ]
    },
    {
     "name": "stdout",
     "output_type": "stream",
     "text": [
      "INFO:tensorflow:Assets written to: ./runs/models/MNN_EM_GloVe.6B.300d_ABO/cls_1/MobilenetV3small/Adam/lr_0.0001/assets\n"
     ]
    },
    {
     "name": "stderr",
     "output_type": "stream",
     "text": [
      "INFO:tensorflow:Assets written to: ./runs/models/MNN_EM_GloVe.6B.300d_ABO/cls_1/MobilenetV3small/Adam/lr_0.0001/assets\n"
     ]
    },
    {
     "name": "stdout",
     "output_type": "stream",
     "text": [
      "8513/8513 [==============================] - 162s 19ms/step - loss: 0.1019 - recall: 0.9894 - precision: 0.9840 - binary_accuracy: 0.9861 - cosine_similarity: 0.5192 - val_loss: 0.1588 - val_recall: 0.9848 - val_precision: 0.9682 - val_binary_accuracy: 0.9750 - val_cosine_similarity: 0.5272\n"
     ]
    }
   ],
   "source": [
    "history = mnn_em.model.fit(\n",
    "    x=[img_train, text_train],\n",
    "    y=labels_train,\n",
    "    epochs=config[\"model\"][\"training\"][\"epochs\"],\n",
    "    validation_split=config[\"model\"][\"training\"][\"validation_split\"],\n",
    "    batch_size=config[\"model\"][\"training\"][\"batch_size\"],\n",
    "    callbacks=callbacks)"
   ]
  },
  {
   "cell_type": "markdown",
   "metadata": {},
   "source": [
    "# Evaluation"
   ]
  },
  {
   "cell_type": "markdown",
   "metadata": {},
   "source": [
    "## Plot loss and metrics"
   ]
  },
  {
   "cell_type": "code",
   "execution_count": 46,
   "metadata": {},
   "outputs": [],
   "source": [
    "from utils.metrics import plot_metrics"
   ]
  },
  {
   "cell_type": "code",
   "execution_count": 47,
   "metadata": {},
   "outputs": [
    {
     "data": {
      "image/png": "[encoded data removed]",
      "text/plain": [
       "<Figure size 640x480 with 1 Axes>"
      ]
     },
     "metadata": {},
     "output_type": "display_data"
    },
    {
     "data": {
      "image/png": "[encoded data removed]",
      "text/plain": [
       "<Figure size 640x480 with 1 Axes>"
      ]
     },
     "metadata": {},
     "output_type": "display_data"
    },
    {
     "data": {
      "image/png": "[encoded data removed]",
      "text/plain": [
       "<Figure size 640x480 with 1 Axes>"
      ]
     },
     "metadata": {},
     "output_type": "display_data"
    },
    {
     "data": {
      "image/png": "[encoded data removed]",
      "text/plain": [
       "<Figure size 640x480 with 1 Axes>"
      ]
     },
     "metadata": {},
     "output_type": "display_data"
    },
    {
     "data": {
      "image/png": "[encoded data removed]",
      "text/plain": [
       "<Figure size 640x480 with 1 Axes>"
      ]
     },
     "metadata": {},
     "output_type": "display_data"
    }
   ],
   "source": [
    "plot_metrics(history.history, config[\"model\"][\"training\"][\"metrics\"],\n",
    "             model_name, img_model.name, optimizer_name, learning_rate,\n",
    "             config[\"data\"][\"cls\"])"
   ]
  },
  {
   "cell_type": "markdown",
   "metadata": {},
   "source": [
    "## Evaluate model and save metrics"
   ]
  },
  {
   "cell_type": "code",
   "execution_count": 48,
   "metadata": {},
   "outputs": [],
   "source": [
    "from utils.metrics import evaluate"
   ]
  },
  {
   "cell_type": "code",
   "execution_count": 49,
   "metadata": {},
   "outputs": [
    {
     "name": "stdout",
     "output_type": "stream",
     "text": [
      "16814/16814 [==============================] - 40s 2ms/step - loss: 0.1642 - recall: 0.9856 - precision: 0.9650 - binary_accuracy: 0.9741 - cosine_similarity: 0.5154\n"
     ]
    }
   ],
   "source": [
    "evaluate(mnn_em.model, [img_test, text_test], labels_test, log_dir, model_name,\n",
    "         img_model.name, optimizer_name, learning_rate, config[\"data\"][\"cls\"])"
   ]
  }
 ],
 "metadata": {
  "kernelspec": {
   "display_name": "tf2.8",
   "language": "python",
   "name": "tf2.8"
  },
  "language_info": {
   "codemirror_mode": {
    "name": "ipython",
    "version": 3
   },
   "file_extension": ".py",
   "mimetype": "text/x-python",
   "name": "python",
   "nbconvert_exporter": "python",
   "pygments_lexer": "ipython3",
   "version": "3.9.16"
  }
 },
 "nbformat": 4,
 "nbformat_minor": 4
}
