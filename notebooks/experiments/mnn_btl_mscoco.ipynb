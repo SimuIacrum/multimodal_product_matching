{
 "cells": [
  {
   "cell_type": "markdown",
   "metadata": {},
   "source": [
    "# Setup"
   ]
  },
  {
   "cell_type": "code",
   "execution_count": 1,
   "metadata": {
    "scrolled": true
   },
   "outputs": [
    {
     "name": "stdout",
     "output_type": "stream",
     "text": [
      "/bin/bash: /anaconda/envs/jupyter_env/lib/libtinfo.so.6: no version information available (required by /bin/bash)\n",
      "Looking in indexes: https://pypi.org/simple/, https://****@pkgs.dev.azure.com/parsionate-ai/ps-libraries/_packaging/pypi-feed/pypi/simple\n",
      "Requirement already satisfied: tensorflow==2.8.* in /anaconda/envs/tf2.8/lib/python3.9/site-packages (from -r ../../requirements.txt (line 1)) (2.8.4)\n",
      "Requirement already satisfied: tensorflow-addons==0.18.0 in /anaconda/envs/tf2.8/lib/python3.9/site-packages (from -r ../../requirements.txt (line 2)) (0.18.0)\n",
      "Requirement already satisfied: pandas<2.0.0 in /anaconda/envs/tf2.8/lib/python3.9/site-packages (from -r ../../requirements.txt (line 3)) (1.5.3)\n",
      "Requirement already satisfied: scikit-learn in /anaconda/envs/tf2.8/lib/python3.9/site-packages (from -r ../../requirements.txt (line 4)) (1.2.2)\n",
      "Requirement already satisfied: scipy in /anaconda/envs/tf2.8/lib/python3.9/site-packages (from -r ../../requirements.txt (line 5)) (1.10.1)\n",
      "Requirement already satisfied: matplotlib in /anaconda/envs/tf2.8/lib/python3.9/site-packages (from -r ../../requirements.txt (line 6)) (3.7.1)\n",
      "Requirement already satisfied: tqdm in /anaconda/envs/tf2.8/lib/python3.9/site-packages (from -r ../../requirements.txt (line 7)) (4.65.0)\n",
      "Requirement already satisfied: Pillow in /anaconda/envs/tf2.8/lib/python3.9/site-packages (from -r ../../requirements.txt (line 8)) (9.5.0)\n",
      "Requirement already satisfied: kaggle in /anaconda/envs/tf2.8/lib/python3.9/site-packages (from -r ../../requirements.txt (line 9)) (1.5.13)\n",
      "Requirement already satisfied: opt-einsum>=2.3.2 in /anaconda/envs/tf2.8/lib/python3.9/site-packages (from tensorflow==2.8.*->-r ../../requirements.txt (line 1)) (3.3.0)\n",
      "Requirement already satisfied: wrapt>=1.11.0 in /anaconda/envs/tf2.8/lib/python3.9/site-packages (from tensorflow==2.8.*->-r ../../requirements.txt (line 1)) (1.14.1)\n",
      "Requirement already satisfied: six>=1.12.0 in /anaconda/envs/tf2.8/lib/python3.9/site-packages (from tensorflow==2.8.*->-r ../../requirements.txt (line 1)) (1.16.0)\n",
      "Requirement already satisfied: keras<2.9,>=2.8.0rc0 in /anaconda/envs/tf2.8/lib/python3.9/site-packages (from tensorflow==2.8.*->-r ../../requirements.txt (line 1)) (2.8.0)\n",
      "Requirement already satisfied: protobuf<3.20,>=3.9.2 in /anaconda/envs/tf2.8/lib/python3.9/site-packages (from tensorflow==2.8.*->-r ../../requirements.txt (line 1)) (3.19.6)\n",
      "Requirement already satisfied: termcolor>=1.1.0 in /anaconda/envs/tf2.8/lib/python3.9/site-packages (from tensorflow==2.8.*->-r ../../requirements.txt (line 1)) (2.2.0)\n",
      "Requirement already satisfied: flatbuffers>=1.12 in /anaconda/envs/tf2.8/lib/python3.9/site-packages (from tensorflow==2.8.*->-r ../../requirements.txt (line 1)) (23.3.3)\n",
      "Requirement already satisfied: gast>=0.2.1 in /anaconda/envs/tf2.8/lib/python3.9/site-packages (from tensorflow==2.8.*->-r ../../requirements.txt (line 1)) (0.4.0)\n",
      "Requirement already satisfied: astunparse>=1.6.0 in /anaconda/envs/tf2.8/lib/python3.9/site-packages (from tensorflow==2.8.*->-r ../../requirements.txt (line 1)) (1.6.3)\n",
      "Requirement already satisfied: h5py>=2.9.0 in /anaconda/envs/tf2.8/lib/python3.9/site-packages (from tensorflow==2.8.*->-r ../../requirements.txt (line 1)) (3.8.0)\n",
      "Requirement already satisfied: tensorboard<2.9,>=2.8 in /anaconda/envs/tf2.8/lib/python3.9/site-packages (from tensorflow==2.8.*->-r ../../requirements.txt (line 1)) (2.8.0)\n",
      "Requirement already satisfied: keras-preprocessing>=1.1.1 in /anaconda/envs/tf2.8/lib/python3.9/site-packages (from tensorflow==2.8.*->-r ../../requirements.txt (line 1)) (1.1.2)\n",
      "Requirement already satisfied: numpy>=1.20 in /anaconda/envs/tf2.8/lib/python3.9/site-packages (from tensorflow==2.8.*->-r ../../requirements.txt (line 1)) (1.23.5)\n",
      "Requirement already satisfied: absl-py>=0.4.0 in /anaconda/envs/tf2.8/lib/python3.9/site-packages (from tensorflow==2.8.*->-r ../../requirements.txt (line 1)) (1.4.0)\n",
      "Requirement already satisfied: tensorflow-estimator<2.9,>=2.8 in /anaconda/envs/tf2.8/lib/python3.9/site-packages (from tensorflow==2.8.*->-r ../../requirements.txt (line 1)) (2.8.0)\n",
      "Requirement already satisfied: grpcio<2.0,>=1.24.3 in /anaconda/envs/tf2.8/lib/python3.9/site-packages (from tensorflow==2.8.*->-r ../../requirements.txt (line 1)) (1.53.0)\n",
      "Requirement already satisfied: setuptools in /anaconda/envs/tf2.8/lib/python3.9/site-packages (from tensorflow==2.8.*->-r ../../requirements.txt (line 1)) (65.6.3)\n",
      "Requirement already satisfied: typing-extensions>=3.6.6 in /anaconda/envs/tf2.8/lib/python3.9/site-packages (from tensorflow==2.8.*->-r ../../requirements.txt (line 1)) (4.5.0)\n",
      "Requirement already satisfied: libclang>=9.0.1 in /anaconda/envs/tf2.8/lib/python3.9/site-packages (from tensorflow==2.8.*->-r ../../requirements.txt (line 1)) (16.0.0)\n",
      "Requirement already satisfied: google-pasta>=0.1.1 in /anaconda/envs/tf2.8/lib/python3.9/site-packages (from tensorflow==2.8.*->-r ../../requirements.txt (line 1)) (0.2.0)\n",
      "Requirement already satisfied: tensorflow-io-gcs-filesystem>=0.23.1 in /anaconda/envs/tf2.8/lib/python3.9/site-packages (from tensorflow==2.8.*->-r ../../requirements.txt (line 1)) (0.32.0)\n",
      "Requirement already satisfied: typeguard>=2.7 in /anaconda/envs/tf2.8/lib/python3.9/site-packages (from tensorflow-addons==0.18.0->-r ../../requirements.txt (line 2)) (2.13.3)\n",
      "Requirement already satisfied: packaging in /anaconda/envs/tf2.8/lib/python3.9/site-packages (from tensorflow-addons==0.18.0->-r ../../requirements.txt (line 2)) (23.0)\n",
      "Requirement already satisfied: pytz>=2020.1 in /anaconda/envs/tf2.8/lib/python3.9/site-packages (from pandas<2.0.0->-r ../../requirements.txt (line 3)) (2023.3)\n",
      "Requirement already satisfied: python-dateutil>=2.8.1 in /anaconda/envs/tf2.8/lib/python3.9/site-packages (from pandas<2.0.0->-r ../../requirements.txt (line 3)) (2.8.2)\n",
      "Requirement already satisfied: threadpoolctl>=2.0.0 in /anaconda/envs/tf2.8/lib/python3.9/site-packages (from scikit-learn->-r ../../requirements.txt (line 4)) (3.1.0)\n",
      "Requirement already satisfied: joblib>=1.1.1 in /anaconda/envs/tf2.8/lib/python3.9/site-packages (from scikit-learn->-r ../../requirements.txt (line 4)) (1.2.0)\n",
      "Requirement already satisfied: importlib-resources>=3.2.0 in /anaconda/envs/tf2.8/lib/python3.9/site-packages (from matplotlib->-r ../../requirements.txt (line 6)) (5.12.0)\n",
      "Requirement already satisfied: contourpy>=1.0.1 in /anaconda/envs/tf2.8/lib/python3.9/site-packages (from matplotlib->-r ../../requirements.txt (line 6)) (1.0.7)\n",
      "Requirement already satisfied: cycler>=0.10 in /anaconda/envs/tf2.8/lib/python3.9/site-packages (from matplotlib->-r ../../requirements.txt (line 6)) (0.11.0)\n",
      "Requirement already satisfied: pyparsing>=2.3.1 in /anaconda/envs/tf2.8/lib/python3.9/site-packages (from matplotlib->-r ../../requirements.txt (line 6)) (3.0.9)\n",
      "Requirement already satisfied: kiwisolver>=1.0.1 in /anaconda/envs/tf2.8/lib/python3.9/site-packages (from matplotlib->-r ../../requirements.txt (line 6)) (1.4.4)\n",
      "Requirement already satisfied: fonttools>=4.22.0 in /anaconda/envs/tf2.8/lib/python3.9/site-packages (from matplotlib->-r ../../requirements.txt (line 6)) (4.39.3)\n",
      "Requirement already satisfied: requests in /anaconda/envs/tf2.8/lib/python3.9/site-packages (from kaggle->-r ../../requirements.txt (line 9)) (2.29.0)\n",
      "Requirement already satisfied: python-slugify in /anaconda/envs/tf2.8/lib/python3.9/site-packages (from kaggle->-r ../../requirements.txt (line 9)) (8.0.1)\n",
      "Requirement already satisfied: urllib3 in /anaconda/envs/tf2.8/lib/python3.9/site-packages (from kaggle->-r ../../requirements.txt (line 9)) (1.26.15)\n",
      "Requirement already satisfied: certifi in /anaconda/envs/tf2.8/lib/python3.9/site-packages (from kaggle->-r ../../requirements.txt (line 9)) (2023.5.7)\n",
      "Requirement already satisfied: wheel<1.0,>=0.23.0 in /anaconda/envs/tf2.8/lib/python3.9/site-packages (from astunparse>=1.6.0->tensorflow==2.8.*->-r ../../requirements.txt (line 1)) (0.38.4)\n",
      "Requirement already satisfied: zipp>=3.1.0 in /anaconda/envs/tf2.8/lib/python3.9/site-packages (from importlib-resources>=3.2.0->matplotlib->-r ../../requirements.txt (line 6)) (3.15.0)\n",
      "Requirement already satisfied: tensorboard-data-server<0.7.0,>=0.6.0 in /anaconda/envs/tf2.8/lib/python3.9/site-packages (from tensorboard<2.9,>=2.8->tensorflow==2.8.*->-r ../../requirements.txt (line 1)) (0.6.1)\n",
      "Requirement already satisfied: markdown>=2.6.8 in /anaconda/envs/tf2.8/lib/python3.9/site-packages (from tensorboard<2.9,>=2.8->tensorflow==2.8.*->-r ../../requirements.txt (line 1)) (3.4.3)\n",
      "Requirement already satisfied: tensorboard-plugin-wit>=1.6.0 in /anaconda/envs/tf2.8/lib/python3.9/site-packages (from tensorboard<2.9,>=2.8->tensorflow==2.8.*->-r ../../requirements.txt (line 1)) (1.8.1)\n",
      "Requirement already satisfied: google-auth<3,>=1.6.3 in /anaconda/envs/tf2.8/lib/python3.9/site-packages (from tensorboard<2.9,>=2.8->tensorflow==2.8.*->-r ../../requirements.txt (line 1)) (2.18.0)\n",
      "Requirement already satisfied: werkzeug>=0.11.15 in /anaconda/envs/tf2.8/lib/python3.9/site-packages (from tensorboard<2.9,>=2.8->tensorflow==2.8.*->-r ../../requirements.txt (line 1)) (2.2.3)\n",
      "Requirement already satisfied: google-auth-oauthlib<0.5,>=0.4.1 in /anaconda/envs/tf2.8/lib/python3.9/site-packages (from tensorboard<2.9,>=2.8->tensorflow==2.8.*->-r ../../requirements.txt (line 1)) (0.4.6)\n",
      "Requirement already satisfied: idna<4,>=2.5 in /anaconda/envs/tf2.8/lib/python3.9/site-packages (from requests->kaggle->-r ../../requirements.txt (line 9)) (3.4)\n",
      "Requirement already satisfied: charset-normalizer<4,>=2 in /anaconda/envs/tf2.8/lib/python3.9/site-packages (from requests->kaggle->-r ../../requirements.txt (line 9)) (3.1.0)\n",
      "Requirement already satisfied: text-unidecode>=1.3 in /anaconda/envs/tf2.8/lib/python3.9/site-packages (from python-slugify->kaggle->-r ../../requirements.txt (line 9)) (1.3)\n",
      "Requirement already satisfied: rsa<5,>=3.1.4 in /anaconda/envs/tf2.8/lib/python3.9/site-packages (from google-auth<3,>=1.6.3->tensorboard<2.9,>=2.8->tensorflow==2.8.*->-r ../../requirements.txt (line 1)) (4.9)\n",
      "Requirement already satisfied: pyasn1-modules>=0.2.1 in /anaconda/envs/tf2.8/lib/python3.9/site-packages (from google-auth<3,>=1.6.3->tensorboard<2.9,>=2.8->tensorflow==2.8.*->-r ../../requirements.txt (line 1)) (0.2.8)\n",
      "Requirement already satisfied: cachetools<6.0,>=2.0.0 in /anaconda/envs/tf2.8/lib/python3.9/site-packages (from google-auth<3,>=1.6.3->tensorboard<2.9,>=2.8->tensorflow==2.8.*->-r ../../requirements.txt (line 1)) (5.3.0)\n",
      "Requirement already satisfied: requests-oauthlib>=0.7.0 in /anaconda/envs/tf2.8/lib/python3.9/site-packages (from google-auth-oauthlib<0.5,>=0.4.1->tensorboard<2.9,>=2.8->tensorflow==2.8.*->-r ../../requirements.txt (line 1)) (1.3.1)\n",
      "Requirement already satisfied: importlib-metadata>=4.4 in /anaconda/envs/tf2.8/lib/python3.9/site-packages (from markdown>=2.6.8->tensorboard<2.9,>=2.8->tensorflow==2.8.*->-r ../../requirements.txt (line 1)) (6.6.0)\n",
      "Requirement already satisfied: MarkupSafe>=2.1.1 in /anaconda/envs/tf2.8/lib/python3.9/site-packages (from werkzeug>=0.11.15->tensorboard<2.9,>=2.8->tensorflow==2.8.*->-r ../../requirements.txt (line 1)) (2.1.2)\n",
      "Requirement already satisfied: pyasn1<0.5.0,>=0.4.6 in /anaconda/envs/tf2.8/lib/python3.9/site-packages (from pyasn1-modules>=0.2.1->google-auth<3,>=1.6.3->tensorboard<2.9,>=2.8->tensorflow==2.8.*->-r ../../requirements.txt (line 1)) (0.4.8)\n",
      "Requirement already satisfied: oauthlib>=3.0.0 in /anaconda/envs/tf2.8/lib/python3.9/site-packages (from requests-oauthlib>=0.7.0->google-auth-oauthlib<0.5,>=0.4.1->tensorboard<2.9,>=2.8->tensorflow==2.8.*->-r ../../requirements.txt (line 1)) (3.2.2)\n",
      "Note: you may need to restart the kernel to use updated packages.\n"
     ]
    }
   ],
   "source": [
    "pip install -r ../../requirements.txt"
   ]
  },
  {
   "cell_type": "code",
   "execution_count": 2,
   "metadata": {},
   "outputs": [],
   "source": [
    "import os\n",
    "\n",
    "os.environ[\"CUDA_DEVICE_ORDER\"] = \"PCI_BUS_ID\"\n",
    "os.environ[\"CUDA_VISIBLE_DEVICES\"] = \"0\"\n",
    "os.environ[\"TF_FORCE_GPU_ALLOW_GROWTH\"] = \"true\""
   ]
  },
  {
   "cell_type": "code",
   "execution_count": 3,
   "metadata": {},
   "outputs": [],
   "source": [
    "# Add directory above current directory to path\n",
    "import sys\n",
    "\n",
    "sys.path.insert(0, '../..')"
   ]
  },
  {
   "cell_type": "code",
   "execution_count": 4,
   "metadata": {},
   "outputs": [],
   "source": [
    "import tensorflow as tf\n",
    "import pandas as pd\n",
    "import numpy as np\n",
    "import json\n",
    "from utils.text_processing import CharTokenizer"
   ]
  },
  {
   "cell_type": "code",
   "execution_count": 5,
   "metadata": {},
   "outputs": [
    {
     "name": "stderr",
     "output_type": "stream",
     "text": [
      "2023-06-10 16:38:49.699612: W tensorflow/core/common_runtime/gpu/gpu_bfc_allocator.cc:39] Overriding allow_growth setting because the TF_FORCE_GPU_ALLOW_GROWTH environment variable is set. Original config value was 0.\n"
     ]
    }
   ],
   "source": [
    "if tf.config.list_physical_devices('GPU'):\n",
    "    tf.config.experimental.get_memory_info(\"GPU:0\")"
   ]
  },
  {
   "cell_type": "code",
   "execution_count": 6,
   "metadata": {},
   "outputs": [],
   "source": [
    "config = json.load(open(\"./configs/mnn_btl_mscoco_supercategory.json\"))"
   ]
  },
  {
   "cell_type": "code",
   "execution_count": 7,
   "metadata": {},
   "outputs": [],
   "source": [
    "tmp_path = \"/mnt/azmnt/mscoco\""
   ]
  },
  {
   "cell_type": "code",
   "execution_count": 8,
   "metadata": {},
   "outputs": [
    {
     "data": {
      "text/html": [
       "<div>\n",
       "<style scoped>\n",
       "    .dataframe tbody tr th:only-of-type {\n",
       "        vertical-align: middle;\n",
       "    }\n",
       "\n",
       "    .dataframe tbody tr th {\n",
       "        vertical-align: top;\n",
       "    }\n",
       "\n",
       "    .dataframe thead th {\n",
       "        text-align: right;\n",
       "    }\n",
       "</style>\n",
       "<table border=\"1\" class=\"dataframe\">\n",
       "  <thead>\n",
       "    <tr style=\"text-align: right;\">\n",
       "      <th></th>\n",
       "      <th>description</th>\n",
       "      <th>path</th>\n",
       "      <th>category</th>\n",
       "      <th>label</th>\n",
       "    </tr>\n",
       "  </thead>\n",
       "  <tbody>\n",
       "    <tr>\n",
       "      <th>0</th>\n",
       "      <td>three buses driving up a road towards a man on...</td>\n",
       "      <td>COCO_train2014_000000109588.jpg</td>\n",
       "      <td>animal</td>\n",
       "      <td>0</td>\n",
       "    </tr>\n",
       "    <tr>\n",
       "      <th>1</th>\n",
       "      <td>there is a elephant that seems to be doing a t...</td>\n",
       "      <td>COCO_train2014_000000274467.jpg</td>\n",
       "      <td>person</td>\n",
       "      <td>1</td>\n",
       "    </tr>\n",
       "    <tr>\n",
       "      <th>2</th>\n",
       "      <td>a kfc bucket sign atop a tall post.</td>\n",
       "      <td>COCO_train2014_000000262541.jpg</td>\n",
       "      <td>person</td>\n",
       "      <td>0</td>\n",
       "    </tr>\n",
       "    <tr>\n",
       "      <th>3</th>\n",
       "      <td>many people walking holding luggage bags in a ...</td>\n",
       "      <td>COCO_train2014_000000277677.jpg</td>\n",
       "      <td>vehicle</td>\n",
       "      <td>0</td>\n",
       "    </tr>\n",
       "    <tr>\n",
       "      <th>4</th>\n",
       "      <td>a man is eating grating up carrots at a table.</td>\n",
       "      <td>COCO_train2014_000000410779.jpg</td>\n",
       "      <td>kitchen</td>\n",
       "      <td>1</td>\n",
       "    </tr>\n",
       "    <tr>\n",
       "      <th>...</th>\n",
       "      <td>...</td>\n",
       "      <td>...</td>\n",
       "      <td>...</td>\n",
       "      <td>...</td>\n",
       "    </tr>\n",
       "    <tr>\n",
       "      <th>795025</th>\n",
       "      <td>skiier riding down in this section of the moun...</td>\n",
       "      <td>COCO_train2014_000000298297.jpg</td>\n",
       "      <td>person</td>\n",
       "      <td>0</td>\n",
       "    </tr>\n",
       "    <tr>\n",
       "      <th>795026</th>\n",
       "      <td>two giraffes standing over each other in a bui...</td>\n",
       "      <td>COCO_train2014_000000222948.jpg</td>\n",
       "      <td>animal</td>\n",
       "      <td>1</td>\n",
       "    </tr>\n",
       "    <tr>\n",
       "      <th>795027</th>\n",
       "      <td>small tin can with mixed vegetables inside the...</td>\n",
       "      <td>COCO_train2014_000000261648.jpg</td>\n",
       "      <td>kitchen</td>\n",
       "      <td>1</td>\n",
       "    </tr>\n",
       "    <tr>\n",
       "      <th>795028</th>\n",
       "      <td>two giraffes some rocks and trees in their pen</td>\n",
       "      <td>COCO_train2014_000000294834.jpg</td>\n",
       "      <td>animal</td>\n",
       "      <td>1</td>\n",
       "    </tr>\n",
       "    <tr>\n",
       "      <th>795029</th>\n",
       "      <td>a bottle of cooking oil from a foreign country</td>\n",
       "      <td>COCO_train2014_000000132538.jpg</td>\n",
       "      <td>animal</td>\n",
       "      <td>0</td>\n",
       "    </tr>\n",
       "  </tbody>\n",
       "</table>\n",
       "<p>795030 rows × 4 columns</p>\n",
       "</div>"
      ],
      "text/plain": [
       "                                              description  \\\n",
       "0       three buses driving up a road towards a man on...   \n",
       "1       there is a elephant that seems to be doing a t...   \n",
       "2                     a kfc bucket sign atop a tall post.   \n",
       "3       many people walking holding luggage bags in a ...   \n",
       "4          a man is eating grating up carrots at a table.   \n",
       "...                                                   ...   \n",
       "795025  skiier riding down in this section of the moun...   \n",
       "795026  two giraffes standing over each other in a bui...   \n",
       "795027  small tin can with mixed vegetables inside the...   \n",
       "795028     two giraffes some rocks and trees in their pen   \n",
       "795029    a bottle of cooking oil from a foreign country    \n",
       "\n",
       "                                   path category  label  \n",
       "0       COCO_train2014_000000109588.jpg   animal      0  \n",
       "1       COCO_train2014_000000274467.jpg   person      1  \n",
       "2       COCO_train2014_000000262541.jpg   person      0  \n",
       "3       COCO_train2014_000000277677.jpg  vehicle      0  \n",
       "4       COCO_train2014_000000410779.jpg  kitchen      1  \n",
       "...                                 ...      ...    ...  \n",
       "795025  COCO_train2014_000000298297.jpg   person      0  \n",
       "795026  COCO_train2014_000000222948.jpg   animal      1  \n",
       "795027  COCO_train2014_000000261648.jpg  kitchen      1  \n",
       "795028  COCO_train2014_000000294834.jpg   animal      1  \n",
       "795029  COCO_train2014_000000132538.jpg   animal      0  \n",
       "\n",
       "[795030 rows x 4 columns]"
      ]
     },
     "execution_count": 8,
     "metadata": {},
     "output_type": "execute_result"
    }
   ],
   "source": [
    "train = pd.read_csv(os.path.join(config[\"data\"][\"path\"], \"train2014_supercategory.csv\"))\n",
    "train = train.drop({\"Unnamed: 0\"}, axis=1)\n",
    "train = train[['description', 'path', 'category', 'label']]\n",
    "train"
   ]
  },
  {
   "cell_type": "code",
   "execution_count": 9,
   "metadata": {},
   "outputs": [
    {
     "data": {
      "text/html": [
       "<div>\n",
       "<style scoped>\n",
       "    .dataframe tbody tr th:only-of-type {\n",
       "        vertical-align: middle;\n",
       "    }\n",
       "\n",
       "    .dataframe tbody tr th {\n",
       "        vertical-align: top;\n",
       "    }\n",
       "\n",
       "    .dataframe thead th {\n",
       "        text-align: right;\n",
       "    }\n",
       "</style>\n",
       "<table border=\"1\" class=\"dataframe\">\n",
       "  <thead>\n",
       "    <tr style=\"text-align: right;\">\n",
       "      <th></th>\n",
       "      <th>description</th>\n",
       "      <th>path</th>\n",
       "      <th>category</th>\n",
       "      <th>label</th>\n",
       "    </tr>\n",
       "  </thead>\n",
       "  <tbody>\n",
       "    <tr>\n",
       "      <th>0</th>\n",
       "      <td>two black bears in a wooded area at night.</td>\n",
       "      <td>COCO_val2014_000000071756.jpg</td>\n",
       "      <td>animal</td>\n",
       "      <td>1</td>\n",
       "    </tr>\n",
       "    <tr>\n",
       "      <th>1</th>\n",
       "      <td>this is a bathroom with a toilet, counter and ...</td>\n",
       "      <td>COCO_val2014_000000384850.jpg</td>\n",
       "      <td>furniture</td>\n",
       "      <td>1</td>\n",
       "    </tr>\n",
       "    <tr>\n",
       "      <th>2</th>\n",
       "      <td>a photograph of an outside with numerous thing...</td>\n",
       "      <td>COCO_val2014_000000572561.jpg</td>\n",
       "      <td>furniture</td>\n",
       "      <td>0</td>\n",
       "    </tr>\n",
       "    <tr>\n",
       "      <th>3</th>\n",
       "      <td>a man sets up his ties at  his store.</td>\n",
       "      <td>COCO_val2014_000000083476.jpg</td>\n",
       "      <td>vehicle</td>\n",
       "      <td>0</td>\n",
       "    </tr>\n",
       "    <tr>\n",
       "      <th>4</th>\n",
       "      <td>two apple computers are on a white desk</td>\n",
       "      <td>COCO_val2014_000000001503.jpg</td>\n",
       "      <td>electronic</td>\n",
       "      <td>1</td>\n",
       "    </tr>\n",
       "    <tr>\n",
       "      <th>...</th>\n",
       "      <td>...</td>\n",
       "      <td>...</td>\n",
       "      <td>...</td>\n",
       "      <td>...</td>\n",
       "    </tr>\n",
       "    <tr>\n",
       "      <th>392691</th>\n",
       "      <td>a bowl of soup contains fresh vegetables and a...</td>\n",
       "      <td>COCO_val2014_000000068217.jpg</td>\n",
       "      <td>sports</td>\n",
       "      <td>0</td>\n",
       "    </tr>\n",
       "    <tr>\n",
       "      <th>392692</th>\n",
       "      <td>a young boy throwing a baseball in a baseball ...</td>\n",
       "      <td>COCO_val2014_000000410493.jpg</td>\n",
       "      <td>furniture</td>\n",
       "      <td>0</td>\n",
       "    </tr>\n",
       "    <tr>\n",
       "      <th>392693</th>\n",
       "      <td>man in grey shirt laying down in a bed with do...</td>\n",
       "      <td>COCO_val2014_000000015565.jpg</td>\n",
       "      <td>person</td>\n",
       "      <td>0</td>\n",
       "    </tr>\n",
       "    <tr>\n",
       "      <th>392694</th>\n",
       "      <td>a room with a bed, lamp, curtains and pillows ...</td>\n",
       "      <td>COCO_val2014_000000542205.jpg</td>\n",
       "      <td>electronic</td>\n",
       "      <td>0</td>\n",
       "    </tr>\n",
       "    <tr>\n",
       "      <th>392695</th>\n",
       "      <td>a yellow pipe next to a bricked pavement and a...</td>\n",
       "      <td>COCO_val2014_000000465591.jpg</td>\n",
       "      <td>animal</td>\n",
       "      <td>0</td>\n",
       "    </tr>\n",
       "  </tbody>\n",
       "</table>\n",
       "<p>392696 rows × 4 columns</p>\n",
       "</div>"
      ],
      "text/plain": [
       "                                              description  \\\n",
       "0              two black bears in a wooded area at night.   \n",
       "1       this is a bathroom with a toilet, counter and ...   \n",
       "2       a photograph of an outside with numerous thing...   \n",
       "3                   a man sets up his ties at  his store.   \n",
       "4                 two apple computers are on a white desk   \n",
       "...                                                   ...   \n",
       "392691  a bowl of soup contains fresh vegetables and a...   \n",
       "392692  a young boy throwing a baseball in a baseball ...   \n",
       "392693  man in grey shirt laying down in a bed with do...   \n",
       "392694  a room with a bed, lamp, curtains and pillows ...   \n",
       "392695  a yellow pipe next to a bricked pavement and a...   \n",
       "\n",
       "                                 path    category  label  \n",
       "0       COCO_val2014_000000071756.jpg      animal      1  \n",
       "1       COCO_val2014_000000384850.jpg   furniture      1  \n",
       "2       COCO_val2014_000000572561.jpg   furniture      0  \n",
       "3       COCO_val2014_000000083476.jpg     vehicle      0  \n",
       "4       COCO_val2014_000000001503.jpg  electronic      1  \n",
       "...                               ...         ...    ...  \n",
       "392691  COCO_val2014_000000068217.jpg      sports      0  \n",
       "392692  COCO_val2014_000000410493.jpg   furniture      0  \n",
       "392693  COCO_val2014_000000015565.jpg      person      0  \n",
       "392694  COCO_val2014_000000542205.jpg  electronic      0  \n",
       "392695  COCO_val2014_000000465591.jpg      animal      0  \n",
       "\n",
       "[392696 rows x 4 columns]"
      ]
     },
     "execution_count": 9,
     "metadata": {},
     "output_type": "execute_result"
    }
   ],
   "source": [
    "val = pd.read_csv(os.path.join(config[\"data\"][\"path\"], \"val2014_supercategory.csv\"))\n",
    "val = val.drop({\"Unnamed: 0\"}, axis=1)\n",
    "val = val[['description', 'path', 'category', 'label']]\n",
    "val"
   ]
  },
  {
   "cell_type": "code",
   "execution_count": 10,
   "metadata": {},
   "outputs": [],
   "source": [
    "img_train = train[[\"path\"]]  # two brackets for keeping the column name\n",
    "text_train = train[\"description\"]\n",
    "categories_train = train[[\"category\"]]\n",
    "labels_train = train[[\"label\"]]"
   ]
  },
  {
   "cell_type": "code",
   "execution_count": 11,
   "metadata": {},
   "outputs": [],
   "source": [
    "img_val = val[[\"path\"]]  # two brackets for keeping the column name\n",
    "text_val = val[\"description\"]\n",
    "categories_val = val[[\"category\"]]\n",
    "labels_val = val[[\"label\"]]"
   ]
  },
  {
   "cell_type": "markdown",
   "metadata": {},
   "source": [
    "# Loading data"
   ]
  },
  {
   "cell_type": "markdown",
   "metadata": {},
   "source": [
    "# Text processing"
   ]
  },
  {
   "cell_type": "markdown",
   "metadata": {},
   "source": [
    "## Tokenize texts"
   ]
  },
  {
   "cell_type": "code",
   "execution_count": 12,
   "metadata": {},
   "outputs": [
    {
     "data": {
      "text/plain": [
       "(795030, 1014)"
      ]
     },
     "execution_count": 12,
     "metadata": {},
     "output_type": "execute_result"
    }
   ],
   "source": [
    "tk = CharTokenizer(config[\"data\"][\"alphabet\"])\n",
    "text_train = tk.tokenize(text_train)\n",
    "text_train.shape"
   ]
  },
  {
   "cell_type": "code",
   "execution_count": 13,
   "metadata": {},
   "outputs": [
    {
     "data": {
      "text/plain": [
       "(392696, 1014)"
      ]
     },
     "execution_count": 13,
     "metadata": {},
     "output_type": "execute_result"
    }
   ],
   "source": [
    "text_val = tk.tokenize(text_val)\n",
    "text_val.shape"
   ]
  },
  {
   "cell_type": "markdown",
   "metadata": {},
   "source": [
    "## Create embedding weights"
   ]
  },
  {
   "cell_type": "code",
   "execution_count": 14,
   "metadata": {},
   "outputs": [
    {
     "data": {
      "text/plain": [
       "(66, 65)"
      ]
     },
     "execution_count": 14,
     "metadata": {},
     "output_type": "execute_result"
    }
   ],
   "source": [
    "weights = tk.create_embedding_weights()\n",
    "weights.shape"
   ]
  },
  {
   "cell_type": "markdown",
   "metadata": {},
   "source": [
    "# Image processing"
   ]
  },
  {
   "cell_type": "markdown",
   "metadata": {},
   "source": [
    "## Load image model"
   ]
  },
  {
   "cell_type": "code",
   "execution_count": 15,
   "metadata": {},
   "outputs": [],
   "source": [
    "from utils.img_processing import load_img_model, create_embeddings_from"
   ]
  },
  {
   "cell_type": "code",
   "execution_count": 16,
   "metadata": {},
   "outputs": [
    {
     "name": "stdout",
     "output_type": "stream",
     "text": [
      "WARNING:tensorflow:`input_shape` is undefined or non-square, or `rows` is not 224. Weights for input shape (224, 224) will be loaded as the default.\n"
     ]
    },
    {
     "data": {
      "text/plain": [
       "(None, 576)"
      ]
     },
     "execution_count": 16,
     "metadata": {},
     "output_type": "execute_result"
    }
   ],
   "source": [
    "img_model = load_img_model(config[\"img_model\"])\n",
    "\n",
    "img_model.output_shape"
   ]
  },
  {
   "cell_type": "markdown",
   "metadata": {},
   "source": [
    "## Create image embeddings"
   ]
  },
  {
   "cell_type": "code",
   "execution_count": 17,
   "metadata": {},
   "outputs": [
    {
     "name": "stdout",
     "output_type": "stream",
     "text": [
      "Found 795030 validated image filenames.\n"
     ]
    }
   ],
   "source": [
    "# Mobilenetv3small:\n",
    "# batch_size = 1024 -> 8 GB VRAM\n",
    "# batch_size = 2048 -> 16 GB VRAM\n",
    "# ...\n",
    "# Mobilenetv3large: twice as much as Mobilenetv3small\n",
    "\n",
    "img_train = create_embeddings_from(img_model,\n",
    "                                    img_train,\n",
    "                                    os.path.join(tmp_path,\n",
    "                                                \"train2014\"),\n",
    "                                    batch_size=1024)"
   ]
  },
  {
   "cell_type": "code",
   "execution_count": 18,
   "metadata": {},
   "outputs": [
    {
     "data": {
      "text/plain": [
       "(795030, 576)"
      ]
     },
     "execution_count": 18,
     "metadata": {},
     "output_type": "execute_result"
    }
   ],
   "source": [
    "img_train.shape"
   ]
  },
  {
   "cell_type": "code",
   "execution_count": 19,
   "metadata": {},
   "outputs": [
    {
     "name": "stdout",
     "output_type": "stream",
     "text": [
      "Found 392696 validated image filenames.\n"
     ]
    }
   ],
   "source": [
    "img_val = create_embeddings_from(img_model,\n",
    "                                    img_val,\n",
    "                                    os.path.join(tmp_path,\n",
    "                                                \"val2014\"),\n",
    "                                    batch_size=1024)"
   ]
  },
  {
   "cell_type": "code",
   "execution_count": 20,
   "metadata": {},
   "outputs": [
    {
     "data": {
      "text/plain": [
       "(392696, 576)"
      ]
     },
     "execution_count": 20,
     "metadata": {},
     "output_type": "execute_result"
    }
   ],
   "source": [
    "img_val.shape"
   ]
  },
  {
   "cell_type": "markdown",
   "metadata": {},
   "source": [
    "# Save embeddings"
   ]
  },
  {
   "cell_type": "code",
   "execution_count": 21,
   "metadata": {},
   "outputs": [],
   "source": [
    "save_path = os.path.join(tmp_path,\n",
    "                         f\"embeddings/{img_model.name}\")"
   ]
  },
  {
   "cell_type": "code",
   "execution_count": 22,
   "metadata": {},
   "outputs": [],
   "source": [
    "os.makedirs(save_path, exist_ok=True)\n",
    "np.save(f\"{save_path}/img_train.npy\", img_train)\n",
    "np.save(f\"{save_path}/text_train.npy\", text_train)\n",
    "train.to_csv(f\"{save_path}/train.csv\")"
   ]
  },
  {
   "cell_type": "code",
   "execution_count": 23,
   "metadata": {},
   "outputs": [],
   "source": [
    "np.save(f\"{save_path}/img_val.npy\", img_val)\n",
    "np.save(f\"{save_path}/text_val.npy\", text_val)\n",
    "val.to_csv(f\"{save_path}/val.csv\")"
   ]
  },
  {
   "cell_type": "markdown",
   "metadata": {},
   "source": [
    "## Verify import"
   ]
  },
  {
   "cell_type": "code",
   "execution_count": 24,
   "metadata": {},
   "outputs": [
    {
     "data": {
      "text/html": [
       "<div>\n",
       "<style scoped>\n",
       "    .dataframe tbody tr th:only-of-type {\n",
       "        vertical-align: middle;\n",
       "    }\n",
       "\n",
       "    .dataframe tbody tr th {\n",
       "        vertical-align: top;\n",
       "    }\n",
       "\n",
       "    .dataframe thead th {\n",
       "        text-align: right;\n",
       "    }\n",
       "</style>\n",
       "<table border=\"1\" class=\"dataframe\">\n",
       "  <thead>\n",
       "    <tr style=\"text-align: right;\">\n",
       "      <th></th>\n",
       "      <th>description</th>\n",
       "      <th>path</th>\n",
       "      <th>category</th>\n",
       "      <th>label</th>\n",
       "    </tr>\n",
       "  </thead>\n",
       "  <tbody>\n",
       "    <tr>\n",
       "      <th>0</th>\n",
       "      <td>three buses driving up a road towards a man on...</td>\n",
       "      <td>COCO_train2014_000000109588.jpg</td>\n",
       "      <td>animal</td>\n",
       "      <td>0</td>\n",
       "    </tr>\n",
       "    <tr>\n",
       "      <th>1</th>\n",
       "      <td>there is a elephant that seems to be doing a t...</td>\n",
       "      <td>COCO_train2014_000000274467.jpg</td>\n",
       "      <td>person</td>\n",
       "      <td>1</td>\n",
       "    </tr>\n",
       "    <tr>\n",
       "      <th>2</th>\n",
       "      <td>a kfc bucket sign atop a tall post.</td>\n",
       "      <td>COCO_train2014_000000262541.jpg</td>\n",
       "      <td>person</td>\n",
       "      <td>0</td>\n",
       "    </tr>\n",
       "    <tr>\n",
       "      <th>3</th>\n",
       "      <td>many people walking holding luggage bags in a ...</td>\n",
       "      <td>COCO_train2014_000000277677.jpg</td>\n",
       "      <td>vehicle</td>\n",
       "      <td>0</td>\n",
       "    </tr>\n",
       "    <tr>\n",
       "      <th>4</th>\n",
       "      <td>a man is eating grating up carrots at a table.</td>\n",
       "      <td>COCO_train2014_000000410779.jpg</td>\n",
       "      <td>kitchen</td>\n",
       "      <td>1</td>\n",
       "    </tr>\n",
       "    <tr>\n",
       "      <th>...</th>\n",
       "      <td>...</td>\n",
       "      <td>...</td>\n",
       "      <td>...</td>\n",
       "      <td>...</td>\n",
       "    </tr>\n",
       "    <tr>\n",
       "      <th>795025</th>\n",
       "      <td>skiier riding down in this section of the moun...</td>\n",
       "      <td>COCO_train2014_000000298297.jpg</td>\n",
       "      <td>person</td>\n",
       "      <td>0</td>\n",
       "    </tr>\n",
       "    <tr>\n",
       "      <th>795026</th>\n",
       "      <td>two giraffes standing over each other in a bui...</td>\n",
       "      <td>COCO_train2014_000000222948.jpg</td>\n",
       "      <td>animal</td>\n",
       "      <td>1</td>\n",
       "    </tr>\n",
       "    <tr>\n",
       "      <th>795027</th>\n",
       "      <td>small tin can with mixed vegetables inside the...</td>\n",
       "      <td>COCO_train2014_000000261648.jpg</td>\n",
       "      <td>kitchen</td>\n",
       "      <td>1</td>\n",
       "    </tr>\n",
       "    <tr>\n",
       "      <th>795028</th>\n",
       "      <td>two giraffes some rocks and trees in their pen</td>\n",
       "      <td>COCO_train2014_000000294834.jpg</td>\n",
       "      <td>animal</td>\n",
       "      <td>1</td>\n",
       "    </tr>\n",
       "    <tr>\n",
       "      <th>795029</th>\n",
       "      <td>a bottle of cooking oil from a foreign country</td>\n",
       "      <td>COCO_train2014_000000132538.jpg</td>\n",
       "      <td>animal</td>\n",
       "      <td>0</td>\n",
       "    </tr>\n",
       "  </tbody>\n",
       "</table>\n",
       "<p>795030 rows × 4 columns</p>\n",
       "</div>"
      ],
      "text/plain": [
       "                                              description  \\\n",
       "0       three buses driving up a road towards a man on...   \n",
       "1       there is a elephant that seems to be doing a t...   \n",
       "2                     a kfc bucket sign atop a tall post.   \n",
       "3       many people walking holding luggage bags in a ...   \n",
       "4          a man is eating grating up carrots at a table.   \n",
       "...                                                   ...   \n",
       "795025  skiier riding down in this section of the moun...   \n",
       "795026  two giraffes standing over each other in a bui...   \n",
       "795027  small tin can with mixed vegetables inside the...   \n",
       "795028     two giraffes some rocks and trees in their pen   \n",
       "795029    a bottle of cooking oil from a foreign country    \n",
       "\n",
       "                                   path category  label  \n",
       "0       COCO_train2014_000000109588.jpg   animal      0  \n",
       "1       COCO_train2014_000000274467.jpg   person      1  \n",
       "2       COCO_train2014_000000262541.jpg   person      0  \n",
       "3       COCO_train2014_000000277677.jpg  vehicle      0  \n",
       "4       COCO_train2014_000000410779.jpg  kitchen      1  \n",
       "...                                 ...      ...    ...  \n",
       "795025  COCO_train2014_000000298297.jpg   person      0  \n",
       "795026  COCO_train2014_000000222948.jpg   animal      1  \n",
       "795027  COCO_train2014_000000261648.jpg  kitchen      1  \n",
       "795028  COCO_train2014_000000294834.jpg   animal      1  \n",
       "795029  COCO_train2014_000000132538.jpg   animal      0  \n",
       "\n",
       "[795030 rows x 4 columns]"
      ]
     },
     "execution_count": 24,
     "metadata": {},
     "output_type": "execute_result"
    }
   ],
   "source": [
    "train = pd.read_csv(f\"{save_path}/train.csv\")\n",
    "train = train.drop({\"Unnamed: 0\"}, axis=1)\n",
    "train"
   ]
  },
  {
   "cell_type": "code",
   "execution_count": 25,
   "metadata": {},
   "outputs": [
    {
     "data": {
      "text/plain": [
       "(795030, 576)"
      ]
     },
     "execution_count": 25,
     "metadata": {},
     "output_type": "execute_result"
    }
   ],
   "source": [
    "img_train = np.load(f\"{save_path}/img_train.npy\", allow_pickle=True)\n",
    "img_train.shape"
   ]
  },
  {
   "cell_type": "code",
   "execution_count": 26,
   "metadata": {},
   "outputs": [
    {
     "data": {
      "text/plain": [
       "(795030, 1014)"
      ]
     },
     "execution_count": 26,
     "metadata": {},
     "output_type": "execute_result"
    }
   ],
   "source": [
    "text_train = np.load(f\"{save_path}/text_train.npy\", allow_pickle=True)\n",
    "text_train.shape"
   ]
  },
  {
   "cell_type": "code",
   "execution_count": 27,
   "metadata": {},
   "outputs": [
    {
     "data": {
      "text/html": [
       "<div>\n",
       "<style scoped>\n",
       "    .dataframe tbody tr th:only-of-type {\n",
       "        vertical-align: middle;\n",
       "    }\n",
       "\n",
       "    .dataframe tbody tr th {\n",
       "        vertical-align: top;\n",
       "    }\n",
       "\n",
       "    .dataframe thead th {\n",
       "        text-align: right;\n",
       "    }\n",
       "</style>\n",
       "<table border=\"1\" class=\"dataframe\">\n",
       "  <thead>\n",
       "    <tr style=\"text-align: right;\">\n",
       "      <th></th>\n",
       "      <th>description</th>\n",
       "      <th>path</th>\n",
       "      <th>category</th>\n",
       "      <th>label</th>\n",
       "    </tr>\n",
       "  </thead>\n",
       "  <tbody>\n",
       "    <tr>\n",
       "      <th>0</th>\n",
       "      <td>two black bears in a wooded area at night.</td>\n",
       "      <td>COCO_val2014_000000071756.jpg</td>\n",
       "      <td>animal</td>\n",
       "      <td>1</td>\n",
       "    </tr>\n",
       "    <tr>\n",
       "      <th>1</th>\n",
       "      <td>this is a bathroom with a toilet, counter and ...</td>\n",
       "      <td>COCO_val2014_000000384850.jpg</td>\n",
       "      <td>furniture</td>\n",
       "      <td>1</td>\n",
       "    </tr>\n",
       "    <tr>\n",
       "      <th>2</th>\n",
       "      <td>a photograph of an outside with numerous thing...</td>\n",
       "      <td>COCO_val2014_000000572561.jpg</td>\n",
       "      <td>furniture</td>\n",
       "      <td>0</td>\n",
       "    </tr>\n",
       "    <tr>\n",
       "      <th>3</th>\n",
       "      <td>a man sets up his ties at  his store.</td>\n",
       "      <td>COCO_val2014_000000083476.jpg</td>\n",
       "      <td>vehicle</td>\n",
       "      <td>0</td>\n",
       "    </tr>\n",
       "    <tr>\n",
       "      <th>4</th>\n",
       "      <td>two apple computers are on a white desk</td>\n",
       "      <td>COCO_val2014_000000001503.jpg</td>\n",
       "      <td>electronic</td>\n",
       "      <td>1</td>\n",
       "    </tr>\n",
       "    <tr>\n",
       "      <th>...</th>\n",
       "      <td>...</td>\n",
       "      <td>...</td>\n",
       "      <td>...</td>\n",
       "      <td>...</td>\n",
       "    </tr>\n",
       "    <tr>\n",
       "      <th>392691</th>\n",
       "      <td>a bowl of soup contains fresh vegetables and a...</td>\n",
       "      <td>COCO_val2014_000000068217.jpg</td>\n",
       "      <td>sports</td>\n",
       "      <td>0</td>\n",
       "    </tr>\n",
       "    <tr>\n",
       "      <th>392692</th>\n",
       "      <td>a young boy throwing a baseball in a baseball ...</td>\n",
       "      <td>COCO_val2014_000000410493.jpg</td>\n",
       "      <td>furniture</td>\n",
       "      <td>0</td>\n",
       "    </tr>\n",
       "    <tr>\n",
       "      <th>392693</th>\n",
       "      <td>man in grey shirt laying down in a bed with do...</td>\n",
       "      <td>COCO_val2014_000000015565.jpg</td>\n",
       "      <td>person</td>\n",
       "      <td>0</td>\n",
       "    </tr>\n",
       "    <tr>\n",
       "      <th>392694</th>\n",
       "      <td>a room with a bed, lamp, curtains and pillows ...</td>\n",
       "      <td>COCO_val2014_000000542205.jpg</td>\n",
       "      <td>electronic</td>\n",
       "      <td>0</td>\n",
       "    </tr>\n",
       "    <tr>\n",
       "      <th>392695</th>\n",
       "      <td>a yellow pipe next to a bricked pavement and a...</td>\n",
       "      <td>COCO_val2014_000000465591.jpg</td>\n",
       "      <td>animal</td>\n",
       "      <td>0</td>\n",
       "    </tr>\n",
       "  </tbody>\n",
       "</table>\n",
       "<p>392696 rows × 4 columns</p>\n",
       "</div>"
      ],
      "text/plain": [
       "                                              description  \\\n",
       "0              two black bears in a wooded area at night.   \n",
       "1       this is a bathroom with a toilet, counter and ...   \n",
       "2       a photograph of an outside with numerous thing...   \n",
       "3                   a man sets up his ties at  his store.   \n",
       "4                 two apple computers are on a white desk   \n",
       "...                                                   ...   \n",
       "392691  a bowl of soup contains fresh vegetables and a...   \n",
       "392692  a young boy throwing a baseball in a baseball ...   \n",
       "392693  man in grey shirt laying down in a bed with do...   \n",
       "392694  a room with a bed, lamp, curtains and pillows ...   \n",
       "392695  a yellow pipe next to a bricked pavement and a...   \n",
       "\n",
       "                                 path    category  label  \n",
       "0       COCO_val2014_000000071756.jpg      animal      1  \n",
       "1       COCO_val2014_000000384850.jpg   furniture      1  \n",
       "2       COCO_val2014_000000572561.jpg   furniture      0  \n",
       "3       COCO_val2014_000000083476.jpg     vehicle      0  \n",
       "4       COCO_val2014_000000001503.jpg  electronic      1  \n",
       "...                               ...         ...    ...  \n",
       "392691  COCO_val2014_000000068217.jpg      sports      0  \n",
       "392692  COCO_val2014_000000410493.jpg   furniture      0  \n",
       "392693  COCO_val2014_000000015565.jpg      person      0  \n",
       "392694  COCO_val2014_000000542205.jpg  electronic      0  \n",
       "392695  COCO_val2014_000000465591.jpg      animal      0  \n",
       "\n",
       "[392696 rows x 4 columns]"
      ]
     },
     "execution_count": 27,
     "metadata": {},
     "output_type": "execute_result"
    }
   ],
   "source": [
    "val = pd.read_csv(f\"{save_path}/val.csv\")\n",
    "val = val.drop({\"Unnamed: 0\"}, axis=1)\n",
    "val"
   ]
  },
  {
   "cell_type": "code",
   "execution_count": 28,
   "metadata": {},
   "outputs": [
    {
     "data": {
      "text/plain": [
       "(392696, 576)"
      ]
     },
     "execution_count": 28,
     "metadata": {},
     "output_type": "execute_result"
    }
   ],
   "source": [
    "img_val = np.load(f\"{save_path}/img_val.npy\", allow_pickle=True)\n",
    "img_val.shape"
   ]
  },
  {
   "cell_type": "code",
   "execution_count": 29,
   "metadata": {},
   "outputs": [
    {
     "data": {
      "text/plain": [
       "(392696, 1014)"
      ]
     },
     "execution_count": 29,
     "metadata": {},
     "output_type": "execute_result"
    }
   ],
   "source": [
    "text_val = np.load(f\"{save_path}/text_val.npy\", allow_pickle=True)\n",
    "text_val.shape"
   ]
  },
  {
   "cell_type": "markdown",
   "metadata": {},
   "source": [
    "# Train-Test Split"
   ]
  },
  {
   "cell_type": "markdown",
   "metadata": {},
   "source": [
    "## Split into ground truth/false samples"
   ]
  },
  {
   "cell_type": "code",
   "execution_count": 30,
   "metadata": {},
   "outputs": [],
   "source": [
    "ground_truth_train = train[train[\"label\"] == 1]\n",
    "train_false = train[train[\"label\"] == 0]\n",
    "train = ground_truth_train\n",
    "\n",
    "ground_truth_val = val[val[\"label\"] == 1]\n",
    "val_false = val[val[\"label\"] == 0]\n",
    "val = ground_truth_val"
   ]
  },
  {
   "cell_type": "code",
   "execution_count": 31,
   "metadata": {},
   "outputs": [],
   "source": [
    "img_train_false = img_train[train_false.index]\n",
    "text_train_false = text_train[train_false.index]\n",
    "\n",
    "img_val_false = img_val[val_false.index]\n",
    "text_val_false = text_val[val_false.index]"
   ]
  },
  {
   "cell_type": "code",
   "execution_count": 32,
   "metadata": {},
   "outputs": [],
   "source": [
    "img_train = img_train[train.index]\n",
    "text_train = text_train[train.index]\n",
    "\n",
    "img_val = img_val[val.index]\n",
    "text_val = text_val[val.index]"
   ]
  },
  {
   "cell_type": "code",
   "execution_count": 33,
   "metadata": {},
   "outputs": [],
   "source": [
    "train = train.reset_index(drop=True)\n",
    "train_false = train_false.reset_index(drop=True)\n",
    "\n",
    "val = val.reset_index(drop=True)\n",
    "val_false = val_false.reset_index(drop=True)"
   ]
  },
  {
   "cell_type": "markdown",
   "metadata": {},
   "source": [
    "## Ground truth"
   ]
  },
  {
   "cell_type": "code",
   "execution_count": 34,
   "metadata": {},
   "outputs": [],
   "source": [
    "train[\"category_count\"] = train.groupby(\n",
    "    [\"category\"])[\"category\"].transform(\"count\")\n",
    "\n",
    "train = train[train[\"category_count\"] > config[\"data\"][\"cls\"]]"
   ]
  },
  {
   "cell_type": "code",
   "execution_count": 35,
   "metadata": {},
   "outputs": [],
   "source": [
    "val[\"category_count\"] = val.groupby(\n",
    "    [\"category\"])[\"category\"].transform(\"count\")\n",
    "\n",
    "val = val[val[\"category_count\"] > config[\"data\"][\"cls\"]]"
   ]
  },
  {
   "cell_type": "code",
   "execution_count": 36,
   "metadata": {},
   "outputs": [],
   "source": [
    "# Update both columns\n",
    "categories_train = train[[\"category\"]]\n",
    "\n",
    "labels_train = train[[\"label\"]]"
   ]
  },
  {
   "cell_type": "code",
   "execution_count": 37,
   "metadata": {},
   "outputs": [],
   "source": [
    "# Update both columns\n",
    "categories_val = val[[\"category\"]]\n",
    "\n",
    "labels_val = val[[\"label\"]]"
   ]
  },
  {
   "cell_type": "code",
   "execution_count": 38,
   "metadata": {},
   "outputs": [],
   "source": [
    "img_train = img_train[train.index]\n",
    "text_train = text_train[train.index]\n",
    "\n",
    "img_val = img_val[val.index]\n",
    "text_val = text_val[val.index]"
   ]
  },
  {
   "cell_type": "markdown",
   "metadata": {},
   "source": [
    "## False samples"
   ]
  },
  {
   "cell_type": "code",
   "execution_count": 39,
   "metadata": {},
   "outputs": [],
   "source": [
    "train_false[\"category_count\"] = train_false.groupby(\n",
    "    [\"category\"])[\"category\"].transform(\"count\")\n",
    "\n",
    "train_false = train_false[train_false[\"category_count\"] > config[\"data\"][\"cls\"]]"
   ]
  },
  {
   "cell_type": "code",
   "execution_count": 40,
   "metadata": {},
   "outputs": [],
   "source": [
    "val_false[\"category_count\"] = val_false.groupby(\n",
    "    [\"category\"])[\"category\"].transform(\"count\")\n",
    "\n",
    "val_false = val_false[val_false[\"category_count\"] > config[\"data\"][\"cls\"]]"
   ]
  },
  {
   "cell_type": "code",
   "execution_count": 41,
   "metadata": {},
   "outputs": [],
   "source": [
    "# Update both columns\n",
    "categories_train_false = train_false[[\"category\"]]\n",
    "\n",
    "labels_train_false = train_false[[\"label\"]]"
   ]
  },
  {
   "cell_type": "code",
   "execution_count": 42,
   "metadata": {},
   "outputs": [],
   "source": [
    "# Update both columns\n",
    "categories_val_false = val_false[[\"category\"]]\n",
    "\n",
    "labels_val_false = val_false[[\"label\"]]"
   ]
  },
  {
   "cell_type": "code",
   "execution_count": 43,
   "metadata": {},
   "outputs": [],
   "source": [
    "img_train_false = img_train_false[train_false.index]\n",
    "text_train_false = text_train_false[train_false.index]\n",
    "\n",
    "img_val_false = img_val_false[val_false.index]\n",
    "text_val_false = text_val_false[val_false.index]"
   ]
  },
  {
   "cell_type": "markdown",
   "metadata": {},
   "source": [
    "# Save Char CNN config"
   ]
  },
  {
   "cell_type": "code",
   "execution_count": 44,
   "metadata": {},
   "outputs": [],
   "source": [
    "from models.char_cnn_zhang import CharCNNZhang"
   ]
  },
  {
   "cell_type": "code",
   "execution_count": 45,
   "metadata": {},
   "outputs": [],
   "source": [
    "char_cnn_config = {\n",
    "    \"input_size\": config[\"data\"][\"input_size\"],\n",
    "    \"embedding_size\": len(tk.word_index),\n",
    "    \"conv_layers\": config[\"char_cnn_zhang\"][\"conv_layers\"],\n",
    "    \"fc_layers\": config[\"char_cnn_zhang\"][\"fc_layers\"],\n",
    "    \"output_size\": config[\"char_cnn_zhang\"][\"output_size\"],\n",
    "    \"embedding_weights\": weights\n",
    "}"
   ]
  },
  {
   "cell_type": "code",
   "execution_count": 46,
   "metadata": {},
   "outputs": [],
   "source": [
    "char_cnn = CharCNNZhang(**char_cnn_config)"
   ]
  },
  {
   "cell_type": "markdown",
   "metadata": {},
   "source": [
    "# Build MNN-BTL Model"
   ]
  },
  {
   "cell_type": "code",
   "execution_count": 47,
   "metadata": {},
   "outputs": [],
   "source": [
    "from models.mnn_btl import MNNBTL\n",
    "from utils.metrics import create_metrics"
   ]
  },
  {
   "cell_type": "code",
   "execution_count": 48,
   "metadata": {},
   "outputs": [],
   "source": [
    "head_config = {\n",
    "    \"img_input_size\": img_model.layers[-1].output_shape[1],\n",
    "    \"txt_input_size\": config[\"data\"][\"input_size\"],\n",
    "    \"img_fc_layers\": config[\"model\"][\"img_fc_layers\"],\n",
    "    \"txt_fc_layers\": config[\"model\"][\"txt_fc_layers\"],\n",
    "    \"extended\": False,\n",
    "}"
   ]
  },
  {
   "cell_type": "code",
   "execution_count": 49,
   "metadata": {},
   "outputs": [],
   "source": [
    "mnn_btl = MNNBTL(\n",
    "    head_config=head_config,\n",
    "    char_cnn=char_cnn.model,\n",
    "    learning_rate=config[\"model\"][\"training\"][\"learning_rate\"])"
   ]
  },
  {
   "cell_type": "code",
   "execution_count": 50,
   "metadata": {},
   "outputs": [
    {
     "name": "stdout",
     "output_type": "stream",
     "text": [
      "Model: \"MNN_BTL\"\n",
      "__________________________________________________________________________________________________\n",
      " Layer (type)                   Output Shape         Param #     Connected to                     \n",
      "==================================================================================================\n",
      " Image_Input_Head_Outer (InputL  [(None, 576)]       0           []                               \n",
      " ayer)                                                                                            \n",
      "                                                                                                  \n",
      " Text_Input_Head_Outer (InputLa  [(None, 1014)]      0           []                               \n",
      " yer)                                                                                             \n",
      "                                                                                                  \n",
      " Image_CNN (Functional)         (None, 512)          1115648     ['Image_Input_Head_Outer[0][0]'] \n",
      "|¯¯¯¯¯¯¯¯¯¯¯¯¯¯¯¯¯¯¯¯¯¯¯¯¯¯¯¯¯¯¯¯¯¯¯¯¯¯¯¯¯¯¯¯¯¯¯¯¯¯¯¯¯¯¯¯¯¯¯¯¯¯¯¯¯¯¯¯¯¯¯¯¯¯¯¯¯¯¯¯¯¯¯¯¯¯¯¯¯¯¯¯¯¯¯¯|\n",
      "| Image_Input_Head_Inner (InputL  [(None, 576)]     0           []                               |\n",
      "| ayer)                                                                                          |\n",
      "|                                                                                                |\n",
      "| Image_FC_1 (Dense)           (None, 1024)         590848      []                               |\n",
      "|                                                                                                |\n",
      "| Image_FC_last (Dense)        (None, 512)          524800      []                               |\n",
      "|                                                                                                |\n",
      "| Image_L2_Norm (Lambda)       (None, 512)          0           []                               |\n",
      "¯¯¯¯¯¯¯¯¯¯¯¯¯¯¯¯¯¯¯¯¯¯¯¯¯¯¯¯¯¯¯¯¯¯¯¯¯¯¯¯¯¯¯¯¯¯¯¯¯¯¯¯¯¯¯¯¯¯¯¯¯¯¯¯¯¯¯¯¯¯¯¯¯¯¯¯¯¯¯¯¯¯¯¯¯¯¯¯¯¯¯¯¯¯¯¯¯¯\n",
      " Text_CNN (Functional)          (None, 512)          16053186    ['Text_Input_Head_Outer[0][0]']  \n",
      "|¯¯¯¯¯¯¯¯¯¯¯¯¯¯¯¯¯¯¯¯¯¯¯¯¯¯¯¯¯¯¯¯¯¯¯¯¯¯¯¯¯¯¯¯¯¯¯¯¯¯¯¯¯¯¯¯¯¯¯¯¯¯¯¯¯¯¯¯¯¯¯¯¯¯¯¯¯¯¯¯¯¯¯¯¯¯¯¯¯¯¯¯¯¯¯¯|\n",
      "| Text_Input_Head_Outer (InputLa  [(None, 1014)]    0           []                               |\n",
      "| yer)                                                                                           |\n",
      "|                                                                                                |\n",
      "| Character_Level_CNN (Functiona  (None, 2048)      13430210    []                               |\n",
      "| l)                                                                                             |\n",
      "||¯¯¯¯¯¯¯¯¯¯¯¯¯¯¯¯¯¯¯¯¯¯¯¯¯¯¯¯¯¯¯¯¯¯¯¯¯¯¯¯¯¯¯¯¯¯¯¯¯¯¯¯¯¯¯¯¯¯¯¯¯¯¯¯¯¯¯¯¯¯¯¯¯¯¯¯¯¯¯¯¯¯¯¯¯¯¯¯¯¯¯¯¯¯||\n",
      "|| sent_input (InputLayer)    [(None, 1014)]       0           []                               ||\n",
      "||                                                                                              ||\n",
      "|| embedding (Embedding)      (None, 1014, 65)     4290        []                               ||\n",
      "||                                                                                              ||\n",
      "|| conv1d (Conv1D)            (None, 1008, 256)    116736      []                               ||\n",
      "||                                                                                              ||\n",
      "|| activation (Activation)    (None, 1008, 256)    0           []                               ||\n",
      "||                                                                                              ||\n",
      "|| max_pooling1d (MaxPooling1D)  (None, 336, 256)  0           []                               ||\n",
      "||                                                                                              ||\n",
      "|| conv1d_1 (Conv1D)          (None, 330, 256)     459008      []                               ||\n",
      "||                                                                                              ||\n",
      "|| activation_1 (Activation)  (None, 330, 256)     0           []                               ||\n",
      "||                                                                                              ||\n",
      "|| max_pooling1d_1 (MaxPooling1D)  (None, 110, 256)  0         []                               ||\n",
      "||                                                                                              ||\n",
      "|| conv1d_2 (Conv1D)          (None, 108, 256)     196864      []                               ||\n",
      "||                                                                                              ||\n",
      "|| activation_2 (Activation)  (None, 108, 256)     0           []                               ||\n",
      "||                                                                                              ||\n",
      "|| conv1d_3 (Conv1D)          (None, 106, 256)     196864      []                               ||\n",
      "||                                                                                              ||\n",
      "|| activation_3 (Activation)  (None, 106, 256)     0           []                               ||\n",
      "||                                                                                              ||\n",
      "|| conv1d_4 (Conv1D)          (None, 104, 256)     196864      []                               ||\n",
      "||                                                                                              ||\n",
      "|| activation_4 (Activation)  (None, 104, 256)     0           []                               ||\n",
      "||                                                                                              ||\n",
      "|| conv1d_5 (Conv1D)          (None, 102, 256)     196864      []                               ||\n",
      "||                                                                                              ||\n",
      "|| activation_5 (Activation)  (None, 102, 256)     0           []                               ||\n",
      "||                                                                                              ||\n",
      "|| max_pooling1d_2 (MaxPooling1D)  (None, 34, 256)  0          []                               ||\n",
      "||                                                                                              ||\n",
      "|| flatten (Flatten)          (None, 8704)         0           []                               ||\n",
      "||                                                                                              ||\n",
      "|| dense (Dense)              (None, 1024)         8913920     []                               ||\n",
      "||                                                                                              ||\n",
      "|| dense_1 (Dense)            (None, 1024)         1049600     []                               ||\n",
      "||                                                                                              ||\n",
      "|| dense_2 (Dense)            (None, 2048)         2099200     []                               ||\n",
      "|¯¯¯¯¯¯¯¯¯¯¯¯¯¯¯¯¯¯¯¯¯¯¯¯¯¯¯¯¯¯¯¯¯¯¯¯¯¯¯¯¯¯¯¯¯¯¯¯¯¯¯¯¯¯¯¯¯¯¯¯¯¯¯¯¯¯¯¯¯¯¯¯¯¯¯¯¯¯¯¯¯¯¯¯¯¯¯¯¯¯¯¯¯¯¯¯|\n",
      "| Text_CNN (Functional)        (None, 512)          2622976     []                               |\n",
      "||¯¯¯¯¯¯¯¯¯¯¯¯¯¯¯¯¯¯¯¯¯¯¯¯¯¯¯¯¯¯¯¯¯¯¯¯¯¯¯¯¯¯¯¯¯¯¯¯¯¯¯¯¯¯¯¯¯¯¯¯¯¯¯¯¯¯¯¯¯¯¯¯¯¯¯¯¯¯¯¯¯¯¯¯¯¯¯¯¯¯¯¯¯¯||\n",
      "|| Text_Input_Head_Inner (InputLa  [(None, 2048)]  0           []                               ||\n",
      "|| yer)                                                                                         ||\n",
      "||                                                                                              ||\n",
      "|| Text_FC_1 (Dense)          (None, 1024)         2098176     []                               ||\n",
      "||                                                                                              ||\n",
      "|| Text_FC_last (Dense)       (None, 512)          524800      []                               ||\n",
      "||                                                                                              ||\n",
      "|| Text_L2_Norm (Lambda)      (None, 512)          0           []                               ||\n",
      "|¯¯¯¯¯¯¯¯¯¯¯¯¯¯¯¯¯¯¯¯¯¯¯¯¯¯¯¯¯¯¯¯¯¯¯¯¯¯¯¯¯¯¯¯¯¯¯¯¯¯¯¯¯¯¯¯¯¯¯¯¯¯¯¯¯¯¯¯¯¯¯¯¯¯¯¯¯¯¯¯¯¯¯¯¯¯¯¯¯¯¯¯¯¯¯¯|\n",
      "¯¯¯¯¯¯¯¯¯¯¯¯¯¯¯¯¯¯¯¯¯¯¯¯¯¯¯¯¯¯¯¯¯¯¯¯¯¯¯¯¯¯¯¯¯¯¯¯¯¯¯¯¯¯¯¯¯¯¯¯¯¯¯¯¯¯¯¯¯¯¯¯¯¯¯¯¯¯¯¯¯¯¯¯¯¯¯¯¯¯¯¯¯¯¯¯¯¯\n",
      " concatenate (Concatenate)      (None, 1024)         0           ['Image_CNN[0][0]',              \n",
      "                                                                  'Text_CNN[0][0]']               \n",
      "                                                                                                  \n",
      "==================================================================================================\n",
      "Total params: 17,168,834\n",
      "Trainable params: 17,168,834\n",
      "Non-trainable params: 0\n",
      "__________________________________________________________________________________________________\n"
     ]
    }
   ],
   "source": [
    "mnn_btl.model.summary(expand_nested=True)"
   ]
  },
  {
   "cell_type": "code",
   "execution_count": 51,
   "metadata": {},
   "outputs": [
    {
     "data": {
      "image/png": "[encoded data removed]",
      "text/plain": [
       "<IPython.core.display.Image object>"
      ]
     },
     "execution_count": 51,
     "metadata": {},
     "output_type": "execute_result"
    }
   ],
   "source": [
    "# \"Head\"\n",
    "\n",
    "tf.keras.utils.plot_model(mnn_btl.model,\n",
    "                          rankdir=\"TB\",\n",
    "                          show_layer_activations=True,\n",
    "                          show_shapes=True)"
   ]
  },
  {
   "cell_type": "markdown",
   "metadata": {},
   "source": [
    "# Callbacks"
   ]
  },
  {
   "cell_type": "code",
   "execution_count": 52,
   "metadata": {},
   "outputs": [],
   "source": [
    "from utils.metrics import create_callbacks"
   ]
  },
  {
   "cell_type": "code",
   "execution_count": 53,
   "metadata": {},
   "outputs": [],
   "source": [
    "log_dir = config[\"model\"][\"training\"][\"log_dir\"]\n",
    "model_name = config[\"model\"][\"name\"]\n",
    "optimizer_name = config[\"model\"][\"training\"][\"optimizer\"]\n",
    "learning_rate = config[\"model\"][\"training\"][\"learning_rate\"]"
   ]
  },
  {
   "cell_type": "code",
   "execution_count": 54,
   "metadata": {},
   "outputs": [],
   "source": [
    "callbacks = create_callbacks(\n",
    "    callbacks_list=config[\"model\"][\"training\"][\"callbacks\"],\n",
    "    log_dir=log_dir,\n",
    "    model_name=model_name,\n",
    "    img_model_name=img_model.name,\n",
    "    optimizer_name=optimizer_name,\n",
    "    learning_rate=learning_rate,\n",
    "    cls=config[\"data\"][\"cls\"],\n",
    "    patience=10)"
   ]
  },
  {
   "cell_type": "markdown",
   "metadata": {},
   "source": [
    "# Class weights"
   ]
  },
  {
   "cell_type": "code",
   "execution_count": 55,
   "metadata": {},
   "outputs": [],
   "source": [
    "from sklearn.utils import class_weight"
   ]
  },
  {
   "cell_type": "code",
   "execution_count": 56,
   "metadata": {},
   "outputs": [
    {
     "data": {
      "text/plain": [
       "12"
      ]
     },
     "execution_count": 56,
     "metadata": {},
     "output_type": "execute_result"
    }
   ],
   "source": [
    "class_weights = class_weight.compute_class_weight(class_weight='balanced',\n",
    "                                                 classes=categories_train[\"category\"].unique(),\n",
    "                                                 y=categories_train[\"category\"])\n",
    "len(class_weights)"
   ]
  },
  {
   "cell_type": "code",
   "execution_count": 57,
   "metadata": {},
   "outputs": [
    {
     "data": {
      "text/plain": [
       "12"
      ]
     },
     "execution_count": 57,
     "metadata": {},
     "output_type": "execute_result"
    }
   ],
   "source": [
    "class_weights_dict = {}\n",
    "class_weights_dict_transform = {}\n",
    "i = 0\n",
    "\n",
    "for pt, cw in zip(categories_train[\"category\"].unique(), class_weights):\n",
    "    class_weights_dict[i] = cw\n",
    "    class_weights_dict_transform[pt] = i\n",
    "    i += 1\n",
    "    \n",
    "len(class_weights_dict)"
   ]
  },
  {
   "cell_type": "code",
   "execution_count": 58,
   "metadata": {},
   "outputs": [
    {
     "data": {
      "text/plain": [
       "12"
      ]
     },
     "execution_count": 58,
     "metadata": {},
     "output_type": "execute_result"
    }
   ],
   "source": [
    "len(class_weights_dict_transform)"
   ]
  },
  {
   "cell_type": "code",
   "execution_count": 59,
   "metadata": {},
   "outputs": [
    {
     "name": "stderr",
     "output_type": "stream",
     "text": [
      "/tmp/ipykernel_162128/3000338905.py:1: SettingWithCopyWarning: \n",
      "A value is trying to be set on a copy of a slice from a DataFrame.\n",
      "Try using .loc[row_indexer,col_indexer] = value instead\n",
      "\n",
      "See the caveats in the documentation: https://pandas.pydata.org/pandas-docs/stable/user_guide/indexing.html#returning-a-view-versus-a-copy\n",
      "  categories_train[\"category_transform\"] = categories_train[\"category\"].apply(lambda x: class_weights_dict_transform[x])\n"
     ]
    },
    {
     "data": {
      "text/html": [
       "<div>\n",
       "<style scoped>\n",
       "    .dataframe tbody tr th:only-of-type {\n",
       "        vertical-align: middle;\n",
       "    }\n",
       "\n",
       "    .dataframe tbody tr th {\n",
       "        vertical-align: top;\n",
       "    }\n",
       "\n",
       "    .dataframe thead th {\n",
       "        text-align: right;\n",
       "    }\n",
       "</style>\n",
       "<table border=\"1\" class=\"dataframe\">\n",
       "  <thead>\n",
       "    <tr style=\"text-align: right;\">\n",
       "      <th></th>\n",
       "      <th>category</th>\n",
       "      <th>category_transform</th>\n",
       "    </tr>\n",
       "  </thead>\n",
       "  <tbody>\n",
       "    <tr>\n",
       "      <th>0</th>\n",
       "      <td>person</td>\n",
       "      <td>0</td>\n",
       "    </tr>\n",
       "    <tr>\n",
       "      <th>1</th>\n",
       "      <td>kitchen</td>\n",
       "      <td>1</td>\n",
       "    </tr>\n",
       "    <tr>\n",
       "      <th>2</th>\n",
       "      <td>person</td>\n",
       "      <td>0</td>\n",
       "    </tr>\n",
       "    <tr>\n",
       "      <th>3</th>\n",
       "      <td>vehicle</td>\n",
       "      <td>2</td>\n",
       "    </tr>\n",
       "    <tr>\n",
       "      <th>4</th>\n",
       "      <td>animal</td>\n",
       "      <td>3</td>\n",
       "    </tr>\n",
       "    <tr>\n",
       "      <th>...</th>\n",
       "      <td>...</td>\n",
       "      <td>...</td>\n",
       "    </tr>\n",
       "    <tr>\n",
       "      <th>397510</th>\n",
       "      <td>indoor</td>\n",
       "      <td>4</td>\n",
       "    </tr>\n",
       "    <tr>\n",
       "      <th>397511</th>\n",
       "      <td>animal</td>\n",
       "      <td>3</td>\n",
       "    </tr>\n",
       "    <tr>\n",
       "      <th>397512</th>\n",
       "      <td>animal</td>\n",
       "      <td>3</td>\n",
       "    </tr>\n",
       "    <tr>\n",
       "      <th>397513</th>\n",
       "      <td>kitchen</td>\n",
       "      <td>1</td>\n",
       "    </tr>\n",
       "    <tr>\n",
       "      <th>397514</th>\n",
       "      <td>animal</td>\n",
       "      <td>3</td>\n",
       "    </tr>\n",
       "  </tbody>\n",
       "</table>\n",
       "<p>397515 rows × 2 columns</p>\n",
       "</div>"
      ],
      "text/plain": [
       "       category  category_transform\n",
       "0        person                   0\n",
       "1       kitchen                   1\n",
       "2        person                   0\n",
       "3       vehicle                   2\n",
       "4        animal                   3\n",
       "...         ...                 ...\n",
       "397510   indoor                   4\n",
       "397511   animal                   3\n",
       "397512   animal                   3\n",
       "397513  kitchen                   1\n",
       "397514   animal                   3\n",
       "\n",
       "[397515 rows x 2 columns]"
      ]
     },
     "execution_count": 59,
     "metadata": {},
     "output_type": "execute_result"
    }
   ],
   "source": [
    "categories_train[\"category_transform\"] = categories_train[\"category\"].apply(lambda x: class_weights_dict_transform[x])\n",
    "categories_train"
   ]
  },
  {
   "cell_type": "code",
   "execution_count": 60,
   "metadata": {},
   "outputs": [
    {
     "data": {
      "text/plain": [
       "0.3334700718758179"
      ]
     },
     "execution_count": 60,
     "metadata": {},
     "output_type": "execute_result"
    }
   ],
   "source": [
    "class_weights_dict[0]"
   ]
  },
  {
   "cell_type": "markdown",
   "metadata": {},
   "source": [
    "# Training"
   ]
  },
  {
   "cell_type": "code",
   "execution_count": 61,
   "metadata": {},
   "outputs": [
    {
     "name": "stdout",
     "output_type": "stream",
     "text": [
      "Epoch 1/10\n",
      "3106/3106 [==============================] - ETA: 0s - loss: 6.9454"
     ]
    },
    {
     "name": "stderr",
     "output_type": "stream",
     "text": [
      "2023-06-10 18:34:09.348570: W tensorflow/python/util/util.cc:368] Sets are not currently considered sequences, but this may change in the future, so consider avoiding using them.\n",
      "WARNING:absl:Function `_wrapped_model` contains input name(s) Image_Input_Head_Outer, Text_Input_Head_Outer with unsupported characters which will be renamed to image_input_head_outer, text_input_head_outer in the SavedModel.\n"
     ]
    },
    {
     "name": "stdout",
     "output_type": "stream",
     "text": [
      "INFO:tensorflow:Assets written to: ./runs/models/MNN_BTL_MSCOCO_Supercategory/cls_1/MobilenetV3small/Adam/lr_1e-05/assets\n"
     ]
    },
    {
     "name": "stderr",
     "output_type": "stream",
     "text": [
      "INFO:tensorflow:Assets written to: ./runs/models/MNN_BTL_MSCOCO_Supercategory/cls_1/MobilenetV3small/Adam/lr_1e-05/assets\n"
     ]
    },
    {
     "name": "stdout",
     "output_type": "stream",
     "text": [
      "3106/3106 [==============================] - 134s 42ms/step - loss: 6.9454 - val_loss: 2.6060\n",
      "Epoch 2/10\n",
      "3105/3106 [============================>.] - ETA: 0s - loss: 1.0445"
     ]
    },
    {
     "name": "stderr",
     "output_type": "stream",
     "text": [
      "WARNING:absl:Function `_wrapped_model` contains input name(s) Image_Input_Head_Outer, Text_Input_Head_Outer with unsupported characters which will be renamed to image_input_head_outer, text_input_head_outer in the SavedModel.\n"
     ]
    },
    {
     "name": "stdout",
     "output_type": "stream",
     "text": [
      "INFO:tensorflow:Assets written to: ./runs/models/MNN_BTL_MSCOCO_Supercategory/cls_1/MobilenetV3small/Adam/lr_1e-05/assets\n"
     ]
    },
    {
     "name": "stderr",
     "output_type": "stream",
     "text": [
      "INFO:tensorflow:Assets written to: ./runs/models/MNN_BTL_MSCOCO_Supercategory/cls_1/MobilenetV3small/Adam/lr_1e-05/assets\n"
     ]
    },
    {
     "name": "stdout",
     "output_type": "stream",
     "text": [
      "3106/3106 [==============================] - 130s 42ms/step - loss: 1.0443 - val_loss: 0.2229\n",
      "Epoch 3/10\n",
      "3106/3106 [==============================] - ETA: 0s - loss: 0.1005"
     ]
    },
    {
     "name": "stderr",
     "output_type": "stream",
     "text": [
      "WARNING:absl:Function `_wrapped_model` contains input name(s) Image_Input_Head_Outer, Text_Input_Head_Outer with unsupported characters which will be renamed to image_input_head_outer, text_input_head_outer in the SavedModel.\n"
     ]
    },
    {
     "name": "stdout",
     "output_type": "stream",
     "text": [
      "INFO:tensorflow:Assets written to: ./runs/models/MNN_BTL_MSCOCO_Supercategory/cls_1/MobilenetV3small/Adam/lr_1e-05/assets\n"
     ]
    },
    {
     "name": "stderr",
     "output_type": "stream",
     "text": [
      "INFO:tensorflow:Assets written to: ./runs/models/MNN_BTL_MSCOCO_Supercategory/cls_1/MobilenetV3small/Adam/lr_1e-05/assets\n"
     ]
    },
    {
     "name": "stdout",
     "output_type": "stream",
     "text": [
      "3106/3106 [==============================] - 130s 42ms/step - loss: 0.1005 - val_loss: 0.0694\n",
      "Epoch 4/10\n",
      "3105/3106 [============================>.] - ETA: 0s - loss: 0.0687"
     ]
    },
    {
     "name": "stderr",
     "output_type": "stream",
     "text": [
      "WARNING:absl:Function `_wrapped_model` contains input name(s) Image_Input_Head_Outer, Text_Input_Head_Outer with unsupported characters which will be renamed to image_input_head_outer, text_input_head_outer in the SavedModel.\n"
     ]
    },
    {
     "name": "stdout",
     "output_type": "stream",
     "text": [
      "INFO:tensorflow:Assets written to: ./runs/models/MNN_BTL_MSCOCO_Supercategory/cls_1/MobilenetV3small/Adam/lr_1e-05/assets\n"
     ]
    },
    {
     "name": "stderr",
     "output_type": "stream",
     "text": [
      "INFO:tensorflow:Assets written to: ./runs/models/MNN_BTL_MSCOCO_Supercategory/cls_1/MobilenetV3small/Adam/lr_1e-05/assets\n"
     ]
    },
    {
     "name": "stdout",
     "output_type": "stream",
     "text": [
      "3106/3106 [==============================] - 130s 42ms/step - loss: 0.0687 - val_loss: 0.0693\n",
      "Epoch 5/10\n",
      "3106/3106 [==============================] - 125s 40ms/step - loss: 0.0687 - val_loss: 0.0693\n",
      "Epoch 6/10\n",
      "3106/3106 [==============================] - 125s 40ms/step - loss: 0.0687 - val_loss: 0.0693\n",
      "Epoch 7/10\n",
      "3105/3106 [============================>.] - ETA: 0s - loss: 0.0687"
     ]
    },
    {
     "name": "stderr",
     "output_type": "stream",
     "text": [
      "WARNING:absl:Function `_wrapped_model` contains input name(s) Image_Input_Head_Outer, Text_Input_Head_Outer with unsupported characters which will be renamed to image_input_head_outer, text_input_head_outer in the SavedModel.\n"
     ]
    },
    {
     "name": "stdout",
     "output_type": "stream",
     "text": [
      "INFO:tensorflow:Assets written to: ./runs/models/MNN_BTL_MSCOCO_Supercategory/cls_1/MobilenetV3small/Adam/lr_1e-05/assets\n"
     ]
    },
    {
     "name": "stderr",
     "output_type": "stream",
     "text": [
      "INFO:tensorflow:Assets written to: ./runs/models/MNN_BTL_MSCOCO_Supercategory/cls_1/MobilenetV3small/Adam/lr_1e-05/assets\n"
     ]
    },
    {
     "name": "stdout",
     "output_type": "stream",
     "text": [
      "3106/3106 [==============================] - 130s 42ms/step - loss: 0.0687 - val_loss: 0.0693\n",
      "Epoch 8/10\n",
      "3106/3106 [==============================] - 125s 40ms/step - loss: 0.0687 - val_loss: 0.0693\n",
      "Epoch 9/10\n",
      "3106/3106 [==============================] - 125s 40ms/step - loss: 0.0687 - val_loss: 0.0693\n",
      "Epoch 10/10\n",
      "3106/3106 [==============================] - 125s 40ms/step - loss: 0.0687 - val_loss: 0.0693\n"
     ]
    }
   ],
   "source": [
    "history = mnn_btl.model.fit(\n",
    "    x=[img_train, text_train],\n",
    "    y=categories_train[\"category_transform\"],\n",
    "    epochs=config[\"model\"][\"training\"][\"epochs\"],\n",
    "    validation_data=([img_val, text_val], labels_val),\n",
    "    batch_size=config[\"model\"][\"training\"][\"batch_size\"],\n",
    "    class_weight=class_weights_dict,\n",
    "    callbacks=callbacks)"
   ]
  },
  {
   "cell_type": "markdown",
   "metadata": {},
   "source": [
    "# Evaluation"
   ]
  },
  {
   "cell_type": "markdown",
   "metadata": {},
   "source": [
    "## Plot loss and metrics"
   ]
  },
  {
   "cell_type": "code",
   "execution_count": 62,
   "metadata": {},
   "outputs": [],
   "source": [
    "from utils.metrics import plot_metrics"
   ]
  },
  {
   "cell_type": "code",
   "execution_count": 63,
   "metadata": {},
   "outputs": [
    {
     "data": {
      "image/png": "[encoded data removed]",
      "text/plain": [
       "<Figure size 640x480 with 1 Axes>"
      ]
     },
     "metadata": {},
     "output_type": "display_data"
    }
   ],
   "source": [
    "plot_metrics(history.history, [],\n",
    "             model_name, img_model.name, optimizer_name, learning_rate,\n",
    "             config[\"data\"][\"cls\"])"
   ]
  },
  {
   "cell_type": "markdown",
   "metadata": {},
   "source": [
    "## Evaluate model and save metrics"
   ]
  },
  {
   "cell_type": "code",
   "execution_count": 64,
   "metadata": {},
   "outputs": [],
   "source": [
    "from utils.metrics import evaluate"
   ]
  },
  {
   "cell_type": "code",
   "execution_count": 65,
   "metadata": {},
   "outputs": [
    {
     "name": "stdout",
     "output_type": "stream",
     "text": [
      "(392696, 5) (392696, 576) (392696, 1014)\n"
     ]
    }
   ],
   "source": [
    "val_merged = pd.concat([val.reset_index(drop=True), val_false.reset_index(drop=True)])\n",
    "img_val_merged = np.concatenate([img_val, img_val_false])\n",
    "text_val_merged = np.concatenate([text_val, text_val_false])\n",
    "print(val_merged.shape, img_val_merged.shape, text_val_merged.shape)"
   ]
  },
  {
   "cell_type": "code",
   "execution_count": 66,
   "metadata": {},
   "outputs": [
    {
     "name": "stdout",
     "output_type": "stream",
     "text": [
      "392696/392696 [==============================] - 651s 2ms/step - loss: 0.0689\n"
     ]
    }
   ],
   "source": [
    "evaluate(mnn_btl.model, [img_val_merged, text_val_merged], val_merged[[\"label\"]], log_dir, model_name,\n",
    "         img_model.name, optimizer_name, learning_rate, config[\"data\"][\"cls\"], triplet_model=True)"
   ]
  }
 ],
 "metadata": {
  "kernelspec": {
   "display_name": "tf2.8",
   "language": "python",
   "name": "python3"
  },
  "language_info": {
   "codemirror_mode": {
    "name": "ipython",
    "version": 3
   },
   "file_extension": ".py",
   "mimetype": "text/x-python",
   "name": "python",
   "nbconvert_exporter": "python",
   "pygments_lexer": "ipython3",
   "version": "3.9.16"
  }
 },
 "nbformat": 4,
 "nbformat_minor": 4
}
