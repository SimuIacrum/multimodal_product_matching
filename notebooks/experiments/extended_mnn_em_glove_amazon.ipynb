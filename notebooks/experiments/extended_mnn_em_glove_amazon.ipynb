{
 "cells": [
  {
   "cell_type": "markdown",
   "metadata": {},
   "source": [
    "# Setup"
   ]
  },
  {
   "cell_type": "code",
   "execution_count": 1,
   "metadata": {
    "scrolled": true
   },
   "outputs": [
    {
     "name": "stdout",
     "output_type": "stream",
     "text": [
      "Requirement already satisfied: tensorflow==2.8.* in /pfs/data5/home/es/es_es/es_kamait02/miniconda3/envs/tf2.8/lib/python3.9/site-packages (from -r ../../requirements.txt (line 1)) (2.8.4)\n",
      "Requirement already satisfied: tensorflow-addons==0.18.0 in /pfs/data5/home/es/es_es/es_kamait02/miniconda3/envs/tf2.8/lib/python3.9/site-packages (from -r ../../requirements.txt (line 2)) (0.18.0)\n",
      "Requirement already satisfied: wheel in /pfs/data5/home/es/es_es/es_kamait02/miniconda3/envs/tf2.8/lib/python3.9/site-packages (from -r ../../requirements.txt (line 3)) (0.40.0)\n",
      "Requirement already satisfied: pandas<2.0.0 in /pfs/data5/home/es/es_es/es_kamait02/miniconda3/envs/tf2.8/lib/python3.9/site-packages (from -r ../../requirements.txt (line 4)) (1.5.3)\n",
      "Requirement already satisfied: scikit-learn in /pfs/data5/home/es/es_es/es_kamait02/miniconda3/envs/tf2.8/lib/python3.9/site-packages (from -r ../../requirements.txt (line 5)) (1.2.2)\n",
      "Requirement already satisfied: scipy in /pfs/data5/home/es/es_es/es_kamait02/miniconda3/envs/tf2.8/lib/python3.9/site-packages (from -r ../../requirements.txt (line 6)) (1.10.1)\n",
      "Requirement already satisfied: matplotlib in /pfs/data5/home/es/es_es/es_kamait02/miniconda3/envs/tf2.8/lib/python3.9/site-packages (from -r ../../requirements.txt (line 7)) (3.7.1)\n",
      "Requirement already satisfied: tqdm in /pfs/data5/home/es/es_es/es_kamait02/miniconda3/envs/tf2.8/lib/python3.9/site-packages (from -r ../../requirements.txt (line 8)) (4.65.0)\n",
      "Requirement already satisfied: Pillow in /pfs/data5/home/es/es_es/es_kamait02/miniconda3/envs/tf2.8/lib/python3.9/site-packages (from -r ../../requirements.txt (line 9)) (9.5.0)\n",
      "Requirement already satisfied: kaggle in /pfs/data5/home/es/es_es/es_kamait02/miniconda3/envs/tf2.8/lib/python3.9/site-packages (from -r ../../requirements.txt (line 10)) (1.5.13)\n",
      "Requirement already satisfied: absl-py>=0.4.0 in /pfs/data5/home/es/es_es/es_kamait02/.local/lib/python3.9/site-packages (from tensorflow==2.8.*->-r ../../requirements.txt (line 1)) (1.4.0)\n",
      "Requirement already satisfied: astunparse>=1.6.0 in /pfs/data5/home/es/es_es/es_kamait02/.local/lib/python3.9/site-packages (from tensorflow==2.8.*->-r ../../requirements.txt (line 1)) (1.6.3)\n",
      "Requirement already satisfied: flatbuffers>=1.12 in /pfs/data5/home/es/es_es/es_kamait02/.local/lib/python3.9/site-packages (from tensorflow==2.8.*->-r ../../requirements.txt (line 1)) (23.5.26)\n",
      "Requirement already satisfied: gast>=0.2.1 in /pfs/data5/home/es/es_es/es_kamait02/.local/lib/python3.9/site-packages (from tensorflow==2.8.*->-r ../../requirements.txt (line 1)) (0.5.4)\n",
      "Requirement already satisfied: google-pasta>=0.1.1 in /pfs/data5/home/es/es_es/es_kamait02/.local/lib/python3.9/site-packages (from tensorflow==2.8.*->-r ../../requirements.txt (line 1)) (0.2.0)\n",
      "Requirement already satisfied: h5py>=2.9.0 in /pfs/data5/home/es/es_es/es_kamait02/miniconda3/envs/tf2.8/lib/python3.9/site-packages (from tensorflow==2.8.*->-r ../../requirements.txt (line 1)) (3.8.0)\n",
      "Requirement already satisfied: keras-preprocessing>=1.1.1 in /pfs/data5/home/es/es_es/es_kamait02/.local/lib/python3.9/site-packages (from tensorflow==2.8.*->-r ../../requirements.txt (line 1)) (1.1.2)\n",
      "Requirement already satisfied: libclang>=9.0.1 in /pfs/data5/home/es/es_es/es_kamait02/.local/lib/python3.9/site-packages (from tensorflow==2.8.*->-r ../../requirements.txt (line 1)) (16.0.0)\n",
      "Requirement already satisfied: numpy>=1.20 in /pfs/data5/home/es/es_es/es_kamait02/miniconda3/envs/tf2.8/lib/python3.9/site-packages (from tensorflow==2.8.*->-r ../../requirements.txt (line 1)) (1.24.3)\n",
      "Requirement already satisfied: opt-einsum>=2.3.2 in /pfs/data5/home/es/es_es/es_kamait02/miniconda3/envs/tf2.8/lib/python3.9/site-packages (from tensorflow==2.8.*->-r ../../requirements.txt (line 1)) (3.3.0)\n",
      "Requirement already satisfied: protobuf<3.20,>=3.9.2 in /pfs/data5/home/es/es_es/es_kamait02/.local/lib/python3.9/site-packages (from tensorflow==2.8.*->-r ../../requirements.txt (line 1)) (3.19.6)\n",
      "Requirement already satisfied: setuptools in /pfs/data5/home/es/es_es/es_kamait02/miniconda3/envs/tf2.8/lib/python3.9/site-packages (from tensorflow==2.8.*->-r ../../requirements.txt (line 1)) (67.8.0)\n",
      "Requirement already satisfied: six>=1.12.0 in /pfs/data5/home/es/es_es/es_kamait02/miniconda3/envs/tf2.8/lib/python3.9/site-packages (from tensorflow==2.8.*->-r ../../requirements.txt (line 1)) (1.16.0)\n",
      "Requirement already satisfied: termcolor>=1.1.0 in /pfs/data5/home/es/es_es/es_kamait02/.local/lib/python3.9/site-packages (from tensorflow==2.8.*->-r ../../requirements.txt (line 1)) (2.3.0)\n",
      "Requirement already satisfied: typing-extensions>=3.6.6 in /pfs/data5/home/es/es_es/es_kamait02/miniconda3/envs/tf2.8/lib/python3.9/site-packages (from tensorflow==2.8.*->-r ../../requirements.txt (line 1)) (4.6.3)\n",
      "Requirement already satisfied: wrapt>=1.11.0 in /pfs/data5/home/es/es_es/es_kamait02/.local/lib/python3.9/site-packages (from tensorflow==2.8.*->-r ../../requirements.txt (line 1)) (1.15.0)\n",
      "Requirement already satisfied: tensorboard<2.9,>=2.8 in /pfs/data5/home/es/es_es/es_kamait02/.local/lib/python3.9/site-packages (from tensorflow==2.8.*->-r ../../requirements.txt (line 1)) (2.8.0)\n",
      "Requirement already satisfied: tensorflow-estimator<2.9,>=2.8 in /pfs/data5/home/es/es_es/es_kamait02/.local/lib/python3.9/site-packages (from tensorflow==2.8.*->-r ../../requirements.txt (line 1)) (2.8.0)\n",
      "Requirement already satisfied: keras<2.9,>=2.8.0rc0 in /pfs/data5/home/es/es_es/es_kamait02/.local/lib/python3.9/site-packages (from tensorflow==2.8.*->-r ../../requirements.txt (line 1)) (2.8.0)\n",
      "Requirement already satisfied: tensorflow-io-gcs-filesystem>=0.23.1 in /pfs/data5/home/es/es_es/es_kamait02/.local/lib/python3.9/site-packages (from tensorflow==2.8.*->-r ../../requirements.txt (line 1)) (0.32.0)\n",
      "Requirement already satisfied: grpcio<2.0,>=1.24.3 in /pfs/data5/home/es/es_es/es_kamait02/.local/lib/python3.9/site-packages (from tensorflow==2.8.*->-r ../../requirements.txt (line 1)) (1.54.2)\n",
      "Requirement already satisfied: packaging in /pfs/data5/home/es/es_es/es_kamait02/miniconda3/envs/tf2.8/lib/python3.9/site-packages (from tensorflow-addons==0.18.0->-r ../../requirements.txt (line 2)) (23.1)\n",
      "Requirement already satisfied: typeguard>=2.7 in /pfs/data5/home/es/es_es/es_kamait02/.local/lib/python3.9/site-packages (from tensorflow-addons==0.18.0->-r ../../requirements.txt (line 2)) (4.0.0)\n",
      "Requirement already satisfied: python-dateutil>=2.8.1 in /pfs/data5/home/es/es_es/es_kamait02/miniconda3/envs/tf2.8/lib/python3.9/site-packages (from pandas<2.0.0->-r ../../requirements.txt (line 4)) (2.8.2)\n",
      "Requirement already satisfied: pytz>=2020.1 in /pfs/data5/home/es/es_es/es_kamait02/miniconda3/envs/tf2.8/lib/python3.9/site-packages (from pandas<2.0.0->-r ../../requirements.txt (line 4)) (2023.3)\n",
      "Requirement already satisfied: joblib>=1.1.1 in /pfs/data5/home/es/es_es/es_kamait02/.local/lib/python3.9/site-packages (from scikit-learn->-r ../../requirements.txt (line 5)) (1.2.0)\n",
      "Requirement already satisfied: threadpoolctl>=2.0.0 in /pfs/data5/home/es/es_es/es_kamait02/.local/lib/python3.9/site-packages (from scikit-learn->-r ../../requirements.txt (line 5)) (3.1.0)\n",
      "Requirement already satisfied: contourpy>=1.0.1 in /pfs/data5/home/es/es_es/es_kamait02/miniconda3/envs/tf2.8/lib/python3.9/site-packages (from matplotlib->-r ../../requirements.txt (line 7)) (1.0.7)\n",
      "Requirement already satisfied: cycler>=0.10 in /pfs/data5/home/es/es_es/es_kamait02/.local/lib/python3.9/site-packages (from matplotlib->-r ../../requirements.txt (line 7)) (0.11.0)\n",
      "Requirement already satisfied: fonttools>=4.22.0 in /pfs/data5/home/es/es_es/es_kamait02/.local/lib/python3.9/site-packages (from matplotlib->-r ../../requirements.txt (line 7)) (4.40.0)\n",
      "Requirement already satisfied: kiwisolver>=1.0.1 in /pfs/data5/home/es/es_es/es_kamait02/.local/lib/python3.9/site-packages (from matplotlib->-r ../../requirements.txt (line 7)) (1.4.4)\n",
      "Requirement already satisfied: pyparsing>=2.3.1 in /pfs/data5/home/es/es_es/es_kamait02/.local/lib/python3.9/site-packages (from matplotlib->-r ../../requirements.txt (line 7)) (3.0.9)\n",
      "Requirement already satisfied: importlib-resources>=3.2.0 in /pfs/data5/home/es/es_es/es_kamait02/.local/lib/python3.9/site-packages (from matplotlib->-r ../../requirements.txt (line 7)) (5.12.0)\n",
      "Requirement already satisfied: certifi in /pfs/data5/home/es/es_es/es_kamait02/.local/lib/python3.9/site-packages (from kaggle->-r ../../requirements.txt (line 10)) (2023.5.7)\n",
      "Requirement already satisfied: requests in /pfs/data5/home/es/es_es/es_kamait02/.local/lib/python3.9/site-packages (from kaggle->-r ../../requirements.txt (line 10)) (2.31.0)\n",
      "Requirement already satisfied: python-slugify in /pfs/data5/home/es/es_es/es_kamait02/.local/lib/python3.9/site-packages (from kaggle->-r ../../requirements.txt (line 10)) (8.0.1)\n",
      "Requirement already satisfied: urllib3 in /pfs/data5/home/es/es_es/es_kamait02/.local/lib/python3.9/site-packages (from kaggle->-r ../../requirements.txt (line 10)) (1.26.16)\n",
      "Requirement already satisfied: zipp>=3.1.0 in /pfs/data5/home/es/es_es/es_kamait02/miniconda3/envs/tf2.8/lib/python3.9/site-packages (from importlib-resources>=3.2.0->matplotlib->-r ../../requirements.txt (line 7)) (3.15.0)\n",
      "Requirement already satisfied: google-auth<3,>=1.6.3 in /pfs/data5/home/es/es_es/es_kamait02/miniconda3/envs/tf2.8/lib/python3.9/site-packages (from tensorboard<2.9,>=2.8->tensorflow==2.8.*->-r ../../requirements.txt (line 1)) (2.19.1)\n",
      "Requirement already satisfied: google-auth-oauthlib<0.5,>=0.4.1 in /pfs/data5/home/es/es_es/es_kamait02/miniconda3/envs/tf2.8/lib/python3.9/site-packages (from tensorboard<2.9,>=2.8->tensorflow==2.8.*->-r ../../requirements.txt (line 1)) (0.4.6)\n",
      "Requirement already satisfied: markdown>=2.6.8 in /pfs/data5/home/es/es_es/es_kamait02/miniconda3/envs/tf2.8/lib/python3.9/site-packages (from tensorboard<2.9,>=2.8->tensorflow==2.8.*->-r ../../requirements.txt (line 1)) (3.4.3)\n",
      "Requirement already satisfied: tensorboard-data-server<0.7.0,>=0.6.0 in /pfs/data5/home/es/es_es/es_kamait02/.local/lib/python3.9/site-packages (from tensorboard<2.9,>=2.8->tensorflow==2.8.*->-r ../../requirements.txt (line 1)) (0.6.1)\n",
      "Requirement already satisfied: tensorboard-plugin-wit>=1.6.0 in /pfs/data5/home/es/es_es/es_kamait02/.local/lib/python3.9/site-packages (from tensorboard<2.9,>=2.8->tensorflow==2.8.*->-r ../../requirements.txt (line 1)) (1.8.1)\n",
      "Requirement already satisfied: werkzeug>=0.11.15 in /pfs/data5/home/es/es_es/es_kamait02/.local/lib/python3.9/site-packages (from tensorboard<2.9,>=2.8->tensorflow==2.8.*->-r ../../requirements.txt (line 1)) (2.3.6)\n",
      "Requirement already satisfied: charset-normalizer<4,>=2 in /pfs/data5/home/es/es_es/es_kamait02/.local/lib/python3.9/site-packages (from requests->kaggle->-r ../../requirements.txt (line 10)) (3.1.0)\n",
      "Requirement already satisfied: idna<4,>=2.5 in /pfs/data5/home/es/es_es/es_kamait02/.local/lib/python3.9/site-packages (from requests->kaggle->-r ../../requirements.txt (line 10)) (3.4)\n",
      "Requirement already satisfied: importlib-metadata>=3.6 in /pfs/data5/home/es/es_es/es_kamait02/miniconda3/envs/tf2.8/lib/python3.9/site-packages (from typeguard>=2.7->tensorflow-addons==0.18.0->-r ../../requirements.txt (line 2)) (6.6.0)\n",
      "Requirement already satisfied: text-unidecode>=1.3 in /pfs/data5/home/es/es_es/es_kamait02/miniconda3/envs/tf2.8/lib/python3.9/site-packages (from python-slugify->kaggle->-r ../../requirements.txt (line 10)) (1.3)\n",
      "Requirement already satisfied: cachetools<6.0,>=2.0.0 in /pfs/data5/home/es/es_es/es_kamait02/.local/lib/python3.9/site-packages (from google-auth<3,>=1.6.3->tensorboard<2.9,>=2.8->tensorflow==2.8.*->-r ../../requirements.txt (line 1)) (5.3.1)\n",
      "Requirement already satisfied: pyasn1-modules>=0.2.1 in /pfs/data5/home/es/es_es/es_kamait02/.local/lib/python3.9/site-packages (from google-auth<3,>=1.6.3->tensorboard<2.9,>=2.8->tensorflow==2.8.*->-r ../../requirements.txt (line 1)) (0.3.0)\n",
      "Requirement already satisfied: rsa<5,>=3.1.4 in /pfs/data5/home/es/es_es/es_kamait02/.local/lib/python3.9/site-packages (from google-auth<3,>=1.6.3->tensorboard<2.9,>=2.8->tensorflow==2.8.*->-r ../../requirements.txt (line 1)) (4.9)\n",
      "Requirement already satisfied: requests-oauthlib>=0.7.0 in /pfs/data5/home/es/es_es/es_kamait02/miniconda3/envs/tf2.8/lib/python3.9/site-packages (from google-auth-oauthlib<0.5,>=0.4.1->tensorboard<2.9,>=2.8->tensorflow==2.8.*->-r ../../requirements.txt (line 1)) (1.3.1)\n",
      "Requirement already satisfied: MarkupSafe>=2.1.1 in /pfs/data5/home/es/es_es/es_kamait02/.local/lib/python3.9/site-packages (from werkzeug>=0.11.15->tensorboard<2.9,>=2.8->tensorflow==2.8.*->-r ../../requirements.txt (line 1)) (2.1.3)\n",
      "Requirement already satisfied: pyasn1<0.6.0,>=0.4.6 in /pfs/data5/home/es/es_es/es_kamait02/.local/lib/python3.9/site-packages (from pyasn1-modules>=0.2.1->google-auth<3,>=1.6.3->tensorboard<2.9,>=2.8->tensorflow==2.8.*->-r ../../requirements.txt (line 1)) (0.5.0)\n",
      "Requirement already satisfied: oauthlib>=3.0.0 in /pfs/data5/home/es/es_es/es_kamait02/.local/lib/python3.9/site-packages (from requests-oauthlib>=0.7.0->google-auth-oauthlib<0.5,>=0.4.1->tensorboard<2.9,>=2.8->tensorflow==2.8.*->-r ../../requirements.txt (line 1)) (3.2.2)\n",
      "Note: you may need to restart the kernel to use updated packages.\n"
     ]
    }
   ],
   "source": [
    "pip install -r ../../requirements.txt"
   ]
  },
  {
   "cell_type": "code",
   "execution_count": 2,
   "metadata": {},
   "outputs": [],
   "source": [
    "import os\n",
    "\n",
    "os.environ[\"CUDA_DEVICE_ORDER\"] = \"PCI_BUS_ID\"\n",
    "os.environ[\"CUDA_VISIBLE_DEVICES\"] = \"0\"\n",
    "os.environ[\"TF_FORCE_GPU_ALLOW_GROWTH\"] = \"true\""
   ]
  },
  {
   "cell_type": "code",
   "execution_count": 3,
   "metadata": {},
   "outputs": [],
   "source": [
    "# Add directory above current directory to path\n",
    "import sys\n",
    "\n",
    "sys.path.insert(0, '../..')"
   ]
  },
  {
   "cell_type": "code",
   "execution_count": 5,
   "metadata": {},
   "outputs": [],
   "source": [
    "import tensorflow as tf\n",
    "import pandas as pd\n",
    "import numpy as np\n",
    "import json\n",
    "from utils.text_processing import CharTokenizer"
   ]
  },
  {
   "cell_type": "code",
   "execution_count": 6,
   "metadata": {},
   "outputs": [
    {
     "name": "stderr",
     "output_type": "stream",
     "text": [
      "2023-06-14 14:26:22.879885: I tensorflow/core/platform/cpu_feature_guard.cc:151] This TensorFlow binary is optimized with oneAPI Deep Neural Network Library (oneDNN) to use the following CPU instructions in performance-critical operations:  AVX2 AVX512F FMA\n",
      "To enable them in other operations, rebuild TensorFlow with the appropriate compiler flags.\n",
      "2023-06-14 14:26:23.495917: W tensorflow/core/common_runtime/gpu/gpu_bfc_allocator.cc:39] Overriding allow_growth setting because the TF_FORCE_GPU_ALLOW_GROWTH environment variable is set. Original config value was 0.\n",
      "2023-06-14 14:26:23.495974: I tensorflow/core/common_runtime/gpu/gpu_device.cc:1525] Created device /job:localhost/replica:0/task:0/device:GPU:0 with 30945 MB memory:  -> device: 0, name: Tesla V100-SXM2-32GB, pci bus id: 0000:b2:00.0, compute capability: 7.0\n"
     ]
    }
   ],
   "source": [
    "if tf.config.list_physical_devices('GPU'):\n",
    "    tf.config.experimental.get_memory_info(\"GPU:0\")"
   ]
  },
  {
   "cell_type": "code",
   "execution_count": 7,
   "metadata": {},
   "outputs": [],
   "source": [
    "config = json.load(open(\"./configs/ext_mnn_em_glove.6B.300d_amazon.json\"))"
   ]
  },
  {
   "cell_type": "markdown",
   "metadata": {},
   "source": [
    "# Loading data"
   ]
  },
  {
   "cell_type": "code",
   "execution_count": 8,
   "metadata": {},
   "outputs": [],
   "source": [
    "from data_loader.abo import ABO"
   ]
  },
  {
   "cell_type": "code",
   "execution_count": 9,
   "metadata": {},
   "outputs": [
    {
     "name": "stdout",
     "output_type": "stream",
     "text": [
      "Downloading abo-listings.tar...\n",
      "abo-listings.tar already exists.\n",
      "Downloading abo-images-small.tar...\n",
      "abo-images-small.tar already exists.\n",
      "Loading images...\n",
      "Loading texts...\n",
      "Importing listings CSV...\n",
      "Creating false samples/complement...\n",
      "Merging ground truth and complement...\n",
      "Concatenating attributes into description columns...\n",
      "Finishing up...\n",
      "Exporting to CSV...\n",
      "Data processing complete\n"
     ]
    },
    {
     "data": {
      "text/html": [
       "<div>\n",
       "<style scoped>\n",
       "    .dataframe tbody tr th:only-of-type {\n",
       "        vertical-align: middle;\n",
       "    }\n",
       "\n",
       "    .dataframe tbody tr th {\n",
       "        vertical-align: top;\n",
       "    }\n",
       "\n",
       "    .dataframe thead th {\n",
       "        text-align: right;\n",
       "    }\n",
       "</style>\n",
       "<table border=\"1\" class=\"dataframe\">\n",
       "  <thead>\n",
       "    <tr style=\"text-align: right;\">\n",
       "      <th></th>\n",
       "      <th>description</th>\n",
       "      <th>description2</th>\n",
       "      <th>path</th>\n",
       "      <th>product_type</th>\n",
       "      <th>label</th>\n",
       "    </tr>\n",
       "  </thead>\n",
       "  <tbody>\n",
       "    <tr>\n",
       "      <th>0</th>\n",
       "      <td>cellphonecoverb07r8wd99zamazon brand - solimo ...</td>\n",
       "      <td>mobile coverb0773b95sramazon brand - solimo de...</td>\n",
       "      <td>61/6118fe0e.jpg</td>\n",
       "      <td>CELLULAR_PHONE_CASE</td>\n",
       "      <td>0</td>\n",
       "    </tr>\n",
       "    <tr>\n",
       "      <th>1</th>\n",
       "      <td>mobile coverb07tg4stm2amazon brand - solimo de...</td>\n",
       "      <td>mobile coverb07tg4stm2amazon brand - solimo de...</td>\n",
       "      <td>e5/e5542967.jpg</td>\n",
       "      <td>CELLULAR_PHONE_CASE</td>\n",
       "      <td>1</td>\n",
       "    </tr>\n",
       "    <tr>\n",
       "      <th>2</th>\n",
       "      <td>dutch ovens oven cast iron pot combo bread for...</td>\n",
       "      <td>xiaomi redmi 6 pro mobile back case cover tran...</td>\n",
       "      <td>dc/dca2bc75.jpg</td>\n",
       "      <td>GROCERY</td>\n",
       "      <td>0</td>\n",
       "    </tr>\n",
       "    <tr>\n",
       "      <th>3</th>\n",
       "      <td>moto g5s plus mobile back case cover transpare...</td>\n",
       "      <td>moto g5s plus mobile back case cover transpare...</td>\n",
       "      <td>aa/aa17fc9d.jpg</td>\n",
       "      <td>CELLULAR_PHONE_CASE</td>\n",
       "      <td>1</td>\n",
       "    </tr>\n",
       "    <tr>\n",
       "      <th>4</th>\n",
       "      <td>throw-pillowsb074vlpc1zamazon brand  stone &amp; b...</td>\n",
       "      <td>throw-pillowsb074vlpc1zamazon brand  stone &amp; b...</td>\n",
       "      <td>7e/7e6df2bd.jpg</td>\n",
       "      <td>PILLOW</td>\n",
       "      <td>1</td>\n",
       "    </tr>\n",
       "    <tr>\n",
       "      <th>...</th>\n",
       "      <td>...</td>\n",
       "      <td>...</td>\n",
       "      <td>...</td>\n",
       "      <td>...</td>\n",
       "      <td>...</td>\n",
       "    </tr>\n",
       "    <tr>\n",
       "      <th>168148</th>\n",
       "      <td>mobile coverb07trwv2fzamazon brand - solimo de...</td>\n",
       "      <td>mobile coverb07trwv2fzamazon brand - solimo de...</td>\n",
       "      <td>63/63d1f4ff.jpg</td>\n",
       "      <td>CELLULAR_PHONE_CASE</td>\n",
       "      <td>1</td>\n",
       "    </tr>\n",
       "    <tr>\n",
       "      <th>168149</th>\n",
       "      <td>mobile coverb0857l9jb8amazon brand - solimo de...</td>\n",
       "      <td>mobile coverb0853wqlrzamazon brand - presto! d...</td>\n",
       "      <td>97/971c4f9b.jpg</td>\n",
       "      <td>CELLULAR_PHONE_CASE</td>\n",
       "      <td>0</td>\n",
       "    </tr>\n",
       "    <tr>\n",
       "      <th>168150</th>\n",
       "      <td>mobile coverb0856bdy4l365 everyday value trail...</td>\n",
       "      <td>mobile coverb07tf1f314concept 3 by skechers be...</td>\n",
       "      <td>1e/1e89c004.jpg</td>\n",
       "      <td>CELLULAR_PHONE_CASE</td>\n",
       "      <td>0</td>\n",
       "    </tr>\n",
       "    <tr>\n",
       "      <th>168151</th>\n",
       "      <td>urad dalb07t9tkptmamazon brand - solimo design...</td>\n",
       "      <td>mobile coverb07tbv44sw365 everyday value, orga...</td>\n",
       "      <td>49/49cfd6eb.jpg</td>\n",
       "      <td>CELLULAR_PHONE_CASE</td>\n",
       "      <td>0</td>\n",
       "    </tr>\n",
       "    <tr>\n",
       "      <th>168152</th>\n",
       "      <td>mobile coverb07tg4c6r4amazon brand - solimo de...</td>\n",
       "      <td>mobile coverb07tg4c6r4amazon brand - solimo de...</td>\n",
       "      <td>bf/bf6f7af0.jpg</td>\n",
       "      <td>CELLULAR_PHONE_CASE</td>\n",
       "      <td>1</td>\n",
       "    </tr>\n",
       "  </tbody>\n",
       "</table>\n",
       "<p>168153 rows × 5 columns</p>\n",
       "</div>"
      ],
      "text/plain": [
       "                                              description  \\\n",
       "0       cellphonecoverb07r8wd99zamazon brand - solimo ...   \n",
       "1       mobile coverb07tg4stm2amazon brand - solimo de...   \n",
       "2       dutch ovens oven cast iron pot combo bread for...   \n",
       "3       moto g5s plus mobile back case cover transpare...   \n",
       "4       throw-pillowsb074vlpc1zamazon brand  stone & b...   \n",
       "...                                                   ...   \n",
       "168148  mobile coverb07trwv2fzamazon brand - solimo de...   \n",
       "168149  mobile coverb0857l9jb8amazon brand - solimo de...   \n",
       "168150  mobile coverb0856bdy4l365 everyday value trail...   \n",
       "168151  urad dalb07t9tkptmamazon brand - solimo design...   \n",
       "168152  mobile coverb07tg4c6r4amazon brand - solimo de...   \n",
       "\n",
       "                                             description2             path  \\\n",
       "0       mobile coverb0773b95sramazon brand - solimo de...  61/6118fe0e.jpg   \n",
       "1       mobile coverb07tg4stm2amazon brand - solimo de...  e5/e5542967.jpg   \n",
       "2       xiaomi redmi 6 pro mobile back case cover tran...  dc/dca2bc75.jpg   \n",
       "3       moto g5s plus mobile back case cover transpare...  aa/aa17fc9d.jpg   \n",
       "4       throw-pillowsb074vlpc1zamazon brand  stone & b...  7e/7e6df2bd.jpg   \n",
       "...                                                   ...              ...   \n",
       "168148  mobile coverb07trwv2fzamazon brand - solimo de...  63/63d1f4ff.jpg   \n",
       "168149  mobile coverb0853wqlrzamazon brand - presto! d...  97/971c4f9b.jpg   \n",
       "168150  mobile coverb07tf1f314concept 3 by skechers be...  1e/1e89c004.jpg   \n",
       "168151  mobile coverb07tbv44sw365 everyday value, orga...  49/49cfd6eb.jpg   \n",
       "168152  mobile coverb07tg4c6r4amazon brand - solimo de...  bf/bf6f7af0.jpg   \n",
       "\n",
       "               product_type  label  \n",
       "0       CELLULAR_PHONE_CASE      0  \n",
       "1       CELLULAR_PHONE_CASE      1  \n",
       "2                   GROCERY      0  \n",
       "3       CELLULAR_PHONE_CASE      1  \n",
       "4                    PILLOW      1  \n",
       "...                     ...    ...  \n",
       "168148  CELLULAR_PHONE_CASE      1  \n",
       "168149  CELLULAR_PHONE_CASE      0  \n",
       "168150  CELLULAR_PHONE_CASE      0  \n",
       "168151  CELLULAR_PHONE_CASE      0  \n",
       "168152  CELLULAR_PHONE_CASE      1  \n",
       "\n",
       "[168153 rows x 5 columns]"
      ]
     },
     "execution_count": 9,
     "metadata": {},
     "output_type": "execute_result"
    }
   ],
   "source": [
    "data = ABO(path=config[\"data\"][\"path\"],\n",
    "           download=True,\n",
    "           extract=False,\n",
    "           preprocess=True,\n",
    "           alt_augment=False,\n",
    "           random_deletion=False,\n",
    "           export_csv=True).data\n",
    "\n",
    "# data = pd.read_csv(os.path.join(config[\"data\"][\"path\"], \"data.csv\"))\n",
    "# data = data.drop({\"Unnamed: 0\"}, axis=1)\n",
    "\n",
    "data = data[['description', 'description2', 'path', 'product_type', 'label']]\n",
    "data"
   ]
  },
  {
   "cell_type": "code",
   "execution_count": 10,
   "metadata": {},
   "outputs": [],
   "source": [
    "img = data[[\"path\"]]  # two brackets for keeping the column name\n",
    "text = data[\"description\"]\n",
    "text2 = data[\"description2\"]\n",
    "product_types = data[[\"product_type\"]]\n",
    "labels = data[[\"label\"]]"
   ]
  },
  {
   "cell_type": "markdown",
   "metadata": {},
   "source": [
    "# Text processing"
   ]
  },
  {
   "cell_type": "markdown",
   "metadata": {},
   "source": [
    "This part is largely based off of https://keras.io/examples/nlp/pretrained_word_embeddings/"
   ]
  },
  {
   "cell_type": "markdown",
   "metadata": {},
   "source": [
    "GloVe Embeddings: https://nlp.stanford.edu/projects/glove/"
   ]
  },
  {
   "cell_type": "code",
   "execution_count": 11,
   "metadata": {},
   "outputs": [],
   "source": [
    "from tensorflow.keras.layers import TextVectorization\n",
    "\n",
    "vectorizer = TextVectorization(max_tokens=None, output_sequence_length=300)\n",
    "\n",
    "vectorizer.adapt(text)\n",
    "vectorizer.adapt(text2)"
   ]
  },
  {
   "cell_type": "code",
   "execution_count": 12,
   "metadata": {},
   "outputs": [
    {
     "data": {
      "text/plain": [
       "(168153, 300)"
      ]
     },
     "execution_count": 12,
     "metadata": {},
     "output_type": "execute_result"
    }
   ],
   "source": [
    "text = vectorizer(text).numpy()\n",
    "text.shape"
   ]
  },
  {
   "cell_type": "code",
   "execution_count": 13,
   "metadata": {},
   "outputs": [
    {
     "data": {
      "text/plain": [
       "(168153, 300)"
      ]
     },
     "execution_count": 13,
     "metadata": {},
     "output_type": "execute_result"
    }
   ],
   "source": [
    "text2 = vectorizer(text2).numpy()\n",
    "text2.shape"
   ]
  },
  {
   "cell_type": "code",
   "execution_count": 14,
   "metadata": {},
   "outputs": [
    {
     "data": {
      "text/plain": [
       "['',\n",
       " '[UNK]',\n",
       " 'mobile',\n",
       " 'back',\n",
       " 'brand',\n",
       " 'for',\n",
       " 'solimo',\n",
       " 'cover',\n",
       " 'case',\n",
       " 'designer']"
      ]
     },
     "execution_count": 14,
     "metadata": {},
     "output_type": "execute_result"
    }
   ],
   "source": [
    "voc = vectorizer.get_vocabulary()\n",
    "voc[:10]"
   ]
  },
  {
   "cell_type": "code",
   "execution_count": 15,
   "metadata": {},
   "outputs": [],
   "source": [
    "word_index = dict(zip(voc, range(len(voc))))"
   ]
  },
  {
   "cell_type": "code",
   "execution_count": 16,
   "metadata": {},
   "outputs": [
    {
     "name": "stdout",
     "output_type": "stream",
     "text": [
      "Found 400000 word vectors.\n"
     ]
    }
   ],
   "source": [
    "embeddings_index = {}\n",
    "with open(\"./glove.6B.300d.txt\") as f:\n",
    "    for line in f:\n",
    "        word, coefs = line.split(maxsplit=1)\n",
    "        coefs = np.fromstring(coefs, \"f\", sep=\" \")\n",
    "        embeddings_index[word] = coefs\n",
    "\n",
    "print(\"Found %s word vectors.\" % len(embeddings_index))"
   ]
  },
  {
   "cell_type": "code",
   "execution_count": 17,
   "metadata": {},
   "outputs": [
    {
     "name": "stdout",
     "output_type": "stream",
     "text": [
      "Converted 10312 words (153638 misses)\n"
     ]
    }
   ],
   "source": [
    "num_tokens = len(voc) + 2\n",
    "embedding_dim = 300\n",
    "hits = 0\n",
    "misses = 0\n",
    "\n",
    "# Prepare embedding matrix\n",
    "embedding_matrix = np.zeros((num_tokens, embedding_dim))\n",
    "for word, i in word_index.items():\n",
    "    embedding_vector = embeddings_index.get(word)\n",
    "    if embedding_vector is not None:\n",
    "        # Words not found in embedding index will be all-zeros.\n",
    "        # This includes the representation for \"padding\" and \"OOV\"\n",
    "        embedding_matrix[i] = embedding_vector\n",
    "        hits += 1\n",
    "    else:\n",
    "        misses += 1\n",
    "print(\"Converted %d words (%d misses)\" % (hits, misses))"
   ]
  },
  {
   "cell_type": "markdown",
   "metadata": {},
   "source": [
    "GloVe Embedding only converts less than 10% of data!"
   ]
  },
  {
   "cell_type": "markdown",
   "metadata": {},
   "source": [
    "# Image processing"
   ]
  },
  {
   "cell_type": "markdown",
   "metadata": {},
   "source": [
    "## Load image model"
   ]
  },
  {
   "cell_type": "code",
   "execution_count": 18,
   "metadata": {},
   "outputs": [],
   "source": [
    "from utils.img_processing import load_img_model, create_embeddings_from"
   ]
  },
  {
   "cell_type": "code",
   "execution_count": 19,
   "metadata": {},
   "outputs": [
    {
     "name": "stdout",
     "output_type": "stream",
     "text": [
      "WARNING:tensorflow:`input_shape` is undefined or non-square, or `rows` is not 224. Weights for input shape (224, 224) will be loaded as the default.\n"
     ]
    },
    {
     "data": {
      "text/plain": [
       "(None, 576)"
      ]
     },
     "execution_count": 19,
     "metadata": {},
     "output_type": "execute_result"
    }
   ],
   "source": [
    "img_model = load_img_model(config[\"img_model\"])\n",
    "\n",
    "img_model.output_shape"
   ]
  },
  {
   "cell_type": "markdown",
   "metadata": {},
   "source": [
    "## Create image embeddings"
   ]
  },
  {
   "cell_type": "code",
   "execution_count": 20,
   "metadata": {},
   "outputs": [
    {
     "name": "stdout",
     "output_type": "stream",
     "text": [
      "Found 168153 validated image filenames.\n"
     ]
    },
    {
     "name": "stderr",
     "output_type": "stream",
     "text": [
      "2023-06-14 14:27:25.837612: I tensorflow/stream_executor/cuda/cuda_dnn.cc:368] Loaded cuDNN version 8700\n",
      "2023-06-14 14:27:27.144960: W tensorflow/core/kernels/gpu_utils.cc:50] Failed to allocate memory for convolution redzone checking; skipping this check. This is benign and only means that we won't check cudnn for out-of-bounds reads and writes. This message will only be printed once.\n"
     ]
    },
    {
     "name": "stdout",
     "output_type": "stream",
     "text": [
      "CPU times: user 4min 32s, sys: 2min 44s, total: 7min 16s\n",
      "Wall time: 7min 10s\n"
     ]
    }
   ],
   "source": [
    "%%time\n",
    "# Mobilenetv3small:\n",
    "# batch_size = 1024 -> 8 GB VRAM\n",
    "# batch_size = 2048 -> 16 GB VRAM\n",
    "# ...\n",
    "# Mobilenetv3large: twice as much as Mobilenetv3small\n",
    "\n",
    "img = create_embeddings_from(img_model,\n",
    "                             img,\n",
    "                             os.path.join(config[\"data\"][\"path\"],\n",
    "                                          \"images/small\"),\n",
    "                             batch_size=4096)"
   ]
  },
  {
   "cell_type": "code",
   "execution_count": 21,
   "metadata": {},
   "outputs": [
    {
     "data": {
      "text/plain": [
       "(168153, 576)"
      ]
     },
     "execution_count": 21,
     "metadata": {},
     "output_type": "execute_result"
    }
   ],
   "source": [
    "img.shape"
   ]
  },
  {
   "cell_type": "markdown",
   "metadata": {},
   "source": [
    "# Save embeddings"
   ]
  },
  {
   "cell_type": "code",
   "execution_count": 22,
   "metadata": {},
   "outputs": [],
   "source": [
    "save_path = os.path.join(config[\"data\"][\"path\"],\n",
    "                         f\"embeddings/glove/{img_model.name}\")"
   ]
  },
  {
   "cell_type": "code",
   "execution_count": 23,
   "metadata": {},
   "outputs": [],
   "source": [
    "os.makedirs(save_path, exist_ok=True)\n",
    "np.save(f\"{save_path}/img.npy\", img)\n",
    "np.save(f\"{save_path}/text.npy\", text)\n",
    "np.save(f\"{save_path}/text2.npy\", text2)\n",
    "data.to_csv(f\"{save_path}/data.csv\")"
   ]
  },
  {
   "cell_type": "markdown",
   "metadata": {},
   "source": [
    "## Verify import"
   ]
  },
  {
   "cell_type": "code",
   "execution_count": 74,
   "metadata": {},
   "outputs": [
    {
     "data": {
      "text/html": [
       "<div>\n",
       "<style scoped>\n",
       "    .dataframe tbody tr th:only-of-type {\n",
       "        vertical-align: middle;\n",
       "    }\n",
       "\n",
       "    .dataframe tbody tr th {\n",
       "        vertical-align: top;\n",
       "    }\n",
       "\n",
       "    .dataframe thead th {\n",
       "        text-align: right;\n",
       "    }\n",
       "</style>\n",
       "<table border=\"1\" class=\"dataframe\">\n",
       "  <thead>\n",
       "    <tr style=\"text-align: right;\">\n",
       "      <th></th>\n",
       "      <th>description</th>\n",
       "      <th>description2</th>\n",
       "      <th>path</th>\n",
       "      <th>product_type</th>\n",
       "      <th>label</th>\n",
       "    </tr>\n",
       "  </thead>\n",
       "  <tbody>\n",
       "    <tr>\n",
       "      <th>0</th>\n",
       "      <td>cellphonecoverb07r8wd99zamazon brand - solimo ...</td>\n",
       "      <td>mobile coverb0773b95sramazon brand - solimo de...</td>\n",
       "      <td>61/6118fe0e.jpg</td>\n",
       "      <td>CELLULAR_PHONE_CASE</td>\n",
       "      <td>0</td>\n",
       "    </tr>\n",
       "    <tr>\n",
       "      <th>1</th>\n",
       "      <td>mobile coverb07tg4stm2amazon brand - solimo de...</td>\n",
       "      <td>mobile coverb07tg4stm2amazon brand - solimo de...</td>\n",
       "      <td>e5/e5542967.jpg</td>\n",
       "      <td>CELLULAR_PHONE_CASE</td>\n",
       "      <td>1</td>\n",
       "    </tr>\n",
       "    <tr>\n",
       "      <th>2</th>\n",
       "      <td>dutch ovens oven cast iron pot combo bread for...</td>\n",
       "      <td>xiaomi redmi 6 pro mobile back case cover tran...</td>\n",
       "      <td>dc/dca2bc75.jpg</td>\n",
       "      <td>GROCERY</td>\n",
       "      <td>0</td>\n",
       "    </tr>\n",
       "    <tr>\n",
       "      <th>3</th>\n",
       "      <td>moto g5s plus mobile back case cover transpare...</td>\n",
       "      <td>moto g5s plus mobile back case cover transpare...</td>\n",
       "      <td>aa/aa17fc9d.jpg</td>\n",
       "      <td>CELLULAR_PHONE_CASE</td>\n",
       "      <td>1</td>\n",
       "    </tr>\n",
       "    <tr>\n",
       "      <th>4</th>\n",
       "      <td>throw-pillowsb074vlpc1zamazon brand  stone &amp; b...</td>\n",
       "      <td>throw-pillowsb074vlpc1zamazon brand  stone &amp; b...</td>\n",
       "      <td>7e/7e6df2bd.jpg</td>\n",
       "      <td>PILLOW</td>\n",
       "      <td>1</td>\n",
       "    </tr>\n",
       "    <tr>\n",
       "      <th>...</th>\n",
       "      <td>...</td>\n",
       "      <td>...</td>\n",
       "      <td>...</td>\n",
       "      <td>...</td>\n",
       "      <td>...</td>\n",
       "    </tr>\n",
       "    <tr>\n",
       "      <th>168148</th>\n",
       "      <td>mobile coverb07trwv2fzamazon brand - solimo de...</td>\n",
       "      <td>mobile coverb07trwv2fzamazon brand - solimo de...</td>\n",
       "      <td>63/63d1f4ff.jpg</td>\n",
       "      <td>CELLULAR_PHONE_CASE</td>\n",
       "      <td>1</td>\n",
       "    </tr>\n",
       "    <tr>\n",
       "      <th>168149</th>\n",
       "      <td>mobile coverb0857l9jb8amazon brand - solimo de...</td>\n",
       "      <td>mobile coverb0853wqlrzamazon brand - presto! d...</td>\n",
       "      <td>97/971c4f9b.jpg</td>\n",
       "      <td>CELLULAR_PHONE_CASE</td>\n",
       "      <td>0</td>\n",
       "    </tr>\n",
       "    <tr>\n",
       "      <th>168150</th>\n",
       "      <td>mobile coverb0856bdy4l365 everyday value trail...</td>\n",
       "      <td>mobile coverb07tf1f314concept 3 by skechers be...</td>\n",
       "      <td>1e/1e89c004.jpg</td>\n",
       "      <td>CELLULAR_PHONE_CASE</td>\n",
       "      <td>0</td>\n",
       "    </tr>\n",
       "    <tr>\n",
       "      <th>168151</th>\n",
       "      <td>urad dalb07t9tkptmamazon brand - solimo design...</td>\n",
       "      <td>mobile coverb07tbv44sw365 everyday value, orga...</td>\n",
       "      <td>49/49cfd6eb.jpg</td>\n",
       "      <td>CELLULAR_PHONE_CASE</td>\n",
       "      <td>0</td>\n",
       "    </tr>\n",
       "    <tr>\n",
       "      <th>168152</th>\n",
       "      <td>mobile coverb07tg4c6r4amazon brand - solimo de...</td>\n",
       "      <td>mobile coverb07tg4c6r4amazon brand - solimo de...</td>\n",
       "      <td>bf/bf6f7af0.jpg</td>\n",
       "      <td>CELLULAR_PHONE_CASE</td>\n",
       "      <td>1</td>\n",
       "    </tr>\n",
       "  </tbody>\n",
       "</table>\n",
       "<p>168153 rows × 5 columns</p>\n",
       "</div>"
      ],
      "text/plain": [
       "                                              description  \\\n",
       "0       cellphonecoverb07r8wd99zamazon brand - solimo ...   \n",
       "1       mobile coverb07tg4stm2amazon brand - solimo de...   \n",
       "2       dutch ovens oven cast iron pot combo bread for...   \n",
       "3       moto g5s plus mobile back case cover transpare...   \n",
       "4       throw-pillowsb074vlpc1zamazon brand  stone & b...   \n",
       "...                                                   ...   \n",
       "168148  mobile coverb07trwv2fzamazon brand - solimo de...   \n",
       "168149  mobile coverb0857l9jb8amazon brand - solimo de...   \n",
       "168150  mobile coverb0856bdy4l365 everyday value trail...   \n",
       "168151  urad dalb07t9tkptmamazon brand - solimo design...   \n",
       "168152  mobile coverb07tg4c6r4amazon brand - solimo de...   \n",
       "\n",
       "                                             description2             path  \\\n",
       "0       mobile coverb0773b95sramazon brand - solimo de...  61/6118fe0e.jpg   \n",
       "1       mobile coverb07tg4stm2amazon brand - solimo de...  e5/e5542967.jpg   \n",
       "2       xiaomi redmi 6 pro mobile back case cover tran...  dc/dca2bc75.jpg   \n",
       "3       moto g5s plus mobile back case cover transpare...  aa/aa17fc9d.jpg   \n",
       "4       throw-pillowsb074vlpc1zamazon brand  stone & b...  7e/7e6df2bd.jpg   \n",
       "...                                                   ...              ...   \n",
       "168148  mobile coverb07trwv2fzamazon brand - solimo de...  63/63d1f4ff.jpg   \n",
       "168149  mobile coverb0853wqlrzamazon brand - presto! d...  97/971c4f9b.jpg   \n",
       "168150  mobile coverb07tf1f314concept 3 by skechers be...  1e/1e89c004.jpg   \n",
       "168151  mobile coverb07tbv44sw365 everyday value, orga...  49/49cfd6eb.jpg   \n",
       "168152  mobile coverb07tg4c6r4amazon brand - solimo de...  bf/bf6f7af0.jpg   \n",
       "\n",
       "               product_type  label  \n",
       "0       CELLULAR_PHONE_CASE      0  \n",
       "1       CELLULAR_PHONE_CASE      1  \n",
       "2                   GROCERY      0  \n",
       "3       CELLULAR_PHONE_CASE      1  \n",
       "4                    PILLOW      1  \n",
       "...                     ...    ...  \n",
       "168148  CELLULAR_PHONE_CASE      1  \n",
       "168149  CELLULAR_PHONE_CASE      0  \n",
       "168150  CELLULAR_PHONE_CASE      0  \n",
       "168151  CELLULAR_PHONE_CASE      0  \n",
       "168152  CELLULAR_PHONE_CASE      1  \n",
       "\n",
       "[168153 rows x 5 columns]"
      ]
     },
     "execution_count": 74,
     "metadata": {},
     "output_type": "execute_result"
    }
   ],
   "source": [
    "data = pd.read_csv(f\"{save_path}/data.csv\")\n",
    "data = data.drop({\"Unnamed: 0\"}, axis=1)\n",
    "data"
   ]
  },
  {
   "cell_type": "code",
   "execution_count": 75,
   "metadata": {},
   "outputs": [
    {
     "data": {
      "text/plain": [
       "(168153, 576)"
      ]
     },
     "execution_count": 75,
     "metadata": {},
     "output_type": "execute_result"
    }
   ],
   "source": [
    "img = np.load(f\"{save_path}/img.npy\", allow_pickle=True)\n",
    "img.shape"
   ]
  },
  {
   "cell_type": "code",
   "execution_count": 76,
   "metadata": {},
   "outputs": [
    {
     "data": {
      "text/plain": [
       "(168153, 300)"
      ]
     },
     "execution_count": 76,
     "metadata": {},
     "output_type": "execute_result"
    }
   ],
   "source": [
    "text = np.load(f\"{save_path}/text.npy\", allow_pickle=True)\n",
    "text.shape"
   ]
  },
  {
   "cell_type": "code",
   "execution_count": 77,
   "metadata": {},
   "outputs": [
    {
     "data": {
      "text/plain": [
       "(168153, 300)"
      ]
     },
     "execution_count": 77,
     "metadata": {},
     "output_type": "execute_result"
    }
   ],
   "source": [
    "text2 = np.load(f\"{save_path}/text2.npy\", allow_pickle=True)\n",
    "text2.shape"
   ]
  },
  {
   "cell_type": "markdown",
   "metadata": {},
   "source": [
    "# Train-Test Split"
   ]
  },
  {
   "cell_type": "markdown",
   "metadata": {},
   "source": [
    "To use `stratify` parameter of `sklearn.model_selection.train_test_split()`, we need to select all product instances which appear more than once"
   ]
  },
  {
   "cell_type": "code",
   "execution_count": 78,
   "metadata": {},
   "outputs": [],
   "source": [
    "data[\"product_type_count\"] = data.groupby(\n",
    "    [\"product_type\"])[\"product_type\"].transform(\"count\")\n",
    "\n",
    "data = data[data[\"product_type_count\"] > config[\"data\"][\"cls\"]]"
   ]
  },
  {
   "cell_type": "code",
   "execution_count": 79,
   "metadata": {},
   "outputs": [],
   "source": [
    "# Update both columns\n",
    "product_types = data[[\"product_type\"]]\n",
    "\n",
    "labels = data[[\"label\"]]"
   ]
  },
  {
   "cell_type": "code",
   "execution_count": 80,
   "metadata": {},
   "outputs": [],
   "source": [
    "from sklearn.model_selection import train_test_split"
   ]
  },
  {
   "cell_type": "code",
   "execution_count": 81,
   "metadata": {},
   "outputs": [],
   "source": [
    "train, test, labels_train, labels_test = train_test_split(\n",
    "    data,\n",
    "    labels,\n",
    "    stratify=product_types,\n",
    "    test_size=config[\"model\"][\"training\"][\"test_split\"],\n",
    "    random_state=42)"
   ]
  },
  {
   "cell_type": "code",
   "execution_count": 82,
   "metadata": {},
   "outputs": [],
   "source": [
    "img_train = img[train.index]\n",
    "img_test = img[test.index]\n",
    "\n",
    "text_train = text[train.index]\n",
    "text_test = text[test.index]\n",
    "\n",
    "text2_train = text2[train.index]\n",
    "text2_test = text2[test.index]"
   ]
  },
  {
   "cell_type": "markdown",
   "metadata": {},
   "source": [
    "# Build Extended MNN-EM Model"
   ]
  },
  {
   "cell_type": "markdown",
   "metadata": {},
   "source": [
    "![](../../assets/images/Extended_MNN_EM.png)"
   ]
  },
  {
   "cell_type": "code",
   "execution_count": 83,
   "metadata": {},
   "outputs": [],
   "source": [
    "from utils.metrics import create_metrics"
   ]
  },
  {
   "cell_type": "code",
   "execution_count": 84,
   "metadata": {},
   "outputs": [],
   "source": [
    "head_1_config = {\n",
    "    \"img_input_size\": img_model.layers[-1].output_shape[1],\n",
    "    \"txt_input_size\": embedding_dim,\n",
    "    \"img_fc_layers\": config[\"model\"][\"img_1_fc_layers\"],\n",
    "    \"txt_fc_layers\": config[\"model\"][\"txt_1_fc_layers\"],\n",
    "    \"extended\": True,\n",
    "}"
   ]
  },
  {
   "cell_type": "code",
   "execution_count": 85,
   "metadata": {},
   "outputs": [],
   "source": [
    "head_2_config = {\n",
    "    \"img_input_size\": config[\"model\"][\"img_1_fc_layers\"][-1],\n",
    "    \"txt_input_size\": embedding_dim,\n",
    "    \"img_fc_layers\": config[\"model\"][\"combined_1_fc_layers\"],\n",
    "    \"txt_fc_layers\": config[\"model\"][\"txt_2_fc_layers\"],\n",
    "    \"extended\": False,\n",
    "}"
   ]
  },
  {
   "cell_type": "code",
   "execution_count": 86,
   "metadata": {},
   "outputs": [],
   "source": [
    "from tensorflow.keras.models import Model\n",
    "from tensorflow.keras.layers import Input, Dense, Multiply, BatchNormalization, Embedding, Flatten\n",
    "from tensorflow.keras.optimizers import Adam\n",
    "from tensorflow.keras.metrics import Recall, Precision, BinaryAccuracy, CosineSimilarity\n",
    "\n",
    "\n",
    "class MNNEMGlove(object):\n",
    "    def __init__(\n",
    "            self, head_config, combined_fc_layers, learning_rate,\n",
    "            metrics=[\"recall\", \"precision\", \"binary_accuracy\", \"cosine_similarity\"],\n",
    "            loss='binary_crossentropy', name=\"MNN_EM\") -> None:\n",
    "        self.head_config = head_config\n",
    "        self.combined_fc_layers = combined_fc_layers\n",
    "        self.learning_rate = learning_rate\n",
    "        self.metrics = metrics\n",
    "        self.loss = loss\n",
    "        self.name = name\n",
    "        self._build_model()  # builds self.model variable\n",
    "\n",
    "    def _build_model(self):\n",
    "        # Input Layer\n",
    "        img_features = Input(\n",
    "            shape=(self.head_config[\"img_input_size\"]), name=\"Image_Input\")\n",
    "\n",
    "        # Input Layer\n",
    "        text_features = Input(\n",
    "            shape=(self.head_config[\"txt_input_size\"]), dtype=tf.int64, name=\"Text_Input\")\n",
    "\n",
    "        x = _MNNEMHead(**self.head_config)\n",
    "\n",
    "        x = x.model([img_features, text_features])\n",
    "\n",
    "        # FC Layers\n",
    "        for i, comb_fl in enumerate(self.combined_fc_layers, 1):\n",
    "            x = Dense(comb_fl, activation='relu',\n",
    "                      name=f\"Combined_FC_{i}\")(x)\n",
    "\n",
    "        output = Dense(1, activation='sigmoid', name=\"Sigmoid\")(x)\n",
    "        model = Model(inputs=[img_features, text_features],\n",
    "                      outputs=output, name=self.name)\n",
    "\n",
    "        optimizer = Adam(learning_rate=self.learning_rate)\n",
    "\n",
    "        model.compile(optimizer=optimizer, loss=self.loss,\n",
    "                      metrics=self.metrics)\n",
    "        self.model = model\n",
    "        # print(\"MNN-EM model built: \")\n",
    "        # self.model.summary()\n",
    "\n",
    "\n",
    "class _MNNEMHead(object):\n",
    "    def __init__(self, img_input_size, txt_input_size, img_fc_layers,\n",
    "                 txt_fc_layers, extended):\n",
    "        self.img_input_size = img_input_size\n",
    "        self.txt_input_size = txt_input_size\n",
    "        self.img_fc_layers = img_fc_layers\n",
    "        self.txt_fc_layers = txt_fc_layers\n",
    "        self.extended = extended\n",
    "        self._build_model()  # builds self.model variable\n",
    "\n",
    "    def _build_model(self):\n",
    "        # Text Input\n",
    "        img_features = Input(shape=(self.img_input_size),\n",
    "                             name=\"Image_Input_Head_Outer\")\n",
    "\n",
    "        img_cnn = _CNNBranch(self.img_input_size,\n",
    "                             self.img_fc_layers, self.extended, name=\"Image\")\n",
    "\n",
    "        output_img = img_cnn.model(img_features)\n",
    "\n",
    "        # Image Input\n",
    "        text_features = Input(shape=(self.txt_input_size), dtype=tf.int64, name=\"Text_Input_Head_Outer\")\n",
    "\n",
    "        embedding_layer = Embedding(\n",
    "            num_tokens,\n",
    "            self.txt_input_size,\n",
    "            embeddings_initializer=tf.keras.initializers.Constant(embedding_matrix),\n",
    "            trainable=False,\n",
    "        )\n",
    "\n",
    "        x = embedding_layer(text_features)\n",
    "\n",
    "        x = Flatten()(x)\n",
    "\n",
    "        text_cnn = _CNNBranch(x.shape[1],\n",
    "                             self.txt_fc_layers, self.extended, name=\"Text\")\n",
    "\n",
    "        output_text = text_cnn.model(x)\n",
    "\n",
    "        # Element-wise product\n",
    "        combined = Multiply(\n",
    "            name=\"Element-wise_Multiplication\")([output_img, output_text])\n",
    "\n",
    "        model = Model(inputs=[img_features, text_features],\n",
    "                      outputs=combined, name=\"MNN_EM_Head\")\n",
    "\n",
    "        self.model = model\n",
    "\n",
    "\n",
    "class _CNNBranch(object):\n",
    "    def __init__(self, input_size, fc_layers, extended, name):\n",
    "        self.input_size = input_size\n",
    "        self.fc_layers = fc_layers\n",
    "        self.extended = extended\n",
    "        self.name = name\n",
    "        self._build_model()  # builds self.model variable\n",
    "\n",
    "    def _build_model(self):\n",
    "        # Input Layer\n",
    "        features = Input(shape=(self.input_size),\n",
    "                         name=f\"{self.name}_Input_Head_Inner\")\n",
    "\n",
    "        # fc + ReLU\n",
    "        for i, fl in enumerate(\n",
    "                self.fc_layers[: None if self.extended else -1],\n",
    "                1):\n",
    "            x = Dense(fl, activation='relu',\n",
    "                      name=f\"{self.name}_FC_{i}\")(features if i == 1 else x)\n",
    "\n",
    "        if not self.extended:\n",
    "            # fc + L2 Norm\n",
    "            x = Dense(\n",
    "                self.fc_layers[-1],\n",
    "                kernel_regularizer='l2', name=f\"{self.name}_FC_last\")(\n",
    "                features if len(self.fc_layers) == 1 else x)\n",
    "\n",
    "        output = BatchNormalization(name=f\"{self.name}_Batch_Normalization\")(x)\n",
    "\n",
    "        model = Model(inputs=features, outputs=output, name=f\"{self.name}_CNN\")\n",
    "\n",
    "        self.model = model\n",
    "\n",
    "class ExtendedMNNEMGloVe(object):\n",
    "    def __init__(self, head_1_config, head_2_config,\n",
    "                 combined_fc_layers, learning_rate,\n",
    "                 metrics=[\"recall\", \"precision\", \"binary_accuracy\",\n",
    "                          \"cosine_similarity\"],\n",
    "                 loss='binary_crossentropy') -> None:\n",
    "        self.head_1_config = head_1_config\n",
    "        self.head_2_config = head_2_config\n",
    "        self.combined_fc_layers = combined_fc_layers\n",
    "        self.learning_rate = learning_rate\n",
    "        self.metrics = metrics\n",
    "        self.loss = loss\n",
    "        self._build_model()  # builds self.model variable\n",
    "\n",
    "    def _build_model(self):\n",
    "        head = _MNNEMHead(**self.head_1_config)\n",
    "\n",
    "        tail = MNNEMGlove(\n",
    "            head_config=self.head_2_config,\n",
    "            combined_fc_layers=self.combined_fc_layers,\n",
    "            learning_rate=self.learning_rate,\n",
    "            metrics=self.metrics,\n",
    "            name=\"MNN_EM_Tail\")\n",
    "\n",
    "        # Input Layer\n",
    "        img_features = Input(\n",
    "            shape=(self.head_1_config[\"img_input_size\"]), name=\"Image_Input\")\n",
    "\n",
    "        # Input Layer\n",
    "        text_features = Input(\n",
    "            shape=(self.head_1_config[\"txt_input_size\"]), name=\"Text_Input\")\n",
    "\n",
    "        # Input Layer\n",
    "        text_2_features = Input(\n",
    "            shape=(self.head_2_config[\"txt_input_size\"]), name=\"Text_2_Input\")\n",
    "\n",
    "        x = head.model([img_features, text_features])\n",
    "\n",
    "        x = tail.model([x, text_2_features])\n",
    "\n",
    "        model = Model(inputs=[img_features, text_features,\n",
    "                      text_2_features], outputs=x, name=\"Extended_MNN_EM\")\n",
    "\n",
    "        optimizer = Adam(learning_rate=self.learning_rate)\n",
    "\n",
    "        model.compile(optimizer=optimizer, loss=self.loss,\n",
    "                      metrics=self.metrics)\n",
    "\n",
    "        self.model = model"
   ]
  },
  {
   "cell_type": "code",
   "execution_count": 87,
   "metadata": {},
   "outputs": [],
   "source": [
    "ext_mnn_em = ExtendedMNNEMGloVe(\n",
    "    head_1_config=head_1_config,\n",
    "    head_2_config=head_2_config,\n",
    "    combined_fc_layers=config[\"model\"][\"combined_2_fc_layers\"],\n",
    "    learning_rate=config[\"model\"][\"training\"][\"learning_rate\"],\n",
    "    metrics=create_metrics(config[\"model\"][\"training\"][\"metrics\"]))"
   ]
  },
  {
   "cell_type": "code",
   "execution_count": 88,
   "metadata": {},
   "outputs": [
    {
     "name": "stdout",
     "output_type": "stream",
     "text": [
      "Model: \"Extended_MNN_EM\"\n",
      "__________________________________________________________________________________________________\n",
      " Layer (type)                   Output Shape         Param #     Connected to                     \n",
      "==================================================================================================\n",
      " Image_Input (InputLayer)       [(None, 576)]        0           []                               \n",
      "                                                                                                  \n",
      " Text_Input (InputLayer)        [(None, 300)]        0           []                               \n",
      "                                                                                                  \n",
      " MNN_EM_Head (Functional)       (None, 1024)         141945664   ['Image_Input[0][0]',            \n",
      "                                                                  'Text_Input[0][0]']             \n",
      "|¯¯¯¯¯¯¯¯¯¯¯¯¯¯¯¯¯¯¯¯¯¯¯¯¯¯¯¯¯¯¯¯¯¯¯¯¯¯¯¯¯¯¯¯¯¯¯¯¯¯¯¯¯¯¯¯¯¯¯¯¯¯¯¯¯¯¯¯¯¯¯¯¯¯¯¯¯¯¯¯¯¯¯¯¯¯¯¯¯¯¯¯¯¯¯¯|\n",
      "| Text_Input_Head_Outer (InputLa  [(None, 300)]     0           []                               |\n",
      "| yer)                                                                                           |\n",
      "|                                                                                                |\n",
      "| embedding_4 (Embedding)      (None, 300, 300)     49185600    []                               |\n",
      "|                                                                                                |\n",
      "| Image_Input_Head_Outer (InputL  [(None, 576)]     0           []                               |\n",
      "| ayer)                                                                                          |\n",
      "|                                                                                                |\n",
      "| flatten_4 (Flatten)          (None, 90000)        0           []                               |\n",
      "|                                                                                                |\n",
      "| Image_CNN (Functional)       (None, 1024)         594944      []                               |\n",
      "||¯¯¯¯¯¯¯¯¯¯¯¯¯¯¯¯¯¯¯¯¯¯¯¯¯¯¯¯¯¯¯¯¯¯¯¯¯¯¯¯¯¯¯¯¯¯¯¯¯¯¯¯¯¯¯¯¯¯¯¯¯¯¯¯¯¯¯¯¯¯¯¯¯¯¯¯¯¯¯¯¯¯¯¯¯¯¯¯¯¯¯¯¯¯||\n",
      "|| Image_Input_Head_Inner (InputL  [(None, 576)]   0           []                               ||\n",
      "|| ayer)                                                                                        ||\n",
      "||                                                                                              ||\n",
      "|| Image_FC_1 (Dense)         (None, 1024)         590848      []                               ||\n",
      "||                                                                                              ||\n",
      "|| Image_Batch_Normalization (Bat  (None, 1024)    4096        []                               ||\n",
      "|| chNormalization)                                                                             ||\n",
      "|¯¯¯¯¯¯¯¯¯¯¯¯¯¯¯¯¯¯¯¯¯¯¯¯¯¯¯¯¯¯¯¯¯¯¯¯¯¯¯¯¯¯¯¯¯¯¯¯¯¯¯¯¯¯¯¯¯¯¯¯¯¯¯¯¯¯¯¯¯¯¯¯¯¯¯¯¯¯¯¯¯¯¯¯¯¯¯¯¯¯¯¯¯¯¯¯|\n",
      "| Text_CNN (Functional)        (None, 1024)         92165120    []                               |\n",
      "||¯¯¯¯¯¯¯¯¯¯¯¯¯¯¯¯¯¯¯¯¯¯¯¯¯¯¯¯¯¯¯¯¯¯¯¯¯¯¯¯¯¯¯¯¯¯¯¯¯¯¯¯¯¯¯¯¯¯¯¯¯¯¯¯¯¯¯¯¯¯¯¯¯¯¯¯¯¯¯¯¯¯¯¯¯¯¯¯¯¯¯¯¯¯||\n",
      "|| Text_Input_Head_Inner (InputLa  [(None, 90000)]  0          []                               ||\n",
      "|| yer)                                                                                         ||\n",
      "||                                                                                              ||\n",
      "|| Text_FC_1 (Dense)          (None, 1024)         92161024    []                               ||\n",
      "||                                                                                              ||\n",
      "|| Text_Batch_Normalization (Batc  (None, 1024)    4096        []                               ||\n",
      "|| hNormalization)                                                                              ||\n",
      "|¯¯¯¯¯¯¯¯¯¯¯¯¯¯¯¯¯¯¯¯¯¯¯¯¯¯¯¯¯¯¯¯¯¯¯¯¯¯¯¯¯¯¯¯¯¯¯¯¯¯¯¯¯¯¯¯¯¯¯¯¯¯¯¯¯¯¯¯¯¯¯¯¯¯¯¯¯¯¯¯¯¯¯¯¯¯¯¯¯¯¯¯¯¯¯¯|\n",
      "| Element-wise_Multiplication (M  (None, 1024)      0           []                               |\n",
      "| ultiply)                                                                                       |\n",
      "¯¯¯¯¯¯¯¯¯¯¯¯¯¯¯¯¯¯¯¯¯¯¯¯¯¯¯¯¯¯¯¯¯¯¯¯¯¯¯¯¯¯¯¯¯¯¯¯¯¯¯¯¯¯¯¯¯¯¯¯¯¯¯¯¯¯¯¯¯¯¯¯¯¯¯¯¯¯¯¯¯¯¯¯¯¯¯¯¯¯¯¯¯¯¯¯¯¯\n",
      " Text_2_Input (InputLayer)      [(None, 300)]        0           []                               \n",
      "                                                                                                  \n",
      " MNN_EM_Tail (Functional)       (None, 1)            142794561   ['MNN_EM_Head[0][0]',            \n",
      "                                                                  'Text_2_Input[0][0]']           \n",
      "|¯¯¯¯¯¯¯¯¯¯¯¯¯¯¯¯¯¯¯¯¯¯¯¯¯¯¯¯¯¯¯¯¯¯¯¯¯¯¯¯¯¯¯¯¯¯¯¯¯¯¯¯¯¯¯¯¯¯¯¯¯¯¯¯¯¯¯¯¯¯¯¯¯¯¯¯¯¯¯¯¯¯¯¯¯¯¯¯¯¯¯¯¯¯¯¯|\n",
      "| Image_Input (InputLayer)     [(None, 1024)]       0           []                               |\n",
      "|                                                                                                |\n",
      "| Text_Input (InputLayer)      [(None, 300)]        0           []                               |\n",
      "|                                                                                                |\n",
      "| MNN_EM_Head (Functional)     (None, 512)          142400320   []                               |\n",
      "||¯¯¯¯¯¯¯¯¯¯¯¯¯¯¯¯¯¯¯¯¯¯¯¯¯¯¯¯¯¯¯¯¯¯¯¯¯¯¯¯¯¯¯¯¯¯¯¯¯¯¯¯¯¯¯¯¯¯¯¯¯¯¯¯¯¯¯¯¯¯¯¯¯¯¯¯¯¯¯¯¯¯¯¯¯¯¯¯¯¯¯¯¯¯||\n",
      "|| Text_Input_Head_Outer (InputLa  [(None, 300)]   0           []                               ||\n",
      "|| yer)                                                                                         ||\n",
      "||                                                                                              ||\n",
      "|| embedding_5 (Embedding)    (None, 300, 300)     49185600    []                               ||\n",
      "||                                                                                              ||\n",
      "|| Image_Input_Head_Outer (InputL  [(None, 1024)]  0           []                               ||\n",
      "|| ayer)                                                                                        ||\n",
      "||                                                                                              ||\n",
      "|| flatten_5 (Flatten)        (None, 90000)        0           []                               ||\n",
      "||                                                                                              ||\n",
      "|| Image_CNN (Functional)     (None, 512)          526848      []                               ||\n",
      "|||¯¯¯¯¯¯¯¯¯¯¯¯¯¯¯¯¯¯¯¯¯¯¯¯¯¯¯¯¯¯¯¯¯¯¯¯¯¯¯¯¯¯¯¯¯¯¯¯¯¯¯¯¯¯¯¯¯¯¯¯¯¯¯¯¯¯¯¯¯¯¯¯¯¯¯¯¯¯¯¯¯¯¯¯¯¯¯¯¯¯¯¯|||\n",
      "||| Image_Input_Head_Inner (InputL  [(None, 1024)]  0         []                               |||\n",
      "||| ayer)                                                                                      |||\n",
      "|||                                                                                            |||\n",
      "||| Image_FC_last (Dense)    (None, 512)          524800      []                               |||\n",
      "|||                                                                                            |||\n",
      "||| Image_Batch_Normalization (Bat  (None, 512)   2048        []                               |||\n",
      "||| chNormalization)                                                                           |||\n",
      "||¯¯¯¯¯¯¯¯¯¯¯¯¯¯¯¯¯¯¯¯¯¯¯¯¯¯¯¯¯¯¯¯¯¯¯¯¯¯¯¯¯¯¯¯¯¯¯¯¯¯¯¯¯¯¯¯¯¯¯¯¯¯¯¯¯¯¯¯¯¯¯¯¯¯¯¯¯¯¯¯¯¯¯¯¯¯¯¯¯¯¯¯¯¯||\n",
      "|| Text_CNN (Functional)      (None, 512)          92687872    []                               ||\n",
      "|||¯¯¯¯¯¯¯¯¯¯¯¯¯¯¯¯¯¯¯¯¯¯¯¯¯¯¯¯¯¯¯¯¯¯¯¯¯¯¯¯¯¯¯¯¯¯¯¯¯¯¯¯¯¯¯¯¯¯¯¯¯¯¯¯¯¯¯¯¯¯¯¯¯¯¯¯¯¯¯¯¯¯¯¯¯¯¯¯¯¯¯¯|||\n",
      "||| Text_Input_Head_Inner (InputLa  [(None, 90000)]  0        []                               |||\n",
      "||| yer)                                                                                       |||\n",
      "|||                                                                                            |||\n",
      "||| Text_FC_1 (Dense)        (None, 1024)         92161024    []                               |||\n",
      "|||                                                                                            |||\n",
      "||| Text_FC_last (Dense)     (None, 512)          524800      []                               |||\n",
      "|||                                                                                            |||\n",
      "||| Text_Batch_Normalization (Batc  (None, 512)   2048        []                               |||\n",
      "||| hNormalization)                                                                            |||\n",
      "||¯¯¯¯¯¯¯¯¯¯¯¯¯¯¯¯¯¯¯¯¯¯¯¯¯¯¯¯¯¯¯¯¯¯¯¯¯¯¯¯¯¯¯¯¯¯¯¯¯¯¯¯¯¯¯¯¯¯¯¯¯¯¯¯¯¯¯¯¯¯¯¯¯¯¯¯¯¯¯¯¯¯¯¯¯¯¯¯¯¯¯¯¯¯||\n",
      "|| Element-wise_Multiplication (M  (None, 512)     0           []                               ||\n",
      "|| ultiply)                                                                                     ||\n",
      "|¯¯¯¯¯¯¯¯¯¯¯¯¯¯¯¯¯¯¯¯¯¯¯¯¯¯¯¯¯¯¯¯¯¯¯¯¯¯¯¯¯¯¯¯¯¯¯¯¯¯¯¯¯¯¯¯¯¯¯¯¯¯¯¯¯¯¯¯¯¯¯¯¯¯¯¯¯¯¯¯¯¯¯¯¯¯¯¯¯¯¯¯¯¯¯¯|\n",
      "| Combined_FC_1 (Dense)        (None, 512)          262656      []                               |\n",
      "|                                                                                                |\n",
      "| Combined_FC_2 (Dense)        (None, 256)          131328      []                               |\n",
      "|                                                                                                |\n",
      "| Sigmoid (Dense)              (None, 1)            257         []                               |\n",
      "¯¯¯¯¯¯¯¯¯¯¯¯¯¯¯¯¯¯¯¯¯¯¯¯¯¯¯¯¯¯¯¯¯¯¯¯¯¯¯¯¯¯¯¯¯¯¯¯¯¯¯¯¯¯¯¯¯¯¯¯¯¯¯¯¯¯¯¯¯¯¯¯¯¯¯¯¯¯¯¯¯¯¯¯¯¯¯¯¯¯¯¯¯¯¯¯¯¯\n",
      "==================================================================================================\n",
      "Total params: 284,740,225\n",
      "Trainable params: 186,362,881\n",
      "Non-trainable params: 98,377,344\n",
      "__________________________________________________________________________________________________\n"
     ]
    }
   ],
   "source": [
    "ext_mnn_em.model.summary(expand_nested=True)"
   ]
  },
  {
   "cell_type": "code",
   "execution_count": 89,
   "metadata": {},
   "outputs": [
    {
     "name": "stdout",
     "output_type": "stream",
     "text": [
      "You must install pydot (`pip install pydot`) and install graphviz (see instructions at https://graphviz.gitlab.io/download/) for plot_model/model_to_dot to work.\n"
     ]
    }
   ],
   "source": [
    "# \"Head\"\n",
    "\n",
    "tf.keras.utils.plot_model(ext_mnn_em.model.layers[2],\n",
    "                          rankdir=\"TB\",\n",
    "                          expand_nested=False,\n",
    "                          show_layer_activations=True,\n",
    "                          show_shapes=True)"
   ]
  },
  {
   "cell_type": "code",
   "execution_count": 90,
   "metadata": {},
   "outputs": [
    {
     "name": "stdout",
     "output_type": "stream",
     "text": [
      "You must install pydot (`pip install pydot`) and install graphviz (see instructions at https://graphviz.gitlab.io/download/) for plot_model/model_to_dot to work.\n"
     ]
    }
   ],
   "source": [
    "# Image CNN\n",
    "\n",
    "tf.keras.utils.plot_model(ext_mnn_em.model.layers[2].layers[2],\n",
    "                          rankdir=\"TB\",\n",
    "                          show_layer_activations=True,\n",
    "                          show_shapes=True)"
   ]
  },
  {
   "cell_type": "code",
   "execution_count": 91,
   "metadata": {},
   "outputs": [
    {
     "name": "stdout",
     "output_type": "stream",
     "text": [
      "You must install pydot (`pip install pydot`) and install graphviz (see instructions at https://graphviz.gitlab.io/download/) for plot_model/model_to_dot to work.\n"
     ]
    }
   ],
   "source": [
    "# Text CNN (outer)\n",
    "\n",
    "tf.keras.utils.plot_model(ext_mnn_em.model.layers[2].layers[3],\n",
    "                          rankdir=\"TB\",\n",
    "                          show_layer_activations=True,\n",
    "                          show_shapes=True)"
   ]
  },
  {
   "cell_type": "code",
   "execution_count": 92,
   "metadata": {},
   "outputs": [
    {
     "name": "stdout",
     "output_type": "stream",
     "text": [
      "You must install pydot (`pip install pydot`) and install graphviz (see instructions at https://graphviz.gitlab.io/download/) for plot_model/model_to_dot to work.\n"
     ]
    }
   ],
   "source": [
    "# \"Tail\"\n",
    "\n",
    "tf.keras.utils.plot_model(ext_mnn_em.model.layers[4],\n",
    "                          rankdir=\"TB\",\n",
    "                          expand_nested=False,\n",
    "                          show_layer_activations=True,\n",
    "                          show_shapes=True)"
   ]
  },
  {
   "cell_type": "code",
   "execution_count": 93,
   "metadata": {},
   "outputs": [
    {
     "name": "stdout",
     "output_type": "stream",
     "text": [
      "You must install pydot (`pip install pydot`) and install graphviz (see instructions at https://graphviz.gitlab.io/download/) for plot_model/model_to_dot to work.\n"
     ]
    }
   ],
   "source": [
    "# Full model\n",
    "\n",
    "tf.keras.utils.plot_model(ext_mnn_em.model,\n",
    "                          rankdir=\"TB\",\n",
    "                          expand_nested=False,\n",
    "                          show_layer_activations=True,\n",
    "                          show_shapes=True)"
   ]
  },
  {
   "cell_type": "markdown",
   "metadata": {},
   "source": [
    "# Callbacks"
   ]
  },
  {
   "cell_type": "code",
   "execution_count": 94,
   "metadata": {},
   "outputs": [],
   "source": [
    "from utils.metrics import create_callbacks"
   ]
  },
  {
   "cell_type": "code",
   "execution_count": 95,
   "metadata": {},
   "outputs": [],
   "source": [
    "log_dir = config[\"model\"][\"training\"][\"log_dir\"]\n",
    "model_name = config[\"model\"][\"name\"]\n",
    "optimizer_name = config[\"model\"][\"training\"][\"optimizer\"]\n",
    "learning_rate = config[\"model\"][\"training\"][\"learning_rate\"]"
   ]
  },
  {
   "cell_type": "code",
   "execution_count": 96,
   "metadata": {},
   "outputs": [],
   "source": [
    "# Model is too big to save\n",
    "\n",
    "config[\"model\"][\"training\"][\"callbacks\"] = ['early_stopping', 'tensorboard']"
   ]
  },
  {
   "cell_type": "code",
   "execution_count": 97,
   "metadata": {},
   "outputs": [],
   "source": [
    "callbacks = create_callbacks(\n",
    "    callbacks_list=config[\"model\"][\"training\"][\"callbacks\"],\n",
    "    log_dir=log_dir,\n",
    "    model_name=model_name,\n",
    "    img_model_name=img_model.name,\n",
    "    optimizer_name=optimizer_name,\n",
    "    learning_rate=learning_rate,\n",
    "    cls=config[\"data\"][\"cls\"])"
   ]
  },
  {
   "cell_type": "markdown",
   "metadata": {},
   "source": [
    "# Training"
   ]
  },
  {
   "cell_type": "code",
   "execution_count": 98,
   "metadata": {},
   "outputs": [
    {
     "name": "stdout",
     "output_type": "stream",
     "text": [
      "Epoch 1/10\n",
      "8512/8512 [==============================] - 113s 13ms/step - loss: 8.5410 - recall: 0.8838 - precision: 0.8982 - binary_accuracy: 0.8875 - cosine_similarity: 0.5202 - val_loss: 4.7907 - val_recall: 0.9823 - val_precision: 0.9754 - val_binary_accuracy: 0.9780 - val_cosine_similarity: 0.5177\n",
      "Epoch 2/10\n",
      "8512/8512 [==============================] - 113s 13ms/step - loss: 3.2390 - recall: 0.9768 - precision: 0.9815 - binary_accuracy: 0.9784 - cosine_similarity: 0.5202 - val_loss: 2.2249 - val_recall: 0.9872 - val_precision: 0.9810 - val_binary_accuracy: 0.9835 - val_cosine_similarity: 0.5176\n",
      "Epoch 3/10\n",
      "8512/8512 [==============================] - 111s 13ms/step - loss: 1.6523 - recall: 0.9879 - precision: 0.9896 - binary_accuracy: 0.9883 - cosine_similarity: 0.5202 - val_loss: 1.2684 - val_recall: 0.9913 - val_precision: 0.9859 - val_binary_accuracy: 0.9882 - val_cosine_similarity: 0.5175\n",
      "Epoch 4/10\n",
      "8512/8512 [==============================] - 111s 13ms/step - loss: 0.9885 - recall: 0.9906 - precision: 0.9918 - binary_accuracy: 0.9909 - cosine_similarity: 0.5202 - val_loss: 0.8157 - val_recall: 0.9944 - val_precision: 0.9832 - val_binary_accuracy: 0.9883 - val_cosine_similarity: 0.5175\n",
      "Epoch 5/10\n",
      "8512/8512 [==============================] - 111s 13ms/step - loss: 0.6466 - recall: 0.9932 - precision: 0.9938 - binary_accuracy: 0.9932 - cosine_similarity: 0.5202 - val_loss: 0.5624 - val_recall: 0.9948 - val_precision: 0.9841 - val_binary_accuracy: 0.9890 - val_cosine_similarity: 0.5176\n",
      "Epoch 6/10\n",
      "8512/8512 [==============================] - 112s 13ms/step - loss: 0.4447 - recall: 0.9938 - precision: 0.9944 - binary_accuracy: 0.9939 - cosine_similarity: 0.5202 - val_loss: 0.4043 - val_recall: 0.9951 - val_precision: 0.9867 - val_binary_accuracy: 0.9905 - val_cosine_similarity: 0.5176\n",
      "Epoch 7/10\n",
      "8512/8512 [==============================] - 111s 13ms/step - loss: 0.3132 - recall: 0.9954 - precision: 0.9955 - binary_accuracy: 0.9952 - cosine_similarity: 0.5202 - val_loss: 0.2935 - val_recall: 0.9950 - val_precision: 0.9891 - val_binary_accuracy: 0.9917 - val_cosine_similarity: 0.5175\n",
      "Epoch 8/10\n",
      "8512/8512 [==============================] - 112s 13ms/step - loss: 0.2299 - recall: 0.9960 - precision: 0.9961 - binary_accuracy: 0.9959 - cosine_similarity: 0.5202 - val_loss: 0.2314 - val_recall: 0.9960 - val_precision: 0.9880 - val_binary_accuracy: 0.9917 - val_cosine_similarity: 0.5175\n",
      "Epoch 9/10\n",
      "8512/8512 [==============================] - 111s 13ms/step - loss: 0.1720 - recall: 0.9965 - precision: 0.9966 - binary_accuracy: 0.9964 - cosine_similarity: 0.5202 - val_loss: 0.1883 - val_recall: 0.9960 - val_precision: 0.9865 - val_binary_accuracy: 0.9909 - val_cosine_similarity: 0.5175\n",
      "Epoch 10/10\n",
      "8512/8512 [==============================] - 111s 13ms/step - loss: 0.1358 - recall: 0.9967 - precision: 0.9966 - binary_accuracy: 0.9965 - cosine_similarity: 0.5202 - val_loss: 0.1553 - val_recall: 0.9943 - val_precision: 0.9888 - val_binary_accuracy: 0.9912 - val_cosine_similarity: 0.5174\n"
     ]
    }
   ],
   "source": [
    "history = ext_mnn_em.model.fit(\n",
    "    x=[img_train, text_train, text2_train],\n",
    "    y=labels_train,\n",
    "    epochs=config[\"model\"][\"training\"][\"epochs\"],\n",
    "    validation_split=config[\"model\"][\"training\"][\"validation_split\"],\n",
    "    batch_size=config[\"model\"][\"training\"][\"batch_size\"],\n",
    "    callbacks=callbacks)"
   ]
  },
  {
   "cell_type": "markdown",
   "metadata": {},
   "source": [
    "# Evaluation"
   ]
  },
  {
   "cell_type": "markdown",
   "metadata": {},
   "source": [
    "## Plot loss and metrics"
   ]
  },
  {
   "cell_type": "code",
   "execution_count": 99,
   "metadata": {},
   "outputs": [],
   "source": [
    "from utils.metrics import plot_metrics"
   ]
  },
  {
   "cell_type": "code",
   "execution_count": 100,
   "metadata": {},
   "outputs": [
    {
     "data": {
      "image/png": "[encoded data removed]",
      "text/plain": [
       "<Figure size 640x480 with 1 Axes>"
      ]
     },
     "metadata": {},
     "output_type": "display_data"
    },
    {
     "data": {
      "image/png": "[encoded data removed]",
      "text/plain": [
       "<Figure size 640x480 with 1 Axes>"
      ]
     },
     "metadata": {},
     "output_type": "display_data"
    },
    {
     "data": {
      "image/png": "[encoded data removed]",
      "text/plain": [
       "<Figure size 640x480 with 1 Axes>"
      ]
     },
     "metadata": {},
     "output_type": "display_data"
    },
    {
     "data": {
      "image/png": "[encoded data removed]",
      "text/plain": [
       "<Figure size 640x480 with 1 Axes>"
      ]
     },
     "metadata": {},
     "output_type": "display_data"
    },
    {
     "data": {
      "image/png": "[encoded data removed]",
      "text/plain": [
       "<Figure size 640x480 with 1 Axes>"
      ]
     },
     "metadata": {},
     "output_type": "display_data"
    }
   ],
   "source": [
    "plot_metrics(history.history, config[\"model\"][\"training\"][\"metrics\"],\n",
    "             model_name, img_model.name, optimizer_name, learning_rate,\n",
    "             config[\"data\"][\"cls\"])"
   ]
  },
  {
   "cell_type": "markdown",
   "metadata": {},
   "source": [
    "## Evaluate model and save metrics"
   ]
  },
  {
   "cell_type": "code",
   "execution_count": 101,
   "metadata": {},
   "outputs": [],
   "source": [
    "from utils.metrics import evaluate"
   ]
  },
  {
   "cell_type": "code",
   "execution_count": 102,
   "metadata": {},
   "outputs": [
    {
     "name": "stdout",
     "output_type": "stream",
     "text": [
      "16813/16813 [==============================] - 51s 3ms/step - loss: 0.1664 - recall: 0.9913 - precision: 0.9895 - binary_accuracy: 0.9901 - cosine_similarity: 0.5165\n"
     ]
    }
   ],
   "source": [
    "evaluate(ext_mnn_em.model, [img_test, text_test, text2_test], labels_test,\n",
    "         log_dir, model_name, img_model.name, optimizer_name, learning_rate,\n",
    "         config[\"data\"][\"cls\"])"
   ]
  }
 ],
 "metadata": {
  "kernelspec": {
   "display_name": "tf2.8",
   "language": "python",
   "name": "tf2.8"
  },
  "language_info": {
   "codemirror_mode": {
    "name": "ipython",
    "version": 3
   },
   "file_extension": ".py",
   "mimetype": "text/x-python",
   "name": "python",
   "nbconvert_exporter": "python",
   "pygments_lexer": "ipython3",
   "version": "3.9.16"
  }
 },
 "nbformat": 4,
 "nbformat_minor": 4
}
