{
 "cells": [
  {
   "cell_type": "markdown",
   "metadata": {},
   "source": [
    "# Setup"
   ]
  },
  {
   "cell_type": "code",
   "execution_count": 1,
   "metadata": {
    "scrolled": true
   },
   "outputs": [
    {
     "name": "stdout",
     "output_type": "stream",
     "text": [
      "Requirement already satisfied: tensorflow==2.8.* in /pfs/data5/home/es/es_es/es_kamait02/miniconda3/envs/tf2.8/lib/python3.9/site-packages (from -r ../../requirements.txt (line 1)) (2.8.4)\n",
      "Requirement already satisfied: tensorflow-addons==0.18.0 in /pfs/data5/home/es/es_es/es_kamait02/miniconda3/envs/tf2.8/lib/python3.9/site-packages (from -r ../../requirements.txt (line 2)) (0.18.0)\n",
      "Requirement already satisfied: wheel in /pfs/data5/home/es/es_es/es_kamait02/miniconda3/envs/tf2.8/lib/python3.9/site-packages (from -r ../../requirements.txt (line 3)) (0.40.0)\n",
      "Requirement already satisfied: pandas<2.0.0 in /pfs/data5/home/es/es_es/es_kamait02/miniconda3/envs/tf2.8/lib/python3.9/site-packages (from -r ../../requirements.txt (line 4)) (1.5.3)\n",
      "Requirement already satisfied: scikit-learn in /pfs/data5/home/es/es_es/es_kamait02/miniconda3/envs/tf2.8/lib/python3.9/site-packages (from -r ../../requirements.txt (line 5)) (1.2.2)\n",
      "Requirement already satisfied: scipy in /pfs/data5/home/es/es_es/es_kamait02/miniconda3/envs/tf2.8/lib/python3.9/site-packages (from -r ../../requirements.txt (line 6)) (1.10.1)\n",
      "Requirement already satisfied: matplotlib in /pfs/data5/home/es/es_es/es_kamait02/miniconda3/envs/tf2.8/lib/python3.9/site-packages (from -r ../../requirements.txt (line 7)) (3.7.1)\n",
      "Requirement already satisfied: tqdm in /pfs/data5/home/es/es_es/es_kamait02/miniconda3/envs/tf2.8/lib/python3.9/site-packages (from -r ../../requirements.txt (line 8)) (4.65.0)\n",
      "Requirement already satisfied: Pillow in /pfs/data5/home/es/es_es/es_kamait02/miniconda3/envs/tf2.8/lib/python3.9/site-packages (from -r ../../requirements.txt (line 9)) (9.5.0)\n",
      "Requirement already satisfied: kaggle in /pfs/data5/home/es/es_es/es_kamait02/miniconda3/envs/tf2.8/lib/python3.9/site-packages (from -r ../../requirements.txt (line 10)) (1.5.13)\n",
      "Requirement already satisfied: absl-py>=0.4.0 in /pfs/data5/home/es/es_es/es_kamait02/.local/lib/python3.9/site-packages (from tensorflow==2.8.*->-r ../../requirements.txt (line 1)) (1.4.0)\n",
      "Requirement already satisfied: astunparse>=1.6.0 in /pfs/data5/home/es/es_es/es_kamait02/.local/lib/python3.9/site-packages (from tensorflow==2.8.*->-r ../../requirements.txt (line 1)) (1.6.3)\n",
      "Requirement already satisfied: flatbuffers>=1.12 in /pfs/data5/home/es/es_es/es_kamait02/.local/lib/python3.9/site-packages (from tensorflow==2.8.*->-r ../../requirements.txt (line 1)) (23.5.26)\n",
      "Requirement already satisfied: gast>=0.2.1 in /pfs/data5/home/es/es_es/es_kamait02/.local/lib/python3.9/site-packages (from tensorflow==2.8.*->-r ../../requirements.txt (line 1)) (0.5.4)\n",
      "Requirement already satisfied: google-pasta>=0.1.1 in /pfs/data5/home/es/es_es/es_kamait02/.local/lib/python3.9/site-packages (from tensorflow==2.8.*->-r ../../requirements.txt (line 1)) (0.2.0)\n",
      "Requirement already satisfied: h5py>=2.9.0 in /pfs/data5/home/es/es_es/es_kamait02/miniconda3/envs/tf2.8/lib/python3.9/site-packages (from tensorflow==2.8.*->-r ../../requirements.txt (line 1)) (3.8.0)\n",
      "Requirement already satisfied: keras-preprocessing>=1.1.1 in /pfs/data5/home/es/es_es/es_kamait02/.local/lib/python3.9/site-packages (from tensorflow==2.8.*->-r ../../requirements.txt (line 1)) (1.1.2)\n",
      "Requirement already satisfied: libclang>=9.0.1 in /pfs/data5/home/es/es_es/es_kamait02/.local/lib/python3.9/site-packages (from tensorflow==2.8.*->-r ../../requirements.txt (line 1)) (16.0.0)\n",
      "Requirement already satisfied: numpy>=1.20 in /pfs/data5/home/es/es_es/es_kamait02/miniconda3/envs/tf2.8/lib/python3.9/site-packages (from tensorflow==2.8.*->-r ../../requirements.txt (line 1)) (1.24.3)\n",
      "Requirement already satisfied: opt-einsum>=2.3.2 in /pfs/data5/home/es/es_es/es_kamait02/miniconda3/envs/tf2.8/lib/python3.9/site-packages (from tensorflow==2.8.*->-r ../../requirements.txt (line 1)) (3.3.0)\n",
      "Requirement already satisfied: protobuf<3.20,>=3.9.2 in /pfs/data5/home/es/es_es/es_kamait02/.local/lib/python3.9/site-packages (from tensorflow==2.8.*->-r ../../requirements.txt (line 1)) (3.19.6)\n",
      "Requirement already satisfied: setuptools in /pfs/data5/home/es/es_es/es_kamait02/miniconda3/envs/tf2.8/lib/python3.9/site-packages (from tensorflow==2.8.*->-r ../../requirements.txt (line 1)) (67.8.0)\n",
      "Requirement already satisfied: six>=1.12.0 in /pfs/data5/home/es/es_es/es_kamait02/miniconda3/envs/tf2.8/lib/python3.9/site-packages (from tensorflow==2.8.*->-r ../../requirements.txt (line 1)) (1.16.0)\n",
      "Requirement already satisfied: termcolor>=1.1.0 in /pfs/data5/home/es/es_es/es_kamait02/.local/lib/python3.9/site-packages (from tensorflow==2.8.*->-r ../../requirements.txt (line 1)) (2.3.0)\n",
      "Requirement already satisfied: typing-extensions>=3.6.6 in /pfs/data5/home/es/es_es/es_kamait02/miniconda3/envs/tf2.8/lib/python3.9/site-packages (from tensorflow==2.8.*->-r ../../requirements.txt (line 1)) (4.6.3)\n",
      "Requirement already satisfied: wrapt>=1.11.0 in /pfs/data5/home/es/es_es/es_kamait02/.local/lib/python3.9/site-packages (from tensorflow==2.8.*->-r ../../requirements.txt (line 1)) (1.15.0)\n",
      "Requirement already satisfied: tensorboard<2.9,>=2.8 in /pfs/data5/home/es/es_es/es_kamait02/.local/lib/python3.9/site-packages (from tensorflow==2.8.*->-r ../../requirements.txt (line 1)) (2.8.0)\n",
      "Requirement already satisfied: tensorflow-estimator<2.9,>=2.8 in /pfs/data5/home/es/es_es/es_kamait02/.local/lib/python3.9/site-packages (from tensorflow==2.8.*->-r ../../requirements.txt (line 1)) (2.8.0)\n",
      "Requirement already satisfied: keras<2.9,>=2.8.0rc0 in /pfs/data5/home/es/es_es/es_kamait02/.local/lib/python3.9/site-packages (from tensorflow==2.8.*->-r ../../requirements.txt (line 1)) (2.8.0)\n",
      "Requirement already satisfied: tensorflow-io-gcs-filesystem>=0.23.1 in /pfs/data5/home/es/es_es/es_kamait02/.local/lib/python3.9/site-packages (from tensorflow==2.8.*->-r ../../requirements.txt (line 1)) (0.32.0)\n",
      "Requirement already satisfied: grpcio<2.0,>=1.24.3 in /pfs/data5/home/es/es_es/es_kamait02/.local/lib/python3.9/site-packages (from tensorflow==2.8.*->-r ../../requirements.txt (line 1)) (1.54.2)\n",
      "Requirement already satisfied: packaging in /pfs/data5/home/es/es_es/es_kamait02/miniconda3/envs/tf2.8/lib/python3.9/site-packages (from tensorflow-addons==0.18.0->-r ../../requirements.txt (line 2)) (23.1)\n",
      "Requirement already satisfied: typeguard>=2.7 in /pfs/data5/home/es/es_es/es_kamait02/.local/lib/python3.9/site-packages (from tensorflow-addons==0.18.0->-r ../../requirements.txt (line 2)) (4.0.0)\n",
      "Requirement already satisfied: python-dateutil>=2.8.1 in /pfs/data5/home/es/es_es/es_kamait02/miniconda3/envs/tf2.8/lib/python3.9/site-packages (from pandas<2.0.0->-r ../../requirements.txt (line 4)) (2.8.2)\n",
      "Requirement already satisfied: pytz>=2020.1 in /pfs/data5/home/es/es_es/es_kamait02/miniconda3/envs/tf2.8/lib/python3.9/site-packages (from pandas<2.0.0->-r ../../requirements.txt (line 4)) (2023.3)\n",
      "Requirement already satisfied: joblib>=1.1.1 in /pfs/data5/home/es/es_es/es_kamait02/.local/lib/python3.9/site-packages (from scikit-learn->-r ../../requirements.txt (line 5)) (1.2.0)\n",
      "Requirement already satisfied: threadpoolctl>=2.0.0 in /pfs/data5/home/es/es_es/es_kamait02/.local/lib/python3.9/site-packages (from scikit-learn->-r ../../requirements.txt (line 5)) (3.1.0)\n",
      "Requirement already satisfied: contourpy>=1.0.1 in /pfs/data5/home/es/es_es/es_kamait02/miniconda3/envs/tf2.8/lib/python3.9/site-packages (from matplotlib->-r ../../requirements.txt (line 7)) (1.0.7)\n",
      "Requirement already satisfied: cycler>=0.10 in /pfs/data5/home/es/es_es/es_kamait02/.local/lib/python3.9/site-packages (from matplotlib->-r ../../requirements.txt (line 7)) (0.11.0)\n",
      "Requirement already satisfied: fonttools>=4.22.0 in /pfs/data5/home/es/es_es/es_kamait02/.local/lib/python3.9/site-packages (from matplotlib->-r ../../requirements.txt (line 7)) (4.40.0)\n",
      "Requirement already satisfied: kiwisolver>=1.0.1 in /pfs/data5/home/es/es_es/es_kamait02/.local/lib/python3.9/site-packages (from matplotlib->-r ../../requirements.txt (line 7)) (1.4.4)\n",
      "Requirement already satisfied: pyparsing>=2.3.1 in /pfs/data5/home/es/es_es/es_kamait02/.local/lib/python3.9/site-packages (from matplotlib->-r ../../requirements.txt (line 7)) (3.0.9)\n",
      "Requirement already satisfied: importlib-resources>=3.2.0 in /pfs/data5/home/es/es_es/es_kamait02/.local/lib/python3.9/site-packages (from matplotlib->-r ../../requirements.txt (line 7)) (5.12.0)\n",
      "Requirement already satisfied: certifi in /pfs/data5/home/es/es_es/es_kamait02/.local/lib/python3.9/site-packages (from kaggle->-r ../../requirements.txt (line 10)) (2023.5.7)\n",
      "Requirement already satisfied: requests in /pfs/data5/home/es/es_es/es_kamait02/.local/lib/python3.9/site-packages (from kaggle->-r ../../requirements.txt (line 10)) (2.31.0)\n",
      "Requirement already satisfied: python-slugify in /pfs/data5/home/es/es_es/es_kamait02/.local/lib/python3.9/site-packages (from kaggle->-r ../../requirements.txt (line 10)) (8.0.1)\n",
      "Requirement already satisfied: urllib3 in /pfs/data5/home/es/es_es/es_kamait02/.local/lib/python3.9/site-packages (from kaggle->-r ../../requirements.txt (line 10)) (1.26.16)\n",
      "Requirement already satisfied: zipp>=3.1.0 in /pfs/data5/home/es/es_es/es_kamait02/miniconda3/envs/tf2.8/lib/python3.9/site-packages (from importlib-resources>=3.2.0->matplotlib->-r ../../requirements.txt (line 7)) (3.15.0)\n",
      "Requirement already satisfied: google-auth<3,>=1.6.3 in /pfs/data5/home/es/es_es/es_kamait02/miniconda3/envs/tf2.8/lib/python3.9/site-packages (from tensorboard<2.9,>=2.8->tensorflow==2.8.*->-r ../../requirements.txt (line 1)) (2.19.1)\n",
      "Requirement already satisfied: google-auth-oauthlib<0.5,>=0.4.1 in /pfs/data5/home/es/es_es/es_kamait02/miniconda3/envs/tf2.8/lib/python3.9/site-packages (from tensorboard<2.9,>=2.8->tensorflow==2.8.*->-r ../../requirements.txt (line 1)) (0.4.6)\n",
      "Requirement already satisfied: markdown>=2.6.8 in /pfs/data5/home/es/es_es/es_kamait02/miniconda3/envs/tf2.8/lib/python3.9/site-packages (from tensorboard<2.9,>=2.8->tensorflow==2.8.*->-r ../../requirements.txt (line 1)) (3.4.3)\n",
      "Requirement already satisfied: tensorboard-data-server<0.7.0,>=0.6.0 in /pfs/data5/home/es/es_es/es_kamait02/.local/lib/python3.9/site-packages (from tensorboard<2.9,>=2.8->tensorflow==2.8.*->-r ../../requirements.txt (line 1)) (0.6.1)\n",
      "Requirement already satisfied: tensorboard-plugin-wit>=1.6.0 in /pfs/data5/home/es/es_es/es_kamait02/.local/lib/python3.9/site-packages (from tensorboard<2.9,>=2.8->tensorflow==2.8.*->-r ../../requirements.txt (line 1)) (1.8.1)\n",
      "Requirement already satisfied: werkzeug>=0.11.15 in /pfs/data5/home/es/es_es/es_kamait02/.local/lib/python3.9/site-packages (from tensorboard<2.9,>=2.8->tensorflow==2.8.*->-r ../../requirements.txt (line 1)) (2.3.6)\n",
      "Requirement already satisfied: charset-normalizer<4,>=2 in /pfs/data5/home/es/es_es/es_kamait02/.local/lib/python3.9/site-packages (from requests->kaggle->-r ../../requirements.txt (line 10)) (3.1.0)\n",
      "Requirement already satisfied: idna<4,>=2.5 in /pfs/data5/home/es/es_es/es_kamait02/.local/lib/python3.9/site-packages (from requests->kaggle->-r ../../requirements.txt (line 10)) (3.4)\n",
      "Requirement already satisfied: importlib-metadata>=3.6 in /pfs/data5/home/es/es_es/es_kamait02/miniconda3/envs/tf2.8/lib/python3.9/site-packages (from typeguard>=2.7->tensorflow-addons==0.18.0->-r ../../requirements.txt (line 2)) (6.6.0)\n",
      "Requirement already satisfied: text-unidecode>=1.3 in /pfs/data5/home/es/es_es/es_kamait02/miniconda3/envs/tf2.8/lib/python3.9/site-packages (from python-slugify->kaggle->-r ../../requirements.txt (line 10)) (1.3)\n",
      "Requirement already satisfied: cachetools<6.0,>=2.0.0 in /pfs/data5/home/es/es_es/es_kamait02/.local/lib/python3.9/site-packages (from google-auth<3,>=1.6.3->tensorboard<2.9,>=2.8->tensorflow==2.8.*->-r ../../requirements.txt (line 1)) (5.3.1)\n",
      "Requirement already satisfied: pyasn1-modules>=0.2.1 in /pfs/data5/home/es/es_es/es_kamait02/.local/lib/python3.9/site-packages (from google-auth<3,>=1.6.3->tensorboard<2.9,>=2.8->tensorflow==2.8.*->-r ../../requirements.txt (line 1)) (0.3.0)\n",
      "Requirement already satisfied: rsa<5,>=3.1.4 in /pfs/data5/home/es/es_es/es_kamait02/.local/lib/python3.9/site-packages (from google-auth<3,>=1.6.3->tensorboard<2.9,>=2.8->tensorflow==2.8.*->-r ../../requirements.txt (line 1)) (4.9)\n",
      "Requirement already satisfied: requests-oauthlib>=0.7.0 in /pfs/data5/home/es/es_es/es_kamait02/miniconda3/envs/tf2.8/lib/python3.9/site-packages (from google-auth-oauthlib<0.5,>=0.4.1->tensorboard<2.9,>=2.8->tensorflow==2.8.*->-r ../../requirements.txt (line 1)) (1.3.1)\n",
      "Requirement already satisfied: MarkupSafe>=2.1.1 in /pfs/data5/home/es/es_es/es_kamait02/.local/lib/python3.9/site-packages (from werkzeug>=0.11.15->tensorboard<2.9,>=2.8->tensorflow==2.8.*->-r ../../requirements.txt (line 1)) (2.1.3)\n",
      "Requirement already satisfied: pyasn1<0.6.0,>=0.4.6 in /pfs/data5/home/es/es_es/es_kamait02/.local/lib/python3.9/site-packages (from pyasn1-modules>=0.2.1->google-auth<3,>=1.6.3->tensorboard<2.9,>=2.8->tensorflow==2.8.*->-r ../../requirements.txt (line 1)) (0.5.0)\n",
      "Requirement already satisfied: oauthlib>=3.0.0 in /pfs/data5/home/es/es_es/es_kamait02/.local/lib/python3.9/site-packages (from requests-oauthlib>=0.7.0->google-auth-oauthlib<0.5,>=0.4.1->tensorboard<2.9,>=2.8->tensorflow==2.8.*->-r ../../requirements.txt (line 1)) (3.2.2)\n",
      "Note: you may need to restart the kernel to use updated packages.\n"
     ]
    }
   ],
   "source": [
    "pip install -r ../../requirements.txt"
   ]
  },
  {
   "cell_type": "code",
   "execution_count": 2,
   "metadata": {},
   "outputs": [],
   "source": [
    "import os\n",
    "\n",
    "os.environ[\"CUDA_DEVICE_ORDER\"] = \"PCI_BUS_ID\"\n",
    "os.environ[\"CUDA_VISIBLE_DEVICES\"] = \"0\"\n",
    "os.environ[\"TF_FORCE_GPU_ALLOW_GROWTH\"] = \"true\""
   ]
  },
  {
   "cell_type": "code",
   "execution_count": 3,
   "metadata": {},
   "outputs": [],
   "source": [
    "# Add directory above current directory to path\n",
    "import sys\n",
    "\n",
    "sys.path.insert(0, '../..')"
   ]
  },
  {
   "cell_type": "code",
   "execution_count": 5,
   "metadata": {},
   "outputs": [],
   "source": [
    "import tensorflow as tf\n",
    "import tensorflow_hub as hub\n",
    "import tensorflow_text as text\n",
    "import pandas as pd\n",
    "import numpy as np\n",
    "import json\n",
    "from utils.text_processing import CharTokenizer"
   ]
  },
  {
   "cell_type": "code",
   "execution_count": 6,
   "metadata": {},
   "outputs": [
    {
     "name": "stderr",
     "output_type": "stream",
     "text": [
      "2023-06-14 18:00:40.378105: I tensorflow/core/platform/cpu_feature_guard.cc:151] This TensorFlow binary is optimized with oneAPI Deep Neural Network Library (oneDNN) to use the following CPU instructions in performance-critical operations:  AVX2 AVX512F FMA\n",
      "To enable them in other operations, rebuild TensorFlow with the appropriate compiler flags.\n",
      "2023-06-14 18:00:40.930498: W tensorflow/core/common_runtime/gpu/gpu_bfc_allocator.cc:39] Overriding allow_growth setting because the TF_FORCE_GPU_ALLOW_GROWTH environment variable is set. Original config value was 0.\n",
      "2023-06-14 18:00:40.930552: I tensorflow/core/common_runtime/gpu/gpu_device.cc:1525] Created device /job:localhost/replica:0/task:0/device:GPU:0 with 30967 MB memory:  -> device: 0, name: Tesla V100-SXM2-32GB, pci bus id: 0000:3a:00.0, compute capability: 7.0\n"
     ]
    }
   ],
   "source": [
    "if tf.config.list_physical_devices('GPU'):\n",
    "    tf.config.experimental.get_memory_info(\"GPU:0\")"
   ]
  },
  {
   "cell_type": "code",
   "execution_count": 7,
   "metadata": {},
   "outputs": [],
   "source": [
    "config = json.load(open(\"./configs/mnn_btl_bert_amazon_lr_1e-05.json\"))"
   ]
  },
  {
   "cell_type": "markdown",
   "metadata": {},
   "source": [
    "# Loading data"
   ]
  },
  {
   "cell_type": "code",
   "execution_count": 8,
   "metadata": {},
   "outputs": [],
   "source": [
    "from data_loader.abo import ABO"
   ]
  },
  {
   "cell_type": "code",
   "execution_count": 9,
   "metadata": {},
   "outputs": [
    {
     "name": "stdout",
     "output_type": "stream",
     "text": [
      "Downloading abo-listings.tar...\n",
      "abo-listings.tar already exists.\n",
      "Downloading abo-images-small.tar...\n",
      "abo-images-small.tar already exists.\n",
      "Loading images...\n",
      "Loading texts...\n",
      "Importing listings CSV...\n",
      "Creating false samples/complement...\n",
      "Merging ground truth and complement...\n",
      "Concatenating attributes into description columns...\n",
      "Finishing up...\n",
      "Exporting to CSV...\n",
      "Data processing complete\n"
     ]
    },
    {
     "data": {
      "text/html": [
       "<div>\n",
       "<style scoped>\n",
       "    .dataframe tbody tr th:only-of-type {\n",
       "        vertical-align: middle;\n",
       "    }\n",
       "\n",
       "    .dataframe tbody tr th {\n",
       "        vertical-align: top;\n",
       "    }\n",
       "\n",
       "    .dataframe thead th {\n",
       "        text-align: right;\n",
       "    }\n",
       "</style>\n",
       "<table border=\"1\" class=\"dataframe\">\n",
       "  <thead>\n",
       "    <tr style=\"text-align: right;\">\n",
       "      <th></th>\n",
       "      <th>description</th>\n",
       "      <th>path</th>\n",
       "      <th>product_type</th>\n",
       "      <th>label</th>\n",
       "    </tr>\n",
       "  </thead>\n",
       "  <tbody>\n",
       "    <tr>\n",
       "      <th>0</th>\n",
       "      <td>back coverb0854lm94tamazon brand - solimo desi...</td>\n",
       "      <td>35/35f0a7ac.jpg</td>\n",
       "      <td>CELLULAR_PHONE_CASE</td>\n",
       "      <td>1</td>\n",
       "    </tr>\n",
       "    <tr>\n",
       "      <th>1</th>\n",
       "      <td>mobile coverb072n7ggkbamazon brand - solimo de...</td>\n",
       "      <td>0f/0ff62b3e.jpg</td>\n",
       "      <td>FINENECKLACEBRACELETANKLET</td>\n",
       "      <td>0</td>\n",
       "    </tr>\n",
       "    <tr>\n",
       "      <th>2</th>\n",
       "      <td>mobile coverb0854775hpamazon brand - solimo de...</td>\n",
       "      <td>62/62fa7e36.jpg</td>\n",
       "      <td>SHOES</td>\n",
       "      <td>0</td>\n",
       "    </tr>\n",
       "    <tr>\n",
       "      <th>3</th>\n",
       "      <td>mobile coverb07tf1d7jgamazon brand - solimo de...</td>\n",
       "      <td>c0/c0bfa0d3.jpg</td>\n",
       "      <td>CELLULAR_PHONE_CASE</td>\n",
       "      <td>1</td>\n",
       "    </tr>\n",
       "    <tr>\n",
       "      <th>4</th>\n",
       "      <td>mobile coverb07tcwrmj7amazon brand - solimo de...</td>\n",
       "      <td>a6/a6aa41af.jpg</td>\n",
       "      <td>CELLULAR_PHONE_CASE</td>\n",
       "      <td>0</td>\n",
       "    </tr>\n",
       "    <tr>\n",
       "      <th>...</th>\n",
       "      <td>...</td>\n",
       "      <td>...</td>\n",
       "      <td>...</td>\n",
       "      <td>...</td>\n",
       "    </tr>\n",
       "    <tr>\n",
       "      <th>168202</th>\n",
       "      <td>mobile coverb081hmphvtamazon brand - solimo de...</td>\n",
       "      <td>ea/eaeeefdd.jpg</td>\n",
       "      <td>CELLULAR_PHONE_CASE</td>\n",
       "      <td>1</td>\n",
       "    </tr>\n",
       "    <tr>\n",
       "      <th>168203</th>\n",
       "      <td>back coverb07fnbjw24amazon brand - solimo desi...</td>\n",
       "      <td>db/dbb1be1e.jpg</td>\n",
       "      <td>PORTABLE_ELECTRONIC_DEVICE_COVER</td>\n",
       "      <td>0</td>\n",
       "    </tr>\n",
       "    <tr>\n",
       "      <th>168204</th>\n",
       "      <td>mobile coverb07th3ccxmamazon brand - solimo de...</td>\n",
       "      <td>87/87f570ad.jpg</td>\n",
       "      <td>CELLULAR_PHONE_CASE</td>\n",
       "      <td>1</td>\n",
       "    </tr>\n",
       "    <tr>\n",
       "      <th>168205</th>\n",
       "      <td>formal shoes for mens leatherb07tg4wgvbamazon ...</td>\n",
       "      <td>4c/4cfdeb1f.jpg</td>\n",
       "      <td>CELLULAR_PHONE_CASE</td>\n",
       "      <td>0</td>\n",
       "    </tr>\n",
       "    <tr>\n",
       "      <th>168206</th>\n",
       "      <td>organic quinoa grainb07tcwt1fgamazon brand - s...</td>\n",
       "      <td>42/42031cf0.jpg</td>\n",
       "      <td>PILLOW</td>\n",
       "      <td>0</td>\n",
       "    </tr>\n",
       "  </tbody>\n",
       "</table>\n",
       "<p>168207 rows × 4 columns</p>\n",
       "</div>"
      ],
      "text/plain": [
       "                                              description             path  \\\n",
       "0       back coverb0854lm94tamazon brand - solimo desi...  35/35f0a7ac.jpg   \n",
       "1       mobile coverb072n7ggkbamazon brand - solimo de...  0f/0ff62b3e.jpg   \n",
       "2       mobile coverb0854775hpamazon brand - solimo de...  62/62fa7e36.jpg   \n",
       "3       mobile coverb07tf1d7jgamazon brand - solimo de...  c0/c0bfa0d3.jpg   \n",
       "4       mobile coverb07tcwrmj7amazon brand - solimo de...  a6/a6aa41af.jpg   \n",
       "...                                                   ...              ...   \n",
       "168202  mobile coverb081hmphvtamazon brand - solimo de...  ea/eaeeefdd.jpg   \n",
       "168203  back coverb07fnbjw24amazon brand - solimo desi...  db/dbb1be1e.jpg   \n",
       "168204  mobile coverb07th3ccxmamazon brand - solimo de...  87/87f570ad.jpg   \n",
       "168205  formal shoes for mens leatherb07tg4wgvbamazon ...  4c/4cfdeb1f.jpg   \n",
       "168206  organic quinoa grainb07tcwt1fgamazon brand - s...  42/42031cf0.jpg   \n",
       "\n",
       "                            product_type  label  \n",
       "0                    CELLULAR_PHONE_CASE      1  \n",
       "1             FINENECKLACEBRACELETANKLET      0  \n",
       "2                                  SHOES      0  \n",
       "3                    CELLULAR_PHONE_CASE      1  \n",
       "4                    CELLULAR_PHONE_CASE      0  \n",
       "...                                  ...    ...  \n",
       "168202               CELLULAR_PHONE_CASE      1  \n",
       "168203  PORTABLE_ELECTRONIC_DEVICE_COVER      0  \n",
       "168204               CELLULAR_PHONE_CASE      1  \n",
       "168205               CELLULAR_PHONE_CASE      0  \n",
       "168206                            PILLOW      0  \n",
       "\n",
       "[168207 rows x 4 columns]"
      ]
     },
     "execution_count": 9,
     "metadata": {},
     "output_type": "execute_result"
    }
   ],
   "source": [
    "data = ABO(path=config[\"data\"][\"path\"],\n",
    "           download=True,\n",
    "           extract=False,\n",
    "           preprocess=True,\n",
    "           alt_augment=False,\n",
    "           random_deletion=False,\n",
    "           export_csv=True).data\n",
    "\n",
    "# data = pd.read_csv(os.path.join(config[\"data\"][\"path\"], \"data.csv\"))\n",
    "# data = data.drop({\"Unnamed: 0\"}, axis=1)\n",
    "\n",
    "data = data[['description', 'path', 'product_type', 'label']]\n",
    "data"
   ]
  },
  {
   "cell_type": "code",
   "execution_count": 10,
   "metadata": {},
   "outputs": [],
   "source": [
    "img = data[[\"path\"]]  # two brackets for keeping the column name\n",
    "text = data[\"description\"]\n",
    "product_types = data[[\"product_type\"]]\n",
    "labels = data[[\"label\"]]"
   ]
  },
  {
   "cell_type": "markdown",
   "metadata": {},
   "source": [
    "# Text processing"
   ]
  },
  {
   "cell_type": "markdown",
   "metadata": {},
   "source": [
    "The following part is largely based off of https://www.tensorflow.org/text/guide/bert_preprocessing_guide"
   ]
  },
  {
   "attachments": {},
   "cell_type": "markdown",
   "metadata": {},
   "source": [
    "## generate text embeddings directly with BERT"
   ]
  },
  {
   "cell_type": "code",
   "execution_count": 24,
   "metadata": {},
   "outputs": [
    {
     "name": "stdout",
     "output_type": "stream",
     "text": [
      "BERT model selected           : https://tfhub.dev/tensorflow/bert_en_uncased_L-12_H-768_A-12/3\n",
      "Preprocess model auto-selected: https://tfhub.dev/tensorflow/bert_en_uncased_preprocess/3\n"
     ]
    }
   ],
   "source": [
    "bert_model_name = 'bert_en_uncased_L-12_H-768_A-12' \n",
    "\n",
    "map_name_to_handle = {\n",
    "    'bert_en_uncased_L-12_H-768_A-12':\n",
    "        'https://tfhub.dev/tensorflow/bert_en_uncased_L-12_H-768_A-12/3',\n",
    "    'bert_en_cased_L-12_H-768_A-12':\n",
    "        'https://tfhub.dev/tensorflow/bert_en_cased_L-12_H-768_A-12/3',\n",
    "    'bert_multi_cased_L-12_H-768_A-12':\n",
    "        'https://tfhub.dev/tensorflow/bert_multi_cased_L-12_H-768_A-12/3',\n",
    "    'small_bert/bert_en_uncased_L-2_H-128_A-2':\n",
    "        'https://tfhub.dev/tensorflow/small_bert/bert_en_uncased_L-2_H-128_A-2/1',\n",
    "    'small_bert/bert_en_uncased_L-2_H-256_A-4':\n",
    "        'https://tfhub.dev/tensorflow/small_bert/bert_en_uncased_L-2_H-256_A-4/1',\n",
    "    'small_bert/bert_en_uncased_L-2_H-512_A-8':\n",
    "        'https://tfhub.dev/tensorflow/small_bert/bert_en_uncased_L-2_H-512_A-8/1',\n",
    "    'small_bert/bert_en_uncased_L-2_H-768_A-12':\n",
    "        'https://tfhub.dev/tensorflow/small_bert/bert_en_uncased_L-2_H-768_A-12/1',\n",
    "    'small_bert/bert_en_uncased_L-4_H-128_A-2':\n",
    "        'https://tfhub.dev/tensorflow/small_bert/bert_en_uncased_L-4_H-128_A-2/1',\n",
    "    'small_bert/bert_en_uncased_L-4_H-256_A-4':\n",
    "        'https://tfhub.dev/tensorflow/small_bert/bert_en_uncased_L-4_H-256_A-4/1',\n",
    "    'small_bert/bert_en_uncased_L-4_H-512_A-8':\n",
    "        'https://tfhub.dev/tensorflow/small_bert/bert_en_uncased_L-4_H-512_A-8/1',\n",
    "    'small_bert/bert_en_uncased_L-4_H-768_A-12':\n",
    "        'https://tfhub.dev/tensorflow/small_bert/bert_en_uncased_L-4_H-768_A-12/1',\n",
    "    'small_bert/bert_en_uncased_L-6_H-128_A-2':\n",
    "        'https://tfhub.dev/tensorflow/small_bert/bert_en_uncased_L-6_H-128_A-2/1',\n",
    "    'small_bert/bert_en_uncased_L-6_H-256_A-4':\n",
    "        'https://tfhub.dev/tensorflow/small_bert/bert_en_uncased_L-6_H-256_A-4/1',\n",
    "    'small_bert/bert_en_uncased_L-6_H-512_A-8':\n",
    "        'https://tfhub.dev/tensorflow/small_bert/bert_en_uncased_L-6_H-512_A-8/1',\n",
    "    'small_bert/bert_en_uncased_L-6_H-768_A-12':\n",
    "        'https://tfhub.dev/tensorflow/small_bert/bert_en_uncased_L-6_H-768_A-12/1',\n",
    "    'small_bert/bert_en_uncased_L-8_H-128_A-2':\n",
    "        'https://tfhub.dev/tensorflow/small_bert/bert_en_uncased_L-8_H-128_A-2/1',\n",
    "    'small_bert/bert_en_uncased_L-8_H-256_A-4':\n",
    "        'https://tfhub.dev/tensorflow/small_bert/bert_en_uncased_L-8_H-256_A-4/1',\n",
    "    'small_bert/bert_en_uncased_L-8_H-512_A-8':\n",
    "        'https://tfhub.dev/tensorflow/small_bert/bert_en_uncased_L-8_H-512_A-8/1',\n",
    "    'small_bert/bert_en_uncased_L-8_H-768_A-12':\n",
    "        'https://tfhub.dev/tensorflow/small_bert/bert_en_uncased_L-8_H-768_A-12/1',\n",
    "    'small_bert/bert_en_uncased_L-10_H-128_A-2':\n",
    "        'https://tfhub.dev/tensorflow/small_bert/bert_en_uncased_L-10_H-128_A-2/1',\n",
    "    'small_bert/bert_en_uncased_L-10_H-256_A-4':\n",
    "        'https://tfhub.dev/tensorflow/small_bert/bert_en_uncased_L-10_H-256_A-4/1',\n",
    "    'small_bert/bert_en_uncased_L-10_H-512_A-8':\n",
    "        'https://tfhub.dev/tensorflow/small_bert/bert_en_uncased_L-10_H-512_A-8/1',\n",
    "    'small_bert/bert_en_uncased_L-10_H-768_A-12':\n",
    "        'https://tfhub.dev/tensorflow/small_bert/bert_en_uncased_L-10_H-768_A-12/1',\n",
    "    'small_bert/bert_en_uncased_L-12_H-128_A-2':\n",
    "        'https://tfhub.dev/tensorflow/small_bert/bert_en_uncased_L-12_H-128_A-2/1',\n",
    "    'small_bert/bert_en_uncased_L-12_H-256_A-4':\n",
    "        'https://tfhub.dev/tensorflow/small_bert/bert_en_uncased_L-12_H-256_A-4/1',\n",
    "    'small_bert/bert_en_uncased_L-12_H-512_A-8':\n",
    "        'https://tfhub.dev/tensorflow/small_bert/bert_en_uncased_L-12_H-512_A-8/1',\n",
    "    'small_bert/bert_en_uncased_L-12_H-768_A-12':\n",
    "        'https://tfhub.dev/tensorflow/small_bert/bert_en_uncased_L-12_H-768_A-12/1',\n",
    "    'albert_en_base':\n",
    "        'https://tfhub.dev/tensorflow/albert_en_base/2',\n",
    "    'electra_small':\n",
    "        'https://tfhub.dev/google/electra_small/2',\n",
    "    'electra_base':\n",
    "        'https://tfhub.dev/google/electra_base/2',\n",
    "    'experts_pubmed':\n",
    "        'https://tfhub.dev/google/experts/bert/pubmed/2',\n",
    "    'experts_wiki_books':\n",
    "        'https://tfhub.dev/google/experts/bert/wiki_books/2',\n",
    "    'talking-heads_base':\n",
    "        'https://tfhub.dev/tensorflow/talkheads_ggelu_bert_en_base/1',\n",
    "}\n",
    "\n",
    "map_model_to_preprocess = {\n",
    "    'bert_en_uncased_L-12_H-768_A-12':\n",
    "        'https://tfhub.dev/tensorflow/bert_en_uncased_preprocess/3',\n",
    "    'bert_en_cased_L-12_H-768_A-12':\n",
    "        'https://tfhub.dev/tensorflow/bert_en_cased_preprocess/3',\n",
    "    'small_bert/bert_en_uncased_L-2_H-128_A-2':\n",
    "        'https://tfhub.dev/tensorflow/bert_en_uncased_preprocess/3',\n",
    "    'small_bert/bert_en_uncased_L-2_H-256_A-4':\n",
    "        'https://tfhub.dev/tensorflow/bert_en_uncased_preprocess/3',\n",
    "    'small_bert/bert_en_uncased_L-2_H-512_A-8':\n",
    "        'https://tfhub.dev/tensorflow/bert_en_uncased_preprocess/3',\n",
    "    'small_bert/bert_en_uncased_L-2_H-768_A-12':\n",
    "        'https://tfhub.dev/tensorflow/bert_en_uncased_preprocess/3',\n",
    "    'small_bert/bert_en_uncased_L-4_H-128_A-2':\n",
    "        'https://tfhub.dev/tensorflow/bert_en_uncased_preprocess/3',\n",
    "    'small_bert/bert_en_uncased_L-4_H-256_A-4':\n",
    "        'https://tfhub.dev/tensorflow/bert_en_uncased_preprocess/3',\n",
    "    'small_bert/bert_en_uncased_L-4_H-512_A-8':\n",
    "        'https://tfhub.dev/tensorflow/bert_en_uncased_preprocess/3',\n",
    "    'small_bert/bert_en_uncased_L-4_H-768_A-12':\n",
    "        'https://tfhub.dev/tensorflow/bert_en_uncased_preprocess/3',\n",
    "    'small_bert/bert_en_uncased_L-6_H-128_A-2':\n",
    "        'https://tfhub.dev/tensorflow/bert_en_uncased_preprocess/3',\n",
    "    'small_bert/bert_en_uncased_L-6_H-256_A-4':\n",
    "        'https://tfhub.dev/tensorflow/bert_en_uncased_preprocess/3',\n",
    "    'small_bert/bert_en_uncased_L-6_H-512_A-8':\n",
    "        'https://tfhub.dev/tensorflow/bert_en_uncased_preprocess/3',\n",
    "    'small_bert/bert_en_uncased_L-6_H-768_A-12':\n",
    "        'https://tfhub.dev/tensorflow/bert_en_uncased_preprocess/3',\n",
    "    'small_bert/bert_en_uncased_L-8_H-128_A-2':\n",
    "        'https://tfhub.dev/tensorflow/bert_en_uncased_preprocess/3',\n",
    "    'small_bert/bert_en_uncased_L-8_H-256_A-4':\n",
    "        'https://tfhub.dev/tensorflow/bert_en_uncased_preprocess/3',\n",
    "    'small_bert/bert_en_uncased_L-8_H-512_A-8':\n",
    "        'https://tfhub.dev/tensorflow/bert_en_uncased_preprocess/3',\n",
    "    'small_bert/bert_en_uncased_L-8_H-768_A-12':\n",
    "        'https://tfhub.dev/tensorflow/bert_en_uncased_preprocess/3',\n",
    "    'small_bert/bert_en_uncased_L-10_H-128_A-2':\n",
    "        'https://tfhub.dev/tensorflow/bert_en_uncased_preprocess/3',\n",
    "    'small_bert/bert_en_uncased_L-10_H-256_A-4':\n",
    "        'https://tfhub.dev/tensorflow/bert_en_uncased_preprocess/3',\n",
    "    'small_bert/bert_en_uncased_L-10_H-512_A-8':\n",
    "        'https://tfhub.dev/tensorflow/bert_en_uncased_preprocess/3',\n",
    "    'small_bert/bert_en_uncased_L-10_H-768_A-12':\n",
    "        'https://tfhub.dev/tensorflow/bert_en_uncased_preprocess/3',\n",
    "    'small_bert/bert_en_uncased_L-12_H-128_A-2':\n",
    "        'https://tfhub.dev/tensorflow/bert_en_uncased_preprocess/3',\n",
    "    'small_bert/bert_en_uncased_L-12_H-256_A-4':\n",
    "        'https://tfhub.dev/tensorflow/bert_en_uncased_preprocess/3',\n",
    "    'small_bert/bert_en_uncased_L-12_H-512_A-8':\n",
    "        'https://tfhub.dev/tensorflow/bert_en_uncased_preprocess/3',\n",
    "    'small_bert/bert_en_uncased_L-12_H-768_A-12':\n",
    "        'https://tfhub.dev/tensorflow/bert_en_uncased_preprocess/3',\n",
    "    'bert_multi_cased_L-12_H-768_A-12':\n",
    "        'https://tfhub.dev/tensorflow/bert_multi_cased_preprocess/3',\n",
    "    'albert_en_base':\n",
    "        'https://tfhub.dev/tensorflow/albert_en_preprocess/3',\n",
    "    'electra_small':\n",
    "        'https://tfhub.dev/tensorflow/bert_en_uncased_preprocess/3',\n",
    "    'electra_base':\n",
    "        'https://tfhub.dev/tensorflow/bert_en_uncased_preprocess/3',\n",
    "    'experts_pubmed':\n",
    "        'https://tfhub.dev/tensorflow/bert_en_uncased_preprocess/3',\n",
    "    'experts_wiki_books':\n",
    "        'https://tfhub.dev/tensorflow/bert_en_uncased_preprocess/3',\n",
    "    'talking-heads_base':\n",
    "        'https://tfhub.dev/tensorflow/bert_en_uncased_preprocess/3',\n",
    "}\n",
    "\n",
    "tfhub_handle_encoder = map_name_to_handle[bert_model_name]\n",
    "tfhub_handle_preprocess = map_model_to_preprocess[bert_model_name]\n",
    "\n",
    "print(f'BERT model selected           : {tfhub_handle_encoder}')\n",
    "print(f'Preprocess model auto-selected: {tfhub_handle_preprocess}')"
   ]
  },
  {
   "cell_type": "code",
   "execution_count": 25,
   "metadata": {},
   "outputs": [],
   "source": [
    "bert_preprocess_model = hub.KerasLayer(tfhub_handle_preprocess)"
   ]
  },
  {
   "cell_type": "code",
   "execution_count": 26,
   "metadata": {},
   "outputs": [],
   "source": [
    "bert_model = hub.KerasLayer(tfhub_handle_encoder)"
   ]
  },
  {
   "cell_type": "code",
   "execution_count": 27,
   "metadata": {},
   "outputs": [],
   "source": [
    "# text = bert_preprocess_model(text)\n",
    "\n",
    "# print(f'Keys       : {list(text.keys())}')\n",
    "# print(f'Shape      : {text[\"input_word_ids\"].shape}')\n",
    "# print(f'Word Ids   : {text[\"input_word_ids\"][0, :12]}')\n",
    "# print(f'Input Mask : {text[\"input_mask\"][0, :12]}')\n",
    "# print(f'Type Ids   : {text[\"input_type_ids\"][0, :12]}')"
   ]
  },
  {
   "cell_type": "code",
   "execution_count": 28,
   "metadata": {},
   "outputs": [],
   "source": [
    "# text"
   ]
  },
  {
   "cell_type": "code",
   "execution_count": 29,
   "metadata": {},
   "outputs": [],
   "source": [
    "# text = bert_model(text)\n",
    "\n",
    "# print(f'Loaded BERT: {tfhub_handle_encoder}')\n",
    "# print(f'Pooled Outputs Shape:{text[\"pooled_output\"].shape}')\n",
    "# print(f'Pooled Outputs Values:{text[\"pooled_output\"][0, :12]}')\n",
    "# print(f'Sequence Outputs Shape:{text[\"sequence_output\"].shape}')\n",
    "# print(f'Sequence Outputs Values:{text[\"sequence_output\"][0, :12]}')"
   ]
  },
  {
   "cell_type": "code",
   "execution_count": 30,
   "metadata": {},
   "outputs": [],
   "source": [
    "# text = text[\"pooled_output\"]\n",
    "# text.shape"
   ]
  },
  {
   "cell_type": "markdown",
   "metadata": {},
   "source": [
    "# Image processing"
   ]
  },
  {
   "cell_type": "markdown",
   "metadata": {},
   "source": [
    "## Load image model"
   ]
  },
  {
   "cell_type": "code",
   "execution_count": 18,
   "metadata": {},
   "outputs": [],
   "source": [
    "from utils.img_processing import load_img_model, create_embeddings_from"
   ]
  },
  {
   "cell_type": "code",
   "execution_count": 19,
   "metadata": {},
   "outputs": [
    {
     "name": "stdout",
     "output_type": "stream",
     "text": [
      "WARNING:tensorflow:`input_shape` is undefined or non-square, or `rows` is not 224. Weights for input shape (224, 224) will be loaded as the default.\n"
     ]
    },
    {
     "name": "stderr",
     "output_type": "stream",
     "text": [
      "WARNING:tensorflow:`input_shape` is undefined or non-square, or `rows` is not 224. Weights for input shape (224, 224) will be loaded as the default.\n"
     ]
    },
    {
     "data": {
      "text/plain": [
       "(None, 576)"
      ]
     },
     "execution_count": 19,
     "metadata": {},
     "output_type": "execute_result"
    }
   ],
   "source": [
    "img_model = load_img_model(config[\"img_model\"])\n",
    "\n",
    "img_model.output_shape"
   ]
  },
  {
   "cell_type": "markdown",
   "metadata": {},
   "source": [
    "## Create image embeddings"
   ]
  },
  {
   "cell_type": "code",
   "execution_count": null,
   "metadata": {},
   "outputs": [
    {
     "name": "stdout",
     "output_type": "stream",
     "text": [
      "Found 168171 validated image filenames.\n"
     ]
    }
   ],
   "source": [
    "# Mobilenetv3small:\n",
    "# batch_size = 1024 -> 8 GB VRAM\n",
    "# batch_size = 2048 -> 16 GB VRAM\n",
    "# ...\n",
    "# Mobilenetv3large: twice as much as Mobilenetv3small\n",
    "\n",
    "img = create_embeddings_from(img_model,\n",
    "                             img,\n",
    "                             os.path.join(config[\"data\"][\"path\"],\n",
    "                                          \"images/small\"),\n",
    "                             batch_size=1024)"
   ]
  },
  {
   "cell_type": "code",
   "execution_count": 15,
   "metadata": {},
   "outputs": [
    {
     "data": {
      "text/plain": [
       "(168171, 576)"
      ]
     },
     "execution_count": 15,
     "metadata": {},
     "output_type": "execute_result"
    }
   ],
   "source": [
    "img.shape"
   ]
  },
  {
   "cell_type": "markdown",
   "metadata": {},
   "source": [
    "# Save embeddings"
   ]
  },
  {
   "cell_type": "code",
   "execution_count": 31,
   "metadata": {},
   "outputs": [],
   "source": [
    "save_path = os.path.join(config[\"data\"][\"path\"],\n",
    "                         f\"embeddings/bert/{img_model.name}\")"
   ]
  },
  {
   "cell_type": "code",
   "execution_count": 32,
   "metadata": {},
   "outputs": [],
   "source": [
    "os.makedirs(save_path, exist_ok=True)\n",
    "np.save(f\"{save_path}/img.npy\", img)\n",
    "np.save(f\"{save_path}/text.npy\", text)\n",
    "data.to_csv(f\"{save_path}/data.csv\")"
   ]
  },
  {
   "cell_type": "markdown",
   "metadata": {},
   "source": [
    "## Verify import"
   ]
  },
  {
   "cell_type": "code",
   "execution_count": 57,
   "metadata": {},
   "outputs": [
    {
     "data": {
      "text/html": [
       "<div>\n",
       "<style scoped>\n",
       "    .dataframe tbody tr th:only-of-type {\n",
       "        vertical-align: middle;\n",
       "    }\n",
       "\n",
       "    .dataframe tbody tr th {\n",
       "        vertical-align: top;\n",
       "    }\n",
       "\n",
       "    .dataframe thead th {\n",
       "        text-align: right;\n",
       "    }\n",
       "</style>\n",
       "<table border=\"1\" class=\"dataframe\">\n",
       "  <thead>\n",
       "    <tr style=\"text-align: right;\">\n",
       "      <th></th>\n",
       "      <th>description</th>\n",
       "      <th>description2</th>\n",
       "      <th>path</th>\n",
       "      <th>product_type</th>\n",
       "      <th>label</th>\n",
       "    </tr>\n",
       "  </thead>\n",
       "  <tbody>\n",
       "    <tr>\n",
       "      <th>0</th>\n",
       "      <td>shoesb0791vjhksamazon brand - symbol men's sne...</td>\n",
       "      <td>shoesb0791vjhksamazon brand - symbol men's sne...</td>\n",
       "      <td>4d/4d552519.jpg</td>\n",
       "      <td>SHOES</td>\n",
       "      <td>1</td>\n",
       "    </tr>\n",
       "    <tr>\n",
       "      <th>1</th>\n",
       "      <td>mobile coverb07tg4cyjvamazon brand - solimo de...</td>\n",
       "      <td>mobile coverb07tg4cyjvamazon brand - solimo de...</td>\n",
       "      <td>4d/4de76f7f.jpg</td>\n",
       "      <td>CELLULAR_PHONE_CASE</td>\n",
       "      <td>1</td>\n",
       "    </tr>\n",
       "    <tr>\n",
       "      <th>2</th>\n",
       "      <td>mobile coverb0856b8fw1sunshine swatch, ravenna...</td>\n",
       "      <td>combo cooker dutch oven for bread making ovens...</td>\n",
       "      <td>72/72c5b6c9.jpg</td>\n",
       "      <td>GROCERY</td>\n",
       "      <td>0</td>\n",
       "    </tr>\n",
       "    <tr>\n",
       "      <th>3</th>\n",
       "      <td>whole foods, whole food, whole foods,365 every...</td>\n",
       "      <td>cellphonecoverb07tf7gr3ywhole foods market cre...</td>\n",
       "      <td>85/854b1468.jpg</td>\n",
       "      <td>CELLULAR_PHONE_CASE</td>\n",
       "      <td>0</td>\n",
       "    </tr>\n",
       "    <tr>\n",
       "      <th>4</th>\n",
       "      <td>back coverb00no73q84amazon brand - solimo desi...</td>\n",
       "      <td>mobile coverb071gvmr85amazon brand - solimo de...</td>\n",
       "      <td>6a/6a127d3e.jpg</td>\n",
       "      <td>BOOT</td>\n",
       "      <td>0</td>\n",
       "    </tr>\n",
       "    <tr>\n",
       "      <th>...</th>\n",
       "      <td>...</td>\n",
       "      <td>...</td>\n",
       "      <td>...</td>\n",
       "      <td>...</td>\n",
       "      <td>...</td>\n",
       "    </tr>\n",
       "    <tr>\n",
       "      <th>168221</th>\n",
       "      <td>mobile coverb07y33f9kxamazon brand - solimo de...</td>\n",
       "      <td>handbags for women latest brandedb072kwqy8yama...</td>\n",
       "      <td>e6/e6ed7731.jpg</td>\n",
       "      <td>CELLULAR_PHONE_CASE</td>\n",
       "      <td>0</td>\n",
       "    </tr>\n",
       "    <tr>\n",
       "      <th>168222</th>\n",
       "      <td>amazonbasics;amzn-lt800p-a;replacement-refrige...</td>\n",
       "      <td>amazonbasics;amzn-lt800p-a;replacement-refrige...</td>\n",
       "      <td>73/73903c65.jpg</td>\n",
       "      <td>MAJOR_HOME_APPLIANCES</td>\n",
       "      <td>1</td>\n",
       "    </tr>\n",
       "    <tr>\n",
       "      <th>168223</th>\n",
       "      <td>placeholderb074h67h9qamazon brand - solimo des...</td>\n",
       "      <td>deb0854kjcylamazon brand - solimo designer cou...</td>\n",
       "      <td>10/10b2c3af.jpg</td>\n",
       "      <td>CELLULAR_PHONE_CASE</td>\n",
       "      <td>0</td>\n",
       "    </tr>\n",
       "    <tr>\n",
       "      <th>168224</th>\n",
       "      <td>mobile coverb0854ljhw2half tofu banh mi</td>\n",
       "      <td>mobile coverb081hmxdkvfind. women's velvet str...</td>\n",
       "      <td>de/de19c121.jpg</td>\n",
       "      <td>GROCERY</td>\n",
       "      <td>0</td>\n",
       "    </tr>\n",
       "    <tr>\n",
       "      <th>168225</th>\n",
       "      <td>mobile coverb08gkxpbbzamazon brand - vedaka pr...</td>\n",
       "      <td>mobile coverb08569y2r3amazon brand - solimo de...</td>\n",
       "      <td>6d/6d147b0c.jpg</td>\n",
       "      <td>WALLET</td>\n",
       "      <td>0</td>\n",
       "    </tr>\n",
       "  </tbody>\n",
       "</table>\n",
       "<p>168226 rows × 5 columns</p>\n",
       "</div>"
      ],
      "text/plain": [
       "                                              description  \\\n",
       "0       shoesb0791vjhksamazon brand - symbol men's sne...   \n",
       "1       mobile coverb07tg4cyjvamazon brand - solimo de...   \n",
       "2       mobile coverb0856b8fw1sunshine swatch, ravenna...   \n",
       "3       whole foods, whole food, whole foods,365 every...   \n",
       "4       back coverb00no73q84amazon brand - solimo desi...   \n",
       "...                                                   ...   \n",
       "168221  mobile coverb07y33f9kxamazon brand - solimo de...   \n",
       "168222  amazonbasics;amzn-lt800p-a;replacement-refrige...   \n",
       "168223  placeholderb074h67h9qamazon brand - solimo des...   \n",
       "168224            mobile coverb0854ljhw2half tofu banh mi   \n",
       "168225  mobile coverb08gkxpbbzamazon brand - vedaka pr...   \n",
       "\n",
       "                                             description2             path  \\\n",
       "0       shoesb0791vjhksamazon brand - symbol men's sne...  4d/4d552519.jpg   \n",
       "1       mobile coverb07tg4cyjvamazon brand - solimo de...  4d/4de76f7f.jpg   \n",
       "2       combo cooker dutch oven for bread making ovens...  72/72c5b6c9.jpg   \n",
       "3       cellphonecoverb07tf7gr3ywhole foods market cre...  85/854b1468.jpg   \n",
       "4       mobile coverb071gvmr85amazon brand - solimo de...  6a/6a127d3e.jpg   \n",
       "...                                                   ...              ...   \n",
       "168221  handbags for women latest brandedb072kwqy8yama...  e6/e6ed7731.jpg   \n",
       "168222  amazonbasics;amzn-lt800p-a;replacement-refrige...  73/73903c65.jpg   \n",
       "168223  deb0854kjcylamazon brand - solimo designer cou...  10/10b2c3af.jpg   \n",
       "168224  mobile coverb081hmxdkvfind. women's velvet str...  de/de19c121.jpg   \n",
       "168225  mobile coverb08569y2r3amazon brand - solimo de...  6d/6d147b0c.jpg   \n",
       "\n",
       "                 product_type  label  \n",
       "0                       SHOES      1  \n",
       "1         CELLULAR_PHONE_CASE      1  \n",
       "2                     GROCERY      0  \n",
       "3         CELLULAR_PHONE_CASE      0  \n",
       "4                        BOOT      0  \n",
       "...                       ...    ...  \n",
       "168221    CELLULAR_PHONE_CASE      0  \n",
       "168222  MAJOR_HOME_APPLIANCES      1  \n",
       "168223    CELLULAR_PHONE_CASE      0  \n",
       "168224                GROCERY      0  \n",
       "168225                 WALLET      0  \n",
       "\n",
       "[168226 rows x 5 columns]"
      ]
     },
     "execution_count": 57,
     "metadata": {},
     "output_type": "execute_result"
    }
   ],
   "source": [
    "data = pd.read_csv(f\"{save_path}/data.csv\")\n",
    "data = data.drop({\"Unnamed: 0\"}, axis=1)\n",
    "data"
   ]
  },
  {
   "cell_type": "code",
   "execution_count": 58,
   "metadata": {},
   "outputs": [
    {
     "data": {
      "text/plain": [
       "(168226, 576)"
      ]
     },
     "execution_count": 58,
     "metadata": {},
     "output_type": "execute_result"
    }
   ],
   "source": [
    "img = np.load(f\"{save_path}/img.npy\", allow_pickle=True)\n",
    "img.shape"
   ]
  },
  {
   "cell_type": "code",
   "execution_count": 59,
   "metadata": {},
   "outputs": [
    {
     "data": {
      "text/plain": [
       "(168226,)"
      ]
     },
     "execution_count": 59,
     "metadata": {},
     "output_type": "execute_result"
    }
   ],
   "source": [
    "text = np.load(f\"{save_path}/text.npy\", allow_pickle=True)\n",
    "text.shape"
   ]
  },
  {
   "cell_type": "markdown",
   "metadata": {},
   "source": [
    "# Train-Test Split"
   ]
  },
  {
   "cell_type": "markdown",
   "metadata": {},
   "source": [
    "## Split into ground truth/false samples"
   ]
  },
  {
   "cell_type": "markdown",
   "metadata": {},
   "source": [
    "To use `stratify` parameter of `sklearn.model_selection.train_test_split()`, we need to select all product instances which appear more than once"
   ]
  },
  {
   "cell_type": "code",
   "execution_count": 60,
   "metadata": {},
   "outputs": [
    {
     "data": {
      "text/html": [
       "<div>\n",
       "<style scoped>\n",
       "    .dataframe tbody tr th:only-of-type {\n",
       "        vertical-align: middle;\n",
       "    }\n",
       "\n",
       "    .dataframe tbody tr th {\n",
       "        vertical-align: top;\n",
       "    }\n",
       "\n",
       "    .dataframe thead th {\n",
       "        text-align: right;\n",
       "    }\n",
       "</style>\n",
       "<table border=\"1\" class=\"dataframe\">\n",
       "  <thead>\n",
       "    <tr style=\"text-align: right;\">\n",
       "      <th></th>\n",
       "      <th>description</th>\n",
       "      <th>description2</th>\n",
       "      <th>path</th>\n",
       "      <th>product_type</th>\n",
       "      <th>label</th>\n",
       "    </tr>\n",
       "  </thead>\n",
       "  <tbody>\n",
       "    <tr>\n",
       "      <th>0</th>\n",
       "      <td>shoesb0791vjhksamazon brand - symbol men's sne...</td>\n",
       "      <td>shoesb0791vjhksamazon brand - symbol men's sne...</td>\n",
       "      <td>4d/4d552519.jpg</td>\n",
       "      <td>SHOES</td>\n",
       "      <td>1</td>\n",
       "    </tr>\n",
       "    <tr>\n",
       "      <th>1</th>\n",
       "      <td>mobile coverb07tg4cyjvamazon brand - solimo de...</td>\n",
       "      <td>mobile coverb07tg4cyjvamazon brand - solimo de...</td>\n",
       "      <td>4d/4de76f7f.jpg</td>\n",
       "      <td>CELLULAR_PHONE_CASE</td>\n",
       "      <td>1</td>\n",
       "    </tr>\n",
       "    <tr>\n",
       "      <th>6</th>\n",
       "      <td>samsung m31 360 coverb08563mt9famazon brand - ...</td>\n",
       "      <td>samsung m31 360 coverb08563mt9famazon brand - ...</td>\n",
       "      <td>cc/cc1f9aef.jpg</td>\n",
       "      <td>CELLULAR_PHONE_CASE</td>\n",
       "      <td>1</td>\n",
       "    </tr>\n",
       "    <tr>\n",
       "      <th>8</th>\n",
       "      <td>mobile coverb07tg44qnnamazon brand - solimo de...</td>\n",
       "      <td>mobile coverb07tg44qnnamazon brand - solimo de...</td>\n",
       "      <td>6b/6be7b7d0.jpg</td>\n",
       "      <td>CELLULAR_PHONE_CASE</td>\n",
       "      <td>1</td>\n",
       "    </tr>\n",
       "    <tr>\n",
       "      <th>12</th>\n",
       "      <td>mobile coverb07t22ks83amazon brand - solimo de...</td>\n",
       "      <td>mobile coverb07t22ks83amazon brand - solimo de...</td>\n",
       "      <td>04/04287092.jpg</td>\n",
       "      <td>CELLULAR_PHONE_CASE</td>\n",
       "      <td>1</td>\n",
       "    </tr>\n",
       "    <tr>\n",
       "      <th>...</th>\n",
       "      <td>...</td>\n",
       "      <td>...</td>\n",
       "      <td>...</td>\n",
       "      <td>...</td>\n",
       "      <td>...</td>\n",
       "    </tr>\n",
       "    <tr>\n",
       "      <th>168216</th>\n",
       "      <td>back coverb0854ctp5namazon brand - solimo desi...</td>\n",
       "      <td>back coverb0854ctp5namazon brand - solimo desi...</td>\n",
       "      <td>03/03f0cbf6.jpg</td>\n",
       "      <td>CELLULAR_PHONE_CASE</td>\n",
       "      <td>1</td>\n",
       "    </tr>\n",
       "    <tr>\n",
       "      <th>168217</th>\n",
       "      <td>mobile coverb081hnqrqjamazon brand - solimo de...</td>\n",
       "      <td>mobile coverb081hnqrqjamazon brand - solimo de...</td>\n",
       "      <td>67/67d2b3f8.jpg</td>\n",
       "      <td>CELLULAR_PHONE_CASE</td>\n",
       "      <td>1</td>\n",
       "    </tr>\n",
       "    <tr>\n",
       "      <th>168219</th>\n",
       "      <td>shoes for women stylishb07xrx83cmamazon brand ...</td>\n",
       "      <td>shoes for women stylishb07xrx83cmamazon brand ...</td>\n",
       "      <td>d7/d77cc014.jpg</td>\n",
       "      <td>SHOES</td>\n",
       "      <td>1</td>\n",
       "    </tr>\n",
       "    <tr>\n",
       "      <th>168220</th>\n",
       "      <td>arena strength pilates band resistance bands s...</td>\n",
       "      <td>arena strength pilates band resistance bands s...</td>\n",
       "      <td>d3/d3e492c8.jpg</td>\n",
       "      <td>EXERCISE_BAND</td>\n",
       "      <td>1</td>\n",
       "    </tr>\n",
       "    <tr>\n",
       "      <th>168222</th>\n",
       "      <td>amazonbasics;amzn-lt800p-a;replacement-refrige...</td>\n",
       "      <td>amazonbasics;amzn-lt800p-a;replacement-refrige...</td>\n",
       "      <td>73/73903c65.jpg</td>\n",
       "      <td>MAJOR_HOME_APPLIANCES</td>\n",
       "      <td>1</td>\n",
       "    </tr>\n",
       "  </tbody>\n",
       "</table>\n",
       "<p>87380 rows × 5 columns</p>\n",
       "</div>"
      ],
      "text/plain": [
       "                                              description  \\\n",
       "0       shoesb0791vjhksamazon brand - symbol men's sne...   \n",
       "1       mobile coverb07tg4cyjvamazon brand - solimo de...   \n",
       "6       samsung m31 360 coverb08563mt9famazon brand - ...   \n",
       "8       mobile coverb07tg44qnnamazon brand - solimo de...   \n",
       "12      mobile coverb07t22ks83amazon brand - solimo de...   \n",
       "...                                                   ...   \n",
       "168216  back coverb0854ctp5namazon brand - solimo desi...   \n",
       "168217  mobile coverb081hnqrqjamazon brand - solimo de...   \n",
       "168219  shoes for women stylishb07xrx83cmamazon brand ...   \n",
       "168220  arena strength pilates band resistance bands s...   \n",
       "168222  amazonbasics;amzn-lt800p-a;replacement-refrige...   \n",
       "\n",
       "                                             description2             path  \\\n",
       "0       shoesb0791vjhksamazon brand - symbol men's sne...  4d/4d552519.jpg   \n",
       "1       mobile coverb07tg4cyjvamazon brand - solimo de...  4d/4de76f7f.jpg   \n",
       "6       samsung m31 360 coverb08563mt9famazon brand - ...  cc/cc1f9aef.jpg   \n",
       "8       mobile coverb07tg44qnnamazon brand - solimo de...  6b/6be7b7d0.jpg   \n",
       "12      mobile coverb07t22ks83amazon brand - solimo de...  04/04287092.jpg   \n",
       "...                                                   ...              ...   \n",
       "168216  back coverb0854ctp5namazon brand - solimo desi...  03/03f0cbf6.jpg   \n",
       "168217  mobile coverb081hnqrqjamazon brand - solimo de...  67/67d2b3f8.jpg   \n",
       "168219  shoes for women stylishb07xrx83cmamazon brand ...  d7/d77cc014.jpg   \n",
       "168220  arena strength pilates band resistance bands s...  d3/d3e492c8.jpg   \n",
       "168222  amazonbasics;amzn-lt800p-a;replacement-refrige...  73/73903c65.jpg   \n",
       "\n",
       "                 product_type  label  \n",
       "0                       SHOES      1  \n",
       "1         CELLULAR_PHONE_CASE      1  \n",
       "6         CELLULAR_PHONE_CASE      1  \n",
       "8         CELLULAR_PHONE_CASE      1  \n",
       "12        CELLULAR_PHONE_CASE      1  \n",
       "...                       ...    ...  \n",
       "168216    CELLULAR_PHONE_CASE      1  \n",
       "168217    CELLULAR_PHONE_CASE      1  \n",
       "168219                  SHOES      1  \n",
       "168220          EXERCISE_BAND      1  \n",
       "168222  MAJOR_HOME_APPLIANCES      1  \n",
       "\n",
       "[87380 rows x 5 columns]"
      ]
     },
     "execution_count": 60,
     "metadata": {},
     "output_type": "execute_result"
    }
   ],
   "source": [
    "ground_truth = data[data[\"label\"] == 1]\n",
    "false_samples = data[data[\"label\"] == 0]\n",
    "data = ground_truth\n",
    "data"
   ]
  },
  {
   "cell_type": "code",
   "execution_count": 61,
   "metadata": {},
   "outputs": [
    {
     "data": {
      "text/html": [
       "<div>\n",
       "<style scoped>\n",
       "    .dataframe tbody tr th:only-of-type {\n",
       "        vertical-align: middle;\n",
       "    }\n",
       "\n",
       "    .dataframe tbody tr th {\n",
       "        vertical-align: top;\n",
       "    }\n",
       "\n",
       "    .dataframe thead th {\n",
       "        text-align: right;\n",
       "    }\n",
       "</style>\n",
       "<table border=\"1\" class=\"dataframe\">\n",
       "  <thead>\n",
       "    <tr style=\"text-align: right;\">\n",
       "      <th></th>\n",
       "      <th>description</th>\n",
       "      <th>description2</th>\n",
       "      <th>path</th>\n",
       "      <th>product_type</th>\n",
       "      <th>label</th>\n",
       "    </tr>\n",
       "  </thead>\n",
       "  <tbody>\n",
       "    <tr>\n",
       "      <th>2</th>\n",
       "      <td>mobile coverb0856b8fw1sunshine swatch, ravenna...</td>\n",
       "      <td>combo cooker dutch oven for bread making ovens...</td>\n",
       "      <td>72/72c5b6c9.jpg</td>\n",
       "      <td>GROCERY</td>\n",
       "      <td>0</td>\n",
       "    </tr>\n",
       "    <tr>\n",
       "      <th>3</th>\n",
       "      <td>whole foods, whole food, whole foods,365 every...</td>\n",
       "      <td>cellphonecoverb07tf7gr3ywhole foods market cre...</td>\n",
       "      <td>85/854b1468.jpg</td>\n",
       "      <td>CELLULAR_PHONE_CASE</td>\n",
       "      <td>0</td>\n",
       "    </tr>\n",
       "    <tr>\n",
       "      <th>4</th>\n",
       "      <td>back coverb00no73q84amazon brand - solimo desi...</td>\n",
       "      <td>mobile coverb071gvmr85amazon brand - solimo de...</td>\n",
       "      <td>6a/6a127d3e.jpg</td>\n",
       "      <td>BOOT</td>\n",
       "      <td>0</td>\n",
       "    </tr>\n",
       "    <tr>\n",
       "      <th>5</th>\n",
       "      <td>back coverb07t9tlvvzamazonbasics youth basebal...</td>\n",
       "      <td>mobile coverb0856b4tqqamazon brand - solimo de...</td>\n",
       "      <td>ec/ec078182.jpg</td>\n",
       "      <td>HOME</td>\n",
       "      <td>0</td>\n",
       "    </tr>\n",
       "    <tr>\n",
       "      <th>7</th>\n",
       "      <td>mobile coverb07tg4m9mbamazon brand -rivet midt...</td>\n",
       "      <td>cellphonecoverb07tg3nw24amazon brand - solimo ...</td>\n",
       "      <td>e7/e740caed.jpg</td>\n",
       "      <td>CELLULAR_PHONE_CASE</td>\n",
       "      <td>0</td>\n",
       "    </tr>\n",
       "    <tr>\n",
       "      <th>...</th>\n",
       "      <td>...</td>\n",
       "      <td>...</td>\n",
       "      <td>...</td>\n",
       "      <td>...</td>\n",
       "      <td>...</td>\n",
       "    </tr>\n",
       "    <tr>\n",
       "      <th>168218</th>\n",
       "      <td>classics with a twistb07z43sk54amazon brand - ...</td>\n",
       "      <td>pancake syrupb0857kv499amazon brand - solimo d...</td>\n",
       "      <td>05/05fa30f2.jpg</td>\n",
       "      <td>CELLULAR_PHONE_CASE</td>\n",
       "      <td>0</td>\n",
       "    </tr>\n",
       "    <tr>\n",
       "      <th>168221</th>\n",
       "      <td>mobile coverb07y33f9kxamazon brand - solimo de...</td>\n",
       "      <td>handbags for women latest brandedb072kwqy8yama...</td>\n",
       "      <td>e6/e6ed7731.jpg</td>\n",
       "      <td>CELLULAR_PHONE_CASE</td>\n",
       "      <td>0</td>\n",
       "    </tr>\n",
       "    <tr>\n",
       "      <th>168223</th>\n",
       "      <td>placeholderb074h67h9qamazon brand - solimo des...</td>\n",
       "      <td>deb0854kjcylamazon brand - solimo designer cou...</td>\n",
       "      <td>10/10b2c3af.jpg</td>\n",
       "      <td>CELLULAR_PHONE_CASE</td>\n",
       "      <td>0</td>\n",
       "    </tr>\n",
       "    <tr>\n",
       "      <th>168224</th>\n",
       "      <td>mobile coverb0854ljhw2half tofu banh mi</td>\n",
       "      <td>mobile coverb081hmxdkvfind. women's velvet str...</td>\n",
       "      <td>de/de19c121.jpg</td>\n",
       "      <td>GROCERY</td>\n",
       "      <td>0</td>\n",
       "    </tr>\n",
       "    <tr>\n",
       "      <th>168225</th>\n",
       "      <td>mobile coverb08gkxpbbzamazon brand - vedaka pr...</td>\n",
       "      <td>mobile coverb08569y2r3amazon brand - solimo de...</td>\n",
       "      <td>6d/6d147b0c.jpg</td>\n",
       "      <td>WALLET</td>\n",
       "      <td>0</td>\n",
       "    </tr>\n",
       "  </tbody>\n",
       "</table>\n",
       "<p>80846 rows × 5 columns</p>\n",
       "</div>"
      ],
      "text/plain": [
       "                                              description  \\\n",
       "2       mobile coverb0856b8fw1sunshine swatch, ravenna...   \n",
       "3       whole foods, whole food, whole foods,365 every...   \n",
       "4       back coverb00no73q84amazon brand - solimo desi...   \n",
       "5       back coverb07t9tlvvzamazonbasics youth basebal...   \n",
       "7       mobile coverb07tg4m9mbamazon brand -rivet midt...   \n",
       "...                                                   ...   \n",
       "168218  classics with a twistb07z43sk54amazon brand - ...   \n",
       "168221  mobile coverb07y33f9kxamazon brand - solimo de...   \n",
       "168223  placeholderb074h67h9qamazon brand - solimo des...   \n",
       "168224            mobile coverb0854ljhw2half tofu banh mi   \n",
       "168225  mobile coverb08gkxpbbzamazon brand - vedaka pr...   \n",
       "\n",
       "                                             description2             path  \\\n",
       "2       combo cooker dutch oven for bread making ovens...  72/72c5b6c9.jpg   \n",
       "3       cellphonecoverb07tf7gr3ywhole foods market cre...  85/854b1468.jpg   \n",
       "4       mobile coverb071gvmr85amazon brand - solimo de...  6a/6a127d3e.jpg   \n",
       "5       mobile coverb0856b4tqqamazon brand - solimo de...  ec/ec078182.jpg   \n",
       "7       cellphonecoverb07tg3nw24amazon brand - solimo ...  e7/e740caed.jpg   \n",
       "...                                                   ...              ...   \n",
       "168218  pancake syrupb0857kv499amazon brand - solimo d...  05/05fa30f2.jpg   \n",
       "168221  handbags for women latest brandedb072kwqy8yama...  e6/e6ed7731.jpg   \n",
       "168223  deb0854kjcylamazon brand - solimo designer cou...  10/10b2c3af.jpg   \n",
       "168224  mobile coverb081hmxdkvfind. women's velvet str...  de/de19c121.jpg   \n",
       "168225  mobile coverb08569y2r3amazon brand - solimo de...  6d/6d147b0c.jpg   \n",
       "\n",
       "               product_type  label  \n",
       "2                   GROCERY      0  \n",
       "3       CELLULAR_PHONE_CASE      0  \n",
       "4                      BOOT      0  \n",
       "5                      HOME      0  \n",
       "7       CELLULAR_PHONE_CASE      0  \n",
       "...                     ...    ...  \n",
       "168218  CELLULAR_PHONE_CASE      0  \n",
       "168221  CELLULAR_PHONE_CASE      0  \n",
       "168223  CELLULAR_PHONE_CASE      0  \n",
       "168224              GROCERY      0  \n",
       "168225               WALLET      0  \n",
       "\n",
       "[80846 rows x 5 columns]"
      ]
     },
     "execution_count": 61,
     "metadata": {},
     "output_type": "execute_result"
    }
   ],
   "source": [
    "false_samples"
   ]
  },
  {
   "cell_type": "code",
   "execution_count": 62,
   "metadata": {},
   "outputs": [],
   "source": [
    "img_false = img[false_samples.index]\n",
    "text_false = text[false_samples.index]"
   ]
  },
  {
   "cell_type": "code",
   "execution_count": 63,
   "metadata": {},
   "outputs": [],
   "source": [
    "img = img[data.index]\n",
    "text = text[data.index]"
   ]
  },
  {
   "cell_type": "code",
   "execution_count": 64,
   "metadata": {},
   "outputs": [],
   "source": [
    "data = data.reset_index(drop=True)\n",
    "false_samples = false_samples.reset_index(drop=True)"
   ]
  },
  {
   "cell_type": "code",
   "execution_count": 65,
   "metadata": {},
   "outputs": [
    {
     "data": {
      "text/plain": [
       "(87380, 576)"
      ]
     },
     "execution_count": 65,
     "metadata": {},
     "output_type": "execute_result"
    }
   ],
   "source": [
    "img.shape"
   ]
  },
  {
   "cell_type": "code",
   "execution_count": 66,
   "metadata": {},
   "outputs": [
    {
     "data": {
      "text/plain": [
       "(80846, 576)"
      ]
     },
     "execution_count": 66,
     "metadata": {},
     "output_type": "execute_result"
    }
   ],
   "source": [
    "img_false.shape"
   ]
  },
  {
   "cell_type": "markdown",
   "metadata": {},
   "source": [
    "## Ground truth"
   ]
  },
  {
   "cell_type": "code",
   "execution_count": 67,
   "metadata": {},
   "outputs": [],
   "source": [
    "data[\"product_type_count\"] = data.groupby(\n",
    "    [\"product_type\"])[\"product_type\"].transform(\"count\")\n",
    "\n",
    "data = data[data[\"product_type_count\"] > config[\"data\"][\"cls\"]]"
   ]
  },
  {
   "cell_type": "code",
   "execution_count": 68,
   "metadata": {},
   "outputs": [],
   "source": [
    "# Update both columns\n",
    "product_types = data[[\"product_type\"]]\n",
    "\n",
    "labels = data[[\"label\"]]"
   ]
  },
  {
   "cell_type": "code",
   "execution_count": 69,
   "metadata": {},
   "outputs": [],
   "source": [
    "from sklearn.model_selection import train_test_split"
   ]
  },
  {
   "cell_type": "code",
   "execution_count": 70,
   "metadata": {},
   "outputs": [],
   "source": [
    "train, test, product_types_train, product_types_test = train_test_split(\n",
    "    data,\n",
    "    product_types,\n",
    "    stratify=product_types,\n",
    "    test_size=config[\"model\"][\"training\"][\"test_split\"],\n",
    "    random_state=42)"
   ]
  },
  {
   "cell_type": "code",
   "execution_count": 71,
   "metadata": {},
   "outputs": [],
   "source": [
    "img_train = img[train.index]\n",
    "img_test = img[test.index]\n",
    "\n",
    "text_train = text[train.index]\n",
    "text_test = text[test.index]"
   ]
  },
  {
   "cell_type": "markdown",
   "metadata": {},
   "source": [
    "## False samples"
   ]
  },
  {
   "cell_type": "code",
   "execution_count": 72,
   "metadata": {},
   "outputs": [],
   "source": [
    "false_samples[\"product_type_count\"] = false_samples.groupby(\n",
    "    [\"product_type\"])[\"product_type\"].transform(\"count\")\n",
    "\n",
    "false_samples = false_samples[false_samples[\"product_type_count\"] > config[\"data\"][\"cls\"]]"
   ]
  },
  {
   "cell_type": "code",
   "execution_count": 73,
   "metadata": {},
   "outputs": [],
   "source": [
    "# Update both columns\n",
    "product_types_false = false_samples[[\"product_type\"]]\n",
    "\n",
    "labels_false = false_samples[[\"label\"]]"
   ]
  },
  {
   "cell_type": "code",
   "execution_count": 74,
   "metadata": {},
   "outputs": [],
   "source": [
    "from sklearn.model_selection import train_test_split"
   ]
  },
  {
   "cell_type": "code",
   "execution_count": 75,
   "metadata": {},
   "outputs": [],
   "source": [
    "train_false, test_false, product_types_train_false, product_types_test_false = train_test_split(\n",
    "    false_samples,\n",
    "    product_types_false,\n",
    "    stratify=product_types_false,\n",
    "    test_size=config[\"model\"][\"training\"][\"test_split\"],\n",
    "    random_state=42)"
   ]
  },
  {
   "cell_type": "code",
   "execution_count": 76,
   "metadata": {},
   "outputs": [],
   "source": [
    "img_train_false = img_false[train_false.index]\n",
    "img_test_false = img_false[test_false.index]\n",
    "\n",
    "text_train_false = text_false[train_false.index]\n",
    "text_test_false = text_false[test_false.index]"
   ]
  },
  {
   "cell_type": "markdown",
   "metadata": {},
   "source": [
    "# Build MNN-BTL Model"
   ]
  },
  {
   "cell_type": "code",
   "execution_count": 77,
   "metadata": {},
   "outputs": [],
   "source": [
    "from utils.metrics import create_metrics"
   ]
  },
  {
   "cell_type": "code",
   "execution_count": 78,
   "metadata": {},
   "outputs": [],
   "source": [
    "head_config = {\n",
    "    \"img_input_size\": img_model.layers[-1].output_shape[1],\n",
    "    \"txt_input_size\": config[\"data\"][\"input_size\"],\n",
    "    \"img_fc_layers\": config[\"model\"][\"img_fc_layers\"],\n",
    "    \"txt_fc_layers\": config[\"model\"][\"txt_fc_layers\"],\n",
    "    \"extended\": False,\n",
    "}"
   ]
  },
  {
   "cell_type": "code",
   "execution_count": 79,
   "metadata": {},
   "outputs": [],
   "source": [
    "from tensorflow.keras.models import Model\n",
    "from tensorflow.keras.layers import Input, Dense, Lambda, Concatenate, Embedding, Flatten\n",
    "from tensorflow.keras.optimizers import Adam\n",
    "from models.mnn_em import _CNNBranch\n",
    "from models.addons.tensorflow_addons.losses import triplet_multimodal\n",
    "\n",
    "\n",
    "class MNNBTLBert(object):\n",
    "    def __init__(self, head_config, learning_rate, name=\"MNN_BTL\"):\n",
    "        self.head_config = head_config\n",
    "        self.learning_rate = learning_rate\n",
    "        self.name = name\n",
    "        self._build_model()  # builds self.model variable\n",
    "\n",
    "    def _build_model(self):\n",
    "        # Text Input\n",
    "        img_features = Input(shape=(self.head_config[\"img_input_size\"]),\n",
    "                             name=\"Image_Input_Head_Outer\")\n",
    "\n",
    "        img_cnn = _CNNBranch(self.head_config[\"img_input_size\"],\n",
    "                             self.head_config[\"img_fc_layers\"], self.head_config[\"extended\"], True, name=\"Image\")\n",
    "\n",
    "        # Image Input\n",
    "        text_features = tf.keras.layers.Input(shape=(()), dtype=tf.string, name=\"Text_Input_Head_Outer\")\n",
    "\n",
    "        bert_preprocess_model = hub.KerasLayer(tfhub_handle_preprocess)\n",
    "        bert_model = hub.KerasLayer(tfhub_handle_encoder)\n",
    "\n",
    "        x = bert_preprocess_model(text_features)\n",
    "\n",
    "        x = bert_model(x)[\"pooled_output\"]\n",
    "\n",
    "        text_branch = _CNNBranch(x.shape[1],\n",
    "                                 self.head_config[\"txt_fc_layers\"], self.head_config[\"extended\"], True, name=\"Text\")\n",
    "\n",
    "        output_text_branch = text_branch.model(x)\n",
    "\n",
    "        text_cnn = Model(inputs=text_features,\n",
    "                         outputs=output_text_branch, name=\"Text_CNN\")\n",
    "\n",
    "        model = Model(inputs=[img_features, text_features],\n",
    "                      outputs=Concatenate()(\n",
    "                          [img_cnn.model(img_features), text_cnn(text_features)]),\n",
    "                      name=self.name)\n",
    "\n",
    "        optimizer = Adam(learning_rate=self.learning_rate)\n",
    "\n",
    "        loss = triplet_multimodal.MultimodalTripletHardLossBidirectional(\n",
    "            distance_metric=\"angular\")\n",
    "\n",
    "        # Compile the model\n",
    "        model.compile(\n",
    "            optimizer=optimizer,\n",
    "            loss=loss)\n",
    "\n",
    "        self.model = model\n"
   ]
  },
  {
   "cell_type": "code",
   "execution_count": 80,
   "metadata": {},
   "outputs": [],
   "source": [
    "mnn_btl = MNNBTLBert(\n",
    "    head_config=head_config,\n",
    "    learning_rate=config[\"model\"][\"training\"][\"learning_rate\"])"
   ]
  },
  {
   "cell_type": "code",
   "execution_count": 81,
   "metadata": {},
   "outputs": [
    {
     "name": "stdout",
     "output_type": "stream",
     "text": [
      "Model: \"MNN_BTL\"\n",
      "__________________________________________________________________________________________________\n",
      " Layer (type)                   Output Shape         Param #     Connected to                     \n",
      "==================================================================================================\n",
      " Image_Input_Head_Outer (InputL  [(None, 576)]       0           []                               \n",
      " ayer)                                                                                            \n",
      "                                                                                                  \n",
      " Text_Input_Head_Outer (InputLa  [(None,)]           0           []                               \n",
      " yer)                                                                                             \n",
      "                                                                                                  \n",
      " Image_CNN (Functional)         (None, 512)          1115648     ['Image_Input_Head_Outer[0][0]'] \n",
      "|¯¯¯¯¯¯¯¯¯¯¯¯¯¯¯¯¯¯¯¯¯¯¯¯¯¯¯¯¯¯¯¯¯¯¯¯¯¯¯¯¯¯¯¯¯¯¯¯¯¯¯¯¯¯¯¯¯¯¯¯¯¯¯¯¯¯¯¯¯¯¯¯¯¯¯¯¯¯¯¯¯¯¯¯¯¯¯¯¯¯¯¯¯¯¯¯|\n",
      "| Image_Input_Head_Inner (InputL  [(None, 576)]     0           []                               |\n",
      "| ayer)                                                                                          |\n",
      "|                                                                                                |\n",
      "| Image_FC_1 (Dense)           (None, 1024)         590848      []                               |\n",
      "|                                                                                                |\n",
      "| Image_FC_last (Dense)        (None, 512)          524800      []                               |\n",
      "|                                                                                                |\n",
      "| Image_L2_Norm (Lambda)       (None, 512)          0           []                               |\n",
      "¯¯¯¯¯¯¯¯¯¯¯¯¯¯¯¯¯¯¯¯¯¯¯¯¯¯¯¯¯¯¯¯¯¯¯¯¯¯¯¯¯¯¯¯¯¯¯¯¯¯¯¯¯¯¯¯¯¯¯¯¯¯¯¯¯¯¯¯¯¯¯¯¯¯¯¯¯¯¯¯¯¯¯¯¯¯¯¯¯¯¯¯¯¯¯¯¯¯\n",
      " Text_CNN (Functional)          (None, 512)          110794497   ['Text_Input_Head_Outer[0][0]']  \n",
      "|¯¯¯¯¯¯¯¯¯¯¯¯¯¯¯¯¯¯¯¯¯¯¯¯¯¯¯¯¯¯¯¯¯¯¯¯¯¯¯¯¯¯¯¯¯¯¯¯¯¯¯¯¯¯¯¯¯¯¯¯¯¯¯¯¯¯¯¯¯¯¯¯¯¯¯¯¯¯¯¯¯¯¯¯¯¯¯¯¯¯¯¯¯¯¯¯|\n",
      "| Text_Input_Head_Outer (InputLa  [(None,)]         0           []                               |\n",
      "| yer)                                                                                           |\n",
      "|                                                                                                |\n",
      "| keras_layer_6 (KerasLayer)   {'input_type_ids':   0           []                               |\n",
      "|                              (None, 128),                                                      |\n",
      "|                               'input_word_ids':                                                |\n",
      "|                              (None, 128),                                                      |\n",
      "|                               'input_mask': (Non                                               |\n",
      "|                              e, 128)}                                                          |\n",
      "|                                                                                                |\n",
      "| keras_layer_7 (KerasLayer)   {'pooled_output': (  109482241   []                               |\n",
      "|                              None, 768),                                                       |\n",
      "|                               'sequence_output':                                               |\n",
      "|                               (None, 128, 768),                                                |\n",
      "|                               'encoder_outputs':                                               |\n",
      "|                               [(None, 128, 768),                                               |\n",
      "|                               (None, 128, 768),                                                |\n",
      "|                               (None, 128, 768),                                                |\n",
      "|                               (None, 128, 768),                                                |\n",
      "|                               (None, 128, 768),                                                |\n",
      "|                               (None, 128, 768),                                                |\n",
      "|                               (None, 128, 768),                                                |\n",
      "|                               (None, 128, 768),                                                |\n",
      "|                               (None, 128, 768),                                                |\n",
      "|                               (None, 128, 768),                                                |\n",
      "|                               (None, 128, 768),                                                |\n",
      "|                               (None, 128, 768)],                                               |\n",
      "|                               'default': (None,                                                |\n",
      "|                              768)}                                                             |\n",
      "|                                                                                                |\n",
      "| Text_CNN (Functional)        (None, 512)          1312256     []                               |\n",
      "||¯¯¯¯¯¯¯¯¯¯¯¯¯¯¯¯¯¯¯¯¯¯¯¯¯¯¯¯¯¯¯¯¯¯¯¯¯¯¯¯¯¯¯¯¯¯¯¯¯¯¯¯¯¯¯¯¯¯¯¯¯¯¯¯¯¯¯¯¯¯¯¯¯¯¯¯¯¯¯¯¯¯¯¯¯¯¯¯¯¯¯¯¯¯||\n",
      "|| Text_Input_Head_Inner (InputLa  [(None, 768)]   0           []                               ||\n",
      "|| yer)                                                                                         ||\n",
      "||                                                                                              ||\n",
      "|| Text_FC_1 (Dense)          (None, 1024)         787456      []                               ||\n",
      "||                                                                                              ||\n",
      "|| Text_FC_last (Dense)       (None, 512)          524800      []                               ||\n",
      "||                                                                                              ||\n",
      "|| Text_L2_Norm (Lambda)      (None, 512)          0           []                               ||\n",
      "|¯¯¯¯¯¯¯¯¯¯¯¯¯¯¯¯¯¯¯¯¯¯¯¯¯¯¯¯¯¯¯¯¯¯¯¯¯¯¯¯¯¯¯¯¯¯¯¯¯¯¯¯¯¯¯¯¯¯¯¯¯¯¯¯¯¯¯¯¯¯¯¯¯¯¯¯¯¯¯¯¯¯¯¯¯¯¯¯¯¯¯¯¯¯¯¯|\n",
      "¯¯¯¯¯¯¯¯¯¯¯¯¯¯¯¯¯¯¯¯¯¯¯¯¯¯¯¯¯¯¯¯¯¯¯¯¯¯¯¯¯¯¯¯¯¯¯¯¯¯¯¯¯¯¯¯¯¯¯¯¯¯¯¯¯¯¯¯¯¯¯¯¯¯¯¯¯¯¯¯¯¯¯¯¯¯¯¯¯¯¯¯¯¯¯¯¯¯\n",
      " concatenate (Concatenate)      (None, 1024)         0           ['Image_CNN[0][0]',              \n",
      "                                                                  'Text_CNN[0][0]']               \n",
      "                                                                                                  \n",
      "==================================================================================================\n",
      "Total params: 111,910,145\n",
      "Trainable params: 2,427,904\n",
      "Non-trainable params: 109,482,241\n",
      "__________________________________________________________________________________________________\n"
     ]
    }
   ],
   "source": [
    "mnn_btl.model.summary(expand_nested=True)"
   ]
  },
  {
   "cell_type": "code",
   "execution_count": 82,
   "metadata": {},
   "outputs": [
    {
     "name": "stdout",
     "output_type": "stream",
     "text": [
      "You must install pydot (`pip install pydot`) and install graphviz (see instructions at https://graphviz.gitlab.io/download/) for plot_model/model_to_dot to work.\n"
     ]
    }
   ],
   "source": [
    "# \"Head\"\n",
    "\n",
    "tf.keras.utils.plot_model(mnn_btl.model,\n",
    "                          rankdir=\"TB\",\n",
    "                          show_layer_activations=True,\n",
    "                          show_shapes=True)"
   ]
  },
  {
   "cell_type": "markdown",
   "metadata": {},
   "source": [
    "# Callbacks"
   ]
  },
  {
   "cell_type": "code",
   "execution_count": 83,
   "metadata": {},
   "outputs": [],
   "source": [
    "from utils.metrics import create_callbacks"
   ]
  },
  {
   "cell_type": "code",
   "execution_count": 84,
   "metadata": {},
   "outputs": [],
   "source": [
    "log_dir = config[\"model\"][\"training\"][\"log_dir\"]\n",
    "model_name = config[\"model\"][\"name\"]\n",
    "optimizer_name = config[\"model\"][\"training\"][\"optimizer\"]\n",
    "learning_rate = config[\"model\"][\"training\"][\"learning_rate\"]"
   ]
  },
  {
   "cell_type": "code",
   "execution_count": 85,
   "metadata": {},
   "outputs": [],
   "source": [
    "callbacks = create_callbacks(\n",
    "    callbacks_list=config[\"model\"][\"training\"][\"callbacks\"],\n",
    "    log_dir=log_dir,\n",
    "    model_name=model_name,\n",
    "    img_model_name=img_model.name,\n",
    "    optimizer_name=optimizer_name,\n",
    "    learning_rate=learning_rate,\n",
    "    cls=config[\"data\"][\"cls\"],\n",
    "    patience=10)"
   ]
  },
  {
   "cell_type": "markdown",
   "metadata": {},
   "source": [
    "# Class weights"
   ]
  },
  {
   "cell_type": "code",
   "execution_count": 86,
   "metadata": {},
   "outputs": [],
   "source": [
    "from sklearn.utils import class_weight"
   ]
  },
  {
   "cell_type": "code",
   "execution_count": 87,
   "metadata": {},
   "outputs": [
    {
     "data": {
      "text/plain": [
       "341"
      ]
     },
     "execution_count": 87,
     "metadata": {},
     "output_type": "execute_result"
    }
   ],
   "source": [
    "class_weights = class_weight.compute_class_weight(class_weight='balanced',\n",
    "                                                 classes=product_types_train[\"product_type\"].unique(),\n",
    "                                                 y=product_types_train[\"product_type\"])\n",
    "len(class_weights)"
   ]
  },
  {
   "cell_type": "code",
   "execution_count": 88,
   "metadata": {},
   "outputs": [
    {
     "data": {
      "text/plain": [
       "341"
      ]
     },
     "execution_count": 88,
     "metadata": {},
     "output_type": "execute_result"
    }
   ],
   "source": [
    "class_weights_dict = {}\n",
    "class_weights_dict_transform = {}\n",
    "i = 0\n",
    "\n",
    "for pt, cw in zip(product_types_train[\"product_type\"].unique(), class_weights):\n",
    "    class_weights_dict[i] = cw\n",
    "    class_weights_dict_transform[pt] = i\n",
    "    i += 1\n",
    "    \n",
    "len(class_weights_dict)"
   ]
  },
  {
   "cell_type": "code",
   "execution_count": 89,
   "metadata": {},
   "outputs": [
    {
     "data": {
      "text/plain": [
       "341"
      ]
     },
     "execution_count": 89,
     "metadata": {},
     "output_type": "execute_result"
    }
   ],
   "source": [
    "len(class_weights_dict_transform)"
   ]
  },
  {
   "cell_type": "code",
   "execution_count": 90,
   "metadata": {},
   "outputs": [
    {
     "data": {
      "text/html": [
       "<div>\n",
       "<style scoped>\n",
       "    .dataframe tbody tr th:only-of-type {\n",
       "        vertical-align: middle;\n",
       "    }\n",
       "\n",
       "    .dataframe tbody tr th {\n",
       "        vertical-align: top;\n",
       "    }\n",
       "\n",
       "    .dataframe thead th {\n",
       "        text-align: right;\n",
       "    }\n",
       "</style>\n",
       "<table border=\"1\" class=\"dataframe\">\n",
       "  <thead>\n",
       "    <tr style=\"text-align: right;\">\n",
       "      <th></th>\n",
       "      <th>product_type</th>\n",
       "      <th>product_type_transform</th>\n",
       "    </tr>\n",
       "  </thead>\n",
       "  <tbody>\n",
       "    <tr>\n",
       "      <th>35850</th>\n",
       "      <td>CELLULAR_PHONE_CASE</td>\n",
       "      <td>0</td>\n",
       "    </tr>\n",
       "    <tr>\n",
       "      <th>63788</th>\n",
       "      <td>CELLULAR_PHONE_CASE</td>\n",
       "      <td>0</td>\n",
       "    </tr>\n",
       "    <tr>\n",
       "      <th>18615</th>\n",
       "      <td>RUG</td>\n",
       "      <td>1</td>\n",
       "    </tr>\n",
       "    <tr>\n",
       "      <th>51760</th>\n",
       "      <td>CELLULAR_PHONE_CASE</td>\n",
       "      <td>0</td>\n",
       "    </tr>\n",
       "    <tr>\n",
       "      <th>32363</th>\n",
       "      <td>CELLULAR_PHONE_CASE</td>\n",
       "      <td>0</td>\n",
       "    </tr>\n",
       "    <tr>\n",
       "      <th>...</th>\n",
       "      <td>...</td>\n",
       "      <td>...</td>\n",
       "    </tr>\n",
       "    <tr>\n",
       "      <th>63997</th>\n",
       "      <td>CELLULAR_PHONE_CASE</td>\n",
       "      <td>0</td>\n",
       "    </tr>\n",
       "    <tr>\n",
       "      <th>34287</th>\n",
       "      <td>CELLULAR_PHONE_CASE</td>\n",
       "      <td>0</td>\n",
       "    </tr>\n",
       "    <tr>\n",
       "      <th>46446</th>\n",
       "      <td>BEAUTY</td>\n",
       "      <td>40</td>\n",
       "    </tr>\n",
       "    <tr>\n",
       "      <th>50996</th>\n",
       "      <td>SCREEN_PROTECTOR</td>\n",
       "      <td>46</td>\n",
       "    </tr>\n",
       "    <tr>\n",
       "      <th>71545</th>\n",
       "      <td>KITCHEN</td>\n",
       "      <td>48</td>\n",
       "    </tr>\n",
       "  </tbody>\n",
       "</table>\n",
       "<p>78562 rows × 2 columns</p>\n",
       "</div>"
      ],
      "text/plain": [
       "              product_type  product_type_transform\n",
       "35850  CELLULAR_PHONE_CASE                       0\n",
       "63788  CELLULAR_PHONE_CASE                       0\n",
       "18615                  RUG                       1\n",
       "51760  CELLULAR_PHONE_CASE                       0\n",
       "32363  CELLULAR_PHONE_CASE                       0\n",
       "...                    ...                     ...\n",
       "63997  CELLULAR_PHONE_CASE                       0\n",
       "34287  CELLULAR_PHONE_CASE                       0\n",
       "46446               BEAUTY                      40\n",
       "50996     SCREEN_PROTECTOR                      46\n",
       "71545              KITCHEN                      48\n",
       "\n",
       "[78562 rows x 2 columns]"
      ]
     },
     "execution_count": 90,
     "metadata": {},
     "output_type": "execute_result"
    }
   ],
   "source": [
    "product_types_train[\"product_type_transform\"] = product_types_train[\"product_type\"].apply(lambda x: class_weights_dict_transform[x])\n",
    "product_types_train"
   ]
  },
  {
   "cell_type": "code",
   "execution_count": 91,
   "metadata": {},
   "outputs": [
    {
     "data": {
      "text/plain": [
       "0.003965354505579923"
      ]
     },
     "execution_count": 91,
     "metadata": {},
     "output_type": "execute_result"
    }
   ],
   "source": [
    "class_weights_dict[0]"
   ]
  },
  {
   "cell_type": "markdown",
   "metadata": {},
   "source": [
    "# Training"
   ]
  },
  {
   "cell_type": "code",
   "execution_count": 92,
   "metadata": {},
   "outputs": [
    {
     "name": "stdout",
     "output_type": "stream",
     "text": [
      "Epoch 1/10\n",
      "4419/4420 [============================>.] - ETA: 0s - loss: 5.4088"
     ]
    },
    {
     "name": "stderr",
     "output_type": "stream",
     "text": [
      "2023-06-14 18:07:50.245405: W tensorflow/python/util/util.cc:368] Sets are not currently considered sequences, but this may change in the future, so consider avoiding using them.\n",
      "WARNING:absl:Function `_wrapped_model` contains input name(s) Image_Input_Head_Outer, Text_Input_Head_Outer with unsupported characters which will be renamed to image_input_head_outer, text_input_head_outer in the SavedModel.\n",
      "WARNING:absl:Found untraced functions such as restored_function_body, restored_function_body, restored_function_body, restored_function_body, restored_function_body while saving (showing 5 of 364). These functions will not be directly callable after loading.\n"
     ]
    },
    {
     "name": "stdout",
     "output_type": "stream",
     "text": [
      "INFO:tensorflow:Assets written to: ./runs/models/MNN_BTL_BERT_ABO/cls_1/MobilenetV3small/Adam/lr_1e-05/assets\n"
     ]
    },
    {
     "name": "stderr",
     "output_type": "stream",
     "text": [
      "INFO:tensorflow:Assets written to: ./runs/models/MNN_BTL_BERT_ABO/cls_1/MobilenetV3small/Adam/lr_1e-05/assets\n"
     ]
    },
    {
     "name": "stdout",
     "output_type": "stream",
     "text": [
      "4420/4420 [==============================] - 302s 66ms/step - loss: 5.4087 - val_loss: 1.0781\n",
      "Epoch 2/10\n",
      "4419/4420 [============================>.] - ETA: 0s - loss: 0.2986"
     ]
    },
    {
     "name": "stderr",
     "output_type": "stream",
     "text": [
      "WARNING:absl:Function `_wrapped_model` contains input name(s) Image_Input_Head_Outer, Text_Input_Head_Outer with unsupported characters which will be renamed to image_input_head_outer, text_input_head_outer in the SavedModel.\n",
      "WARNING:absl:Found untraced functions such as restored_function_body, restored_function_body, restored_function_body, restored_function_body, restored_function_body while saving (showing 5 of 364). These functions will not be directly callable after loading.\n"
     ]
    },
    {
     "name": "stdout",
     "output_type": "stream",
     "text": [
      "INFO:tensorflow:Assets written to: ./runs/models/MNN_BTL_BERT_ABO/cls_1/MobilenetV3small/Adam/lr_1e-05/assets\n"
     ]
    },
    {
     "name": "stderr",
     "output_type": "stream",
     "text": [
      "INFO:tensorflow:Assets written to: ./runs/models/MNN_BTL_BERT_ABO/cls_1/MobilenetV3small/Adam/lr_1e-05/assets\n"
     ]
    },
    {
     "name": "stdout",
     "output_type": "stream",
     "text": [
      "4420/4420 [==============================] - 288s 65ms/step - loss: 0.2986 - val_loss: 0.0509\n",
      "Epoch 3/10\n",
      "4419/4420 [============================>.] - ETA: 0s - loss: 0.0359"
     ]
    },
    {
     "name": "stderr",
     "output_type": "stream",
     "text": [
      "WARNING:absl:Function `_wrapped_model` contains input name(s) Image_Input_Head_Outer, Text_Input_Head_Outer with unsupported characters which will be renamed to image_input_head_outer, text_input_head_outer in the SavedModel.\n",
      "WARNING:absl:Found untraced functions such as restored_function_body, restored_function_body, restored_function_body, restored_function_body, restored_function_body while saving (showing 5 of 364). These functions will not be directly callable after loading.\n"
     ]
    },
    {
     "name": "stdout",
     "output_type": "stream",
     "text": [
      "INFO:tensorflow:Assets written to: ./runs/models/MNN_BTL_BERT_ABO/cls_1/MobilenetV3small/Adam/lr_1e-05/assets\n"
     ]
    },
    {
     "name": "stderr",
     "output_type": "stream",
     "text": [
      "INFO:tensorflow:Assets written to: ./runs/models/MNN_BTL_BERT_ABO/cls_1/MobilenetV3small/Adam/lr_1e-05/assets\n"
     ]
    },
    {
     "name": "stdout",
     "output_type": "stream",
     "text": [
      "4420/4420 [==============================] - 291s 66ms/step - loss: 0.0359 - val_loss: 0.0294\n",
      "Epoch 4/10\n",
      "4419/4420 [============================>.] - ETA: 0s - loss: 0.0266"
     ]
    },
    {
     "name": "stderr",
     "output_type": "stream",
     "text": [
      "WARNING:absl:Function `_wrapped_model` contains input name(s) Image_Input_Head_Outer, Text_Input_Head_Outer with unsupported characters which will be renamed to image_input_head_outer, text_input_head_outer in the SavedModel.\n",
      "WARNING:absl:Found untraced functions such as restored_function_body, restored_function_body, restored_function_body, restored_function_body, restored_function_body while saving (showing 5 of 364). These functions will not be directly callable after loading.\n"
     ]
    },
    {
     "name": "stdout",
     "output_type": "stream",
     "text": [
      "INFO:tensorflow:Assets written to: ./runs/models/MNN_BTL_BERT_ABO/cls_1/MobilenetV3small/Adam/lr_1e-05/assets\n"
     ]
    },
    {
     "name": "stderr",
     "output_type": "stream",
     "text": [
      "INFO:tensorflow:Assets written to: ./runs/models/MNN_BTL_BERT_ABO/cls_1/MobilenetV3small/Adam/lr_1e-05/assets\n"
     ]
    },
    {
     "name": "stdout",
     "output_type": "stream",
     "text": [
      "4420/4420 [==============================] - 289s 65ms/step - loss: 0.0266 - val_loss: 0.0268\n",
      "Epoch 5/10\n",
      "4419/4420 [============================>.] - ETA: 0s - loss: 0.0249"
     ]
    },
    {
     "name": "stderr",
     "output_type": "stream",
     "text": [
      "WARNING:absl:Function `_wrapped_model` contains input name(s) Image_Input_Head_Outer, Text_Input_Head_Outer with unsupported characters which will be renamed to image_input_head_outer, text_input_head_outer in the SavedModel.\n",
      "WARNING:absl:Found untraced functions such as restored_function_body, restored_function_body, restored_function_body, restored_function_body, restored_function_body while saving (showing 5 of 364). These functions will not be directly callable after loading.\n"
     ]
    },
    {
     "name": "stdout",
     "output_type": "stream",
     "text": [
      "INFO:tensorflow:Assets written to: ./runs/models/MNN_BTL_BERT_ABO/cls_1/MobilenetV3small/Adam/lr_1e-05/assets\n"
     ]
    },
    {
     "name": "stderr",
     "output_type": "stream",
     "text": [
      "INFO:tensorflow:Assets written to: ./runs/models/MNN_BTL_BERT_ABO/cls_1/MobilenetV3small/Adam/lr_1e-05/assets\n"
     ]
    },
    {
     "name": "stdout",
     "output_type": "stream",
     "text": [
      "4420/4420 [==============================] - 289s 65ms/step - loss: 0.0249 - val_loss: 0.0251\n",
      "Epoch 6/10\n",
      "4419/4420 [============================>.] - ETA: 0s - loss: 0.0238"
     ]
    },
    {
     "name": "stderr",
     "output_type": "stream",
     "text": [
      "WARNING:absl:Function `_wrapped_model` contains input name(s) Image_Input_Head_Outer, Text_Input_Head_Outer with unsupported characters which will be renamed to image_input_head_outer, text_input_head_outer in the SavedModel.\n",
      "WARNING:absl:Found untraced functions such as restored_function_body, restored_function_body, restored_function_body, restored_function_body, restored_function_body while saving (showing 5 of 364). These functions will not be directly callable after loading.\n"
     ]
    },
    {
     "name": "stdout",
     "output_type": "stream",
     "text": [
      "INFO:tensorflow:Assets written to: ./runs/models/MNN_BTL_BERT_ABO/cls_1/MobilenetV3small/Adam/lr_1e-05/assets\n"
     ]
    },
    {
     "name": "stderr",
     "output_type": "stream",
     "text": [
      "INFO:tensorflow:Assets written to: ./runs/models/MNN_BTL_BERT_ABO/cls_1/MobilenetV3small/Adam/lr_1e-05/assets\n"
     ]
    },
    {
     "name": "stdout",
     "output_type": "stream",
     "text": [
      "4420/4420 [==============================] - 291s 66ms/step - loss: 0.0238 - val_loss: 0.0243\n",
      "Epoch 7/10\n",
      "4419/4420 [============================>.] - ETA: 0s - loss: 0.0238"
     ]
    },
    {
     "name": "stderr",
     "output_type": "stream",
     "text": [
      "WARNING:absl:Function `_wrapped_model` contains input name(s) Image_Input_Head_Outer, Text_Input_Head_Outer with unsupported characters which will be renamed to image_input_head_outer, text_input_head_outer in the SavedModel.\n",
      "WARNING:absl:Found untraced functions such as restored_function_body, restored_function_body, restored_function_body, restored_function_body, restored_function_body while saving (showing 5 of 364). These functions will not be directly callable after loading.\n"
     ]
    },
    {
     "name": "stdout",
     "output_type": "stream",
     "text": [
      "INFO:tensorflow:Assets written to: ./runs/models/MNN_BTL_BERT_ABO/cls_1/MobilenetV3small/Adam/lr_1e-05/assets\n"
     ]
    },
    {
     "name": "stderr",
     "output_type": "stream",
     "text": [
      "INFO:tensorflow:Assets written to: ./runs/models/MNN_BTL_BERT_ABO/cls_1/MobilenetV3small/Adam/lr_1e-05/assets\n"
     ]
    },
    {
     "name": "stdout",
     "output_type": "stream",
     "text": [
      "4420/4420 [==============================] - 289s 65ms/step - loss: 0.0238 - val_loss: 0.0241\n",
      "Epoch 8/10\n",
      "4419/4420 [============================>.] - ETA: 0s - loss: 0.0232"
     ]
    },
    {
     "name": "stderr",
     "output_type": "stream",
     "text": [
      "WARNING:absl:Function `_wrapped_model` contains input name(s) Image_Input_Head_Outer, Text_Input_Head_Outer with unsupported characters which will be renamed to image_input_head_outer, text_input_head_outer in the SavedModel.\n",
      "WARNING:absl:Found untraced functions such as restored_function_body, restored_function_body, restored_function_body, restored_function_body, restored_function_body while saving (showing 5 of 364). These functions will not be directly callable after loading.\n"
     ]
    },
    {
     "name": "stdout",
     "output_type": "stream",
     "text": [
      "INFO:tensorflow:Assets written to: ./runs/models/MNN_BTL_BERT_ABO/cls_1/MobilenetV3small/Adam/lr_1e-05/assets\n"
     ]
    },
    {
     "name": "stderr",
     "output_type": "stream",
     "text": [
      "INFO:tensorflow:Assets written to: ./runs/models/MNN_BTL_BERT_ABO/cls_1/MobilenetV3small/Adam/lr_1e-05/assets\n"
     ]
    },
    {
     "name": "stdout",
     "output_type": "stream",
     "text": [
      "4420/4420 [==============================] - 291s 66ms/step - loss: 0.0232 - val_loss: 0.0238\n",
      "Epoch 9/10\n",
      "4419/4420 [============================>.] - ETA: 0s - loss: 0.0229"
     ]
    },
    {
     "name": "stderr",
     "output_type": "stream",
     "text": [
      "WARNING:absl:Function `_wrapped_model` contains input name(s) Image_Input_Head_Outer, Text_Input_Head_Outer with unsupported characters which will be renamed to image_input_head_outer, text_input_head_outer in the SavedModel.\n",
      "WARNING:absl:Found untraced functions such as restored_function_body, restored_function_body, restored_function_body, restored_function_body, restored_function_body while saving (showing 5 of 364). These functions will not be directly callable after loading.\n"
     ]
    },
    {
     "name": "stdout",
     "output_type": "stream",
     "text": [
      "INFO:tensorflow:Assets written to: ./runs/models/MNN_BTL_BERT_ABO/cls_1/MobilenetV3small/Adam/lr_1e-05/assets\n"
     ]
    },
    {
     "name": "stderr",
     "output_type": "stream",
     "text": [
      "INFO:tensorflow:Assets written to: ./runs/models/MNN_BTL_BERT_ABO/cls_1/MobilenetV3small/Adam/lr_1e-05/assets\n"
     ]
    },
    {
     "name": "stdout",
     "output_type": "stream",
     "text": [
      "4420/4420 [==============================] - 290s 66ms/step - loss: 0.0229 - val_loss: 0.0236\n",
      "Epoch 10/10\n",
      "4419/4420 [============================>.] - ETA: 0s - loss: 0.0228"
     ]
    },
    {
     "name": "stderr",
     "output_type": "stream",
     "text": [
      "WARNING:absl:Function `_wrapped_model` contains input name(s) Image_Input_Head_Outer, Text_Input_Head_Outer with unsupported characters which will be renamed to image_input_head_outer, text_input_head_outer in the SavedModel.\n",
      "WARNING:absl:Found untraced functions such as restored_function_body, restored_function_body, restored_function_body, restored_function_body, restored_function_body while saving (showing 5 of 364). These functions will not be directly callable after loading.\n"
     ]
    },
    {
     "name": "stdout",
     "output_type": "stream",
     "text": [
      "INFO:tensorflow:Assets written to: ./runs/models/MNN_BTL_BERT_ABO/cls_1/MobilenetV3small/Adam/lr_1e-05/assets\n"
     ]
    },
    {
     "name": "stderr",
     "output_type": "stream",
     "text": [
      "INFO:tensorflow:Assets written to: ./runs/models/MNN_BTL_BERT_ABO/cls_1/MobilenetV3small/Adam/lr_1e-05/assets\n"
     ]
    },
    {
     "name": "stdout",
     "output_type": "stream",
     "text": [
      "4420/4420 [==============================] - 290s 66ms/step - loss: 0.0228 - val_loss: 0.0236\n"
     ]
    }
   ],
   "source": [
    "history = mnn_btl.model.fit(\n",
    "    x=[img_train, text_train],\n",
    "    y=product_types_train[\"product_type_transform\"],\n",
    "    epochs=config[\"model\"][\"training\"][\"epochs\"],\n",
    "    validation_split=config[\"model\"][\"training\"][\"validation_split\"],\n",
    "    batch_size=config[\"model\"][\"training\"][\"batch_size\"],\n",
    "    class_weight=class_weights_dict,\n",
    "    callbacks=callbacks)"
   ]
  },
  {
   "cell_type": "markdown",
   "metadata": {},
   "source": [
    "# Evaluation"
   ]
  },
  {
   "cell_type": "markdown",
   "metadata": {},
   "source": [
    "## Plot loss and metrics"
   ]
  },
  {
   "cell_type": "code",
   "execution_count": 93,
   "metadata": {},
   "outputs": [],
   "source": [
    "from utils.metrics import plot_metrics"
   ]
  },
  {
   "cell_type": "code",
   "execution_count": 94,
   "metadata": {},
   "outputs": [
    {
     "data": {
      "image/png": "[encoded data removed]",
      "text/plain": [
       "<Figure size 640x480 with 1 Axes>"
      ]
     },
     "metadata": {},
     "output_type": "display_data"
    }
   ],
   "source": [
    "plot_metrics(history.history, [],\n",
    "             model_name, img_model.name, optimizer_name, learning_rate,\n",
    "             config[\"data\"][\"cls\"])"
   ]
  },
  {
   "cell_type": "markdown",
   "metadata": {},
   "source": [
    "## Evaluate model and save metrics"
   ]
  },
  {
   "cell_type": "code",
   "execution_count": 95,
   "metadata": {},
   "outputs": [],
   "source": [
    "from utils.metrics import evaluate"
   ]
  },
  {
   "cell_type": "code",
   "execution_count": 96,
   "metadata": {},
   "outputs": [
    {
     "name": "stdout",
     "output_type": "stream",
     "text": [
      "(16808, 6) (16808, 576) (16808,)\n"
     ]
    }
   ],
   "source": [
    "test_merged = pd.concat([test.reset_index(drop=True), test_false.reset_index(drop=True)])\n",
    "img_test_merged = np.concatenate([img_test, img_test_false])\n",
    "text_test_merged = np.concatenate([text_test, text_test_false])\n",
    "print(test_merged.shape, img_test_merged.shape, text_test_merged.shape)"
   ]
  },
  {
   "cell_type": "code",
   "execution_count": 97,
   "metadata": {},
   "outputs": [
    {
     "name": "stdout",
     "output_type": "stream",
     "text": [
      "16808/16808 [==============================] - 39s 2ms/step - loss: 0.0699\n"
     ]
    }
   ],
   "source": [
    "evaluate(mnn_btl.model, [img_test_merged, text_test_merged], test_merged[[\"label\"]], log_dir, model_name,\n",
    "         img_model.name, optimizer_name, learning_rate, config[\"data\"][\"cls\"], triplet_model=True)"
   ]
  }
 ],
 "metadata": {
  "kernelspec": {
   "display_name": "tf2.8",
   "language": "python",
   "name": "tf2.8"
  },
  "language_info": {
   "codemirror_mode": {
    "name": "ipython",
    "version": 3
   },
   "file_extension": ".py",
   "mimetype": "text/x-python",
   "name": "python",
   "nbconvert_exporter": "python",
   "pygments_lexer": "ipython3",
   "version": "3.9.16"
  }
 },
 "nbformat": 4,
 "nbformat_minor": 4
}
