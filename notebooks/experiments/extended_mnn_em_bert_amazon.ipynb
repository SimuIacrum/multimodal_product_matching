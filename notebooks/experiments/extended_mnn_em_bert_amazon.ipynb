{
 "cells": [
  {
   "cell_type": "markdown",
   "metadata": {},
   "source": [
    "# Setup"
   ]
  },
  {
   "cell_type": "code",
   "execution_count": 1,
   "metadata": {
    "scrolled": true
   },
   "outputs": [
    {
     "name": "stdout",
     "output_type": "stream",
     "text": [
      "Requirement already satisfied: tensorflow==2.8.* in /pfs/data5/home/es/es_es/es_kamait02/miniconda3/envs/tf2.8/lib/python3.9/site-packages (from -r ../../requirements.txt (line 1)) (2.8.4)\n",
      "Requirement already satisfied: tensorflow-addons==0.18.0 in /pfs/data5/home/es/es_es/es_kamait02/miniconda3/envs/tf2.8/lib/python3.9/site-packages (from -r ../../requirements.txt (line 2)) (0.18.0)\n",
      "Requirement already satisfied: wheel in /pfs/data5/home/es/es_es/es_kamait02/miniconda3/envs/tf2.8/lib/python3.9/site-packages (from -r ../../requirements.txt (line 3)) (0.40.0)\n",
      "Requirement already satisfied: pandas<2.0.0 in /pfs/data5/home/es/es_es/es_kamait02/miniconda3/envs/tf2.8/lib/python3.9/site-packages (from -r ../../requirements.txt (line 4)) (1.5.3)\n",
      "Requirement already satisfied: scikit-learn in /pfs/data5/home/es/es_es/es_kamait02/miniconda3/envs/tf2.8/lib/python3.9/site-packages (from -r ../../requirements.txt (line 5)) (1.2.2)\n",
      "Requirement already satisfied: scipy in /pfs/data5/home/es/es_es/es_kamait02/miniconda3/envs/tf2.8/lib/python3.9/site-packages (from -r ../../requirements.txt (line 6)) (1.10.1)\n",
      "Requirement already satisfied: matplotlib in /pfs/data5/home/es/es_es/es_kamait02/miniconda3/envs/tf2.8/lib/python3.9/site-packages (from -r ../../requirements.txt (line 7)) (3.7.1)\n",
      "Requirement already satisfied: tqdm in /pfs/data5/home/es/es_es/es_kamait02/miniconda3/envs/tf2.8/lib/python3.9/site-packages (from -r ../../requirements.txt (line 8)) (4.65.0)\n",
      "Requirement already satisfied: Pillow in /pfs/data5/home/es/es_es/es_kamait02/miniconda3/envs/tf2.8/lib/python3.9/site-packages (from -r ../../requirements.txt (line 9)) (9.5.0)\n",
      "Requirement already satisfied: kaggle in /pfs/data5/home/es/es_es/es_kamait02/miniconda3/envs/tf2.8/lib/python3.9/site-packages (from -r ../../requirements.txt (line 10)) (1.5.13)\n",
      "Requirement already satisfied: absl-py>=0.4.0 in /pfs/data5/home/es/es_es/es_kamait02/.local/lib/python3.9/site-packages (from tensorflow==2.8.*->-r ../../requirements.txt (line 1)) (1.4.0)\n",
      "Requirement already satisfied: astunparse>=1.6.0 in /pfs/data5/home/es/es_es/es_kamait02/.local/lib/python3.9/site-packages (from tensorflow==2.8.*->-r ../../requirements.txt (line 1)) (1.6.3)\n",
      "Requirement already satisfied: flatbuffers>=1.12 in /pfs/data5/home/es/es_es/es_kamait02/.local/lib/python3.9/site-packages (from tensorflow==2.8.*->-r ../../requirements.txt (line 1)) (23.5.26)\n",
      "Requirement already satisfied: gast>=0.2.1 in /pfs/data5/home/es/es_es/es_kamait02/.local/lib/python3.9/site-packages (from tensorflow==2.8.*->-r ../../requirements.txt (line 1)) (0.5.4)\n",
      "Requirement already satisfied: google-pasta>=0.1.1 in /pfs/data5/home/es/es_es/es_kamait02/.local/lib/python3.9/site-packages (from tensorflow==2.8.*->-r ../../requirements.txt (line 1)) (0.2.0)\n",
      "Requirement already satisfied: h5py>=2.9.0 in /pfs/data5/home/es/es_es/es_kamait02/miniconda3/envs/tf2.8/lib/python3.9/site-packages (from tensorflow==2.8.*->-r ../../requirements.txt (line 1)) (3.8.0)\n",
      "Requirement already satisfied: keras-preprocessing>=1.1.1 in /pfs/data5/home/es/es_es/es_kamait02/.local/lib/python3.9/site-packages (from tensorflow==2.8.*->-r ../../requirements.txt (line 1)) (1.1.2)\n",
      "Requirement already satisfied: libclang>=9.0.1 in /pfs/data5/home/es/es_es/es_kamait02/.local/lib/python3.9/site-packages (from tensorflow==2.8.*->-r ../../requirements.txt (line 1)) (16.0.0)\n",
      "Requirement already satisfied: numpy>=1.20 in /pfs/data5/home/es/es_es/es_kamait02/miniconda3/envs/tf2.8/lib/python3.9/site-packages (from tensorflow==2.8.*->-r ../../requirements.txt (line 1)) (1.24.3)\n",
      "Requirement already satisfied: opt-einsum>=2.3.2 in /pfs/data5/home/es/es_es/es_kamait02/miniconda3/envs/tf2.8/lib/python3.9/site-packages (from tensorflow==2.8.*->-r ../../requirements.txt (line 1)) (3.3.0)\n",
      "Requirement already satisfied: protobuf<3.20,>=3.9.2 in /pfs/data5/home/es/es_es/es_kamait02/.local/lib/python3.9/site-packages (from tensorflow==2.8.*->-r ../../requirements.txt (line 1)) (3.19.6)\n",
      "Requirement already satisfied: setuptools in /pfs/data5/home/es/es_es/es_kamait02/miniconda3/envs/tf2.8/lib/python3.9/site-packages (from tensorflow==2.8.*->-r ../../requirements.txt (line 1)) (67.8.0)\n",
      "Requirement already satisfied: six>=1.12.0 in /pfs/data5/home/es/es_es/es_kamait02/miniconda3/envs/tf2.8/lib/python3.9/site-packages (from tensorflow==2.8.*->-r ../../requirements.txt (line 1)) (1.16.0)\n",
      "Requirement already satisfied: termcolor>=1.1.0 in /pfs/data5/home/es/es_es/es_kamait02/.local/lib/python3.9/site-packages (from tensorflow==2.8.*->-r ../../requirements.txt (line 1)) (2.3.0)\n",
      "Requirement already satisfied: typing-extensions>=3.6.6 in /pfs/data5/home/es/es_es/es_kamait02/miniconda3/envs/tf2.8/lib/python3.9/site-packages (from tensorflow==2.8.*->-r ../../requirements.txt (line 1)) (4.6.3)\n",
      "Requirement already satisfied: wrapt>=1.11.0 in /pfs/data5/home/es/es_es/es_kamait02/.local/lib/python3.9/site-packages (from tensorflow==2.8.*->-r ../../requirements.txt (line 1)) (1.15.0)\n",
      "Requirement already satisfied: tensorboard<2.9,>=2.8 in /pfs/data5/home/es/es_es/es_kamait02/.local/lib/python3.9/site-packages (from tensorflow==2.8.*->-r ../../requirements.txt (line 1)) (2.8.0)\n",
      "Requirement already satisfied: tensorflow-estimator<2.9,>=2.8 in /pfs/data5/home/es/es_es/es_kamait02/.local/lib/python3.9/site-packages (from tensorflow==2.8.*->-r ../../requirements.txt (line 1)) (2.8.0)\n",
      "Requirement already satisfied: keras<2.9,>=2.8.0rc0 in /pfs/data5/home/es/es_es/es_kamait02/.local/lib/python3.9/site-packages (from tensorflow==2.8.*->-r ../../requirements.txt (line 1)) (2.8.0)\n",
      "Requirement already satisfied: tensorflow-io-gcs-filesystem>=0.23.1 in /pfs/data5/home/es/es_es/es_kamait02/.local/lib/python3.9/site-packages (from tensorflow==2.8.*->-r ../../requirements.txt (line 1)) (0.32.0)\n",
      "Requirement already satisfied: grpcio<2.0,>=1.24.3 in /pfs/data5/home/es/es_es/es_kamait02/.local/lib/python3.9/site-packages (from tensorflow==2.8.*->-r ../../requirements.txt (line 1)) (1.54.2)\n",
      "Requirement already satisfied: packaging in /pfs/data5/home/es/es_es/es_kamait02/miniconda3/envs/tf2.8/lib/python3.9/site-packages (from tensorflow-addons==0.18.0->-r ../../requirements.txt (line 2)) (23.1)\n",
      "Requirement already satisfied: typeguard>=2.7 in /pfs/data5/home/es/es_es/es_kamait02/.local/lib/python3.9/site-packages (from tensorflow-addons==0.18.0->-r ../../requirements.txt (line 2)) (4.0.0)\n",
      "Requirement already satisfied: python-dateutil>=2.8.1 in /pfs/data5/home/es/es_es/es_kamait02/miniconda3/envs/tf2.8/lib/python3.9/site-packages (from pandas<2.0.0->-r ../../requirements.txt (line 4)) (2.8.2)\n",
      "Requirement already satisfied: pytz>=2020.1 in /pfs/data5/home/es/es_es/es_kamait02/miniconda3/envs/tf2.8/lib/python3.9/site-packages (from pandas<2.0.0->-r ../../requirements.txt (line 4)) (2023.3)\n",
      "Requirement already satisfied: joblib>=1.1.1 in /pfs/data5/home/es/es_es/es_kamait02/.local/lib/python3.9/site-packages (from scikit-learn->-r ../../requirements.txt (line 5)) (1.2.0)\n",
      "Requirement already satisfied: threadpoolctl>=2.0.0 in /pfs/data5/home/es/es_es/es_kamait02/.local/lib/python3.9/site-packages (from scikit-learn->-r ../../requirements.txt (line 5)) (3.1.0)\n",
      "Requirement already satisfied: contourpy>=1.0.1 in /pfs/data5/home/es/es_es/es_kamait02/miniconda3/envs/tf2.8/lib/python3.9/site-packages (from matplotlib->-r ../../requirements.txt (line 7)) (1.0.7)\n",
      "Requirement already satisfied: cycler>=0.10 in /pfs/data5/home/es/es_es/es_kamait02/.local/lib/python3.9/site-packages (from matplotlib->-r ../../requirements.txt (line 7)) (0.11.0)\n",
      "Requirement already satisfied: fonttools>=4.22.0 in /pfs/data5/home/es/es_es/es_kamait02/.local/lib/python3.9/site-packages (from matplotlib->-r ../../requirements.txt (line 7)) (4.40.0)\n",
      "Requirement already satisfied: kiwisolver>=1.0.1 in /pfs/data5/home/es/es_es/es_kamait02/.local/lib/python3.9/site-packages (from matplotlib->-r ../../requirements.txt (line 7)) (1.4.4)\n",
      "Requirement already satisfied: pyparsing>=2.3.1 in /pfs/data5/home/es/es_es/es_kamait02/.local/lib/python3.9/site-packages (from matplotlib->-r ../../requirements.txt (line 7)) (3.0.9)\n",
      "Requirement already satisfied: importlib-resources>=3.2.0 in /pfs/data5/home/es/es_es/es_kamait02/.local/lib/python3.9/site-packages (from matplotlib->-r ../../requirements.txt (line 7)) (5.12.0)\n",
      "Requirement already satisfied: certifi in /pfs/data5/home/es/es_es/es_kamait02/.local/lib/python3.9/site-packages (from kaggle->-r ../../requirements.txt (line 10)) (2023.5.7)\n",
      "Requirement already satisfied: requests in /pfs/data5/home/es/es_es/es_kamait02/.local/lib/python3.9/site-packages (from kaggle->-r ../../requirements.txt (line 10)) (2.31.0)\n",
      "Requirement already satisfied: python-slugify in /pfs/data5/home/es/es_es/es_kamait02/.local/lib/python3.9/site-packages (from kaggle->-r ../../requirements.txt (line 10)) (8.0.1)\n",
      "Requirement already satisfied: urllib3 in /pfs/data5/home/es/es_es/es_kamait02/.local/lib/python3.9/site-packages (from kaggle->-r ../../requirements.txt (line 10)) (1.26.16)\n",
      "Requirement already satisfied: zipp>=3.1.0 in /pfs/data5/home/es/es_es/es_kamait02/miniconda3/envs/tf2.8/lib/python3.9/site-packages (from importlib-resources>=3.2.0->matplotlib->-r ../../requirements.txt (line 7)) (3.15.0)\n",
      "Requirement already satisfied: google-auth<3,>=1.6.3 in /pfs/data5/home/es/es_es/es_kamait02/miniconda3/envs/tf2.8/lib/python3.9/site-packages (from tensorboard<2.9,>=2.8->tensorflow==2.8.*->-r ../../requirements.txt (line 1)) (2.19.1)\n",
      "Requirement already satisfied: google-auth-oauthlib<0.5,>=0.4.1 in /pfs/data5/home/es/es_es/es_kamait02/miniconda3/envs/tf2.8/lib/python3.9/site-packages (from tensorboard<2.9,>=2.8->tensorflow==2.8.*->-r ../../requirements.txt (line 1)) (0.4.6)\n",
      "Requirement already satisfied: markdown>=2.6.8 in /pfs/data5/home/es/es_es/es_kamait02/miniconda3/envs/tf2.8/lib/python3.9/site-packages (from tensorboard<2.9,>=2.8->tensorflow==2.8.*->-r ../../requirements.txt (line 1)) (3.4.3)\n",
      "Requirement already satisfied: tensorboard-data-server<0.7.0,>=0.6.0 in /pfs/data5/home/es/es_es/es_kamait02/.local/lib/python3.9/site-packages (from tensorboard<2.9,>=2.8->tensorflow==2.8.*->-r ../../requirements.txt (line 1)) (0.6.1)\n",
      "Requirement already satisfied: tensorboard-plugin-wit>=1.6.0 in /pfs/data5/home/es/es_es/es_kamait02/.local/lib/python3.9/site-packages (from tensorboard<2.9,>=2.8->tensorflow==2.8.*->-r ../../requirements.txt (line 1)) (1.8.1)\n",
      "Requirement already satisfied: werkzeug>=0.11.15 in /pfs/data5/home/es/es_es/es_kamait02/.local/lib/python3.9/site-packages (from tensorboard<2.9,>=2.8->tensorflow==2.8.*->-r ../../requirements.txt (line 1)) (2.3.6)\n",
      "Requirement already satisfied: charset-normalizer<4,>=2 in /pfs/data5/home/es/es_es/es_kamait02/.local/lib/python3.9/site-packages (from requests->kaggle->-r ../../requirements.txt (line 10)) (3.1.0)\n",
      "Requirement already satisfied: idna<4,>=2.5 in /pfs/data5/home/es/es_es/es_kamait02/.local/lib/python3.9/site-packages (from requests->kaggle->-r ../../requirements.txt (line 10)) (3.4)\n",
      "Requirement already satisfied: importlib-metadata>=3.6 in /pfs/data5/home/es/es_es/es_kamait02/miniconda3/envs/tf2.8/lib/python3.9/site-packages (from typeguard>=2.7->tensorflow-addons==0.18.0->-r ../../requirements.txt (line 2)) (6.6.0)\n",
      "Requirement already satisfied: text-unidecode>=1.3 in /pfs/data5/home/es/es_es/es_kamait02/miniconda3/envs/tf2.8/lib/python3.9/site-packages (from python-slugify->kaggle->-r ../../requirements.txt (line 10)) (1.3)\n",
      "Requirement already satisfied: cachetools<6.0,>=2.0.0 in /pfs/data5/home/es/es_es/es_kamait02/.local/lib/python3.9/site-packages (from google-auth<3,>=1.6.3->tensorboard<2.9,>=2.8->tensorflow==2.8.*->-r ../../requirements.txt (line 1)) (5.3.1)\n",
      "Requirement already satisfied: pyasn1-modules>=0.2.1 in /pfs/data5/home/es/es_es/es_kamait02/.local/lib/python3.9/site-packages (from google-auth<3,>=1.6.3->tensorboard<2.9,>=2.8->tensorflow==2.8.*->-r ../../requirements.txt (line 1)) (0.3.0)\n",
      "Requirement already satisfied: rsa<5,>=3.1.4 in /pfs/data5/home/es/es_es/es_kamait02/.local/lib/python3.9/site-packages (from google-auth<3,>=1.6.3->tensorboard<2.9,>=2.8->tensorflow==2.8.*->-r ../../requirements.txt (line 1)) (4.9)\n",
      "Requirement already satisfied: requests-oauthlib>=0.7.0 in /pfs/data5/home/es/es_es/es_kamait02/miniconda3/envs/tf2.8/lib/python3.9/site-packages (from google-auth-oauthlib<0.5,>=0.4.1->tensorboard<2.9,>=2.8->tensorflow==2.8.*->-r ../../requirements.txt (line 1)) (1.3.1)\n",
      "Requirement already satisfied: MarkupSafe>=2.1.1 in /pfs/data5/home/es/es_es/es_kamait02/.local/lib/python3.9/site-packages (from werkzeug>=0.11.15->tensorboard<2.9,>=2.8->tensorflow==2.8.*->-r ../../requirements.txt (line 1)) (2.1.3)\n",
      "Requirement already satisfied: pyasn1<0.6.0,>=0.4.6 in /pfs/data5/home/es/es_es/es_kamait02/.local/lib/python3.9/site-packages (from pyasn1-modules>=0.2.1->google-auth<3,>=1.6.3->tensorboard<2.9,>=2.8->tensorflow==2.8.*->-r ../../requirements.txt (line 1)) (0.5.0)\n",
      "Requirement already satisfied: oauthlib>=3.0.0 in /pfs/data5/home/es/es_es/es_kamait02/.local/lib/python3.9/site-packages (from requests-oauthlib>=0.7.0->google-auth-oauthlib<0.5,>=0.4.1->tensorboard<2.9,>=2.8->tensorflow==2.8.*->-r ../../requirements.txt (line 1)) (3.2.2)\n",
      "Note: you may need to restart the kernel to use updated packages.\n"
     ]
    }
   ],
   "source": [
    "pip install -r ../../requirements.txt"
   ]
  },
  {
   "cell_type": "code",
   "execution_count": 2,
   "metadata": {},
   "outputs": [],
   "source": [
    "import os\n",
    "\n",
    "os.environ[\"CUDA_DEVICE_ORDER\"] = \"PCI_BUS_ID\"\n",
    "os.environ[\"CUDA_VISIBLE_DEVICES\"] = \"0\"\n",
    "os.environ[\"TF_FORCE_GPU_ALLOW_GROWTH\"] = \"true\""
   ]
  },
  {
   "cell_type": "code",
   "execution_count": 3,
   "metadata": {},
   "outputs": [],
   "source": [
    "# Add directory above current directory to path\n",
    "import sys\n",
    "\n",
    "sys.path.insert(0, '../..')"
   ]
  },
  {
   "cell_type": "code",
   "execution_count": 5,
   "metadata": {},
   "outputs": [],
   "source": [
    "import tensorflow as tf\n",
    "import tensorflow_hub as hub\n",
    "import tensorflow_text as text\n",
    "import pandas as pd\n",
    "import numpy as np\n",
    "import json\n",
    "from utils.text_processing import CharTokenizer"
   ]
  },
  {
   "cell_type": "code",
   "execution_count": 6,
   "metadata": {},
   "outputs": [
    {
     "name": "stderr",
     "output_type": "stream",
     "text": [
      "2023-06-14 14:55:49.121318: I tensorflow/core/platform/cpu_feature_guard.cc:151] This TensorFlow binary is optimized with oneAPI Deep Neural Network Library (oneDNN) to use the following CPU instructions in performance-critical operations:  AVX2 AVX512F FMA\n",
      "To enable them in other operations, rebuild TensorFlow with the appropriate compiler flags.\n",
      "2023-06-14 14:55:51.216545: W tensorflow/core/common_runtime/gpu/gpu_bfc_allocator.cc:39] Overriding allow_growth setting because the TF_FORCE_GPU_ALLOW_GROWTH environment variable is set. Original config value was 0.\n",
      "2023-06-14 14:55:51.216609: I tensorflow/core/common_runtime/gpu/gpu_device.cc:1525] Created device /job:localhost/replica:0/task:0/device:GPU:0 with 30968 MB memory:  -> device: 0, name: Tesla V100-SXM2-32GB, pci bus id: 0000:3b:00.0, compute capability: 7.0\n"
     ]
    }
   ],
   "source": [
    "if tf.config.list_physical_devices('GPU'):\n",
    "    tf.config.experimental.get_memory_info(\"GPU:0\")"
   ]
  },
  {
   "cell_type": "code",
   "execution_count": 7,
   "metadata": {},
   "outputs": [],
   "source": [
    "config = json.load(open(\"./configs/ext_mnn_em_bert_amazon_lr_1e-05.json\"))"
   ]
  },
  {
   "cell_type": "markdown",
   "metadata": {},
   "source": [
    "# Loading data"
   ]
  },
  {
   "cell_type": "code",
   "execution_count": 8,
   "metadata": {},
   "outputs": [],
   "source": [
    "from data_loader.abo import ABO"
   ]
  },
  {
   "cell_type": "code",
   "execution_count": 9,
   "metadata": {},
   "outputs": [
    {
     "name": "stdout",
     "output_type": "stream",
     "text": [
      "Loading images...\n",
      "Loading texts...\n",
      "Importing listings CSV...\n",
      "Creating false samples/complement...\n",
      "Merging ground truth and complement...\n",
      "Concatenating attributes into description columns...\n",
      "Finishing up...\n",
      "Exporting to CSV...\n",
      "Data processing complete\n"
     ]
    },
    {
     "data": {
      "text/html": [
       "<div>\n",
       "<style scoped>\n",
       "    .dataframe tbody tr th:only-of-type {\n",
       "        vertical-align: middle;\n",
       "    }\n",
       "\n",
       "    .dataframe tbody tr th {\n",
       "        vertical-align: top;\n",
       "    }\n",
       "\n",
       "    .dataframe thead th {\n",
       "        text-align: right;\n",
       "    }\n",
       "</style>\n",
       "<table border=\"1\" class=\"dataframe\">\n",
       "  <thead>\n",
       "    <tr style=\"text-align: right;\">\n",
       "      <th></th>\n",
       "      <th>description</th>\n",
       "      <th>description2</th>\n",
       "      <th>path</th>\n",
       "      <th>product_type</th>\n",
       "      <th>label</th>\n",
       "    </tr>\n",
       "  </thead>\n",
       "  <tbody>\n",
       "    <tr>\n",
       "      <th>0</th>\n",
       "      <td>shoesb0791vjhksamazon brand - symbol men's sne...</td>\n",
       "      <td>shoesb0791vjhksamazon brand - symbol men's sne...</td>\n",
       "      <td>4d/4d552519.jpg</td>\n",
       "      <td>SHOES</td>\n",
       "      <td>1</td>\n",
       "    </tr>\n",
       "    <tr>\n",
       "      <th>1</th>\n",
       "      <td>mobile coverb07tg4cyjvamazon brand - solimo de...</td>\n",
       "      <td>mobile coverb07tg4cyjvamazon brand - solimo de...</td>\n",
       "      <td>4d/4de76f7f.jpg</td>\n",
       "      <td>CELLULAR_PHONE_CASE</td>\n",
       "      <td>1</td>\n",
       "    </tr>\n",
       "    <tr>\n",
       "      <th>2</th>\n",
       "      <td>mobile coverb0856b8fw1sunshine swatch, ravenna...</td>\n",
       "      <td>combo cooker dutch oven for bread making ovens...</td>\n",
       "      <td>72/72c5b6c9.jpg</td>\n",
       "      <td>GROCERY</td>\n",
       "      <td>0</td>\n",
       "    </tr>\n",
       "    <tr>\n",
       "      <th>3</th>\n",
       "      <td>whole foods, whole food, whole foods,365 every...</td>\n",
       "      <td>cellphonecoverb07tf7gr3ywhole foods market cre...</td>\n",
       "      <td>85/854b1468.jpg</td>\n",
       "      <td>CELLULAR_PHONE_CASE</td>\n",
       "      <td>0</td>\n",
       "    </tr>\n",
       "    <tr>\n",
       "      <th>4</th>\n",
       "      <td>back coverb00no73q84amazon brand - solimo desi...</td>\n",
       "      <td>mobile coverb071gvmr85amazon brand - solimo de...</td>\n",
       "      <td>6a/6a127d3e.jpg</td>\n",
       "      <td>BOOT</td>\n",
       "      <td>0</td>\n",
       "    </tr>\n",
       "    <tr>\n",
       "      <th>...</th>\n",
       "      <td>...</td>\n",
       "      <td>...</td>\n",
       "      <td>...</td>\n",
       "      <td>...</td>\n",
       "      <td>...</td>\n",
       "    </tr>\n",
       "    <tr>\n",
       "      <th>168221</th>\n",
       "      <td>mobile coverb07y33f9kxamazon brand - solimo de...</td>\n",
       "      <td>handbags for women latest brandedb072kwqy8yama...</td>\n",
       "      <td>e6/e6ed7731.jpg</td>\n",
       "      <td>CELLULAR_PHONE_CASE</td>\n",
       "      <td>0</td>\n",
       "    </tr>\n",
       "    <tr>\n",
       "      <th>168222</th>\n",
       "      <td>amazonbasics;amzn-lt800p-a;replacement-refrige...</td>\n",
       "      <td>amazonbasics;amzn-lt800p-a;replacement-refrige...</td>\n",
       "      <td>73/73903c65.jpg</td>\n",
       "      <td>MAJOR_HOME_APPLIANCES</td>\n",
       "      <td>1</td>\n",
       "    </tr>\n",
       "    <tr>\n",
       "      <th>168223</th>\n",
       "      <td>placeholderb074h67h9qamazon brand - solimo des...</td>\n",
       "      <td>deb0854kjcylamazon brand - solimo designer cou...</td>\n",
       "      <td>10/10b2c3af.jpg</td>\n",
       "      <td>CELLULAR_PHONE_CASE</td>\n",
       "      <td>0</td>\n",
       "    </tr>\n",
       "    <tr>\n",
       "      <th>168224</th>\n",
       "      <td>mobile coverb0854ljhw2half tofu banh mi</td>\n",
       "      <td>mobile coverb081hmxdkvfind. women's velvet str...</td>\n",
       "      <td>de/de19c121.jpg</td>\n",
       "      <td>GROCERY</td>\n",
       "      <td>0</td>\n",
       "    </tr>\n",
       "    <tr>\n",
       "      <th>168225</th>\n",
       "      <td>mobile coverb08gkxpbbzamazon brand - vedaka pr...</td>\n",
       "      <td>mobile coverb08569y2r3amazon brand - solimo de...</td>\n",
       "      <td>6d/6d147b0c.jpg</td>\n",
       "      <td>WALLET</td>\n",
       "      <td>0</td>\n",
       "    </tr>\n",
       "  </tbody>\n",
       "</table>\n",
       "<p>168226 rows × 5 columns</p>\n",
       "</div>"
      ],
      "text/plain": [
       "                                              description  \\\n",
       "0       shoesb0791vjhksamazon brand - symbol men's sne...   \n",
       "1       mobile coverb07tg4cyjvamazon brand - solimo de...   \n",
       "2       mobile coverb0856b8fw1sunshine swatch, ravenna...   \n",
       "3       whole foods, whole food, whole foods,365 every...   \n",
       "4       back coverb00no73q84amazon brand - solimo desi...   \n",
       "...                                                   ...   \n",
       "168221  mobile coverb07y33f9kxamazon brand - solimo de...   \n",
       "168222  amazonbasics;amzn-lt800p-a;replacement-refrige...   \n",
       "168223  placeholderb074h67h9qamazon brand - solimo des...   \n",
       "168224            mobile coverb0854ljhw2half tofu banh mi   \n",
       "168225  mobile coverb08gkxpbbzamazon brand - vedaka pr...   \n",
       "\n",
       "                                             description2             path  \\\n",
       "0       shoesb0791vjhksamazon brand - symbol men's sne...  4d/4d552519.jpg   \n",
       "1       mobile coverb07tg4cyjvamazon brand - solimo de...  4d/4de76f7f.jpg   \n",
       "2       combo cooker dutch oven for bread making ovens...  72/72c5b6c9.jpg   \n",
       "3       cellphonecoverb07tf7gr3ywhole foods market cre...  85/854b1468.jpg   \n",
       "4       mobile coverb071gvmr85amazon brand - solimo de...  6a/6a127d3e.jpg   \n",
       "...                                                   ...              ...   \n",
       "168221  handbags for women latest brandedb072kwqy8yama...  e6/e6ed7731.jpg   \n",
       "168222  amazonbasics;amzn-lt800p-a;replacement-refrige...  73/73903c65.jpg   \n",
       "168223  deb0854kjcylamazon brand - solimo designer cou...  10/10b2c3af.jpg   \n",
       "168224  mobile coverb081hmxdkvfind. women's velvet str...  de/de19c121.jpg   \n",
       "168225  mobile coverb08569y2r3amazon brand - solimo de...  6d/6d147b0c.jpg   \n",
       "\n",
       "                 product_type  label  \n",
       "0                       SHOES      1  \n",
       "1         CELLULAR_PHONE_CASE      1  \n",
       "2                     GROCERY      0  \n",
       "3         CELLULAR_PHONE_CASE      0  \n",
       "4                        BOOT      0  \n",
       "...                       ...    ...  \n",
       "168221    CELLULAR_PHONE_CASE      0  \n",
       "168222  MAJOR_HOME_APPLIANCES      1  \n",
       "168223    CELLULAR_PHONE_CASE      0  \n",
       "168224                GROCERY      0  \n",
       "168225                 WALLET      0  \n",
       "\n",
       "[168226 rows x 5 columns]"
      ]
     },
     "execution_count": 9,
     "metadata": {},
     "output_type": "execute_result"
    }
   ],
   "source": [
    "data = ABO(path=config[\"data\"][\"path\"],\n",
    "           download=False,\n",
    "           extract=False,\n",
    "           preprocess=True,\n",
    "           alt_augment=False,\n",
    "           random_deletion=False,\n",
    "           export_csv=True).data\n",
    "\n",
    "# data = pd.read_csv(os.path.join(config[\"data\"][\"path\"], \"data.csv\"))\n",
    "# data = data.drop({\"Unnamed: 0\"}, axis=1)\n",
    "\n",
    "data = data[['description', 'description2', 'path', 'product_type', 'label']]\n",
    "# data = data.sample(10000)\n",
    "data"
   ]
  },
  {
   "cell_type": "code",
   "execution_count": 10,
   "metadata": {},
   "outputs": [],
   "source": [
    "img = data[[\"path\"]]  # two brackets for keeping the column name\n",
    "text = data[\"description\"]\n",
    "text2 = data[\"description2\"]\n",
    "product_types = data[[\"product_type\"]]\n",
    "labels = data[[\"label\"]]"
   ]
  },
  {
   "attachments": {},
   "cell_type": "markdown",
   "metadata": {},
   "source": [
    "# Text processing (only explorative purposes)"
   ]
  },
  {
   "cell_type": "markdown",
   "metadata": {},
   "source": [
    "The following part is largely based off of https://www.tensorflow.org/text/guide/bert_preprocessing_guide"
   ]
  },
  {
   "attachments": {},
   "cell_type": "markdown",
   "metadata": {},
   "source": [
    "## generate text embeddings directly with BERT"
   ]
  },
  {
   "cell_type": "code",
   "execution_count": 11,
   "metadata": {},
   "outputs": [
    {
     "name": "stdout",
     "output_type": "stream",
     "text": [
      "BERT model selected           : https://tfhub.dev/tensorflow/bert_en_uncased_L-12_H-768_A-12/3\n",
      "Preprocess model auto-selected: https://tfhub.dev/tensorflow/bert_en_uncased_preprocess/3\n"
     ]
    }
   ],
   "source": [
    "bert_model_name = 'bert_en_uncased_L-12_H-768_A-12' \n",
    "\n",
    "map_name_to_handle = {\n",
    "    'bert_en_uncased_L-12_H-768_A-12':\n",
    "        'https://tfhub.dev/tensorflow/bert_en_uncased_L-12_H-768_A-12/3',\n",
    "    'bert_en_cased_L-12_H-768_A-12':\n",
    "        'https://tfhub.dev/tensorflow/bert_en_cased_L-12_H-768_A-12/3',\n",
    "    'bert_multi_cased_L-12_H-768_A-12':\n",
    "        'https://tfhub.dev/tensorflow/bert_multi_cased_L-12_H-768_A-12/3',\n",
    "    'small_bert/bert_en_uncased_L-2_H-128_A-2':\n",
    "        'https://tfhub.dev/tensorflow/small_bert/bert_en_uncased_L-2_H-128_A-2/1',\n",
    "    'small_bert/bert_en_uncased_L-2_H-256_A-4':\n",
    "        'https://tfhub.dev/tensorflow/small_bert/bert_en_uncased_L-2_H-256_A-4/1',\n",
    "    'small_bert/bert_en_uncased_L-2_H-512_A-8':\n",
    "        'https://tfhub.dev/tensorflow/small_bert/bert_en_uncased_L-2_H-512_A-8/1',\n",
    "    'small_bert/bert_en_uncased_L-2_H-768_A-12':\n",
    "        'https://tfhub.dev/tensorflow/small_bert/bert_en_uncased_L-2_H-768_A-12/1',\n",
    "    'small_bert/bert_en_uncased_L-4_H-128_A-2':\n",
    "        'https://tfhub.dev/tensorflow/small_bert/bert_en_uncased_L-4_H-128_A-2/1',\n",
    "    'small_bert/bert_en_uncased_L-4_H-256_A-4':\n",
    "        'https://tfhub.dev/tensorflow/small_bert/bert_en_uncased_L-4_H-256_A-4/1',\n",
    "    'small_bert/bert_en_uncased_L-4_H-512_A-8':\n",
    "        'https://tfhub.dev/tensorflow/small_bert/bert_en_uncased_L-4_H-512_A-8/1',\n",
    "    'small_bert/bert_en_uncased_L-4_H-768_A-12':\n",
    "        'https://tfhub.dev/tensorflow/small_bert/bert_en_uncased_L-4_H-768_A-12/1',\n",
    "    'small_bert/bert_en_uncased_L-6_H-128_A-2':\n",
    "        'https://tfhub.dev/tensorflow/small_bert/bert_en_uncased_L-6_H-128_A-2/1',\n",
    "    'small_bert/bert_en_uncased_L-6_H-256_A-4':\n",
    "        'https://tfhub.dev/tensorflow/small_bert/bert_en_uncased_L-6_H-256_A-4/1',\n",
    "    'small_bert/bert_en_uncased_L-6_H-512_A-8':\n",
    "        'https://tfhub.dev/tensorflow/small_bert/bert_en_uncased_L-6_H-512_A-8/1',\n",
    "    'small_bert/bert_en_uncased_L-6_H-768_A-12':\n",
    "        'https://tfhub.dev/tensorflow/small_bert/bert_en_uncased_L-6_H-768_A-12/1',\n",
    "    'small_bert/bert_en_uncased_L-8_H-128_A-2':\n",
    "        'https://tfhub.dev/tensorflow/small_bert/bert_en_uncased_L-8_H-128_A-2/1',\n",
    "    'small_bert/bert_en_uncased_L-8_H-256_A-4':\n",
    "        'https://tfhub.dev/tensorflow/small_bert/bert_en_uncased_L-8_H-256_A-4/1',\n",
    "    'small_bert/bert_en_uncased_L-8_H-512_A-8':\n",
    "        'https://tfhub.dev/tensorflow/small_bert/bert_en_uncased_L-8_H-512_A-8/1',\n",
    "    'small_bert/bert_en_uncased_L-8_H-768_A-12':\n",
    "        'https://tfhub.dev/tensorflow/small_bert/bert_en_uncased_L-8_H-768_A-12/1',\n",
    "    'small_bert/bert_en_uncased_L-10_H-128_A-2':\n",
    "        'https://tfhub.dev/tensorflow/small_bert/bert_en_uncased_L-10_H-128_A-2/1',\n",
    "    'small_bert/bert_en_uncased_L-10_H-256_A-4':\n",
    "        'https://tfhub.dev/tensorflow/small_bert/bert_en_uncased_L-10_H-256_A-4/1',\n",
    "    'small_bert/bert_en_uncased_L-10_H-512_A-8':\n",
    "        'https://tfhub.dev/tensorflow/small_bert/bert_en_uncased_L-10_H-512_A-8/1',\n",
    "    'small_bert/bert_en_uncased_L-10_H-768_A-12':\n",
    "        'https://tfhub.dev/tensorflow/small_bert/bert_en_uncased_L-10_H-768_A-12/1',\n",
    "    'small_bert/bert_en_uncased_L-12_H-128_A-2':\n",
    "        'https://tfhub.dev/tensorflow/small_bert/bert_en_uncased_L-12_H-128_A-2/1',\n",
    "    'small_bert/bert_en_uncased_L-12_H-256_A-4':\n",
    "        'https://tfhub.dev/tensorflow/small_bert/bert_en_uncased_L-12_H-256_A-4/1',\n",
    "    'small_bert/bert_en_uncased_L-12_H-512_A-8':\n",
    "        'https://tfhub.dev/tensorflow/small_bert/bert_en_uncased_L-12_H-512_A-8/1',\n",
    "    'small_bert/bert_en_uncased_L-12_H-768_A-12':\n",
    "        'https://tfhub.dev/tensorflow/small_bert/bert_en_uncased_L-12_H-768_A-12/1',\n",
    "    'albert_en_base':\n",
    "        'https://tfhub.dev/tensorflow/albert_en_base/2',\n",
    "    'electra_small':\n",
    "        'https://tfhub.dev/google/electra_small/2',\n",
    "    'electra_base':\n",
    "        'https://tfhub.dev/google/electra_base/2',\n",
    "    'experts_pubmed':\n",
    "        'https://tfhub.dev/google/experts/bert/pubmed/2',\n",
    "    'experts_wiki_books':\n",
    "        'https://tfhub.dev/google/experts/bert/wiki_books/2',\n",
    "    'talking-heads_base':\n",
    "        'https://tfhub.dev/tensorflow/talkheads_ggelu_bert_en_base/1',\n",
    "}\n",
    "\n",
    "map_model_to_preprocess = {\n",
    "    'bert_en_uncased_L-12_H-768_A-12':\n",
    "        'https://tfhub.dev/tensorflow/bert_en_uncased_preprocess/3',\n",
    "    'bert_en_cased_L-12_H-768_A-12':\n",
    "        'https://tfhub.dev/tensorflow/bert_en_cased_preprocess/3',\n",
    "    'small_bert/bert_en_uncased_L-2_H-128_A-2':\n",
    "        'https://tfhub.dev/tensorflow/bert_en_uncased_preprocess/3',\n",
    "    'small_bert/bert_en_uncased_L-2_H-256_A-4':\n",
    "        'https://tfhub.dev/tensorflow/bert_en_uncased_preprocess/3',\n",
    "    'small_bert/bert_en_uncased_L-2_H-512_A-8':\n",
    "        'https://tfhub.dev/tensorflow/bert_en_uncased_preprocess/3',\n",
    "    'small_bert/bert_en_uncased_L-2_H-768_A-12':\n",
    "        'https://tfhub.dev/tensorflow/bert_en_uncased_preprocess/3',\n",
    "    'small_bert/bert_en_uncased_L-4_H-128_A-2':\n",
    "        'https://tfhub.dev/tensorflow/bert_en_uncased_preprocess/3',\n",
    "    'small_bert/bert_en_uncased_L-4_H-256_A-4':\n",
    "        'https://tfhub.dev/tensorflow/bert_en_uncased_preprocess/3',\n",
    "    'small_bert/bert_en_uncased_L-4_H-512_A-8':\n",
    "        'https://tfhub.dev/tensorflow/bert_en_uncased_preprocess/3',\n",
    "    'small_bert/bert_en_uncased_L-4_H-768_A-12':\n",
    "        'https://tfhub.dev/tensorflow/bert_en_uncased_preprocess/3',\n",
    "    'small_bert/bert_en_uncased_L-6_H-128_A-2':\n",
    "        'https://tfhub.dev/tensorflow/bert_en_uncased_preprocess/3',\n",
    "    'small_bert/bert_en_uncased_L-6_H-256_A-4':\n",
    "        'https://tfhub.dev/tensorflow/bert_en_uncased_preprocess/3',\n",
    "    'small_bert/bert_en_uncased_L-6_H-512_A-8':\n",
    "        'https://tfhub.dev/tensorflow/bert_en_uncased_preprocess/3',\n",
    "    'small_bert/bert_en_uncased_L-6_H-768_A-12':\n",
    "        'https://tfhub.dev/tensorflow/bert_en_uncased_preprocess/3',\n",
    "    'small_bert/bert_en_uncased_L-8_H-128_A-2':\n",
    "        'https://tfhub.dev/tensorflow/bert_en_uncased_preprocess/3',\n",
    "    'small_bert/bert_en_uncased_L-8_H-256_A-4':\n",
    "        'https://tfhub.dev/tensorflow/bert_en_uncased_preprocess/3',\n",
    "    'small_bert/bert_en_uncased_L-8_H-512_A-8':\n",
    "        'https://tfhub.dev/tensorflow/bert_en_uncased_preprocess/3',\n",
    "    'small_bert/bert_en_uncased_L-8_H-768_A-12':\n",
    "        'https://tfhub.dev/tensorflow/bert_en_uncased_preprocess/3',\n",
    "    'small_bert/bert_en_uncased_L-10_H-128_A-2':\n",
    "        'https://tfhub.dev/tensorflow/bert_en_uncased_preprocess/3',\n",
    "    'small_bert/bert_en_uncased_L-10_H-256_A-4':\n",
    "        'https://tfhub.dev/tensorflow/bert_en_uncased_preprocess/3',\n",
    "    'small_bert/bert_en_uncased_L-10_H-512_A-8':\n",
    "        'https://tfhub.dev/tensorflow/bert_en_uncased_preprocess/3',\n",
    "    'small_bert/bert_en_uncased_L-10_H-768_A-12':\n",
    "        'https://tfhub.dev/tensorflow/bert_en_uncased_preprocess/3',\n",
    "    'small_bert/bert_en_uncased_L-12_H-128_A-2':\n",
    "        'https://tfhub.dev/tensorflow/bert_en_uncased_preprocess/3',\n",
    "    'small_bert/bert_en_uncased_L-12_H-256_A-4':\n",
    "        'https://tfhub.dev/tensorflow/bert_en_uncased_preprocess/3',\n",
    "    'small_bert/bert_en_uncased_L-12_H-512_A-8':\n",
    "        'https://tfhub.dev/tensorflow/bert_en_uncased_preprocess/3',\n",
    "    'small_bert/bert_en_uncased_L-12_H-768_A-12':\n",
    "        'https://tfhub.dev/tensorflow/bert_en_uncased_preprocess/3',\n",
    "    'bert_multi_cased_L-12_H-768_A-12':\n",
    "        'https://tfhub.dev/tensorflow/bert_multi_cased_preprocess/3',\n",
    "    'albert_en_base':\n",
    "        'https://tfhub.dev/tensorflow/albert_en_preprocess/3',\n",
    "    'electra_small':\n",
    "        'https://tfhub.dev/tensorflow/bert_en_uncased_preprocess/3',\n",
    "    'electra_base':\n",
    "        'https://tfhub.dev/tensorflow/bert_en_uncased_preprocess/3',\n",
    "    'experts_pubmed':\n",
    "        'https://tfhub.dev/tensorflow/bert_en_uncased_preprocess/3',\n",
    "    'experts_wiki_books':\n",
    "        'https://tfhub.dev/tensorflow/bert_en_uncased_preprocess/3',\n",
    "    'talking-heads_base':\n",
    "        'https://tfhub.dev/tensorflow/bert_en_uncased_preprocess/3',\n",
    "}\n",
    "\n",
    "tfhub_handle_encoder = map_name_to_handle[bert_model_name]\n",
    "tfhub_handle_preprocess = map_model_to_preprocess[bert_model_name]\n",
    "\n",
    "print(f'BERT model selected           : {tfhub_handle_encoder}')\n",
    "print(f'Preprocess model auto-selected: {tfhub_handle_preprocess}')"
   ]
  },
  {
   "cell_type": "code",
   "execution_count": 12,
   "metadata": {},
   "outputs": [],
   "source": [
    "bert_preprocess_model = hub.KerasLayer(tfhub_handle_preprocess)"
   ]
  },
  {
   "cell_type": "code",
   "execution_count": 13,
   "metadata": {},
   "outputs": [],
   "source": [
    "bert_model = hub.KerasLayer(tfhub_handle_encoder)"
   ]
  },
  {
   "cell_type": "code",
   "execution_count": 14,
   "metadata": {},
   "outputs": [],
   "source": [
    "# text"
   ]
  },
  {
   "cell_type": "code",
   "execution_count": 15,
   "metadata": {},
   "outputs": [],
   "source": [
    "# text = bert_model(text)\n",
    "\n",
    "# print(f'Loaded BERT: {tfhub_handle_encoder}')\n",
    "# print(f'Pooled Outputs Shape:{text[\"pooled_output\"].shape}')\n",
    "# print(f'Pooled Outputs Values:{text[\"pooled_output\"][0, :12]}')\n",
    "# print(f'Sequence Outputs Shape:{text[\"sequence_output\"].shape}')\n",
    "# print(f'Sequence Outputs Values:{text[\"sequence_output\"][0, :12]}')"
   ]
  },
  {
   "cell_type": "code",
   "execution_count": 16,
   "metadata": {},
   "outputs": [],
   "source": [
    "# text = text[\"pooled_output\"]\n",
    "# text.shape"
   ]
  },
  {
   "cell_type": "markdown",
   "metadata": {},
   "source": [
    "# Image processing"
   ]
  },
  {
   "cell_type": "code",
   "execution_count": 17,
   "metadata": {},
   "outputs": [],
   "source": [
    "from utils.img_processing import load_img_model, create_embeddings_from"
   ]
  },
  {
   "cell_type": "code",
   "execution_count": 18,
   "metadata": {},
   "outputs": [
    {
     "name": "stdout",
     "output_type": "stream",
     "text": [
      "WARNING:tensorflow:`input_shape` is undefined or non-square, or `rows` is not 224. Weights for input shape (224, 224) will be loaded as the default.\n"
     ]
    },
    {
     "name": "stderr",
     "output_type": "stream",
     "text": [
      "WARNING:tensorflow:`input_shape` is undefined or non-square, or `rows` is not 224. Weights for input shape (224, 224) will be loaded as the default.\n"
     ]
    },
    {
     "data": {
      "text/plain": [
       "(None, 576)"
      ]
     },
     "execution_count": 18,
     "metadata": {},
     "output_type": "execute_result"
    }
   ],
   "source": [
    "img_model = load_img_model(config[\"img_model\"])\n",
    "\n",
    "img_model.output_shape"
   ]
  },
  {
   "cell_type": "markdown",
   "metadata": {},
   "source": [
    "## Create image embeddings"
   ]
  },
  {
   "cell_type": "code",
   "execution_count": 19,
   "metadata": {},
   "outputs": [
    {
     "name": "stdout",
     "output_type": "stream",
     "text": [
      "Found 168226 validated image filenames.\n"
     ]
    },
    {
     "name": "stderr",
     "output_type": "stream",
     "text": [
      "2023-06-14 14:58:06.615033: I tensorflow/stream_executor/cuda/cuda_dnn.cc:368] Loaded cuDNN version 8700\n",
      "2023-06-14 14:58:17.065797: W tensorflow/core/kernels/gpu_utils.cc:50] Failed to allocate memory for convolution redzone checking; skipping this check. This is benign and only means that we won't check cudnn for out-of-bounds reads and writes. This message will only be printed once.\n"
     ]
    }
   ],
   "source": [
    "# Mobilenetv3small:\n",
    "# batch_size = 1024 -> 8 GB VRAM\n",
    "# batch_size = 2048 -> 16 GB VRAM\n",
    "# ...\n",
    "# Mobilenetv3large: twice as much as Mobilenetv3small\n",
    "\n",
    "img = create_embeddings_from(img_model,\n",
    "                             img,\n",
    "                             os.path.join(config[\"data\"][\"path\"],\n",
    "                                          \"images/small\"),\n",
    "                             batch_size=4096)"
   ]
  },
  {
   "cell_type": "code",
   "execution_count": 20,
   "metadata": {},
   "outputs": [
    {
     "data": {
      "text/plain": [
       "(168226, 576)"
      ]
     },
     "execution_count": 20,
     "metadata": {},
     "output_type": "execute_result"
    }
   ],
   "source": [
    "img.shape"
   ]
  },
  {
   "cell_type": "markdown",
   "metadata": {},
   "source": [
    "# Save embeddings"
   ]
  },
  {
   "cell_type": "code",
   "execution_count": 21,
   "metadata": {},
   "outputs": [],
   "source": [
    "save_path = os.path.join(config[\"data\"][\"path\"],\n",
    "                         f\"embeddings/bert/{img_model.name}\")"
   ]
  },
  {
   "cell_type": "code",
   "execution_count": 22,
   "metadata": {},
   "outputs": [],
   "source": [
    "os.makedirs(save_path, exist_ok=True)\n",
    "np.save(f\"{save_path}/img.npy\", img)\n",
    "np.save(f\"{save_path}/text.npy\", text)\n",
    "np.save(f\"{save_path}/text2.npy\", text2)\n",
    "data.to_csv(f\"{save_path}/data.csv\")"
   ]
  },
  {
   "cell_type": "markdown",
   "metadata": {},
   "source": [
    "## Verify import"
   ]
  },
  {
   "cell_type": "code",
   "execution_count": 23,
   "metadata": {},
   "outputs": [
    {
     "data": {
      "text/html": [
       "<div>\n",
       "<style scoped>\n",
       "    .dataframe tbody tr th:only-of-type {\n",
       "        vertical-align: middle;\n",
       "    }\n",
       "\n",
       "    .dataframe tbody tr th {\n",
       "        vertical-align: top;\n",
       "    }\n",
       "\n",
       "    .dataframe thead th {\n",
       "        text-align: right;\n",
       "    }\n",
       "</style>\n",
       "<table border=\"1\" class=\"dataframe\">\n",
       "  <thead>\n",
       "    <tr style=\"text-align: right;\">\n",
       "      <th></th>\n",
       "      <th>description</th>\n",
       "      <th>description2</th>\n",
       "      <th>path</th>\n",
       "      <th>product_type</th>\n",
       "      <th>label</th>\n",
       "    </tr>\n",
       "  </thead>\n",
       "  <tbody>\n",
       "    <tr>\n",
       "      <th>0</th>\n",
       "      <td>shoesb0791vjhksamazon brand - symbol men's sne...</td>\n",
       "      <td>shoesb0791vjhksamazon brand - symbol men's sne...</td>\n",
       "      <td>4d/4d552519.jpg</td>\n",
       "      <td>SHOES</td>\n",
       "      <td>1</td>\n",
       "    </tr>\n",
       "    <tr>\n",
       "      <th>1</th>\n",
       "      <td>mobile coverb07tg4cyjvamazon brand - solimo de...</td>\n",
       "      <td>mobile coverb07tg4cyjvamazon brand - solimo de...</td>\n",
       "      <td>4d/4de76f7f.jpg</td>\n",
       "      <td>CELLULAR_PHONE_CASE</td>\n",
       "      <td>1</td>\n",
       "    </tr>\n",
       "    <tr>\n",
       "      <th>2</th>\n",
       "      <td>mobile coverb0856b8fw1sunshine swatch, ravenna...</td>\n",
       "      <td>combo cooker dutch oven for bread making ovens...</td>\n",
       "      <td>72/72c5b6c9.jpg</td>\n",
       "      <td>GROCERY</td>\n",
       "      <td>0</td>\n",
       "    </tr>\n",
       "    <tr>\n",
       "      <th>3</th>\n",
       "      <td>whole foods, whole food, whole foods,365 every...</td>\n",
       "      <td>cellphonecoverb07tf7gr3ywhole foods market cre...</td>\n",
       "      <td>85/854b1468.jpg</td>\n",
       "      <td>CELLULAR_PHONE_CASE</td>\n",
       "      <td>0</td>\n",
       "    </tr>\n",
       "    <tr>\n",
       "      <th>4</th>\n",
       "      <td>back coverb00no73q84amazon brand - solimo desi...</td>\n",
       "      <td>mobile coverb071gvmr85amazon brand - solimo de...</td>\n",
       "      <td>6a/6a127d3e.jpg</td>\n",
       "      <td>BOOT</td>\n",
       "      <td>0</td>\n",
       "    </tr>\n",
       "    <tr>\n",
       "      <th>...</th>\n",
       "      <td>...</td>\n",
       "      <td>...</td>\n",
       "      <td>...</td>\n",
       "      <td>...</td>\n",
       "      <td>...</td>\n",
       "    </tr>\n",
       "    <tr>\n",
       "      <th>168221</th>\n",
       "      <td>mobile coverb07y33f9kxamazon brand - solimo de...</td>\n",
       "      <td>handbags for women latest brandedb072kwqy8yama...</td>\n",
       "      <td>e6/e6ed7731.jpg</td>\n",
       "      <td>CELLULAR_PHONE_CASE</td>\n",
       "      <td>0</td>\n",
       "    </tr>\n",
       "    <tr>\n",
       "      <th>168222</th>\n",
       "      <td>amazonbasics;amzn-lt800p-a;replacement-refrige...</td>\n",
       "      <td>amazonbasics;amzn-lt800p-a;replacement-refrige...</td>\n",
       "      <td>73/73903c65.jpg</td>\n",
       "      <td>MAJOR_HOME_APPLIANCES</td>\n",
       "      <td>1</td>\n",
       "    </tr>\n",
       "    <tr>\n",
       "      <th>168223</th>\n",
       "      <td>placeholderb074h67h9qamazon brand - solimo des...</td>\n",
       "      <td>deb0854kjcylamazon brand - solimo designer cou...</td>\n",
       "      <td>10/10b2c3af.jpg</td>\n",
       "      <td>CELLULAR_PHONE_CASE</td>\n",
       "      <td>0</td>\n",
       "    </tr>\n",
       "    <tr>\n",
       "      <th>168224</th>\n",
       "      <td>mobile coverb0854ljhw2half tofu banh mi</td>\n",
       "      <td>mobile coverb081hmxdkvfind. women's velvet str...</td>\n",
       "      <td>de/de19c121.jpg</td>\n",
       "      <td>GROCERY</td>\n",
       "      <td>0</td>\n",
       "    </tr>\n",
       "    <tr>\n",
       "      <th>168225</th>\n",
       "      <td>mobile coverb08gkxpbbzamazon brand - vedaka pr...</td>\n",
       "      <td>mobile coverb08569y2r3amazon brand - solimo de...</td>\n",
       "      <td>6d/6d147b0c.jpg</td>\n",
       "      <td>WALLET</td>\n",
       "      <td>0</td>\n",
       "    </tr>\n",
       "  </tbody>\n",
       "</table>\n",
       "<p>168226 rows × 5 columns</p>\n",
       "</div>"
      ],
      "text/plain": [
       "                                              description  \\\n",
       "0       shoesb0791vjhksamazon brand - symbol men's sne...   \n",
       "1       mobile coverb07tg4cyjvamazon brand - solimo de...   \n",
       "2       mobile coverb0856b8fw1sunshine swatch, ravenna...   \n",
       "3       whole foods, whole food, whole foods,365 every...   \n",
       "4       back coverb00no73q84amazon brand - solimo desi...   \n",
       "...                                                   ...   \n",
       "168221  mobile coverb07y33f9kxamazon brand - solimo de...   \n",
       "168222  amazonbasics;amzn-lt800p-a;replacement-refrige...   \n",
       "168223  placeholderb074h67h9qamazon brand - solimo des...   \n",
       "168224            mobile coverb0854ljhw2half tofu banh mi   \n",
       "168225  mobile coverb08gkxpbbzamazon brand - vedaka pr...   \n",
       "\n",
       "                                             description2             path  \\\n",
       "0       shoesb0791vjhksamazon brand - symbol men's sne...  4d/4d552519.jpg   \n",
       "1       mobile coverb07tg4cyjvamazon brand - solimo de...  4d/4de76f7f.jpg   \n",
       "2       combo cooker dutch oven for bread making ovens...  72/72c5b6c9.jpg   \n",
       "3       cellphonecoverb07tf7gr3ywhole foods market cre...  85/854b1468.jpg   \n",
       "4       mobile coverb071gvmr85amazon brand - solimo de...  6a/6a127d3e.jpg   \n",
       "...                                                   ...              ...   \n",
       "168221  handbags for women latest brandedb072kwqy8yama...  e6/e6ed7731.jpg   \n",
       "168222  amazonbasics;amzn-lt800p-a;replacement-refrige...  73/73903c65.jpg   \n",
       "168223  deb0854kjcylamazon brand - solimo designer cou...  10/10b2c3af.jpg   \n",
       "168224  mobile coverb081hmxdkvfind. women's velvet str...  de/de19c121.jpg   \n",
       "168225  mobile coverb08569y2r3amazon brand - solimo de...  6d/6d147b0c.jpg   \n",
       "\n",
       "                 product_type  label  \n",
       "0                       SHOES      1  \n",
       "1         CELLULAR_PHONE_CASE      1  \n",
       "2                     GROCERY      0  \n",
       "3         CELLULAR_PHONE_CASE      0  \n",
       "4                        BOOT      0  \n",
       "...                       ...    ...  \n",
       "168221    CELLULAR_PHONE_CASE      0  \n",
       "168222  MAJOR_HOME_APPLIANCES      1  \n",
       "168223    CELLULAR_PHONE_CASE      0  \n",
       "168224                GROCERY      0  \n",
       "168225                 WALLET      0  \n",
       "\n",
       "[168226 rows x 5 columns]"
      ]
     },
     "execution_count": 23,
     "metadata": {},
     "output_type": "execute_result"
    }
   ],
   "source": [
    "data = pd.read_csv(f\"{save_path}/data.csv\")\n",
    "data = data.drop({\"Unnamed: 0\"}, axis=1)\n",
    "data"
   ]
  },
  {
   "cell_type": "code",
   "execution_count": 24,
   "metadata": {},
   "outputs": [
    {
     "data": {
      "text/plain": [
       "(168226, 576)"
      ]
     },
     "execution_count": 24,
     "metadata": {},
     "output_type": "execute_result"
    }
   ],
   "source": [
    "img = np.load(f\"{save_path}/img.npy\", allow_pickle=True)\n",
    "img.shape"
   ]
  },
  {
   "cell_type": "code",
   "execution_count": 25,
   "metadata": {},
   "outputs": [
    {
     "data": {
      "text/plain": [
       "(168226,)"
      ]
     },
     "execution_count": 25,
     "metadata": {},
     "output_type": "execute_result"
    }
   ],
   "source": [
    "text = np.load(f\"{save_path}/text.npy\", allow_pickle=True)\n",
    "text.shape"
   ]
  },
  {
   "cell_type": "code",
   "execution_count": 26,
   "metadata": {},
   "outputs": [
    {
     "data": {
      "text/plain": [
       "(168226,)"
      ]
     },
     "execution_count": 26,
     "metadata": {},
     "output_type": "execute_result"
    }
   ],
   "source": [
    "text2 = np.load(f\"{save_path}/text2.npy\", allow_pickle=True)\n",
    "text2.shape"
   ]
  },
  {
   "cell_type": "markdown",
   "metadata": {},
   "source": [
    "# Train-Test Split"
   ]
  },
  {
   "cell_type": "markdown",
   "metadata": {},
   "source": [
    "To use `stratify` parameter of `sklearn.model_selection.train_test_split()`, we need to select all product instances which appear more than once"
   ]
  },
  {
   "cell_type": "code",
   "execution_count": 27,
   "metadata": {},
   "outputs": [],
   "source": [
    "data[\"product_type_count\"] = data.groupby(\n",
    "    [\"product_type\"])[\"product_type\"].transform(\"count\")\n",
    "\n",
    "data = data[data[\"product_type_count\"] > config[\"data\"][\"cls\"]]"
   ]
  },
  {
   "cell_type": "code",
   "execution_count": 28,
   "metadata": {},
   "outputs": [],
   "source": [
    "# Update both columns\n",
    "product_types = data[[\"product_type\"]]\n",
    "\n",
    "labels = data[[\"label\"]]"
   ]
  },
  {
   "cell_type": "code",
   "execution_count": 29,
   "metadata": {},
   "outputs": [],
   "source": [
    "from sklearn.model_selection import train_test_split"
   ]
  },
  {
   "cell_type": "code",
   "execution_count": 30,
   "metadata": {},
   "outputs": [],
   "source": [
    "train, test, labels_train, labels_test = train_test_split(\n",
    "    data,\n",
    "    labels,\n",
    "    stratify=product_types,\n",
    "    test_size=config[\"model\"][\"training\"][\"test_split\"],\n",
    "    random_state=42)"
   ]
  },
  {
   "cell_type": "code",
   "execution_count": 31,
   "metadata": {},
   "outputs": [],
   "source": [
    "img_train = img[train.index]\n",
    "img_test = img[test.index]\n",
    "\n",
    "text_train = train[\"description\"]\n",
    "text_test = test[\"description\"]\n",
    "\n",
    "text2_train = train[\"description2\"]\n",
    "text2_test = test[\"description2\"]"
   ]
  },
  {
   "attachments": {},
   "cell_type": "markdown",
   "metadata": {},
   "source": [
    "# Build BERT model (only explorative purposes)"
   ]
  },
  {
   "cell_type": "code",
   "execution_count": 32,
   "metadata": {},
   "outputs": [
    {
     "name": "stdout",
     "output_type": "stream",
     "text": [
      "Model: \"model\"\n",
      "__________________________________________________________________________________________________\n",
      " Layer (type)                   Output Shape         Param #     Connected to                     \n",
      "==================================================================================================\n",
      " input_2 (InputLayer)           [(None,)]            0           []                               \n",
      "                                                                                                  \n",
      " keras_layer (KerasLayer)       {'input_type_ids':   0           ['input_2[0][0]']                \n",
      "                                (None, 128),                                                      \n",
      "                                 'input_mask': (Non                                               \n",
      "                                e, 128),                                                          \n",
      "                                 'input_word_ids':                                                \n",
      "                                (None, 128)}                                                      \n",
      "                                                                                                  \n",
      " keras_layer_1 (KerasLayer)     {'pooled_output': (  109482241   ['keras_layer[0][0]',            \n",
      "                                None, 768),                       'keras_layer[0][1]',            \n",
      "                                 'default': (None,                'keras_layer[0][2]']            \n",
      "                                768),                                                             \n",
      "                                 'encoder_outputs':                                               \n",
      "                                 [(None, 128, 768),                                               \n",
      "                                 (None, 128, 768),                                                \n",
      "                                 (None, 128, 768),                                                \n",
      "                                 (None, 128, 768),                                                \n",
      "                                 (None, 128, 768),                                                \n",
      "                                 (None, 128, 768),                                                \n",
      "                                 (None, 128, 768),                                                \n",
      "                                 (None, 128, 768),                                                \n",
      "                                 (None, 128, 768),                                                \n",
      "                                 (None, 128, 768),                                                \n",
      "                                 (None, 128, 768),                                                \n",
      "                                 (None, 128, 768)],                                               \n",
      "                                 'sequence_output':                                               \n",
      "                                 (None, 128, 768)}                                                \n",
      "                                                                                                  \n",
      "==================================================================================================\n",
      "Total params: 109,482,241\n",
      "Trainable params: 0\n",
      "Non-trainable params: 109,482,241\n",
      "__________________________________________________________________________________________________\n"
     ]
    }
   ],
   "source": [
    "text_input = tf.keras.layers.Input(shape=(()), dtype=tf.string)\n",
    "\n",
    "x = bert_preprocess_model(text_input)\n",
    "\n",
    "text_output = bert_model(x)[\"pooled_output\"]\n",
    "\n",
    "some_model = tf.keras.models.Model(text_input, text_output)\n",
    "\n",
    "some_model.summary()"
   ]
  },
  {
   "cell_type": "code",
   "execution_count": 33,
   "metadata": {},
   "outputs": [
    {
     "data": {
      "text/plain": [
       "<tf.Tensor: shape=(5, 768), dtype=float32, numpy=\n",
       "array([[-0.8342786 , -0.49116412, -0.9826002 , ..., -0.9584874 ,\n",
       "        -0.59756213,  0.58473396],\n",
       "       [-0.8792041 , -0.47566673, -0.98103994, ..., -0.9467691 ,\n",
       "        -0.5948945 ,  0.7237315 ],\n",
       "       [-0.8658173 , -0.5659161 , -0.99107826, ..., -0.9591521 ,\n",
       "        -0.62935627,  0.65495986],\n",
       "       [-0.85190654, -0.45063606, -0.9672013 , ..., -0.91835827,\n",
       "        -0.5731304 ,  0.6700334 ],\n",
       "       [-0.72803193, -0.460802  , -0.9536089 , ..., -0.89755416,\n",
       "        -0.66318834,  0.47983623]], dtype=float32)>"
      ]
     },
     "execution_count": 33,
     "metadata": {},
     "output_type": "execute_result"
    }
   ],
   "source": [
    "some_model(test[:5][\"description\"])"
   ]
  },
  {
   "cell_type": "markdown",
   "metadata": {},
   "source": [
    "# Save Char CNN config"
   ]
  },
  {
   "attachments": {},
   "cell_type": "markdown",
   "metadata": {},
   "source": [
    "Not needed, as we use BERT for text embeddings instead"
   ]
  },
  {
   "cell_type": "code",
   "execution_count": 34,
   "metadata": {},
   "outputs": [],
   "source": [
    "# from models.char_cnn_zhang import CharCNNZhang"
   ]
  },
  {
   "cell_type": "code",
   "execution_count": 35,
   "metadata": {},
   "outputs": [],
   "source": [
    "# char_cnn_config = {\n",
    "#     \"input_size\": config[\"data\"][\"input_size\"],\n",
    "#     \"embedding_size\": len(tk.word_index),\n",
    "#     \"conv_layers\": config[\"char_cnn_zhang\"][\"conv_layers\"],\n",
    "#     \"fc_layers\": config[\"char_cnn_zhang\"][\"fc_layers\"],\n",
    "#     \"output_size\": config[\"char_cnn_zhang\"][\"output_size\"],\n",
    "#     \"embedding_weights\": weights\n",
    "# }"
   ]
  },
  {
   "cell_type": "code",
   "execution_count": 36,
   "metadata": {},
   "outputs": [],
   "source": [
    "# char_cnn = CharCNNZhang(**char_cnn_config)"
   ]
  },
  {
   "cell_type": "markdown",
   "metadata": {},
   "source": [
    "# Build MNN-EM Model"
   ]
  },
  {
   "cell_type": "markdown",
   "metadata": {},
   "source": [
    "![](../../assets/images/MNN_EM.png)"
   ]
  },
  {
   "cell_type": "code",
   "execution_count": 43,
   "metadata": {},
   "outputs": [],
   "source": [
    "# from models.mnn_em import MNNEM\n",
    "from utils.metrics import create_metrics"
   ]
  },
  {
   "cell_type": "code",
   "execution_count": 44,
   "metadata": {},
   "outputs": [],
   "source": [
    "from tensorflow.keras.models import Model\n",
    "from tensorflow.keras.layers import Input, Dense, Multiply, BatchNormalization\n",
    "from tensorflow.keras.optimizers import Adam\n",
    "from tensorflow.keras.metrics import Recall, Precision, BinaryAccuracy, CosineSimilarity\n",
    "\n",
    "\n",
    "class MNNEMBert(object):\n",
    "    def __init__(\n",
    "            self, head_config, combined_fc_layers, learning_rate,\n",
    "            metrics=[\"recall\", \"precision\", \"binary_accuracy\", \"cosine_similarity\"],\n",
    "            loss='binary_crossentropy', name=\"MNN_EM\") -> None:\n",
    "        self.head_config = head_config\n",
    "        self.combined_fc_layers = combined_fc_layers\n",
    "        self.learning_rate = learning_rate\n",
    "        self.metrics = metrics\n",
    "        self.loss = loss\n",
    "        self.name = name\n",
    "        self._build_model()  # builds self.model variable\n",
    "\n",
    "    def _build_model(self):\n",
    "        # Input Layer\n",
    "        img_features = Input(\n",
    "            shape=(self.head_config[\"img_input_size\"]), name=\"Image_Input\")\n",
    "\n",
    "        # Input Layer\n",
    "        text_features = Input(\n",
    "            shape=(()), dtype=tf.string, name=\"Text_Input\")\n",
    "\n",
    "        x = _MNNEMHead(**self.head_config)\n",
    "\n",
    "        x = x.model([img_features, text_features])\n",
    "\n",
    "        # FC Layers\n",
    "        for i, comb_fl in enumerate(self.combined_fc_layers, 1):\n",
    "            x = Dense(comb_fl, activation='relu',\n",
    "                      name=f\"Combined_FC_{i}\")(x)\n",
    "\n",
    "        output = Dense(1, activation='sigmoid', name=\"Sigmoid\")(x)\n",
    "        model = Model(inputs=[img_features, text_features],\n",
    "                      outputs=output, name=self.name)\n",
    "\n",
    "        optimizer = Adam(learning_rate=self.learning_rate)\n",
    "\n",
    "        model.compile(optimizer=optimizer, loss=self.loss,\n",
    "                      metrics=self.metrics)\n",
    "        self.model = model\n",
    "        # print(\"MNN-EM model built: \")\n",
    "        # self.model.summary()\n",
    "\n",
    "\n",
    "class _MNNEMHead(object):\n",
    "    def __init__(self, img_input_size, txt_input_size, img_fc_layers,\n",
    "                 txt_fc_layers, extended):\n",
    "        self.img_input_size = img_input_size\n",
    "        self.txt_input_size = txt_input_size\n",
    "        self.img_fc_layers = img_fc_layers\n",
    "        self.txt_fc_layers = txt_fc_layers\n",
    "        self.extended = extended\n",
    "        self._build_model()  # builds self.model variable\n",
    "\n",
    "    def _build_model(self):\n",
    "        # Text Input\n",
    "        img_features = Input(shape=(self.img_input_size),\n",
    "                             name=\"Image_Input_Head_Outer\")\n",
    "\n",
    "        img_cnn = _CNNBranch(self.img_input_size,\n",
    "                             self.img_fc_layers, self.extended, name=\"Image\")\n",
    "\n",
    "        output_img = img_cnn.model(img_features)\n",
    "\n",
    "        # Image Input\n",
    "        text_features = tf.keras.layers.Input(shape=(()), dtype=tf.string, name=\"Text_Input_Head_Outer\")\n",
    "\n",
    "        bert_preprocess_model = hub.KerasLayer(tfhub_handle_preprocess)\n",
    "        bert_model = hub.KerasLayer(tfhub_handle_encoder)\n",
    "\n",
    "        x = bert_preprocess_model(text_features)\n",
    "\n",
    "        x = bert_model(x)[\"pooled_output\"]\n",
    "\n",
    "        text_cnn = _CNNBranch(x.shape[1],\n",
    "                             self.txt_fc_layers, self.extended, name=\"Text\")\n",
    "\n",
    "        output_text = text_cnn.model(x)\n",
    "\n",
    "        # Element-wise product\n",
    "        combined = Multiply(\n",
    "            name=\"Element-wise_Multiplication\")([output_img, output_text])\n",
    "\n",
    "        model = Model(inputs=[img_features, text_features],\n",
    "                      outputs=combined, name=\"MNN_EM_Head\")\n",
    "\n",
    "        self.model = model\n",
    "\n",
    "\n",
    "class _CNNBranch(object):\n",
    "    def __init__(self, input_size, fc_layers, extended, name):\n",
    "        self.input_size = input_size\n",
    "        self.fc_layers = fc_layers\n",
    "        self.extended = extended\n",
    "        self.name = name\n",
    "        self._build_model()  # builds self.model variable\n",
    "\n",
    "    def _build_model(self):\n",
    "        # Input Layer\n",
    "        features = Input(shape=(self.input_size),\n",
    "                         name=f\"{self.name}_Input_Head_Inner\")\n",
    "\n",
    "        # fc + ReLU\n",
    "        for i, fl in enumerate(\n",
    "                self.fc_layers[: None if self.extended else -1],\n",
    "                1):\n",
    "            x = Dense(fl, activation='relu',\n",
    "                      name=f\"{self.name}_FC_{i}\")(features if i == 1 else x)\n",
    "\n",
    "        if not self.extended:\n",
    "            # fc + L2 Norm\n",
    "            x = Dense(\n",
    "                self.fc_layers[-1],\n",
    "                kernel_regularizer='l2', name=f\"{self.name}_FC_last\")(\n",
    "                features if len(self.fc_layers) == 1 else x)\n",
    "\n",
    "        output = BatchNormalization(name=f\"{self.name}_Batch_Normalization\")(x)\n",
    "\n",
    "        model = Model(inputs=features, outputs=output, name=f\"{self.name}_CNN\")\n",
    "\n",
    "        self.model = model\n",
    "\n",
    "class ExtendedMNNEMBert(object):\n",
    "    def __init__(self, head_1_config, head_2_config,\n",
    "                 combined_fc_layers, learning_rate,\n",
    "                 metrics=[\"recall\", \"precision\", \"binary_accuracy\",\n",
    "                          \"cosine_similarity\"],\n",
    "                 loss='binary_crossentropy') -> None:\n",
    "        self.head_1_config = head_1_config\n",
    "        self.head_2_config = head_2_config\n",
    "        self.combined_fc_layers = combined_fc_layers\n",
    "        self.learning_rate = learning_rate\n",
    "        self.metrics = metrics\n",
    "        self.loss = loss\n",
    "        self._build_model()  # builds self.model variable\n",
    "\n",
    "    def _build_model(self):\n",
    "        head = _MNNEMHead(**self.head_1_config)\n",
    "\n",
    "        tail = MNNEMBert(\n",
    "            head_config=self.head_2_config,\n",
    "            combined_fc_layers=self.combined_fc_layers,\n",
    "            learning_rate=self.learning_rate,\n",
    "            metrics=self.metrics,\n",
    "            name=\"MNN_EM_Tail\")\n",
    "\n",
    "        # Input Layer\n",
    "        img_features = Input(\n",
    "            shape=(self.head_1_config[\"img_input_size\"]), name=\"Image_Input\")\n",
    "\n",
    "        # Input Layer\n",
    "        text_features = tf.keras.layers.Input(shape=(()), dtype=tf.string, name=\"Text_Input\")\n",
    "\n",
    "        # Input Layer\n",
    "        text_2_features = tf.keras.layers.Input(shape=(()), dtype=tf.string, name=\"Text_2_Input\")\n",
    "\n",
    "        x = head.model([img_features, text_features])\n",
    "\n",
    "        x = tail.model([x, text_2_features])\n",
    "\n",
    "        model = Model(inputs=[img_features, text_features,\n",
    "                      text_2_features], outputs=x, name=\"Extended_MNN_EM\")\n",
    "\n",
    "        optimizer = Adam(learning_rate=self.learning_rate)\n",
    "\n",
    "        model.compile(optimizer=optimizer, loss=self.loss,\n",
    "                      metrics=self.metrics)\n",
    "\n",
    "        self.model = model"
   ]
  },
  {
   "cell_type": "code",
   "execution_count": 45,
   "metadata": {},
   "outputs": [],
   "source": [
    "head_1_config = {\n",
    "    \"img_input_size\": img_model.layers[-1].output_shape[1],\n",
    "    \"txt_input_size\": config[\"data\"][\"input_size\"],\n",
    "    \"img_fc_layers\": config[\"model\"][\"img_1_fc_layers\"],\n",
    "    \"txt_fc_layers\": config[\"model\"][\"txt_1_fc_layers\"],\n",
    "    \"extended\": True,\n",
    "}"
   ]
  },
  {
   "cell_type": "code",
   "execution_count": 46,
   "metadata": {},
   "outputs": [],
   "source": [
    "head_2_config = {\n",
    "    \"img_input_size\": config[\"model\"][\"img_1_fc_layers\"][-1],\n",
    "    \"txt_input_size\": config[\"data\"][\"input_size\"],\n",
    "    \"img_fc_layers\": config[\"model\"][\"combined_1_fc_layers\"],\n",
    "    \"txt_fc_layers\": config[\"model\"][\"txt_2_fc_layers\"],\n",
    "    \"extended\": False,\n",
    "}"
   ]
  },
  {
   "cell_type": "code",
   "execution_count": 47,
   "metadata": {},
   "outputs": [],
   "source": [
    "ext_mnn_em = ExtendedMNNEMBert(\n",
    "    head_1_config=head_1_config,\n",
    "    head_2_config=head_2_config,\n",
    "    combined_fc_layers=config[\"model\"][\"combined_2_fc_layers\"],\n",
    "    learning_rate=config[\"model\"][\"training\"][\"learning_rate\"],\n",
    "    metrics=create_metrics(config[\"model\"][\"training\"][\"metrics\"]))"
   ]
  },
  {
   "cell_type": "code",
   "execution_count": 48,
   "metadata": {},
   "outputs": [
    {
     "name": "stdout",
     "output_type": "stream",
     "text": [
      "Model: \"Extended_MNN_EM\"\n",
      "__________________________________________________________________________________________________\n",
      " Layer (type)                   Output Shape         Param #     Connected to                     \n",
      "==================================================================================================\n",
      " Image_Input (InputLayer)       [(None, 576)]        0           []                               \n",
      "                                                                                                  \n",
      " Text_Input (InputLayer)        [(None,)]            0           []                               \n",
      "                                                                                                  \n",
      " MNN_EM_Head (Functional)       (None, 1024)         110868737   ['Image_Input[0][0]',            \n",
      "                                                                  'Text_Input[0][0]']             \n",
      "|¯¯¯¯¯¯¯¯¯¯¯¯¯¯¯¯¯¯¯¯¯¯¯¯¯¯¯¯¯¯¯¯¯¯¯¯¯¯¯¯¯¯¯¯¯¯¯¯¯¯¯¯¯¯¯¯¯¯¯¯¯¯¯¯¯¯¯¯¯¯¯¯¯¯¯¯¯¯¯¯¯¯¯¯¯¯¯¯¯¯¯¯¯¯¯¯|\n",
      "| Text_Input_Head_Outer (InputLa  [(None,)]         0           []                               |\n",
      "| yer)                                                                                           |\n",
      "|                                                                                                |\n",
      "| keras_layer_2 (KerasLayer)   {'input_word_ids':   0           []                               |\n",
      "|                              (None, 128),                                                      |\n",
      "|                               'input_type_ids':                                                |\n",
      "|                              (None, 128),                                                      |\n",
      "|                               'input_mask': (Non                                               |\n",
      "|                              e, 128)}                                                          |\n",
      "|                                                                                                |\n",
      "| Image_Input_Head_Outer (InputL  [(None, 576)]     0           []                               |\n",
      "| ayer)                                                                                          |\n",
      "|                                                                                                |\n",
      "| keras_layer_3 (KerasLayer)   {'default': (None,   109482241   []                               |\n",
      "|                              768),                                                             |\n",
      "|                               'encoder_outputs':                                               |\n",
      "|                               [(None, 128, 768),                                               |\n",
      "|                               (None, 128, 768),                                                |\n",
      "|                               (None, 128, 768),                                                |\n",
      "|                               (None, 128, 768),                                                |\n",
      "|                               (None, 128, 768),                                                |\n",
      "|                               (None, 128, 768),                                                |\n",
      "|                               (None, 128, 768),                                                |\n",
      "|                               (None, 128, 768),                                                |\n",
      "|                               (None, 128, 768),                                                |\n",
      "|                               (None, 128, 768),                                                |\n",
      "|                               (None, 128, 768),                                                |\n",
      "|                               (None, 128, 768)],                                               |\n",
      "|                               'sequence_output':                                               |\n",
      "|                               (None, 128, 768),                                                |\n",
      "|                               'pooled_output': (                                               |\n",
      "|                              None, 768)}                                                       |\n",
      "|                                                                                                |\n",
      "| Image_CNN (Functional)       (None, 1024)         594944      []                               |\n",
      "||¯¯¯¯¯¯¯¯¯¯¯¯¯¯¯¯¯¯¯¯¯¯¯¯¯¯¯¯¯¯¯¯¯¯¯¯¯¯¯¯¯¯¯¯¯¯¯¯¯¯¯¯¯¯¯¯¯¯¯¯¯¯¯¯¯¯¯¯¯¯¯¯¯¯¯¯¯¯¯¯¯¯¯¯¯¯¯¯¯¯¯¯¯¯||\n",
      "|| Image_Input_Head_Inner (InputL  [(None, 576)]   0           []                               ||\n",
      "|| ayer)                                                                                        ||\n",
      "||                                                                                              ||\n",
      "|| Image_FC_1 (Dense)         (None, 1024)         590848      []                               ||\n",
      "||                                                                                              ||\n",
      "|| Image_Batch_Normalization (Bat  (None, 1024)    4096        []                               ||\n",
      "|| chNormalization)                                                                             ||\n",
      "|¯¯¯¯¯¯¯¯¯¯¯¯¯¯¯¯¯¯¯¯¯¯¯¯¯¯¯¯¯¯¯¯¯¯¯¯¯¯¯¯¯¯¯¯¯¯¯¯¯¯¯¯¯¯¯¯¯¯¯¯¯¯¯¯¯¯¯¯¯¯¯¯¯¯¯¯¯¯¯¯¯¯¯¯¯¯¯¯¯¯¯¯¯¯¯¯|\n",
      "| Text_CNN (Functional)        (None, 1024)         791552      []                               |\n",
      "||¯¯¯¯¯¯¯¯¯¯¯¯¯¯¯¯¯¯¯¯¯¯¯¯¯¯¯¯¯¯¯¯¯¯¯¯¯¯¯¯¯¯¯¯¯¯¯¯¯¯¯¯¯¯¯¯¯¯¯¯¯¯¯¯¯¯¯¯¯¯¯¯¯¯¯¯¯¯¯¯¯¯¯¯¯¯¯¯¯¯¯¯¯¯||\n",
      "|| Text_Input_Head_Inner (InputLa  [(None, 768)]   0           []                               ||\n",
      "|| yer)                                                                                         ||\n",
      "||                                                                                              ||\n",
      "|| Text_FC_1 (Dense)          (None, 1024)         787456      []                               ||\n",
      "||                                                                                              ||\n",
      "|| Text_Batch_Normalization (Batc  (None, 1024)    4096        []                               ||\n",
      "|| hNormalization)                                                                              ||\n",
      "|¯¯¯¯¯¯¯¯¯¯¯¯¯¯¯¯¯¯¯¯¯¯¯¯¯¯¯¯¯¯¯¯¯¯¯¯¯¯¯¯¯¯¯¯¯¯¯¯¯¯¯¯¯¯¯¯¯¯¯¯¯¯¯¯¯¯¯¯¯¯¯¯¯¯¯¯¯¯¯¯¯¯¯¯¯¯¯¯¯¯¯¯¯¯¯¯|\n",
      "| Element-wise_Multiplication (M  (None, 1024)      0           []                               |\n",
      "| ultiply)                                                                                       |\n",
      "¯¯¯¯¯¯¯¯¯¯¯¯¯¯¯¯¯¯¯¯¯¯¯¯¯¯¯¯¯¯¯¯¯¯¯¯¯¯¯¯¯¯¯¯¯¯¯¯¯¯¯¯¯¯¯¯¯¯¯¯¯¯¯¯¯¯¯¯¯¯¯¯¯¯¯¯¯¯¯¯¯¯¯¯¯¯¯¯¯¯¯¯¯¯¯¯¯¯\n",
      " Text_2_Input (InputLayer)      [(None,)]            0           []                               \n",
      "                                                                                                  \n",
      " MNN_EM_Tail (Functional)       (None, 1)            111717634   ['MNN_EM_Head[0][0]',            \n",
      "                                                                  'Text_2_Input[0][0]']           \n",
      "|¯¯¯¯¯¯¯¯¯¯¯¯¯¯¯¯¯¯¯¯¯¯¯¯¯¯¯¯¯¯¯¯¯¯¯¯¯¯¯¯¯¯¯¯¯¯¯¯¯¯¯¯¯¯¯¯¯¯¯¯¯¯¯¯¯¯¯¯¯¯¯¯¯¯¯¯¯¯¯¯¯¯¯¯¯¯¯¯¯¯¯¯¯¯¯¯|\n",
      "| Image_Input (InputLayer)     [(None, 1024)]       0           []                               |\n",
      "|                                                                                                |\n",
      "| Text_Input (InputLayer)      [(None,)]            0           []                               |\n",
      "|                                                                                                |\n",
      "| MNN_EM_Head (Functional)     (None, 512)          111323393   []                               |\n",
      "||¯¯¯¯¯¯¯¯¯¯¯¯¯¯¯¯¯¯¯¯¯¯¯¯¯¯¯¯¯¯¯¯¯¯¯¯¯¯¯¯¯¯¯¯¯¯¯¯¯¯¯¯¯¯¯¯¯¯¯¯¯¯¯¯¯¯¯¯¯¯¯¯¯¯¯¯¯¯¯¯¯¯¯¯¯¯¯¯¯¯¯¯¯¯||\n",
      "|| Text_Input_Head_Outer (InputLa  [(None,)]       0           []                               ||\n",
      "|| yer)                                                                                         ||\n",
      "||                                                                                              ||\n",
      "|| keras_layer_4 (KerasLayer)  {'input_word_ids':   0          []                               ||\n",
      "||                            (None, 128),                                                      ||\n",
      "||                             'input_type_ids':                                                ||\n",
      "||                            (None, 128),                                                      ||\n",
      "||                             'input_mask': (Non                                               ||\n",
      "||                            e, 128)}                                                          ||\n",
      "||                                                                                              ||\n",
      "|| Image_Input_Head_Outer (InputL  [(None, 1024)]  0           []                               ||\n",
      "|| ayer)                                                                                        ||\n",
      "||                                                                                              ||\n",
      "|| keras_layer_5 (KerasLayer)  {'encoder_outputs':  109482241  []                               ||\n",
      "||                             [(None, 128, 768),                                               ||\n",
      "||                             (None, 128, 768),                                                ||\n",
      "||                             (None, 128, 768),                                                ||\n",
      "||                             (None, 128, 768),                                                ||\n",
      "||                             (None, 128, 768),                                                ||\n",
      "||                             (None, 128, 768),                                                ||\n",
      "||                             (None, 128, 768),                                                ||\n",
      "||                             (None, 128, 768),                                                ||\n",
      "||                             (None, 128, 768),                                                ||\n",
      "||                             (None, 128, 768),                                                ||\n",
      "||                             (None, 128, 768),                                                ||\n",
      "||                             (None, 128, 768)],                                               ||\n",
      "||                             'sequence_output':                                               ||\n",
      "||                             (None, 128, 768),                                                ||\n",
      "||                             'default': (None,                                                ||\n",
      "||                            768),                                                             ||\n",
      "||                             'pooled_output': (                                               ||\n",
      "||                            None, 768)}                                                       ||\n",
      "||                                                                                              ||\n",
      "|| Image_CNN (Functional)     (None, 512)          526848      []                               ||\n",
      "|||¯¯¯¯¯¯¯¯¯¯¯¯¯¯¯¯¯¯¯¯¯¯¯¯¯¯¯¯¯¯¯¯¯¯¯¯¯¯¯¯¯¯¯¯¯¯¯¯¯¯¯¯¯¯¯¯¯¯¯¯¯¯¯¯¯¯¯¯¯¯¯¯¯¯¯¯¯¯¯¯¯¯¯¯¯¯¯¯¯¯¯¯|||\n",
      "||| Image_Input_Head_Inner (InputL  [(None, 1024)]  0         []                               |||\n",
      "||| ayer)                                                                                      |||\n",
      "|||                                                                                            |||\n",
      "||| Image_FC_last (Dense)    (None, 512)          524800      []                               |||\n",
      "|||                                                                                            |||\n",
      "||| Image_Batch_Normalization (Bat  (None, 512)   2048        []                               |||\n",
      "||| chNormalization)                                                                           |||\n",
      "||¯¯¯¯¯¯¯¯¯¯¯¯¯¯¯¯¯¯¯¯¯¯¯¯¯¯¯¯¯¯¯¯¯¯¯¯¯¯¯¯¯¯¯¯¯¯¯¯¯¯¯¯¯¯¯¯¯¯¯¯¯¯¯¯¯¯¯¯¯¯¯¯¯¯¯¯¯¯¯¯¯¯¯¯¯¯¯¯¯¯¯¯¯¯||\n",
      "|| Text_CNN (Functional)      (None, 512)          1314304     []                               ||\n",
      "|||¯¯¯¯¯¯¯¯¯¯¯¯¯¯¯¯¯¯¯¯¯¯¯¯¯¯¯¯¯¯¯¯¯¯¯¯¯¯¯¯¯¯¯¯¯¯¯¯¯¯¯¯¯¯¯¯¯¯¯¯¯¯¯¯¯¯¯¯¯¯¯¯¯¯¯¯¯¯¯¯¯¯¯¯¯¯¯¯¯¯¯¯|||\n",
      "||| Text_Input_Head_Inner (InputLa  [(None, 768)]  0          []                               |||\n",
      "||| yer)                                                                                       |||\n",
      "|||                                                                                            |||\n",
      "||| Text_FC_1 (Dense)        (None, 1024)         787456      []                               |||\n",
      "|||                                                                                            |||\n",
      "||| Text_FC_last (Dense)     (None, 512)          524800      []                               |||\n",
      "|||                                                                                            |||\n",
      "||| Text_Batch_Normalization (Batc  (None, 512)   2048        []                               |||\n",
      "||| hNormalization)                                                                            |||\n",
      "||¯¯¯¯¯¯¯¯¯¯¯¯¯¯¯¯¯¯¯¯¯¯¯¯¯¯¯¯¯¯¯¯¯¯¯¯¯¯¯¯¯¯¯¯¯¯¯¯¯¯¯¯¯¯¯¯¯¯¯¯¯¯¯¯¯¯¯¯¯¯¯¯¯¯¯¯¯¯¯¯¯¯¯¯¯¯¯¯¯¯¯¯¯¯||\n",
      "|| Element-wise_Multiplication (M  (None, 512)     0           []                               ||\n",
      "|| ultiply)                                                                                     ||\n",
      "|¯¯¯¯¯¯¯¯¯¯¯¯¯¯¯¯¯¯¯¯¯¯¯¯¯¯¯¯¯¯¯¯¯¯¯¯¯¯¯¯¯¯¯¯¯¯¯¯¯¯¯¯¯¯¯¯¯¯¯¯¯¯¯¯¯¯¯¯¯¯¯¯¯¯¯¯¯¯¯¯¯¯¯¯¯¯¯¯¯¯¯¯¯¯¯¯|\n",
      "| Combined_FC_1 (Dense)        (None, 512)          262656      []                               |\n",
      "|                                                                                                |\n",
      "| Combined_FC_2 (Dense)        (None, 256)          131328      []                               |\n",
      "|                                                                                                |\n",
      "| Sigmoid (Dense)              (None, 1)            257         []                               |\n",
      "¯¯¯¯¯¯¯¯¯¯¯¯¯¯¯¯¯¯¯¯¯¯¯¯¯¯¯¯¯¯¯¯¯¯¯¯¯¯¯¯¯¯¯¯¯¯¯¯¯¯¯¯¯¯¯¯¯¯¯¯¯¯¯¯¯¯¯¯¯¯¯¯¯¯¯¯¯¯¯¯¯¯¯¯¯¯¯¯¯¯¯¯¯¯¯¯¯¯\n",
      "==================================================================================================\n",
      "Total params: 222,586,371\n",
      "Trainable params: 3,615,745\n",
      "Non-trainable params: 218,970,626\n",
      "__________________________________________________________________________________________________\n"
     ]
    }
   ],
   "source": [
    "ext_mnn_em.model.summary(expand_nested=True)"
   ]
  },
  {
   "cell_type": "code",
   "execution_count": 49,
   "metadata": {},
   "outputs": [
    {
     "name": "stdout",
     "output_type": "stream",
     "text": [
      "You must install pydot (`pip install pydot`) and install graphviz (see instructions at https://graphviz.gitlab.io/download/) for plot_model/model_to_dot to work.\n"
     ]
    }
   ],
   "source": [
    "# Full model\n",
    "\n",
    "tf.keras.utils.plot_model(ext_mnn_em.model,\n",
    "                          rankdir=\"TB\",\n",
    "                          show_layer_activations=True,\n",
    "                          show_shapes=True)"
   ]
  },
  {
   "cell_type": "markdown",
   "metadata": {},
   "source": [
    "# Callbacks"
   ]
  },
  {
   "cell_type": "code",
   "execution_count": 50,
   "metadata": {},
   "outputs": [],
   "source": [
    "from utils.metrics import create_callbacks"
   ]
  },
  {
   "cell_type": "code",
   "execution_count": 51,
   "metadata": {},
   "outputs": [],
   "source": [
    "log_dir = config[\"model\"][\"training\"][\"log_dir\"]\n",
    "model_name = config[\"model\"][\"name\"]\n",
    "optimizer_name = config[\"model\"][\"training\"][\"optimizer\"]\n",
    "learning_rate = config[\"model\"][\"training\"][\"learning_rate\"]"
   ]
  },
  {
   "cell_type": "code",
   "execution_count": 52,
   "metadata": {},
   "outputs": [],
   "source": [
    "# Model is too big to save\n",
    "\n",
    "config[\"model\"][\"training\"][\"callbacks\"] = ['early_stopping', 'tensorboard']"
   ]
  },
  {
   "cell_type": "code",
   "execution_count": 53,
   "metadata": {},
   "outputs": [],
   "source": [
    "callbacks = create_callbacks(\n",
    "    callbacks_list=config[\"model\"][\"training\"][\"callbacks\"],\n",
    "    log_dir=log_dir,\n",
    "    model_name=model_name,\n",
    "    img_model_name=img_model.name,\n",
    "    optimizer_name=optimizer_name,\n",
    "    learning_rate=learning_rate,\n",
    "    cls=config[\"data\"][\"cls\"])"
   ]
  },
  {
   "cell_type": "markdown",
   "metadata": {},
   "source": [
    "# Training"
   ]
  },
  {
   "cell_type": "code",
   "execution_count": 54,
   "metadata": {},
   "outputs": [
    {
     "name": "stdout",
     "output_type": "stream",
     "text": [
      "Epoch 1/10\n",
      "8515/8515 [==============================] - 1045s 121ms/step - loss: 7.1448 - recall: 0.6908 - precision: 0.7287 - binary_accuracy: 0.7055 - cosine_similarity: 0.5200 - val_loss: 3.7979 - val_recall: 0.8127 - val_precision: 0.8763 - val_binary_accuracy: 0.8445 - val_cosine_similarity: 0.5147\n",
      "Epoch 2/10\n",
      "8515/8515 [==============================] - 1031s 121ms/step - loss: 2.8387 - recall: 0.9099 - precision: 0.9035 - binary_accuracy: 0.9026 - cosine_similarity: 0.5200 - val_loss: 2.1959 - val_recall: 0.8917 - val_precision: 0.9449 - val_binary_accuracy: 0.9175 - val_cosine_similarity: 0.5147\n",
      "Epoch 3/10\n",
      "8515/8515 [==============================] - 1033s 121ms/step - loss: 1.7534 - recall: 0.9578 - precision: 0.9452 - binary_accuracy: 0.9492 - cosine_similarity: 0.5200 - val_loss: 1.5386 - val_recall: 0.9224 - val_precision: 0.9298 - val_binary_accuracy: 0.9242 - val_cosine_similarity: 0.5144\n",
      "Epoch 4/10\n",
      "8515/8515 [==============================] - 1034s 121ms/step - loss: 1.2044 - recall: 0.9739 - precision: 0.9620 - binary_accuracy: 0.9664 - cosine_similarity: 0.5200 - val_loss: 1.1145 - val_recall: 0.9389 - val_precision: 0.9519 - val_binary_accuracy: 0.9441 - val_cosine_similarity: 0.5143\n",
      "Epoch 5/10\n",
      "8515/8515 [==============================] - 1032s 121ms/step - loss: 0.8726 - recall: 0.9823 - precision: 0.9715 - binary_accuracy: 0.9759 - cosine_similarity: 0.5200 - val_loss: 0.8400 - val_recall: 0.9570 - val_precision: 0.9707 - val_binary_accuracy: 0.9630 - val_cosine_similarity: 0.5144\n",
      "Epoch 6/10\n",
      "8515/8515 [==============================] - 1034s 121ms/step - loss: 0.6519 - recall: 0.9867 - precision: 0.9778 - binary_accuracy: 0.9814 - cosine_similarity: 0.5200 - val_loss: 0.6248 - val_recall: 0.9823 - val_precision: 0.9686 - val_binary_accuracy: 0.9745 - val_cosine_similarity: 0.5144\n",
      "Epoch 7/10\n",
      "8515/8515 [==============================] - 1035s 121ms/step - loss: 0.4964 - recall: 0.9895 - precision: 0.9809 - binary_accuracy: 0.9845 - cosine_similarity: 0.5200 - val_loss: 0.5472 - val_recall: 0.9196 - val_precision: 0.9835 - val_binary_accuracy: 0.9507 - val_cosine_similarity: 0.5145\n",
      "Epoch 8/10\n",
      "8515/8515 [==============================] - 1035s 122ms/step - loss: 0.3863 - recall: 0.9910 - precision: 0.9844 - binary_accuracy: 0.9872 - cosine_similarity: 0.5200 - val_loss: 0.4091 - val_recall: 0.9706 - val_precision: 0.9754 - val_binary_accuracy: 0.9723 - val_cosine_similarity: 0.5145\n",
      "Epoch 9/10\n",
      "8515/8515 [==============================] - 1032s 121ms/step - loss: 0.3067 - recall: 0.9927 - precision: 0.9866 - binary_accuracy: 0.9892 - cosine_similarity: 0.5200 - val_loss: 0.3947 - val_recall: 0.9419 - val_precision: 0.9834 - val_binary_accuracy: 0.9619 - val_cosine_similarity: 0.5146\n",
      "Epoch 10/10\n",
      "8515/8515 [==============================] - 1032s 121ms/step - loss: 0.2448 - recall: 0.9937 - precision: 0.9883 - binary_accuracy: 0.9906 - cosine_similarity: 0.5200 - val_loss: 0.2649 - val_recall: 0.9926 - val_precision: 0.9829 - val_binary_accuracy: 0.9873 - val_cosine_similarity: 0.5146\n"
     ]
    }
   ],
   "source": [
    "history = ext_mnn_em.model.fit(\n",
    "    x=[img_train, text_train, text2_train],\n",
    "    y=labels_train,\n",
    "    epochs=config[\"model\"][\"training\"][\"epochs\"],\n",
    "    validation_split=config[\"model\"][\"training\"][\"validation_split\"],\n",
    "    batch_size=config[\"model\"][\"training\"][\"batch_size\"],\n",
    "    callbacks=callbacks)"
   ]
  },
  {
   "cell_type": "markdown",
   "metadata": {},
   "source": [
    "# Evaluation"
   ]
  },
  {
   "cell_type": "markdown",
   "metadata": {},
   "source": [
    "## Plot loss and metrics"
   ]
  },
  {
   "cell_type": "code",
   "execution_count": 55,
   "metadata": {},
   "outputs": [],
   "source": [
    "from utils.metrics import plot_metrics"
   ]
  },
  {
   "cell_type": "code",
   "execution_count": 56,
   "metadata": {},
   "outputs": [
    {
     "data": {
      "image/png": "[encoded data removed]",
      "text/plain": [
       "<Figure size 640x480 with 1 Axes>"
      ]
     },
     "metadata": {},
     "output_type": "display_data"
    },
    {
     "data": {
      "image/png": "[encoded data removed]",
      "text/plain": [
       "<Figure size 640x480 with 1 Axes>"
      ]
     },
     "metadata": {},
     "output_type": "display_data"
    },
    {
     "data": {
      "image/png": "[encoded data removed]",
      "text/plain": [
       "<Figure size 640x480 with 1 Axes>"
      ]
     },
     "metadata": {},
     "output_type": "display_data"
    },
    {
     "data": {
      "image/png": "[encoded data removed]",
      "text/plain": [
       "<Figure size 640x480 with 1 Axes>"
      ]
     },
     "metadata": {},
     "output_type": "display_data"
    },
    {
     "data": {
      "image/png": "[encoded data removed]",
      "text/plain": [
       "<Figure size 640x480 with 1 Axes>"
      ]
     },
     "metadata": {},
     "output_type": "display_data"
    }
   ],
   "source": [
    "plot_metrics(history.history, config[\"model\"][\"training\"][\"metrics\"],\n",
    "             model_name, img_model.name, optimizer_name, learning_rate,\n",
    "             config[\"data\"][\"cls\"])"
   ]
  },
  {
   "cell_type": "markdown",
   "metadata": {},
   "source": [
    "## Evaluate model and save metrics"
   ]
  },
  {
   "cell_type": "code",
   "execution_count": 57,
   "metadata": {},
   "outputs": [],
   "source": [
    "from utils.metrics import evaluate"
   ]
  },
  {
   "cell_type": "code",
   "execution_count": 58,
   "metadata": {},
   "outputs": [
    {
     "name": "stdout",
     "output_type": "stream",
     "text": [
      "16820/16820 [==============================] - 283s 17ms/step - loss: 0.2714 - recall: 0.9934 - precision: 0.9801 - binary_accuracy: 0.9861 - cosine_similarity: 0.5185\n"
     ]
    }
   ],
   "source": [
    "evaluate(ext_mnn_em.model, [img_test, text_test, text2_test], labels_test, log_dir, model_name,\n",
    "         img_model.name, optimizer_name, learning_rate, config[\"data\"][\"cls\"])"
   ]
  }
 ],
 "metadata": {
  "kernelspec": {
   "display_name": "tf2.8",
   "language": "python",
   "name": "tf2.8"
  },
  "language_info": {
   "codemirror_mode": {
    "name": "ipython",
    "version": 3
   },
   "file_extension": ".py",
   "mimetype": "text/x-python",
   "name": "python",
   "nbconvert_exporter": "python",
   "pygments_lexer": "ipython3",
   "version": "3.9.16"
  }
 },
 "nbformat": 4,
 "nbformat_minor": 4
}
