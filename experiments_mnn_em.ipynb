{
 "cells": [
  {
   "attachments": {},
   "cell_type": "markdown",
   "metadata": {},
   "source": [
    "# Setup"
   ]
  },
  {
   "cell_type": "code",
   "execution_count": 1,
   "metadata": {},
   "outputs": [],
   "source": [
    "import tensorflow as tf\n",
    "import pandas as pd\n",
    "import numpy as np\n",
    "import json\n",
    "import os\n",
    "from utils.char_tokenizer import CharTokenizer"
   ]
  },
  {
   "cell_type": "code",
   "execution_count": 2,
   "metadata": {},
   "outputs": [],
   "source": [
    "config = json.load(open(\"config.json\"))"
   ]
  },
  {
   "attachments": {},
   "cell_type": "markdown",
   "metadata": {},
   "source": [
    "# Loading data"
   ]
  },
  {
   "cell_type": "code",
   "execution_count": 3,
   "metadata": {},
   "outputs": [
    {
     "data": {
      "text/html": [
       "<div>\n",
       "<style scoped>\n",
       "    .dataframe tbody tr th:only-of-type {\n",
       "        vertical-align: middle;\n",
       "    }\n",
       "\n",
       "    .dataframe tbody tr th {\n",
       "        vertical-align: top;\n",
       "    }\n",
       "\n",
       "    .dataframe thead th {\n",
       "        text-align: right;\n",
       "    }\n",
       "</style>\n",
       "<table border=\"1\" class=\"dataframe\">\n",
       "  <thead>\n",
       "    <tr style=\"text-align: right;\">\n",
       "      <th></th>\n",
       "      <th>description</th>\n",
       "      <th>path</th>\n",
       "      <th>product_type</th>\n",
       "      <th>label</th>\n",
       "    </tr>\n",
       "  </thead>\n",
       "  <tbody>\n",
       "    <tr>\n",
       "      <th>0</th>\n",
       "      <td>mobile coverb075yysthnamazon brand - solimo de...</td>\n",
       "      <td>d1/d1092873.jpg</td>\n",
       "      <td>CELLULAR_PHONE_CASE</td>\n",
       "      <td>0</td>\n",
       "    </tr>\n",
       "    <tr>\n",
       "      <th>1</th>\n",
       "      <td>mobile coverb07t6v3t9samazon brand - solimo de...</td>\n",
       "      <td>25/25c3cc65.jpg</td>\n",
       "      <td>SOFA</td>\n",
       "      <td>0</td>\n",
       "    </tr>\n",
       "    <tr>\n",
       "      <th>2</th>\n",
       "      <td>mobile coverb081hncfc3amazon brand - solimo de...</td>\n",
       "      <td>5a/5a18d1b1.jpg</td>\n",
       "      <td>CELLULAR_PHONE_CASE</td>\n",
       "      <td>1</td>\n",
       "    </tr>\n",
       "    <tr>\n",
       "      <th>3</th>\n",
       "      <td>pinzonb07k97dsjxamazon brand - the fix women's...</td>\n",
       "      <td>bf/bf853367.jpg</td>\n",
       "      <td>CELLULAR_PHONE_CASE</td>\n",
       "      <td>0</td>\n",
       "    </tr>\n",
       "    <tr>\n",
       "      <th>4</th>\n",
       "      <td>mobile coverb0853wz9vvamazon brand - solimo de...</td>\n",
       "      <td>c1/c1820404.jpg</td>\n",
       "      <td>BEAUTY</td>\n",
       "      <td>0</td>\n",
       "    </tr>\n",
       "    <tr>\n",
       "      <th>...</th>\n",
       "      <td>...</td>\n",
       "      <td>...</td>\n",
       "      <td>...</td>\n",
       "      <td>...</td>\n",
       "    </tr>\n",
       "    <tr>\n",
       "      <th>157051</th>\n",
       "      <td>back coverb07tg4894famazon brand - symbol men'...</td>\n",
       "      <td>08/0836e89c.jpg</td>\n",
       "      <td>CELLULAR_PHONE_CASE</td>\n",
       "      <td>0</td>\n",
       "    </tr>\n",
       "    <tr>\n",
       "      <th>157052</th>\n",
       "      <td>bed;gift;tent;plushie;hands;foam;year;figures;...</td>\n",
       "      <td>2b/2b762611.jpg</td>\n",
       "      <td>HOME_FURNITURE_AND_DECOR</td>\n",
       "      <td>0</td>\n",
       "    </tr>\n",
       "    <tr>\n",
       "      <th>157053</th>\n",
       "      <td>samsung galaxy m31 mobile caseb085119c3mamazon...</td>\n",
       "      <td>61/61677d34.jpg</td>\n",
       "      <td>CELLULAR_PHONE_CASE</td>\n",
       "      <td>1</td>\n",
       "    </tr>\n",
       "    <tr>\n",
       "      <th>157054</th>\n",
       "      <td>luminaidb07x2tgp2mamazon brand - solimo design...</td>\n",
       "      <td>a9/a981baf8.jpg</td>\n",
       "      <td>CELLULAR_PHONE_CASE</td>\n",
       "      <td>0</td>\n",
       "    </tr>\n",
       "    <tr>\n",
       "      <th>157055</th>\n",
       "      <td>flaviab071hsmxbtumi by amazon thermal insulate...</td>\n",
       "      <td>87/87a1914e.jpg</td>\n",
       "      <td>MUSCLE_ROLLER</td>\n",
       "      <td>0</td>\n",
       "    </tr>\n",
       "  </tbody>\n",
       "</table>\n",
       "<p>157056 rows × 4 columns</p>\n",
       "</div>"
      ],
      "text/plain": [
       "                                              description             path   \n",
       "0       mobile coverb075yysthnamazon brand - solimo de...  d1/d1092873.jpg  \\\n",
       "1       mobile coverb07t6v3t9samazon brand - solimo de...  25/25c3cc65.jpg   \n",
       "2       mobile coverb081hncfc3amazon brand - solimo de...  5a/5a18d1b1.jpg   \n",
       "3       pinzonb07k97dsjxamazon brand - the fix women's...  bf/bf853367.jpg   \n",
       "4       mobile coverb0853wz9vvamazon brand - solimo de...  c1/c1820404.jpg   \n",
       "...                                                   ...              ...   \n",
       "157051  back coverb07tg4894famazon brand - symbol men'...  08/0836e89c.jpg   \n",
       "157052  bed;gift;tent;plushie;hands;foam;year;figures;...  2b/2b762611.jpg   \n",
       "157053  samsung galaxy m31 mobile caseb085119c3mamazon...  61/61677d34.jpg   \n",
       "157054  luminaidb07x2tgp2mamazon brand - solimo design...  a9/a981baf8.jpg   \n",
       "157055  flaviab071hsmxbtumi by amazon thermal insulate...  87/87a1914e.jpg   \n",
       "\n",
       "                    product_type  label  \n",
       "0            CELLULAR_PHONE_CASE      0  \n",
       "1                           SOFA      0  \n",
       "2            CELLULAR_PHONE_CASE      1  \n",
       "3            CELLULAR_PHONE_CASE      0  \n",
       "4                         BEAUTY      0  \n",
       "...                          ...    ...  \n",
       "157051       CELLULAR_PHONE_CASE      0  \n",
       "157052  HOME_FURNITURE_AND_DECOR      0  \n",
       "157053       CELLULAR_PHONE_CASE      1  \n",
       "157054       CELLULAR_PHONE_CASE      0  \n",
       "157055             MUSCLE_ROLLER      0  \n",
       "\n",
       "[157056 rows x 4 columns]"
      ]
     },
     "execution_count": 3,
     "metadata": {},
     "output_type": "execute_result"
    }
   ],
   "source": [
    "data = pd.read_csv(os.path.join(config[\"data\"][\"path\"], \"data.csv\"))\n",
    "data = data.drop({\"Unnamed: 0\"}, axis=1)\n",
    "data['product_type'] = data['product_type.value']\n",
    "data = data[['description', 'path', 'product_type', 'label']]\n",
    "data"
   ]
  },
  {
   "cell_type": "code",
   "execution_count": 4,
   "metadata": {},
   "outputs": [],
   "source": [
    "img = data[[\"path\"]] # two brackets for keeping the column name\n",
    "text = data[\"description\"]\n",
    "product_types = data[[\"product_type\"]]\n",
    "labels = data[[\"label\"]]"
   ]
  },
  {
   "attachments": {},
   "cell_type": "markdown",
   "metadata": {},
   "source": [
    "# Text processing"
   ]
  },
  {
   "attachments": {},
   "cell_type": "markdown",
   "metadata": {},
   "source": [
    "## Tokenize texts"
   ]
  },
  {
   "cell_type": "code",
   "execution_count": 5,
   "metadata": {},
   "outputs": [
    {
     "data": {
      "text/plain": [
       "(157056, 1014)"
      ]
     },
     "execution_count": 5,
     "metadata": {},
     "output_type": "execute_result"
    }
   ],
   "source": [
    "tk = CharTokenizer(config[\"data\"][\"alphabet\"])\n",
    "text = tk.tokenize(text)\n",
    "text.shape"
   ]
  },
  {
   "attachments": {},
   "cell_type": "markdown",
   "metadata": {},
   "source": [
    "## Create embedding weights"
   ]
  },
  {
   "cell_type": "code",
   "execution_count": 6,
   "metadata": {},
   "outputs": [
    {
     "data": {
      "text/plain": [
       "(3202, 3201)"
      ]
     },
     "execution_count": 6,
     "metadata": {},
     "output_type": "execute_result"
    }
   ],
   "source": [
    "weights = tk.create_embedding_weights()\n",
    "weights.shape"
   ]
  },
  {
   "attachments": {},
   "cell_type": "markdown",
   "metadata": {},
   "source": [
    "# Image processing"
   ]
  },
  {
   "attachments": {},
   "cell_type": "markdown",
   "metadata": {},
   "source": [
    "## Load image model"
   ]
  },
  {
   "cell_type": "code",
   "execution_count": 7,
   "metadata": {},
   "outputs": [],
   "source": [
    "from utils import img_models"
   ]
  },
  {
   "cell_type": "code",
   "execution_count": 8,
   "metadata": {},
   "outputs": [
    {
     "name": "stdout",
     "output_type": "stream",
     "text": [
      "WARNING:tensorflow:`input_shape` is undefined or non-square, or `rows` is not 224. Weights for input shape (224, 224) will be loaded as the default.\n"
     ]
    },
    {
     "data": {
      "text/plain": [
       "(None, 576)"
      ]
     },
     "execution_count": 8,
     "metadata": {},
     "output_type": "execute_result"
    }
   ],
   "source": [
    "img_model = img_models.load(config[\"img_model\"])\n",
    "\n",
    "img_model.output_shape"
   ]
  },
  {
   "attachments": {},
   "cell_type": "markdown",
   "metadata": {},
   "source": [
    "## Create image embeddings"
   ]
  },
  {
   "cell_type": "code",
   "execution_count": null,
   "metadata": {},
   "outputs": [],
   "source": [
    "img = img_models.create_embeddings_from(img_model, img, os.path.join(config[\"data\"][\"path\"], \"images/small\"))"
   ]
  },
  {
   "cell_type": "code",
   "execution_count": null,
   "metadata": {},
   "outputs": [
    {
     "data": {
      "text/plain": [
       "(157056, 576)"
      ]
     },
     "execution_count": 10,
     "metadata": {},
     "output_type": "execute_result"
    }
   ],
   "source": [
    "img.shape"
   ]
  },
  {
   "attachments": {},
   "cell_type": "markdown",
   "metadata": {},
   "source": [
    "# Save embeddings"
   ]
  },
  {
   "cell_type": "code",
   "execution_count": 10,
   "metadata": {},
   "outputs": [],
   "source": [
    "save_path = os.path.join(config[\"data\"][\"path\"], \"embeddings\")"
   ]
  },
  {
   "cell_type": "code",
   "execution_count": null,
   "metadata": {},
   "outputs": [],
   "source": [
    "os.makedirs(save_path, exist_ok=True)\n",
    "np.save(f\"{save_path}/img.npy\", img)\n",
    "np.save(f\"{save_path}/text.npy\", text)\n",
    "data.to_csv(f\"{save_path}/data.csv\")"
   ]
  },
  {
   "attachments": {},
   "cell_type": "markdown",
   "metadata": {},
   "source": [
    "## Verify import"
   ]
  },
  {
   "cell_type": "code",
   "execution_count": 11,
   "metadata": {},
   "outputs": [
    {
     "data": {
      "text/html": [
       "<div>\n",
       "<style scoped>\n",
       "    .dataframe tbody tr th:only-of-type {\n",
       "        vertical-align: middle;\n",
       "    }\n",
       "\n",
       "    .dataframe tbody tr th {\n",
       "        vertical-align: top;\n",
       "    }\n",
       "\n",
       "    .dataframe thead th {\n",
       "        text-align: right;\n",
       "    }\n",
       "</style>\n",
       "<table border=\"1\" class=\"dataframe\">\n",
       "  <thead>\n",
       "    <tr style=\"text-align: right;\">\n",
       "      <th></th>\n",
       "      <th>description</th>\n",
       "      <th>description2</th>\n",
       "      <th>path</th>\n",
       "      <th>product_type</th>\n",
       "      <th>label</th>\n",
       "    </tr>\n",
       "  </thead>\n",
       "  <tbody>\n",
       "    <tr>\n",
       "      <th>0</th>\n",
       "      <td>mobile coverb075yysthnamazon brand - solimo de...</td>\n",
       "      <td>mobile coverb08563mwp6365 everyday value, psyl...</td>\n",
       "      <td>d1/d1092873.jpg</td>\n",
       "      <td>CELLULAR_PHONE_CASE</td>\n",
       "      <td>0</td>\n",
       "    </tr>\n",
       "    <tr>\n",
       "      <th>1</th>\n",
       "      <td>mobile coverb07t6v3t9samazon brand - solimo de...</td>\n",
       "      <td>meal kitsb0748r4spcamazon brand - solimo desig...</td>\n",
       "      <td>25/25c3cc65.jpg</td>\n",
       "      <td>SOFA</td>\n",
       "      <td>0</td>\n",
       "    </tr>\n",
       "    <tr>\n",
       "      <th>2</th>\n",
       "      <td>mobile coverb081hncfc3amazon brand - solimo de...</td>\n",
       "      <td>mobile coverb081hncfc3amazon brand - solimo de...</td>\n",
       "      <td>5a/5a18d1b1.jpg</td>\n",
       "      <td>CELLULAR_PHONE_CASE</td>\n",
       "      <td>1</td>\n",
       "    </tr>\n",
       "    <tr>\n",
       "      <th>3</th>\n",
       "      <td>pinzonb07k97dsjxamazon brand - the fix women's...</td>\n",
       "      <td>air freshener for bathroomb07ydqrzkfamazon bra...</td>\n",
       "      <td>bf/bf853367.jpg</td>\n",
       "      <td>CELLULAR_PHONE_CASE</td>\n",
       "      <td>0</td>\n",
       "    </tr>\n",
       "    <tr>\n",
       "      <th>4</th>\n",
       "      <td>mobile coverb0853wz9vvamazon brand - solimo de...</td>\n",
       "      <td>shoesb00r7neg2qamazon-merk: solimo - sun – aft...</td>\n",
       "      <td>c1/c1820404.jpg</td>\n",
       "      <td>BEAUTY</td>\n",
       "      <td>0</td>\n",
       "    </tr>\n",
       "    <tr>\n",
       "      <th>...</th>\n",
       "      <td>...</td>\n",
       "      <td>...</td>\n",
       "      <td>...</td>\n",
       "      <td>...</td>\n",
       "      <td>...</td>\n",
       "    </tr>\n",
       "    <tr>\n",
       "      <th>157051</th>\n",
       "      <td>back coverb07tg4894famazon brand - symbol men'...</td>\n",
       "      <td>expandingb074mgjzy9amazon brand - solimo desig...</td>\n",
       "      <td>08/0836e89c.jpg</td>\n",
       "      <td>CELLULAR_PHONE_CASE</td>\n",
       "      <td>0</td>\n",
       "    </tr>\n",
       "    <tr>\n",
       "      <th>157052</th>\n",
       "      <td>bed;gift;tent;plushie;hands;foam;year;figures;...</td>\n",
       "      <td>mobile coverb08dxd2qcv[amazonブランド] umi.(ウミ)窓用ガ...</td>\n",
       "      <td>2b/2b762611.jpg</td>\n",
       "      <td>HOME_FURNITURE_AND_DECOR</td>\n",
       "      <td>0</td>\n",
       "    </tr>\n",
       "    <tr>\n",
       "      <th>157053</th>\n",
       "      <td>samsung galaxy m31 mobile caseb085119c3mamazon...</td>\n",
       "      <td>samsung galaxy m31 mobile caseb085119c3mamazon...</td>\n",
       "      <td>61/61677d34.jpg</td>\n",
       "      <td>CELLULAR_PHONE_CASE</td>\n",
       "      <td>1</td>\n",
       "    </tr>\n",
       "    <tr>\n",
       "      <th>157054</th>\n",
       "      <td>luminaidb07x2tgp2mamazon brand - solimo design...</td>\n",
       "      <td>back coverb07tc4plxmwickedly prime organic spr...</td>\n",
       "      <td>a9/a981baf8.jpg</td>\n",
       "      <td>CELLULAR_PHONE_CASE</td>\n",
       "      <td>0</td>\n",
       "    </tr>\n",
       "    <tr>\n",
       "      <th>157055</th>\n",
       "      <td>flaviab071hsmxbtumi by amazon thermal insulate...</td>\n",
       "      <td>mobile coverb07th3t934amazon brand - mama bear...</td>\n",
       "      <td>87/87a1914e.jpg</td>\n",
       "      <td>MUSCLE_ROLLER</td>\n",
       "      <td>0</td>\n",
       "    </tr>\n",
       "  </tbody>\n",
       "</table>\n",
       "<p>157056 rows × 5 columns</p>\n",
       "</div>"
      ],
      "text/plain": [
       "                                              description   \n",
       "0       mobile coverb075yysthnamazon brand - solimo de...  \\\n",
       "1       mobile coverb07t6v3t9samazon brand - solimo de...   \n",
       "2       mobile coverb081hncfc3amazon brand - solimo de...   \n",
       "3       pinzonb07k97dsjxamazon brand - the fix women's...   \n",
       "4       mobile coverb0853wz9vvamazon brand - solimo de...   \n",
       "...                                                   ...   \n",
       "157051  back coverb07tg4894famazon brand - symbol men'...   \n",
       "157052  bed;gift;tent;plushie;hands;foam;year;figures;...   \n",
       "157053  samsung galaxy m31 mobile caseb085119c3mamazon...   \n",
       "157054  luminaidb07x2tgp2mamazon brand - solimo design...   \n",
       "157055  flaviab071hsmxbtumi by amazon thermal insulate...   \n",
       "\n",
       "                                             description2             path   \n",
       "0       mobile coverb08563mwp6365 everyday value, psyl...  d1/d1092873.jpg  \\\n",
       "1       meal kitsb0748r4spcamazon brand - solimo desig...  25/25c3cc65.jpg   \n",
       "2       mobile coverb081hncfc3amazon brand - solimo de...  5a/5a18d1b1.jpg   \n",
       "3       air freshener for bathroomb07ydqrzkfamazon bra...  bf/bf853367.jpg   \n",
       "4       shoesb00r7neg2qamazon-merk: solimo - sun – aft...  c1/c1820404.jpg   \n",
       "...                                                   ...              ...   \n",
       "157051  expandingb074mgjzy9amazon brand - solimo desig...  08/0836e89c.jpg   \n",
       "157052  mobile coverb08dxd2qcv[amazonブランド] umi.(ウミ)窓用ガ...  2b/2b762611.jpg   \n",
       "157053  samsung galaxy m31 mobile caseb085119c3mamazon...  61/61677d34.jpg   \n",
       "157054  back coverb07tc4plxmwickedly prime organic spr...  a9/a981baf8.jpg   \n",
       "157055  mobile coverb07th3t934amazon brand - mama bear...  87/87a1914e.jpg   \n",
       "\n",
       "                    product_type  label  \n",
       "0            CELLULAR_PHONE_CASE      0  \n",
       "1                           SOFA      0  \n",
       "2            CELLULAR_PHONE_CASE      1  \n",
       "3            CELLULAR_PHONE_CASE      0  \n",
       "4                         BEAUTY      0  \n",
       "...                          ...    ...  \n",
       "157051       CELLULAR_PHONE_CASE      0  \n",
       "157052  HOME_FURNITURE_AND_DECOR      0  \n",
       "157053       CELLULAR_PHONE_CASE      1  \n",
       "157054       CELLULAR_PHONE_CASE      0  \n",
       "157055             MUSCLE_ROLLER      0  \n",
       "\n",
       "[157056 rows x 5 columns]"
      ]
     },
     "execution_count": 11,
     "metadata": {},
     "output_type": "execute_result"
    }
   ],
   "source": [
    "data = pd.read_csv(f\"{save_path}/data.csv\")\n",
    "data = data.drop({\"Unnamed: 0\"}, axis=1)\n",
    "data"
   ]
  },
  {
   "cell_type": "code",
   "execution_count": 12,
   "metadata": {},
   "outputs": [
    {
     "data": {
      "text/plain": [
       "(157056, 576)"
      ]
     },
     "execution_count": 12,
     "metadata": {},
     "output_type": "execute_result"
    }
   ],
   "source": [
    "img = np.load(f\"{save_path}/img.npy\")\n",
    "img.shape"
   ]
  },
  {
   "cell_type": "code",
   "execution_count": 13,
   "metadata": {},
   "outputs": [
    {
     "data": {
      "text/plain": [
       "(157056, 1014)"
      ]
     },
     "execution_count": 13,
     "metadata": {},
     "output_type": "execute_result"
    }
   ],
   "source": [
    "text = np.load(f\"{save_path}/text.npy\")\n",
    "text.shape"
   ]
  },
  {
   "attachments": {},
   "cell_type": "markdown",
   "metadata": {},
   "source": [
    "# Train-Test Split"
   ]
  },
  {
   "attachments": {},
   "cell_type": "markdown",
   "metadata": {},
   "source": [
    "To use `stratify` parameter of `sklearn.model_selection.train_test_split()`, we need to select all product instances which appear more than once"
   ]
  },
  {
   "cell_type": "code",
   "execution_count": 14,
   "metadata": {},
   "outputs": [],
   "source": [
    "data[\"product_type_count\"] = data.groupby([\"product_type\"])[\"product_type\"].transform(\"count\")\n",
    "\n",
    "data = data[data[\"product_type_count\"] > 1]"
   ]
  },
  {
   "cell_type": "code",
   "execution_count": 15,
   "metadata": {},
   "outputs": [],
   "source": [
    "# Update both columns\n",
    "product_types = data[[\"product_type\"]]\n",
    "\n",
    "labels = data[[\"label\"]]"
   ]
  },
  {
   "cell_type": "code",
   "execution_count": 16,
   "metadata": {},
   "outputs": [],
   "source": [
    "from sklearn.model_selection import train_test_split"
   ]
  },
  {
   "cell_type": "code",
   "execution_count": 17,
   "metadata": {},
   "outputs": [],
   "source": [
    "train, test, labels_train, labels_test = train_test_split(data, labels, stratify=product_types, test_size=0.1, random_state=42)"
   ]
  },
  {
   "cell_type": "code",
   "execution_count": 18,
   "metadata": {},
   "outputs": [],
   "source": [
    "img_train = img[train.index]\n",
    "img_test = img[test.index]\n",
    "\n",
    "text_train = text[train.index]\n",
    "text_test = text[test.index]"
   ]
  },
  {
   "attachments": {},
   "cell_type": "markdown",
   "metadata": {},
   "source": [
    "# Save Char CNN config"
   ]
  },
  {
   "cell_type": "code",
   "execution_count": 19,
   "metadata": {},
   "outputs": [],
   "source": [
    "from models.char_cnn_zhang import CharCNNZhang"
   ]
  },
  {
   "cell_type": "code",
   "execution_count": 20,
   "metadata": {},
   "outputs": [],
   "source": [
    "char_cnn_config = {\n",
    "    \"input_size\": config[\"data\"][\"input_size\"],\n",
    "    \"embedding_size\": len(tk.word_index),\n",
    "    \"conv_layers\": config[\"char_cnn_zhang\"][\"conv_layers\"],\n",
    "    \"fully_connected_layers\": config[\"char_cnn_zhang\"][\"fully_connected_layers\"],\n",
    "    \"output_size\": config[\"char_cnn_zhang\"][\"output_size\"],\n",
    "    \"embedding_weights\": weights\n",
    "}"
   ]
  },
  {
   "cell_type": "code",
   "execution_count": 21,
   "metadata": {},
   "outputs": [],
   "source": [
    "# txt_model = CharCNNZhang(**char_cnn_config)"
   ]
  },
  {
   "attachments": {},
   "cell_type": "markdown",
   "metadata": {},
   "source": [
    "# Load MNN-EM Model"
   ]
  },
  {
   "cell_type": "code",
   "execution_count": 22,
   "metadata": {},
   "outputs": [],
   "source": [
    "from models.mnn_em import MNNEM"
   ]
  },
  {
   "cell_type": "code",
   "execution_count": 23,
   "metadata": {},
   "outputs": [],
   "source": [
    "mnn_em = MNNEM(img_input_size=img_model.layers[-1].output_shape[1],\n",
    "              img_conv_layers=config[\"mnn_em\"][\"img_conv_layers\"],\n",
    "              txt_input_size=config[\"data\"][\"input_size\"],\n",
    "              txt_conv_layers=config[\"mnn_em\"][\"txt_conv_layers\"],\n",
    "              txt_weights=weights,\n",
    "              char_cnn_config=char_cnn_config,\n",
    "              combined_conv_layers=config[\"mnn_em\"][\"combined_conv_layers\"],\n",
    "              learning_rate=config[\"mnn_em\"][\"training\"][\"learning_rate\"]\n",
    "              )"
   ]
  },
  {
   "cell_type": "code",
   "execution_count": 24,
   "metadata": {},
   "outputs": [
    {
     "name": "stdout",
     "output_type": "stream",
     "text": [
      "Model: \"model\"\n",
      "__________________________________________________________________________________________________\n",
      " Layer (type)                   Output Shape         Param #     Connected to                     \n",
      "==================================================================================================\n",
      " Text_Input (InputLayer)        [(None, 1014)]       0           []                               \n",
      "                                                                                                  \n",
      " Image_Input (InputLayer)       [(None, 576)]        0           []                               \n",
      "                                                                                                  \n",
      " Character_Level_CNN (Functiona  (None, 2048)        29295234    ['Text_Input[0][0]']             \n",
      " l)                                                                                               \n",
      "|¯¯¯¯¯¯¯¯¯¯¯¯¯¯¯¯¯¯¯¯¯¯¯¯¯¯¯¯¯¯¯¯¯¯¯¯¯¯¯¯¯¯¯¯¯¯¯¯¯¯¯¯¯¯¯¯¯¯¯¯¯¯¯¯¯¯¯¯¯¯¯¯¯¯¯¯¯¯¯¯¯¯¯¯¯¯¯¯¯¯¯¯¯¯¯¯|\n",
      "| sent_input (InputLayer)      [(None, 1014)]       0           []                               |\n",
      "|                                                                                                |\n",
      "| embedding (Embedding)        (None, 1014, 3201)   10249602    []                               |\n",
      "|                                                                                                |\n",
      "| conv1d (Conv1D)              (None, 1008, 256)    5736448     []                               |\n",
      "|                                                                                                |\n",
      "| activation (Activation)      (None, 1008, 256)    0           []                               |\n",
      "|                                                                                                |\n",
      "| max_pooling1d (MaxPooling1D)  (None, 336, 256)    0           []                               |\n",
      "|                                                                                                |\n",
      "| conv1d_1 (Conv1D)            (None, 330, 256)     459008      []                               |\n",
      "|                                                                                                |\n",
      "| activation_1 (Activation)    (None, 330, 256)     0           []                               |\n",
      "|                                                                                                |\n",
      "| max_pooling1d_1 (MaxPooling1D)  (None, 110, 256)  0           []                               |\n",
      "|                                                                                                |\n",
      "| conv1d_2 (Conv1D)            (None, 108, 256)     196864      []                               |\n",
      "|                                                                                                |\n",
      "| activation_2 (Activation)    (None, 108, 256)     0           []                               |\n",
      "|                                                                                                |\n",
      "| conv1d_3 (Conv1D)            (None, 106, 256)     196864      []                               |\n",
      "|                                                                                                |\n",
      "| activation_3 (Activation)    (None, 106, 256)     0           []                               |\n",
      "|                                                                                                |\n",
      "| conv1d_4 (Conv1D)            (None, 104, 256)     196864      []                               |\n",
      "|                                                                                                |\n",
      "| activation_4 (Activation)    (None, 104, 256)     0           []                               |\n",
      "|                                                                                                |\n",
      "| conv1d_5 (Conv1D)            (None, 102, 256)     196864      []                               |\n",
      "|                                                                                                |\n",
      "| activation_5 (Activation)    (None, 102, 256)     0           []                               |\n",
      "|                                                                                                |\n",
      "| max_pooling1d_2 (MaxPooling1D)  (None, 34, 256)   0           []                               |\n",
      "|                                                                                                |\n",
      "| flatten (Flatten)            (None, 8704)         0           []                               |\n",
      "|                                                                                                |\n",
      "| dense (Dense)                (None, 1024)         8913920     []                               |\n",
      "|                                                                                                |\n",
      "| dense_1 (Dense)              (None, 1024)         1049600     []                               |\n",
      "|                                                                                                |\n",
      "| dense_2 (Dense)              (None, 2048)         2099200     []                               |\n",
      "¯¯¯¯¯¯¯¯¯¯¯¯¯¯¯¯¯¯¯¯¯¯¯¯¯¯¯¯¯¯¯¯¯¯¯¯¯¯¯¯¯¯¯¯¯¯¯¯¯¯¯¯¯¯¯¯¯¯¯¯¯¯¯¯¯¯¯¯¯¯¯¯¯¯¯¯¯¯¯¯¯¯¯¯¯¯¯¯¯¯¯¯¯¯¯¯¯¯\n",
      " Image_FC_1 (Dense)             (None, 1024)         590848      ['Image_Input[0][0]']            \n",
      "                                                                                                  \n",
      " Text_FC_1 (Dense)              (None, 1024)         2098176     ['Character_Level_CNN[0][0]']    \n",
      "                                                                                                  \n",
      " Image_FC_last (Dense)          (None, 512)          524800      ['Image_FC_1[0][0]']             \n",
      "                                                                                                  \n",
      " Text_FC_last (Dense)           (None, 512)          524800      ['Text_FC_1[0][0]']              \n",
      "                                                                                                  \n",
      " Image_Batch_Normalization (Bat  (None, 512)         2048        ['Image_FC_last[0][0]']          \n",
      " chNormalization)                                                                                 \n",
      "                                                                                                  \n",
      " Text_Batch_Normalization (Batc  (None, 512)         2048        ['Text_FC_last[0][0]']           \n",
      " hNormalization)                                                                                  \n",
      "                                                                                                  \n",
      " Element-wise_Multiplication (M  (None, 512)         0           ['Image_Batch_Normalization[0][0]\n",
      " ultiply)                                                        ',                               \n",
      "                                                                  'Text_Batch_Normalization[0][0]'\n",
      "                                                                 ]                                \n",
      "                                                                                                  \n",
      " Combined_FC_1 (Dense)          (None, 512)          262656      ['Element-wise_Multiplication[0][\n",
      "                                                                 0]']                             \n",
      "                                                                                                  \n",
      " Combined_FC_2 (Dense)          (None, 256)          131328      ['Combined_FC_1[0][0]']          \n",
      "                                                                                                  \n",
      " Sigmoid (Dense)                (None, 1)            257         ['Combined_FC_2[0][0]']          \n",
      "                                                                                                  \n",
      "==================================================================================================\n",
      "Total params: 33,432,195\n",
      "Trainable params: 33,430,147\n",
      "Non-trainable params: 2,048\n",
      "__________________________________________________________________________________________________\n"
     ]
    }
   ],
   "source": [
    "mnn_em.model.summary(expand_nested=True)"
   ]
  },
  {
   "cell_type": "code",
   "execution_count": 25,
   "metadata": {},
   "outputs": [
    {
     "data": {
      "image/png": "[encoded data removed]",
      "text/plain": [
       "<IPython.core.display.Image object>"
      ]
     },
     "execution_count": 25,
     "metadata": {},
     "output_type": "execute_result"
    }
   ],
   "source": [
    "tf.keras.utils.plot_model(mnn_em.model, rankdir=\"TB\", show_layer_activations=True, show_shapes=True)"
   ]
  },
  {
   "attachments": {},
   "cell_type": "markdown",
   "metadata": {},
   "source": [
    "# Callbacks"
   ]
  },
  {
   "cell_type": "code",
   "execution_count": 30,
   "metadata": {},
   "outputs": [],
   "source": [
    "from tensorflow.keras.callbacks import ModelCheckpoint, EarlyStopping, TensorBoard"
   ]
  },
  {
   "cell_type": "code",
   "execution_count": 31,
   "metadata": {},
   "outputs": [],
   "source": [
    "model_name = config[\"mnn_em\"][\"name\"]\n",
    "optimizer_name = config[\"mnn_em\"][\"training\"][\"optimizer\"]\n",
    "learning_rate = config[\"mnn_em\"][\"training\"][\"learning_rate\"]"
   ]
  },
  {
   "cell_type": "code",
   "execution_count": 32,
   "metadata": {},
   "outputs": [],
   "source": [
    "callback = [\n",
    "    EarlyStopping(\n",
    "        monitor='val_loss',\n",
    "        min_delta=0.0001,\n",
    "        patience=10,\n",
    "        verbose=0,\n",
    "        mode='auto',\n",
    "        baseline=None,\n",
    "        restore_best_weights=False\n",
    "    ),\n",
    "    ModelCheckpoint(\n",
    "        f\"./runs/models/{model_name}/{img_model.name}/{optimizer_name}/lr_{learning_rate}\",\n",
    "        monitor='val_loss',\n",
    "        save_best_only=True,\n",
    "        mode='min'\n",
    "    ),\n",
    "    TensorBoard(\n",
    "        log_dir=f'./runs/logs/{model_name}/{img_model.name}/{optimizer_name}/lr_{learning_rate}',\n",
    "        histogram_freq=0,\n",
    "        write_graph=True,\n",
    "        write_images=False,\n",
    "        write_steps_per_second=False,\n",
    "        update_freq='epoch',\n",
    "        profile_batch=0,\n",
    "        embeddings_freq=0,\n",
    "        embeddings_metadata=None,\n",
    "    )\n",
    "]"
   ]
  },
  {
   "attachments": {},
   "cell_type": "markdown",
   "metadata": {},
   "source": [
    "# Training"
   ]
  },
  {
   "cell_type": "code",
   "execution_count": null,
   "metadata": {},
   "outputs": [],
   "source": [
    "history = mnn_em.model.fit(\n",
    "    x=[img_train, text_train],\n",
    "    y=labels_train,\n",
    "    epochs=config[\"mnn_em\"][\"training\"][\"epochs\"],\n",
    "    validation_split=config[\"mnn_em\"][\"training\"][\"validation_split\"],\n",
    "    batch_size=config[\"mnn_em\"][\"training\"][\"batch_size\"], \n",
    "callbacks=callback)\n"
   ]
  }
 ],
 "metadata": {
  "kernelspec": {
   "display_name": "tf2.8",
   "language": "python",
   "name": "python3"
  },
  "language_info": {
   "codemirror_mode": {
    "name": "ipython",
    "version": 3
   },
   "file_extension": ".py",
   "mimetype": "text/x-python",
   "name": "python",
   "nbconvert_exporter": "python",
   "pygments_lexer": "ipython3",
   "version": "3.9.16"
  },
  "orig_nbformat": 4
 },
 "nbformat": 4,
 "nbformat_minor": 2
}
