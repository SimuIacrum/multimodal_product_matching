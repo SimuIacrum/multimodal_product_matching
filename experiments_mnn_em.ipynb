{
 "cells": [
  {
   "attachments": {},
   "cell_type": "markdown",
   "metadata": {},
   "source": [
    "# Setup"
   ]
  },
  {
   "cell_type": "code",
   "execution_count": 1,
   "metadata": {},
   "outputs": [
    {
     "name": "stdout",
     "output_type": "stream",
     "text": [
      "Looking in indexes: https://pypi.org/simple/, https://****@pkgs.dev.azure.com/parsionate-ai/ps-libraries/_packaging/pypi-feed/pypi/simple\n",
      "Requirement already satisfied: tensorflow==2.8.* in /tank/home/rsns01/stud2/it/kamait02/unix/anaconda3/envs/tf2.8/lib/python3.9/site-packages (from -r requirements.txt (line 1)) (2.8.4)\n",
      "Requirement already satisfied: tensorflow-addons in /tank/home/rsns01/stud2/it/kamait02/unix/anaconda3/envs/tf2.8/lib/python3.9/site-packages (from -r requirements.txt (line 2)) (0.20.0)\n",
      "Requirement already satisfied: pandas in /tank/home/rsns01/stud2/it/kamait02/unix/anaconda3/envs/tf2.8/lib/python3.9/site-packages (from -r requirements.txt (line 3)) (2.0.1)\n",
      "Requirement already satisfied: scikit-learn in /tank/home/rsns01/stud2/it/kamait02/unix/anaconda3/envs/tf2.8/lib/python3.9/site-packages (from -r requirements.txt (line 4)) (1.2.2)\n",
      "Requirement already satisfied: scipy in /tank/home/rsns01/stud2/it/kamait02/unix/anaconda3/envs/tf2.8/lib/python3.9/site-packages (from -r requirements.txt (line 5)) (1.10.1)\n",
      "Requirement already satisfied: matplotlib in /tank/home/rsns01/stud2/it/kamait02/unix/anaconda3/envs/tf2.8/lib/python3.9/site-packages (from -r requirements.txt (line 6)) (3.7.1)\n",
      "Requirement already satisfied: tqdm in /tank/home/rsns01/stud2/it/kamait02/unix/anaconda3/envs/tf2.8/lib/python3.9/site-packages (from -r requirements.txt (line 7)) (4.65.0)\n",
      "Requirement already satisfied: Pillow in /tank/home/rsns01/stud2/it/kamait02/unix/anaconda3/envs/tf2.8/lib/python3.9/site-packages (from -r requirements.txt (line 8)) (9.5.0)\n",
      "Requirement already satisfied: absl-py>=0.4.0 in /tank/home/rsns01/stud2/it/kamait02/unix/anaconda3/envs/tf2.8/lib/python3.9/site-packages (from tensorflow==2.8.*->-r requirements.txt (line 1)) (1.4.0)\n",
      "Requirement already satisfied: astunparse>=1.6.0 in /tank/home/rsns01/stud2/it/kamait02/unix/anaconda3/envs/tf2.8/lib/python3.9/site-packages (from tensorflow==2.8.*->-r requirements.txt (line 1)) (1.6.3)\n",
      "Requirement already satisfied: flatbuffers>=1.12 in /tank/home/rsns01/stud2/it/kamait02/unix/anaconda3/envs/tf2.8/lib/python3.9/site-packages (from tensorflow==2.8.*->-r requirements.txt (line 1)) (23.5.9)\n",
      "Requirement already satisfied: gast>=0.2.1 in /tank/home/rsns01/stud2/it/kamait02/unix/anaconda3/envs/tf2.8/lib/python3.9/site-packages (from tensorflow==2.8.*->-r requirements.txt (line 1)) (0.5.4)\n",
      "Requirement already satisfied: google-pasta>=0.1.1 in /tank/home/rsns01/stud2/it/kamait02/unix/anaconda3/envs/tf2.8/lib/python3.9/site-packages (from tensorflow==2.8.*->-r requirements.txt (line 1)) (0.2.0)\n",
      "Requirement already satisfied: h5py>=2.9.0 in /tank/home/rsns01/stud2/it/kamait02/unix/anaconda3/envs/tf2.8/lib/python3.9/site-packages (from tensorflow==2.8.*->-r requirements.txt (line 1)) (3.8.0)\n",
      "Requirement already satisfied: keras-preprocessing>=1.1.1 in /tank/home/rsns01/stud2/it/kamait02/unix/anaconda3/envs/tf2.8/lib/python3.9/site-packages (from tensorflow==2.8.*->-r requirements.txt (line 1)) (1.1.2)\n",
      "Requirement already satisfied: libclang>=9.0.1 in /tank/home/rsns01/stud2/it/kamait02/unix/anaconda3/envs/tf2.8/lib/python3.9/site-packages (from tensorflow==2.8.*->-r requirements.txt (line 1)) (16.0.0)\n",
      "Requirement already satisfied: numpy>=1.20 in /tank/home/rsns01/stud2/it/kamait02/unix/anaconda3/envs/tf2.8/lib/python3.9/site-packages (from tensorflow==2.8.*->-r requirements.txt (line 1)) (1.24.3)\n",
      "Requirement already satisfied: opt-einsum>=2.3.2 in /tank/home/rsns01/stud2/it/kamait02/unix/anaconda3/envs/tf2.8/lib/python3.9/site-packages (from tensorflow==2.8.*->-r requirements.txt (line 1)) (3.3.0)\n",
      "Requirement already satisfied: protobuf<3.20,>=3.9.2 in /tank/home/rsns01/stud2/it/kamait02/unix/anaconda3/envs/tf2.8/lib/python3.9/site-packages (from tensorflow==2.8.*->-r requirements.txt (line 1)) (3.19.6)\n",
      "Requirement already satisfied: setuptools in /tank/home/rsns01/stud2/it/kamait02/unix/anaconda3/envs/tf2.8/lib/python3.9/site-packages (from tensorflow==2.8.*->-r requirements.txt (line 1)) (67.7.2)\n",
      "Requirement already satisfied: six>=1.12.0 in /tank/home/rsns01/stud2/it/kamait02/unix/anaconda3/envs/tf2.8/lib/python3.9/site-packages (from tensorflow==2.8.*->-r requirements.txt (line 1)) (1.16.0)\n",
      "Requirement already satisfied: termcolor>=1.1.0 in /tank/home/rsns01/stud2/it/kamait02/unix/anaconda3/envs/tf2.8/lib/python3.9/site-packages (from tensorflow==2.8.*->-r requirements.txt (line 1)) (2.3.0)\n",
      "Requirement already satisfied: typing-extensions>=3.6.6 in /tank/home/rsns01/stud2/it/kamait02/unix/anaconda3/envs/tf2.8/lib/python3.9/site-packages (from tensorflow==2.8.*->-r requirements.txt (line 1)) (4.5.0)\n",
      "Requirement already satisfied: wrapt>=1.11.0 in /tank/home/rsns01/stud2/it/kamait02/unix/anaconda3/envs/tf2.8/lib/python3.9/site-packages (from tensorflow==2.8.*->-r requirements.txt (line 1)) (1.15.0)\n",
      "Requirement already satisfied: tensorboard<2.9,>=2.8 in /tank/home/rsns01/stud2/it/kamait02/unix/anaconda3/envs/tf2.8/lib/python3.9/site-packages (from tensorflow==2.8.*->-r requirements.txt (line 1)) (2.8.0)\n",
      "Requirement already satisfied: tensorflow-estimator<2.9,>=2.8 in /tank/home/rsns01/stud2/it/kamait02/unix/anaconda3/envs/tf2.8/lib/python3.9/site-packages (from tensorflow==2.8.*->-r requirements.txt (line 1)) (2.8.0)\n",
      "Requirement already satisfied: keras<2.9,>=2.8.0rc0 in /tank/home/rsns01/stud2/it/kamait02/unix/anaconda3/envs/tf2.8/lib/python3.9/site-packages (from tensorflow==2.8.*->-r requirements.txt (line 1)) (2.8.0)\n",
      "Requirement already satisfied: tensorflow-io-gcs-filesystem>=0.23.1 in /tank/home/rsns01/stud2/it/kamait02/unix/anaconda3/envs/tf2.8/lib/python3.9/site-packages (from tensorflow==2.8.*->-r requirements.txt (line 1)) (0.32.0)\n",
      "Requirement already satisfied: grpcio<2.0,>=1.24.3 in /tank/home/rsns01/stud2/it/kamait02/unix/anaconda3/envs/tf2.8/lib/python3.9/site-packages (from tensorflow==2.8.*->-r requirements.txt (line 1)) (1.54.2)\n",
      "Requirement already satisfied: packaging in /tank/home/rsns01/stud2/it/kamait02/unix/anaconda3/envs/tf2.8/lib/python3.9/site-packages (from tensorflow-addons->-r requirements.txt (line 2)) (23.1)\n",
      "Requirement already satisfied: typeguard<3.0.0,>=2.7 in /tank/home/rsns01/stud2/it/kamait02/unix/anaconda3/envs/tf2.8/lib/python3.9/site-packages (from tensorflow-addons->-r requirements.txt (line 2)) (2.13.3)\n",
      "Requirement already satisfied: python-dateutil>=2.8.2 in /tank/home/rsns01/stud2/it/kamait02/unix/anaconda3/envs/tf2.8/lib/python3.9/site-packages (from pandas->-r requirements.txt (line 3)) (2.8.2)\n",
      "Requirement already satisfied: pytz>=2020.1 in /tank/home/rsns01/stud2/it/kamait02/unix/anaconda3/envs/tf2.8/lib/python3.9/site-packages (from pandas->-r requirements.txt (line 3)) (2023.3)\n",
      "Requirement already satisfied: tzdata>=2022.1 in /tank/home/rsns01/stud2/it/kamait02/unix/anaconda3/envs/tf2.8/lib/python3.9/site-packages (from pandas->-r requirements.txt (line 3)) (2023.3)\n",
      "Requirement already satisfied: joblib>=1.1.1 in /tank/home/rsns01/stud2/it/kamait02/unix/anaconda3/envs/tf2.8/lib/python3.9/site-packages (from scikit-learn->-r requirements.txt (line 4)) (1.2.0)\n",
      "Requirement already satisfied: threadpoolctl>=2.0.0 in /tank/home/rsns01/stud2/it/kamait02/unix/anaconda3/envs/tf2.8/lib/python3.9/site-packages (from scikit-learn->-r requirements.txt (line 4)) (3.1.0)\n",
      "Requirement already satisfied: contourpy>=1.0.1 in /tank/home/rsns01/stud2/it/kamait02/unix/anaconda3/envs/tf2.8/lib/python3.9/site-packages (from matplotlib->-r requirements.txt (line 6)) (1.0.7)\n",
      "Requirement already satisfied: cycler>=0.10 in /tank/home/rsns01/stud2/it/kamait02/unix/anaconda3/envs/tf2.8/lib/python3.9/site-packages (from matplotlib->-r requirements.txt (line 6)) (0.11.0)\n",
      "Requirement already satisfied: fonttools>=4.22.0 in /tank/home/rsns01/stud2/it/kamait02/unix/anaconda3/envs/tf2.8/lib/python3.9/site-packages (from matplotlib->-r requirements.txt (line 6)) (4.39.4)\n",
      "Requirement already satisfied: kiwisolver>=1.0.1 in /tank/home/rsns01/stud2/it/kamait02/unix/anaconda3/envs/tf2.8/lib/python3.9/site-packages (from matplotlib->-r requirements.txt (line 6)) (1.4.4)\n",
      "Requirement already satisfied: pyparsing>=2.3.1 in /tank/home/rsns01/stud2/it/kamait02/unix/anaconda3/envs/tf2.8/lib/python3.9/site-packages (from matplotlib->-r requirements.txt (line 6)) (3.0.9)\n",
      "Requirement already satisfied: importlib-resources>=3.2.0 in /tank/home/rsns01/stud2/it/kamait02/unix/anaconda3/envs/tf2.8/lib/python3.9/site-packages (from matplotlib->-r requirements.txt (line 6)) (5.12.0)\n",
      "Requirement already satisfied: wheel<1.0,>=0.23.0 in /tank/home/rsns01/stud2/it/kamait02/unix/anaconda3/envs/tf2.8/lib/python3.9/site-packages (from astunparse>=1.6.0->tensorflow==2.8.*->-r requirements.txt (line 1)) (0.40.0)\n",
      "Requirement already satisfied: zipp>=3.1.0 in /tank/home/rsns01/stud2/it/kamait02/unix/anaconda3/envs/tf2.8/lib/python3.9/site-packages (from importlib-resources>=3.2.0->matplotlib->-r requirements.txt (line 6)) (3.15.0)\n",
      "Requirement already satisfied: google-auth<3,>=1.6.3 in /tank/home/rsns01/stud2/it/kamait02/unix/anaconda3/envs/tf2.8/lib/python3.9/site-packages (from tensorboard<2.9,>=2.8->tensorflow==2.8.*->-r requirements.txt (line 1)) (2.18.1)\n",
      "Requirement already satisfied: google-auth-oauthlib<0.5,>=0.4.1 in /tank/home/rsns01/stud2/it/kamait02/unix/anaconda3/envs/tf2.8/lib/python3.9/site-packages (from tensorboard<2.9,>=2.8->tensorflow==2.8.*->-r requirements.txt (line 1)) (0.4.6)\n",
      "Requirement already satisfied: markdown>=2.6.8 in /tank/home/rsns01/stud2/it/kamait02/unix/anaconda3/envs/tf2.8/lib/python3.9/site-packages (from tensorboard<2.9,>=2.8->tensorflow==2.8.*->-r requirements.txt (line 1)) (3.4.3)\n",
      "Requirement already satisfied: requests<3,>=2.21.0 in /tank/home/rsns01/stud2/it/kamait02/unix/anaconda3/envs/tf2.8/lib/python3.9/site-packages (from tensorboard<2.9,>=2.8->tensorflow==2.8.*->-r requirements.txt (line 1)) (2.31.0)\n",
      "Requirement already satisfied: tensorboard-data-server<0.7.0,>=0.6.0 in /tank/home/rsns01/stud2/it/kamait02/unix/anaconda3/envs/tf2.8/lib/python3.9/site-packages (from tensorboard<2.9,>=2.8->tensorflow==2.8.*->-r requirements.txt (line 1)) (0.6.1)\n",
      "Requirement already satisfied: tensorboard-plugin-wit>=1.6.0 in /tank/home/rsns01/stud2/it/kamait02/unix/anaconda3/envs/tf2.8/lib/python3.9/site-packages (from tensorboard<2.9,>=2.8->tensorflow==2.8.*->-r requirements.txt (line 1)) (1.8.1)\n",
      "Requirement already satisfied: werkzeug>=0.11.15 in /tank/home/rsns01/stud2/it/kamait02/unix/anaconda3/envs/tf2.8/lib/python3.9/site-packages (from tensorboard<2.9,>=2.8->tensorflow==2.8.*->-r requirements.txt (line 1)) (2.3.4)\n",
      "Requirement already satisfied: cachetools<6.0,>=2.0.0 in /tank/home/rsns01/stud2/it/kamait02/unix/anaconda3/envs/tf2.8/lib/python3.9/site-packages (from google-auth<3,>=1.6.3->tensorboard<2.9,>=2.8->tensorflow==2.8.*->-r requirements.txt (line 1)) (5.3.0)\n",
      "Requirement already satisfied: pyasn1-modules>=0.2.1 in /tank/home/rsns01/stud2/it/kamait02/unix/anaconda3/envs/tf2.8/lib/python3.9/site-packages (from google-auth<3,>=1.6.3->tensorboard<2.9,>=2.8->tensorflow==2.8.*->-r requirements.txt (line 1)) (0.3.0)\n",
      "Requirement already satisfied: urllib3<2.0 in /tank/home/rsns01/stud2/it/kamait02/unix/anaconda3/envs/tf2.8/lib/python3.9/site-packages (from google-auth<3,>=1.6.3->tensorboard<2.9,>=2.8->tensorflow==2.8.*->-r requirements.txt (line 1)) (1.26.15)\n",
      "Requirement already satisfied: rsa<5,>=3.1.4 in /tank/home/rsns01/stud2/it/kamait02/unix/anaconda3/envs/tf2.8/lib/python3.9/site-packages (from google-auth<3,>=1.6.3->tensorboard<2.9,>=2.8->tensorflow==2.8.*->-r requirements.txt (line 1)) (4.9)\n",
      "Requirement already satisfied: requests-oauthlib>=0.7.0 in /tank/home/rsns01/stud2/it/kamait02/unix/anaconda3/envs/tf2.8/lib/python3.9/site-packages (from google-auth-oauthlib<0.5,>=0.4.1->tensorboard<2.9,>=2.8->tensorflow==2.8.*->-r requirements.txt (line 1)) (1.3.1)\n",
      "Requirement already satisfied: importlib-metadata>=4.4 in /tank/home/rsns01/stud2/it/kamait02/unix/anaconda3/envs/tf2.8/lib/python3.9/site-packages (from markdown>=2.6.8->tensorboard<2.9,>=2.8->tensorflow==2.8.*->-r requirements.txt (line 1)) (6.6.0)\n",
      "Requirement already satisfied: charset-normalizer<4,>=2 in /tank/home/rsns01/stud2/it/kamait02/unix/anaconda3/envs/tf2.8/lib/python3.9/site-packages (from requests<3,>=2.21.0->tensorboard<2.9,>=2.8->tensorflow==2.8.*->-r requirements.txt (line 1)) (3.1.0)\n",
      "Requirement already satisfied: idna<4,>=2.5 in /tank/home/rsns01/stud2/it/kamait02/unix/anaconda3/envs/tf2.8/lib/python3.9/site-packages (from requests<3,>=2.21.0->tensorboard<2.9,>=2.8->tensorflow==2.8.*->-r requirements.txt (line 1)) (3.4)\n",
      "Requirement already satisfied: certifi>=2017.4.17 in /tank/home/rsns01/stud2/it/kamait02/unix/anaconda3/envs/tf2.8/lib/python3.9/site-packages (from requests<3,>=2.21.0->tensorboard<2.9,>=2.8->tensorflow==2.8.*->-r requirements.txt (line 1)) (2023.5.7)\n",
      "Requirement already satisfied: MarkupSafe>=2.1.1 in /tank/home/rsns01/stud2/it/kamait02/unix/anaconda3/envs/tf2.8/lib/python3.9/site-packages (from werkzeug>=0.11.15->tensorboard<2.9,>=2.8->tensorflow==2.8.*->-r requirements.txt (line 1)) (2.1.2)\n",
      "Requirement already satisfied: pyasn1<0.6.0,>=0.4.6 in /tank/home/rsns01/stud2/it/kamait02/unix/anaconda3/envs/tf2.8/lib/python3.9/site-packages (from pyasn1-modules>=0.2.1->google-auth<3,>=1.6.3->tensorboard<2.9,>=2.8->tensorflow==2.8.*->-r requirements.txt (line 1)) (0.5.0)\n",
      "Requirement already satisfied: oauthlib>=3.0.0 in /tank/home/rsns01/stud2/it/kamait02/unix/anaconda3/envs/tf2.8/lib/python3.9/site-packages (from requests-oauthlib>=0.7.0->google-auth-oauthlib<0.5,>=0.4.1->tensorboard<2.9,>=2.8->tensorflow==2.8.*->-r requirements.txt (line 1)) (3.2.2)\n",
      "Note: you may need to restart the kernel to use updated packages.\n"
     ]
    }
   ],
   "source": [
    "pip install -r requirements.txt"
   ]
  },
  {
   "cell_type": "code",
   "execution_count": 2,
   "metadata": {},
   "outputs": [],
   "source": [
    "import os\n",
    "\n",
    "os.environ[\"CUDA_DEVICE_ORDER\"] = \"PCI_BUS_ID\"\n",
    "os.environ[\"CUDA_VISIBLE_DEVICES\"] = \"0\"\n",
    "os.environ[\"TF_FORCE_GPU_ALLOW_GROWTH\"] = \"true\""
   ]
  },
  {
   "cell_type": "code",
   "execution_count": 3,
   "metadata": {},
   "outputs": [],
   "source": [
    "import tensorflow as tf\n",
    "import pandas as pd\n",
    "import numpy as np\n",
    "import json\n",
    "from utils.text_processing import CharTokenizer"
   ]
  },
  {
   "cell_type": "code",
   "execution_count": 4,
   "metadata": {},
   "outputs": [
    {
     "name": "stderr",
     "output_type": "stream",
     "text": [
      "2023-05-25 14:25:28.162711: I tensorflow/core/platform/cpu_feature_guard.cc:151] This TensorFlow binary is optimized with oneAPI Deep Neural Network Library (oneDNN) to use the following CPU instructions in performance-critical operations:  AVX2 AVX512F FMA\n",
      "To enable them in other operations, rebuild TensorFlow with the appropriate compiler flags.\n",
      "2023-05-25 14:25:28.820917: W tensorflow/core/common_runtime/gpu/gpu_bfc_allocator.cc:39] Overriding allow_growth setting because the TF_FORCE_GPU_ALLOW_GROWTH environment variable is set. Original config value was 0.\n",
      "2023-05-25 14:25:28.820980: I tensorflow/core/common_runtime/gpu/gpu_device.cc:1525] Created device /job:localhost/replica:0/task:0/device:GPU:0 with 30976 MB memory:  -> device: 0, name: Tesla V100S-PCIE-32GB, pci bus id: 0000:25:00.0, compute capability: 7.0\n"
     ]
    }
   ],
   "source": [
    "if tf.config.list_physical_devices('GPU'):\n",
    "    tf.config.experimental.get_memory_info(\"GPU:0\")"
   ]
  },
  {
   "cell_type": "code",
   "execution_count": 5,
   "metadata": {},
   "outputs": [],
   "source": [
    "config = json.load(open(\"config.json\"))"
   ]
  },
  {
   "attachments": {},
   "cell_type": "markdown",
   "metadata": {},
   "source": [
    "# Loading data"
   ]
  },
  {
   "cell_type": "code",
   "execution_count": 6,
   "metadata": {},
   "outputs": [],
   "source": [
    "from data_loader.abo import ABO"
   ]
  },
  {
   "cell_type": "code",
   "execution_count": 7,
   "metadata": {},
   "outputs": [
    {
     "name": "stdout",
     "output_type": "stream",
     "text": [
      "Downloading abo-listings.tar...\n",
      "abo-listings.tar already exists.\n",
      "Downloading abo-images-small.tar...\n",
      "abo-images-small.tar already exists.\n",
      "Loading images...\n",
      "Loading texts...\n",
      "Importing listings CSV...\n",
      "Creating false samples/complement...\n",
      "Merging ground truth and complement...\n",
      "Performing random deletion...\n",
      "Concatenating attributes into description columns...\n",
      "Finishing up...\n",
      "Exporting to CSV...\n",
      "Data processing complete\n"
     ]
    },
    {
     "data": {
      "text/html": [
       "<div>\n",
       "<style scoped>\n",
       "    .dataframe tbody tr th:only-of-type {\n",
       "        vertical-align: middle;\n",
       "    }\n",
       "\n",
       "    .dataframe tbody tr th {\n",
       "        vertical-align: top;\n",
       "    }\n",
       "\n",
       "    .dataframe thead th {\n",
       "        text-align: right;\n",
       "    }\n",
       "</style>\n",
       "<table border=\"1\" class=\"dataframe\">\n",
       "  <thead>\n",
       "    <tr style=\"text-align: right;\">\n",
       "      <th></th>\n",
       "      <th>description</th>\n",
       "      <th>path</th>\n",
       "      <th>product_type</th>\n",
       "      <th>label</th>\n",
       "    </tr>\n",
       "  </thead>\n",
       "  <tbody>\n",
       "    <tr>\n",
       "      <th>0</th>\n",
       "      <td>beddingamazon brand - symbol men's tan pu form...</td>\n",
       "      <td>19/194721fd.jpg</td>\n",
       "      <td>SHOES</td>\n",
       "      <td>0</td>\n",
       "    </tr>\n",
       "    <tr>\n",
       "      <th>1</th>\n",
       "      <td>b0843ygxnhleone men's blue running shoes-6 uk ...</td>\n",
       "      <td>6e/6e76fc9b.jpg</td>\n",
       "      <td>SHOES</td>\n",
       "      <td>1</td>\n",
       "    </tr>\n",
       "    <tr>\n",
       "      <th>2</th>\n",
       "      <td>scrubber^skin scrubber^facial skin scrubber^ul...</td>\n",
       "      <td>f3/f3e6f2d8.jpg</td>\n",
       "      <td>THERMOS</td>\n",
       "      <td>0</td>\n",
       "    </tr>\n",
       "    <tr>\n",
       "      <th>3</th>\n",
       "      <td>b07r5vblsl</td>\n",
       "      <td>78/78043759.jpg</td>\n",
       "      <td>CELLULAR_PHONE_CASE</td>\n",
       "      <td>1</td>\n",
       "    </tr>\n",
       "    <tr>\n",
       "      <th>4</th>\n",
       "      <td>mobile coverb07t8q1nj4amazon brand - solimo de...</td>\n",
       "      <td>0c/0c80275c.jpg</td>\n",
       "      <td>CELLULAR_PHONE_CASE</td>\n",
       "      <td>1</td>\n",
       "    </tr>\n",
       "    <tr>\n",
       "      <th>...</th>\n",
       "      <td>...</td>\n",
       "      <td>...</td>\n",
       "      <td>...</td>\n",
       "      <td>...</td>\n",
       "    </tr>\n",
       "    <tr>\n",
       "      <th>141821</th>\n",
       "      <td>b08563xylv</td>\n",
       "      <td>7c/7cdc4462.jpg</td>\n",
       "      <td>CELLULAR_PHONE_CASE</td>\n",
       "      <td>1</td>\n",
       "    </tr>\n",
       "    <tr>\n",
       "      <th>141822</th>\n",
       "      <td>rivet ava mid-century modern ottoman, 25.6\" w,...</td>\n",
       "      <td>58/58498433.jpg</td>\n",
       "      <td>HOME_FURNITURE_AND_DECOR</td>\n",
       "      <td>1</td>\n",
       "    </tr>\n",
       "    <tr>\n",
       "      <th>141823</th>\n",
       "      <td>365 everyday value, black bean &amp; corn salsa, 1...</td>\n",
       "      <td>61/61c6691e.jpg</td>\n",
       "      <td>CELLULAR_PHONE_CASE</td>\n",
       "      <td>0</td>\n",
       "    </tr>\n",
       "    <tr>\n",
       "      <th>141824</th>\n",
       "      <td>mobile coveramazon brand - solimo designer lad...</td>\n",
       "      <td>9e/9e8d3f7d.jpg</td>\n",
       "      <td>CELLULAR_PHONE_CASE</td>\n",
       "      <td>0</td>\n",
       "    </tr>\n",
       "    <tr>\n",
       "      <th>141825</th>\n",
       "      <td>b0854fvgtv</td>\n",
       "      <td>48/488ca6f4.jpg</td>\n",
       "      <td>CELLULAR_PHONE_CASE</td>\n",
       "      <td>1</td>\n",
       "    </tr>\n",
       "  </tbody>\n",
       "</table>\n",
       "<p>141826 rows × 4 columns</p>\n",
       "</div>"
      ],
      "text/plain": [
       "                                              description             path   \n",
       "0       beddingamazon brand - symbol men's tan pu form...  19/194721fd.jpg  \\\n",
       "1       b0843ygxnhleone men's blue running shoes-6 uk ...  6e/6e76fc9b.jpg   \n",
       "2       scrubber^skin scrubber^facial skin scrubber^ul...  f3/f3e6f2d8.jpg   \n",
       "3                                              b07r5vblsl  78/78043759.jpg   \n",
       "4       mobile coverb07t8q1nj4amazon brand - solimo de...  0c/0c80275c.jpg   \n",
       "...                                                   ...              ...   \n",
       "141821                                         b08563xylv  7c/7cdc4462.jpg   \n",
       "141822  rivet ava mid-century modern ottoman, 25.6\" w,...  58/58498433.jpg   \n",
       "141823  365 everyday value, black bean & corn salsa, 1...  61/61c6691e.jpg   \n",
       "141824  mobile coveramazon brand - solimo designer lad...  9e/9e8d3f7d.jpg   \n",
       "141825                                         b0854fvgtv  48/488ca6f4.jpg   \n",
       "\n",
       "                    product_type  label  \n",
       "0                          SHOES      0  \n",
       "1                          SHOES      1  \n",
       "2                        THERMOS      0  \n",
       "3            CELLULAR_PHONE_CASE      1  \n",
       "4            CELLULAR_PHONE_CASE      1  \n",
       "...                          ...    ...  \n",
       "141821       CELLULAR_PHONE_CASE      1  \n",
       "141822  HOME_FURNITURE_AND_DECOR      1  \n",
       "141823       CELLULAR_PHONE_CASE      0  \n",
       "141824       CELLULAR_PHONE_CASE      0  \n",
       "141825       CELLULAR_PHONE_CASE      1  \n",
       "\n",
       "[141826 rows x 4 columns]"
      ]
     },
     "execution_count": 7,
     "metadata": {},
     "output_type": "execute_result"
    }
   ],
   "source": [
    "data = ABO(\n",
    "    path=config[\"data\"][\"path\"],\n",
    "    download=True,\n",
    "    extract=False,\n",
    "    preprocess=True,\n",
    "    alt_augment=False,\n",
    "    random_deletion=True,\n",
    "    export_csv=True).data\n",
    "\n",
    "# data = pd.read_csv(os.path.join(config[\"data\"][\"path\"], \"data.csv\"))\n",
    "# data = data.drop({\"Unnamed: 0\"}, axis=1)\n",
    "\n",
    "data = data[['description', 'path', 'product_type', 'label']]\n",
    "data"
   ]
  },
  {
   "cell_type": "code",
   "execution_count": 8,
   "metadata": {},
   "outputs": [],
   "source": [
    "img = data[[\"path\"]] # two brackets for keeping the column name\n",
    "text = data[\"description\"]\n",
    "product_types = data[[\"product_type\"]]\n",
    "labels = data[[\"label\"]]"
   ]
  },
  {
   "attachments": {},
   "cell_type": "markdown",
   "metadata": {},
   "source": [
    "# Text processing"
   ]
  },
  {
   "attachments": {},
   "cell_type": "markdown",
   "metadata": {},
   "source": [
    "## Tokenize texts"
   ]
  },
  {
   "cell_type": "code",
   "execution_count": 9,
   "metadata": {},
   "outputs": [
    {
     "data": {
      "text/plain": [
       "(141826, 1014)"
      ]
     },
     "execution_count": 9,
     "metadata": {},
     "output_type": "execute_result"
    }
   ],
   "source": [
    "tk = CharTokenizer(config[\"data\"][\"alphabet\"])\n",
    "text = tk.tokenize(text)\n",
    "text.shape"
   ]
  },
  {
   "attachments": {},
   "cell_type": "markdown",
   "metadata": {},
   "source": [
    "## Create embedding weights"
   ]
  },
  {
   "cell_type": "code",
   "execution_count": 10,
   "metadata": {},
   "outputs": [
    {
     "data": {
      "text/plain": [
       "(65, 64)"
      ]
     },
     "execution_count": 10,
     "metadata": {},
     "output_type": "execute_result"
    }
   ],
   "source": [
    "weights = tk.create_embedding_weights()\n",
    "weights.shape"
   ]
  },
  {
   "attachments": {},
   "cell_type": "markdown",
   "metadata": {},
   "source": [
    "# Image processing"
   ]
  },
  {
   "attachments": {},
   "cell_type": "markdown",
   "metadata": {},
   "source": [
    "## Load image model"
   ]
  },
  {
   "cell_type": "code",
   "execution_count": 11,
   "metadata": {},
   "outputs": [],
   "source": [
    "from utils.img_processing import load_img_model, create_embeddings_from"
   ]
  },
  {
   "cell_type": "code",
   "execution_count": 12,
   "metadata": {},
   "outputs": [
    {
     "name": "stdout",
     "output_type": "stream",
     "text": [
      "WARNING:tensorflow:`input_shape` is undefined or non-square, or `rows` is not 224. Weights for input shape (224, 224) will be loaded as the default.\n"
     ]
    },
    {
     "data": {
      "text/plain": [
       "(None, 576)"
      ]
     },
     "execution_count": 12,
     "metadata": {},
     "output_type": "execute_result"
    }
   ],
   "source": [
    "img_model = load_img_model(config[\"img_model\"])\n",
    "\n",
    "img_model.output_shape"
   ]
  },
  {
   "attachments": {},
   "cell_type": "markdown",
   "metadata": {},
   "source": [
    "## Create image embeddings"
   ]
  },
  {
   "cell_type": "code",
   "execution_count": 13,
   "metadata": {},
   "outputs": [
    {
     "name": "stdout",
     "output_type": "stream",
     "text": [
      "Found 141826 validated image filenames.\n"
     ]
    },
    {
     "name": "stderr",
     "output_type": "stream",
     "text": [
      "2023-05-25 14:25:55.171959: I tensorflow/stream_executor/cuda/cuda_dnn.cc:368] Loaded cuDNN version 8901\n"
     ]
    }
   ],
   "source": [
    "# batch_size = 1024 -> 8,5 GB VRAM\n",
    "# batch_size = 2048 -> 17 GB VRAM\n",
    "# ...\n",
    "\n",
    "img = create_embeddings_from(img_model, img, os.path.join(config[\"data\"][\"path\"], \"images/small\"), batch_size=2048)"
   ]
  },
  {
   "cell_type": "code",
   "execution_count": 14,
   "metadata": {},
   "outputs": [
    {
     "data": {
      "text/plain": [
       "(141826, 576)"
      ]
     },
     "execution_count": 14,
     "metadata": {},
     "output_type": "execute_result"
    }
   ],
   "source": [
    "img.shape"
   ]
  },
  {
   "attachments": {},
   "cell_type": "markdown",
   "metadata": {},
   "source": [
    "# Save embeddings"
   ]
  },
  {
   "cell_type": "code",
   "execution_count": 15,
   "metadata": {},
   "outputs": [],
   "source": [
    "save_path = os.path.join(config[\"data\"][\"path\"], \"embeddings\")"
   ]
  },
  {
   "cell_type": "code",
   "execution_count": 16,
   "metadata": {},
   "outputs": [],
   "source": [
    "os.makedirs(save_path, exist_ok=True)\n",
    "np.save(f\"{save_path}/img.npy\", img)\n",
    "np.save(f\"{save_path}/text.npy\", text)\n",
    "data.to_csv(f\"{save_path}/data.csv\")"
   ]
  },
  {
   "attachments": {},
   "cell_type": "markdown",
   "metadata": {},
   "source": [
    "## Verify import"
   ]
  },
  {
   "cell_type": "code",
   "execution_count": 17,
   "metadata": {},
   "outputs": [
    {
     "data": {
      "text/html": [
       "<div>\n",
       "<style scoped>\n",
       "    .dataframe tbody tr th:only-of-type {\n",
       "        vertical-align: middle;\n",
       "    }\n",
       "\n",
       "    .dataframe tbody tr th {\n",
       "        vertical-align: top;\n",
       "    }\n",
       "\n",
       "    .dataframe thead th {\n",
       "        text-align: right;\n",
       "    }\n",
       "</style>\n",
       "<table border=\"1\" class=\"dataframe\">\n",
       "  <thead>\n",
       "    <tr style=\"text-align: right;\">\n",
       "      <th></th>\n",
       "      <th>description</th>\n",
       "      <th>path</th>\n",
       "      <th>product_type</th>\n",
       "      <th>label</th>\n",
       "    </tr>\n",
       "  </thead>\n",
       "  <tbody>\n",
       "    <tr>\n",
       "      <th>0</th>\n",
       "      <td>beddingamazon brand - symbol men's tan pu form...</td>\n",
       "      <td>19/194721fd.jpg</td>\n",
       "      <td>SHOES</td>\n",
       "      <td>0</td>\n",
       "    </tr>\n",
       "    <tr>\n",
       "      <th>1</th>\n",
       "      <td>b0843ygxnhleone men's blue running shoes-6 uk ...</td>\n",
       "      <td>6e/6e76fc9b.jpg</td>\n",
       "      <td>SHOES</td>\n",
       "      <td>1</td>\n",
       "    </tr>\n",
       "    <tr>\n",
       "      <th>2</th>\n",
       "      <td>scrubber^skin scrubber^facial skin scrubber^ul...</td>\n",
       "      <td>f3/f3e6f2d8.jpg</td>\n",
       "      <td>THERMOS</td>\n",
       "      <td>0</td>\n",
       "    </tr>\n",
       "    <tr>\n",
       "      <th>3</th>\n",
       "      <td>b07r5vblsl</td>\n",
       "      <td>78/78043759.jpg</td>\n",
       "      <td>CELLULAR_PHONE_CASE</td>\n",
       "      <td>1</td>\n",
       "    </tr>\n",
       "    <tr>\n",
       "      <th>4</th>\n",
       "      <td>mobile coverb07t8q1nj4amazon brand - solimo de...</td>\n",
       "      <td>0c/0c80275c.jpg</td>\n",
       "      <td>CELLULAR_PHONE_CASE</td>\n",
       "      <td>1</td>\n",
       "    </tr>\n",
       "    <tr>\n",
       "      <th>...</th>\n",
       "      <td>...</td>\n",
       "      <td>...</td>\n",
       "      <td>...</td>\n",
       "      <td>...</td>\n",
       "    </tr>\n",
       "    <tr>\n",
       "      <th>141821</th>\n",
       "      <td>b08563xylv</td>\n",
       "      <td>7c/7cdc4462.jpg</td>\n",
       "      <td>CELLULAR_PHONE_CASE</td>\n",
       "      <td>1</td>\n",
       "    </tr>\n",
       "    <tr>\n",
       "      <th>141822</th>\n",
       "      <td>rivet ava mid-century modern ottoman, 25.6\" w,...</td>\n",
       "      <td>58/58498433.jpg</td>\n",
       "      <td>HOME_FURNITURE_AND_DECOR</td>\n",
       "      <td>1</td>\n",
       "    </tr>\n",
       "    <tr>\n",
       "      <th>141823</th>\n",
       "      <td>365 everyday value, black bean &amp; corn salsa, 1...</td>\n",
       "      <td>61/61c6691e.jpg</td>\n",
       "      <td>CELLULAR_PHONE_CASE</td>\n",
       "      <td>0</td>\n",
       "    </tr>\n",
       "    <tr>\n",
       "      <th>141824</th>\n",
       "      <td>mobile coveramazon brand - solimo designer lad...</td>\n",
       "      <td>9e/9e8d3f7d.jpg</td>\n",
       "      <td>CELLULAR_PHONE_CASE</td>\n",
       "      <td>0</td>\n",
       "    </tr>\n",
       "    <tr>\n",
       "      <th>141825</th>\n",
       "      <td>b0854fvgtv</td>\n",
       "      <td>48/488ca6f4.jpg</td>\n",
       "      <td>CELLULAR_PHONE_CASE</td>\n",
       "      <td>1</td>\n",
       "    </tr>\n",
       "  </tbody>\n",
       "</table>\n",
       "<p>141826 rows × 4 columns</p>\n",
       "</div>"
      ],
      "text/plain": [
       "                                              description             path   \n",
       "0       beddingamazon brand - symbol men's tan pu form...  19/194721fd.jpg  \\\n",
       "1       b0843ygxnhleone men's blue running shoes-6 uk ...  6e/6e76fc9b.jpg   \n",
       "2       scrubber^skin scrubber^facial skin scrubber^ul...  f3/f3e6f2d8.jpg   \n",
       "3                                              b07r5vblsl  78/78043759.jpg   \n",
       "4       mobile coverb07t8q1nj4amazon brand - solimo de...  0c/0c80275c.jpg   \n",
       "...                                                   ...              ...   \n",
       "141821                                         b08563xylv  7c/7cdc4462.jpg   \n",
       "141822  rivet ava mid-century modern ottoman, 25.6\" w,...  58/58498433.jpg   \n",
       "141823  365 everyday value, black bean & corn salsa, 1...  61/61c6691e.jpg   \n",
       "141824  mobile coveramazon brand - solimo designer lad...  9e/9e8d3f7d.jpg   \n",
       "141825                                         b0854fvgtv  48/488ca6f4.jpg   \n",
       "\n",
       "                    product_type  label  \n",
       "0                          SHOES      0  \n",
       "1                          SHOES      1  \n",
       "2                        THERMOS      0  \n",
       "3            CELLULAR_PHONE_CASE      1  \n",
       "4            CELLULAR_PHONE_CASE      1  \n",
       "...                          ...    ...  \n",
       "141821       CELLULAR_PHONE_CASE      1  \n",
       "141822  HOME_FURNITURE_AND_DECOR      1  \n",
       "141823       CELLULAR_PHONE_CASE      0  \n",
       "141824       CELLULAR_PHONE_CASE      0  \n",
       "141825       CELLULAR_PHONE_CASE      1  \n",
       "\n",
       "[141826 rows x 4 columns]"
      ]
     },
     "execution_count": 17,
     "metadata": {},
     "output_type": "execute_result"
    }
   ],
   "source": [
    "data = pd.read_csv(f\"{save_path}/data.csv\")\n",
    "data = data.drop({\"Unnamed: 0\"}, axis=1)\n",
    "data"
   ]
  },
  {
   "cell_type": "code",
   "execution_count": 18,
   "metadata": {},
   "outputs": [
    {
     "data": {
      "text/plain": [
       "(141826, 576)"
      ]
     },
     "execution_count": 18,
     "metadata": {},
     "output_type": "execute_result"
    }
   ],
   "source": [
    "img = np.load(f\"{save_path}/img.npy\")\n",
    "img.shape"
   ]
  },
  {
   "cell_type": "code",
   "execution_count": 19,
   "metadata": {},
   "outputs": [
    {
     "data": {
      "text/plain": [
       "(141826, 1014)"
      ]
     },
     "execution_count": 19,
     "metadata": {},
     "output_type": "execute_result"
    }
   ],
   "source": [
    "text = np.load(f\"{save_path}/text.npy\")\n",
    "text.shape"
   ]
  },
  {
   "attachments": {},
   "cell_type": "markdown",
   "metadata": {},
   "source": [
    "# Train-Test Split"
   ]
  },
  {
   "attachments": {},
   "cell_type": "markdown",
   "metadata": {},
   "source": [
    "To use `stratify` parameter of `sklearn.model_selection.train_test_split()`, we need to select all product instances which appear more than once"
   ]
  },
  {
   "cell_type": "code",
   "execution_count": 20,
   "metadata": {},
   "outputs": [],
   "source": [
    "data[\"product_type_count\"] = data.groupby([\"product_type\"])[\"product_type\"].transform(\"count\")\n",
    "\n",
    "data = data[data[\"product_type_count\"] > config[\"data\"][\"cls\"]]"
   ]
  },
  {
   "cell_type": "code",
   "execution_count": 21,
   "metadata": {},
   "outputs": [],
   "source": [
    "# Update both columns\n",
    "product_types = data[[\"product_type\"]]\n",
    "\n",
    "labels = data[[\"label\"]]"
   ]
  },
  {
   "cell_type": "code",
   "execution_count": 22,
   "metadata": {},
   "outputs": [],
   "source": [
    "from sklearn.model_selection import train_test_split"
   ]
  },
  {
   "cell_type": "code",
   "execution_count": 23,
   "metadata": {},
   "outputs": [],
   "source": [
    "train, test, labels_train, labels_test = train_test_split(data, labels, stratify=product_types, test_size=config[\"mnn_em\"][\"training\"][\"test_split\"], random_state=42)"
   ]
  },
  {
   "cell_type": "code",
   "execution_count": 24,
   "metadata": {},
   "outputs": [],
   "source": [
    "img_train = img[train.index]\n",
    "img_test = img[test.index]\n",
    "\n",
    "text_train = text[train.index]\n",
    "text_test = text[test.index]"
   ]
  },
  {
   "attachments": {},
   "cell_type": "markdown",
   "metadata": {},
   "source": [
    "# Save Char CNN config"
   ]
  },
  {
   "cell_type": "code",
   "execution_count": 25,
   "metadata": {},
   "outputs": [],
   "source": [
    "from models.char_cnn_zhang import CharCNNZhang"
   ]
  },
  {
   "cell_type": "code",
   "execution_count": 26,
   "metadata": {},
   "outputs": [],
   "source": [
    "char_cnn_config = {\n",
    "    \"input_size\": config[\"data\"][\"input_size\"],\n",
    "    \"embedding_size\": len(tk.word_index),\n",
    "    \"conv_layers\": config[\"char_cnn_zhang\"][\"conv_layers\"],\n",
    "    \"fc_layers\": config[\"char_cnn_zhang\"][\"fc_layers\"],\n",
    "    \"output_size\": config[\"char_cnn_zhang\"][\"output_size\"],\n",
    "    \"embedding_weights\": weights\n",
    "}"
   ]
  },
  {
   "cell_type": "code",
   "execution_count": 27,
   "metadata": {},
   "outputs": [],
   "source": [
    "# txt_model = CharCNNZhang(**char_cnn_config)"
   ]
  },
  {
   "attachments": {},
   "cell_type": "markdown",
   "metadata": {},
   "source": [
    "# Build MNN-EM Model"
   ]
  },
  {
   "cell_type": "code",
   "execution_count": 28,
   "metadata": {},
   "outputs": [],
   "source": [
    "from models.mnn_em import MNNEM\n",
    "from utils.eval import create_metrics"
   ]
  },
  {
   "cell_type": "code",
   "execution_count": 29,
   "metadata": {},
   "outputs": [],
   "source": [
    "head_config = {\n",
    "    \"img_input_size\": img_model.layers[-1].output_shape[1],\n",
    "    \"txt_input_size\": config[\"data\"][\"input_size\"],\n",
    "    \"txt_weights\": weights,\n",
    "    \"char_cnn_config\": char_cnn_config,\n",
    "    \"img_fc_layers\": config[\"mnn_em\"][\"img_fc_layers\"],\n",
    "    \"txt_fc_layers\": config[\"mnn_em\"][\"txt_fc_layers\"],\n",
    "}"
   ]
  },
  {
   "cell_type": "code",
   "execution_count": 30,
   "metadata": {},
   "outputs": [],
   "source": [
    "mnn_em = MNNEM(\n",
    "    head_config=head_config,\n",
    "    combined_fc_layers=config[\"mnn_em\"][\"combined_fc_layers\"],\n",
    "    learning_rate=config[\"mnn_em\"][\"training\"][\"learning_rate\"],\n",
    "    metrics=create_metrics(config[\"mnn_em\"][\"training\"][\"metrics\"]))"
   ]
  },
  {
   "cell_type": "code",
   "execution_count": 31,
   "metadata": {},
   "outputs": [
    {
     "name": "stdout",
     "output_type": "stream",
     "text": [
      "Model: \"model\"\n",
      "__________________________________________________________________________________________________\n",
      " Layer (type)                   Output Shape         Param #     Connected to                     \n",
      "==================================================================================================\n",
      " Image_Input (InputLayer)       [(None, 576)]        0           []                               \n",
      "                                                                                                  \n",
      " Text_Input (InputLayer)        [(None, 1014)]       0           []                               \n",
      "                                                                                                  \n",
      " MNN_EM_Head (Functional)       (None, 512)          17171008    ['Image_Input[0][0]',            \n",
      "                                                                  'Text_Input[0][0]']             \n",
      "                                                                                                  \n",
      " Combined_FC_1 (Dense)          (None, 512)          262656      ['MNN_EM_Head[0][0]']            \n",
      "                                                                                                  \n",
      " Combined_FC_2 (Dense)          (None, 256)          131328      ['Combined_FC_1[0][0]']          \n",
      "                                                                                                  \n",
      " Sigmoid (Dense)                (None, 1)            257         ['Combined_FC_2[0][0]']          \n",
      "                                                                                                  \n",
      "==================================================================================================\n",
      "Total params: 17,565,249\n",
      "Trainable params: 17,563,201\n",
      "Non-trainable params: 2,048\n",
      "__________________________________________________________________________________________________\n"
     ]
    }
   ],
   "source": [
    "mnn_em.model.summary()"
   ]
  },
  {
   "cell_type": "code",
   "execution_count": 32,
   "metadata": {},
   "outputs": [
    {
     "name": "stdout",
     "output_type": "stream",
     "text": [
      "You must install pydot (`pip install pydot`) and install graphviz (see instructions at https://graphviz.gitlab.io/download/) for plot_model/model_to_dot to work.\n"
     ]
    }
   ],
   "source": [
    "tf.keras.utils.plot_model(mnn_em.model, rankdir=\"TB\", show_layer_activations=True, show_shapes=True)"
   ]
  },
  {
   "attachments": {},
   "cell_type": "markdown",
   "metadata": {},
   "source": [
    "# Callbacks"
   ]
  },
  {
   "cell_type": "code",
   "execution_count": 36,
   "metadata": {},
   "outputs": [],
   "source": [
    "from utils.eval import create_callbacks"
   ]
  },
  {
   "cell_type": "code",
   "execution_count": 37,
   "metadata": {},
   "outputs": [],
   "source": [
    "model_name = config[\"mnn_em\"][\"name\"]\n",
    "optimizer_name = config[\"mnn_em\"][\"training\"][\"optimizer\"]\n",
    "learning_rate = config[\"mnn_em\"][\"training\"][\"learning_rate\"]"
   ]
  },
  {
   "cell_type": "code",
   "execution_count": 38,
   "metadata": {},
   "outputs": [],
   "source": [
    "callbacks = create_callbacks(\n",
    "    callbacks_list=config[\"mnn_em\"][\"training\"][\"callbacks\"],\n",
    "    model_name=model_name,\n",
    "    img_model_name=img_model.name,\n",
    "    optimizer_name=optimizer_name,\n",
    "    learning_rate=learning_rate,\n",
    "    cls=config[\"data\"][\"cls\"]\n",
    "    )"
   ]
  },
  {
   "attachments": {},
   "cell_type": "markdown",
   "metadata": {},
   "source": [
    "# Training"
   ]
  },
  {
   "cell_type": "code",
   "execution_count": 39,
   "metadata": {},
   "outputs": [
    {
     "name": "stdout",
     "output_type": "stream",
     "text": [
      "Epoch 1/10\n",
      "7179/7179 [==============================] - ETA: 0s - loss: 1.0198 - recall: 0.8776 - precision: 0.6712 - binary_accuracy: 0.7242 - cosine_similarity: 0.4993"
     ]
    },
    {
     "name": "stderr",
     "output_type": "stream",
     "text": [
      "2023-05-25 14:33:48.026945: W tensorflow/python/util/util.cc:368] Sets are not currently considered sequences, but this may change in the future, so consider avoiding using them.\n",
      "WARNING:absl:Function `_wrapped_model` contains input name(s) Image_Input, Text_Input with unsupported characters which will be renamed to image_input, text_input in the SavedModel.\n"
     ]
    },
    {
     "name": "stdout",
     "output_type": "stream",
     "text": [
      "INFO:tensorflow:Assets written to: ./runs/models/MNN_EM_ABO/cls_1/MobilenetV3small/Adam/lr_0.0001/assets\n"
     ]
    },
    {
     "name": "stderr",
     "output_type": "stream",
     "text": [
      "INFO:tensorflow:Assets written to: ./runs/models/MNN_EM_ABO/cls_1/MobilenetV3small/Adam/lr_0.0001/assets\n"
     ]
    },
    {
     "name": "stdout",
     "output_type": "stream",
     "text": [
      "7179/7179 [==============================] - 76s 10ms/step - loss: 1.0198 - recall: 0.8776 - precision: 0.6712 - binary_accuracy: 0.7242 - cosine_similarity: 0.4993 - val_loss: 0.4761 - val_recall: 0.8910 - val_precision: 0.7360 - val_binary_accuracy: 0.7833 - val_cosine_similarity: 0.5055\n",
      "Epoch 2/10\n",
      "7175/7179 [============================>.] - ETA: 0s - loss: 0.4344 - recall: 0.9394 - precision: 0.7400 - binary_accuracy: 0.8049 - cosine_similarity: 0.4992"
     ]
    },
    {
     "name": "stderr",
     "output_type": "stream",
     "text": [
      "WARNING:absl:Function `_wrapped_model` contains input name(s) Image_Input, Text_Input with unsupported characters which will be renamed to image_input, text_input in the SavedModel.\n"
     ]
    },
    {
     "name": "stdout",
     "output_type": "stream",
     "text": [
      "INFO:tensorflow:Assets written to: ./runs/models/MNN_EM_ABO/cls_1/MobilenetV3small/Adam/lr_0.0001/assets\n"
     ]
    },
    {
     "name": "stderr",
     "output_type": "stream",
     "text": [
      "INFO:tensorflow:Assets written to: ./runs/models/MNN_EM_ABO/cls_1/MobilenetV3small/Adam/lr_0.0001/assets\n"
     ]
    },
    {
     "name": "stdout",
     "output_type": "stream",
     "text": [
      "7179/7179 [==============================] - 70s 10ms/step - loss: 0.4344 - recall: 0.9394 - precision: 0.7400 - binary_accuracy: 0.8050 - cosine_similarity: 0.4993 - val_loss: 0.3943 - val_recall: 0.9741 - val_precision: 0.7557 - val_binary_accuracy: 0.8278 - val_cosine_similarity: 0.5055\n",
      "Epoch 3/10\n",
      "7175/7179 [============================>.] - ETA: 0s - loss: 0.3891 - recall: 0.9439 - precision: 0.7736 - binary_accuracy: 0.8341 - cosine_similarity: 0.4992"
     ]
    },
    {
     "name": "stderr",
     "output_type": "stream",
     "text": [
      "WARNING:absl:Function `_wrapped_model` contains input name(s) Image_Input, Text_Input with unsupported characters which will be renamed to image_input, text_input in the SavedModel.\n"
     ]
    },
    {
     "name": "stdout",
     "output_type": "stream",
     "text": [
      "INFO:tensorflow:Assets written to: ./runs/models/MNN_EM_ABO/cls_1/MobilenetV3small/Adam/lr_0.0001/assets\n"
     ]
    },
    {
     "name": "stderr",
     "output_type": "stream",
     "text": [
      "INFO:tensorflow:Assets written to: ./runs/models/MNN_EM_ABO/cls_1/MobilenetV3small/Adam/lr_0.0001/assets\n"
     ]
    },
    {
     "name": "stdout",
     "output_type": "stream",
     "text": [
      "7179/7179 [==============================] - 72s 10ms/step - loss: 0.3891 - recall: 0.9439 - precision: 0.7736 - binary_accuracy: 0.8341 - cosine_similarity: 0.4992 - val_loss: 0.3745 - val_recall: 0.9211 - val_precision: 0.8066 - val_binary_accuracy: 0.8484 - val_cosine_similarity: 0.5055\n",
      "Epoch 4/10\n",
      "7177/7179 [============================>.] - ETA: 0s - loss: 0.3477 - recall: 0.9503 - precision: 0.8038 - binary_accuracy: 0.8594 - cosine_similarity: 0.4993"
     ]
    },
    {
     "name": "stderr",
     "output_type": "stream",
     "text": [
      "WARNING:absl:Function `_wrapped_model` contains input name(s) Image_Input, Text_Input with unsupported characters which will be renamed to image_input, text_input in the SavedModel.\n"
     ]
    },
    {
     "name": "stdout",
     "output_type": "stream",
     "text": [
      "INFO:tensorflow:Assets written to: ./runs/models/MNN_EM_ABO/cls_1/MobilenetV3small/Adam/lr_0.0001/assets\n"
     ]
    },
    {
     "name": "stderr",
     "output_type": "stream",
     "text": [
      "INFO:tensorflow:Assets written to: ./runs/models/MNN_EM_ABO/cls_1/MobilenetV3small/Adam/lr_0.0001/assets\n"
     ]
    },
    {
     "name": "stdout",
     "output_type": "stream",
     "text": [
      "7179/7179 [==============================] - 72s 10ms/step - loss: 0.3477 - recall: 0.9503 - precision: 0.8038 - binary_accuracy: 0.8594 - cosine_similarity: 0.4993 - val_loss: 0.3381 - val_recall: 0.9495 - val_precision: 0.8213 - val_binary_accuracy: 0.8700 - val_cosine_similarity: 0.5055\n",
      "Epoch 5/10\n",
      "7179/7179 [==============================] - 69s 10ms/step - loss: 0.3257 - recall: 0.9599 - precision: 0.8142 - binary_accuracy: 0.8706 - cosine_similarity: 0.4993 - val_loss: 0.3466 - val_recall: 0.9502 - val_precision: 0.8214 - val_binary_accuracy: 0.8704 - val_cosine_similarity: 0.5055\n",
      "Epoch 6/10\n",
      "7177/7179 [============================>.] - ETA: 0s - loss: 0.3099 - recall: 0.9645 - precision: 0.8211 - binary_accuracy: 0.8773 - cosine_similarity: 0.4993"
     ]
    },
    {
     "name": "stderr",
     "output_type": "stream",
     "text": [
      "WARNING:absl:Function `_wrapped_model` contains input name(s) Image_Input, Text_Input with unsupported characters which will be renamed to image_input, text_input in the SavedModel.\n"
     ]
    },
    {
     "name": "stdout",
     "output_type": "stream",
     "text": [
      "INFO:tensorflow:Assets written to: ./runs/models/MNN_EM_ABO/cls_1/MobilenetV3small/Adam/lr_0.0001/assets\n"
     ]
    },
    {
     "name": "stderr",
     "output_type": "stream",
     "text": [
      "INFO:tensorflow:Assets written to: ./runs/models/MNN_EM_ABO/cls_1/MobilenetV3small/Adam/lr_0.0001/assets\n"
     ]
    },
    {
     "name": "stdout",
     "output_type": "stream",
     "text": [
      "7179/7179 [==============================] - 73s 10ms/step - loss: 0.3099 - recall: 0.9645 - precision: 0.8211 - binary_accuracy: 0.8773 - cosine_similarity: 0.4992 - val_loss: 0.3116 - val_recall: 0.9614 - val_precision: 0.8291 - val_binary_accuracy: 0.8803 - val_cosine_similarity: 0.5054\n",
      "Epoch 7/10\n",
      "7179/7179 [==============================] - 69s 10ms/step - loss: 0.2970 - recall: 0.9664 - precision: 0.8273 - binary_accuracy: 0.8825 - cosine_similarity: 0.4993 - val_loss: 0.3183 - val_recall: 0.9495 - val_precision: 0.8361 - val_binary_accuracy: 0.8803 - val_cosine_similarity: 0.5054\n",
      "Epoch 8/10\n",
      "7177/7179 [============================>.] - ETA: 0s - loss: 0.2845 - recall: 0.9685 - precision: 0.8343 - binary_accuracy: 0.8882 - cosine_similarity: 0.4993"
     ]
    },
    {
     "name": "stderr",
     "output_type": "stream",
     "text": [
      "WARNING:absl:Function `_wrapped_model` contains input name(s) Image_Input, Text_Input with unsupported characters which will be renamed to image_input, text_input in the SavedModel.\n"
     ]
    },
    {
     "name": "stdout",
     "output_type": "stream",
     "text": [
      "INFO:tensorflow:Assets written to: ./runs/models/MNN_EM_ABO/cls_1/MobilenetV3small/Adam/lr_0.0001/assets\n"
     ]
    },
    {
     "name": "stderr",
     "output_type": "stream",
     "text": [
      "INFO:tensorflow:Assets written to: ./runs/models/MNN_EM_ABO/cls_1/MobilenetV3small/Adam/lr_0.0001/assets\n"
     ]
    },
    {
     "name": "stdout",
     "output_type": "stream",
     "text": [
      "7179/7179 [==============================] - 73s 10ms/step - loss: 0.2845 - recall: 0.9685 - precision: 0.8343 - binary_accuracy: 0.8883 - cosine_similarity: 0.4993 - val_loss: 0.3046 - val_recall: 0.9659 - val_precision: 0.8344 - val_binary_accuracy: 0.8858 - val_cosine_similarity: 0.5055\n",
      "Epoch 9/10\n",
      "7179/7179 [==============================] - 69s 10ms/step - loss: 0.2706 - recall: 0.9673 - precision: 0.8422 - binary_accuracy: 0.8932 - cosine_similarity: 0.4993 - val_loss: 0.3161 - val_recall: 0.9544 - val_precision: 0.8417 - val_binary_accuracy: 0.8862 - val_cosine_similarity: 0.5054\n",
      "Epoch 10/10\n",
      "7179/7179 [==============================] - 69s 10ms/step - loss: 0.2547 - recall: 0.9676 - precision: 0.8513 - binary_accuracy: 0.8994 - cosine_similarity: 0.4993 - val_loss: 0.3425 - val_recall: 0.9302 - val_precision: 0.8398 - val_binary_accuracy: 0.8750 - val_cosine_similarity: 0.5053\n"
     ]
    }
   ],
   "source": [
    "history = mnn_em.model.fit(\n",
    "    x=[img_train, text_train],\n",
    "    y=labels_train,\n",
    "    epochs=config[\"mnn_em\"][\"training\"][\"epochs\"],\n",
    "    validation_split=config[\"mnn_em\"][\"training\"][\"validation_split\"],\n",
    "    batch_size=config[\"mnn_em\"][\"training\"][\"batch_size\"], \n",
    "callbacks=callbacks)\n"
   ]
  },
  {
   "attachments": {},
   "cell_type": "markdown",
   "metadata": {},
   "source": [
    "# Evaluation"
   ]
  },
  {
   "attachments": {},
   "cell_type": "markdown",
   "metadata": {},
   "source": [
    "## Plot loss and metrics"
   ]
  },
  {
   "cell_type": "code",
   "execution_count": 40,
   "metadata": {},
   "outputs": [],
   "source": [
    "from utils.eval import plot_metrics"
   ]
  },
  {
   "cell_type": "code",
   "execution_count": 41,
   "metadata": {},
   "outputs": [
    {
     "data": {
      "image/png": "[encoded data removed]",
      "text/plain": [
       "<Figure size 640x480 with 1 Axes>"
      ]
     },
     "metadata": {},
     "output_type": "display_data"
    },
    {
     "data": {
      "image/png": "[encoded data removed]",
      "text/plain": [
       "<Figure size 640x480 with 1 Axes>"
      ]
     },
     "metadata": {},
     "output_type": "display_data"
    },
    {
     "data": {
      "image/png": "[encoded data removed]",
      "text/plain": [
       "<Figure size 640x480 with 1 Axes>"
      ]
     },
     "metadata": {},
     "output_type": "display_data"
    },
    {
     "data": {
      "image/png": "[encoded data removed]",
      "text/plain": [
       "<Figure size 640x480 with 1 Axes>"
      ]
     },
     "metadata": {},
     "output_type": "display_data"
    },
    {
     "data": {
      "image/png": "[encoded data removed]",
      "text/plain": [
       "<Figure size 640x480 with 1 Axes>"
      ]
     },
     "metadata": {},
     "output_type": "display_data"
    }
   ],
   "source": [
    "plot_metrics(history.history, config[\"mnn_em\"][\"training\"][\"metrics\"], model_name, img_model.name, optimizer_name, learning_rate, config[\"data\"][\"cls\"])"
   ]
  },
  {
   "attachments": {},
   "cell_type": "markdown",
   "metadata": {},
   "source": [
    "## Evaluate model and save metrics"
   ]
  },
  {
   "cell_type": "code",
   "execution_count": 42,
   "metadata": {},
   "outputs": [],
   "source": [
    "from utils.eval import evaluate"
   ]
  },
  {
   "cell_type": "code",
   "execution_count": 43,
   "metadata": {},
   "outputs": [
    {
     "name": "stdout",
     "output_type": "stream",
     "text": [
      "14179/14179 [==============================] - 40s 3ms/step - loss: 0.3517 - recall: 0.9225 - precision: 0.8336 - binary_accuracy: 0.8702 - cosine_similarity: 0.4960\n"
     ]
    }
   ],
   "source": [
    "evaluate(mnn_em.model, img_test, text_test, labels_test, model_name, img_model.name, optimizer_name, learning_rate, config[\"data\"][\"cls\"])"
   ]
  }
 ],
 "metadata": {
  "kernelspec": {
   "display_name": "tf2.8",
   "language": "python",
   "name": "tf2.8"
  },
  "language_info": {
   "codemirror_mode": {
    "name": "ipython",
    "version": 3
   },
   "file_extension": ".py",
   "mimetype": "text/x-python",
   "name": "python",
   "nbconvert_exporter": "python",
   "pygments_lexer": "ipython3",
   "version": "3.9.16"
  }
 },
 "nbformat": 4,
 "nbformat_minor": 4
}
