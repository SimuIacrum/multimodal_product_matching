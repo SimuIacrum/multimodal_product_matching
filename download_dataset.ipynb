{
 "cells": [
  {
   "cell_type": "code",
   "execution_count": 1,
   "metadata": {},
   "outputs": [
    {
     "name": "stderr",
     "output_type": "stream",
     "text": [
      "/anaconda/envs/tf2.8/lib/python3.9/site-packages/tqdm/auto.py:21: TqdmWarning: IProgress not found. Please update jupyter and ipywidgets. See https://ipywidgets.readthedocs.io/en/stable/user_install.html\n",
      "  from .autonotebook import tqdm as notebook_tqdm\n"
     ]
    }
   ],
   "source": [
    "import json\n",
    "from utils.data_loader import download_abo, preprocess_data"
   ]
  },
  {
   "cell_type": "code",
   "execution_count": 2,
   "metadata": {},
   "outputs": [],
   "source": [
    "config = json.load(open(\"config.json\"))"
   ]
  },
  {
   "cell_type": "code",
   "execution_count": 3,
   "metadata": {},
   "outputs": [
    {
     "name": "stdout",
     "output_type": "stream",
     "text": [
      "Downloading listings...\n"
     ]
    },
    {
     "name": "stderr",
     "output_type": "stream",
     "text": [
      "100%|██████████| 83.4M/83.4M [00:03<00:00, 24.3MB/s]\n"
     ]
    },
    {
     "name": "stdout",
     "output_type": "stream",
     "text": [
      "Downloading images...\n"
     ]
    },
    {
     "name": "stderr",
     "output_type": "stream",
     "text": [
      "100%|██████████| 3.03G/3.03G [02:57<00:00, 18.3MB/s] \n"
     ]
    },
    {
     "name": "stdout",
     "output_type": "stream",
     "text": [
      "Extracting listings...\n",
      "Extracting images...\n",
      "Done\n"
     ]
    }
   ],
   "source": [
    "download_abo(config[\"data\"][\"path\"])"
   ]
  },
  {
   "cell_type": "code",
   "execution_count": 3,
   "metadata": {},
   "outputs": [
    {
     "name": "stdout",
     "output_type": "stream",
     "text": [
      "Loading images...\n",
      "Loading texts...\n",
      "Importing listings CSV...\n",
      "Creating ground truth...\n",
      "Merging images and texts...\n",
      "Creating false samples/complement...\n",
      "Merging ground truth and complement...\n",
      "Concatenating attributes into description columns...\n",
      "Finishing up...\n",
      "Exporting to CSV...\n",
      "Done\n"
     ]
    }
   ],
   "source": [
    "preprocess_data(config[\"data\"][\"path\"], alt_augment=False, random_deletion=False)"
   ]
  },
  {
   "cell_type": "code",
   "execution_count": 4,
   "metadata": {},
   "outputs": [],
   "source": [
    "import pandas as pd\n",
    "import os"
   ]
  },
  {
   "cell_type": "code",
   "execution_count": 5,
   "metadata": {},
   "outputs": [
    {
     "data": {
      "text/html": [
       "<div>\n",
       "<style scoped>\n",
       "    .dataframe tbody tr th:only-of-type {\n",
       "        vertical-align: middle;\n",
       "    }\n",
       "\n",
       "    .dataframe tbody tr th {\n",
       "        vertical-align: top;\n",
       "    }\n",
       "\n",
       "    .dataframe thead th {\n",
       "        text-align: right;\n",
       "    }\n",
       "</style>\n",
       "<table border=\"1\" class=\"dataframe\">\n",
       "  <thead>\n",
       "    <tr style=\"text-align: right;\">\n",
       "      <th></th>\n",
       "      <th>description</th>\n",
       "      <th>description2</th>\n",
       "      <th>path</th>\n",
       "      <th>product_type</th>\n",
       "      <th>label</th>\n",
       "    </tr>\n",
       "  </thead>\n",
       "  <tbody>\n",
       "    <tr>\n",
       "      <th>0</th>\n",
       "      <td>mobile coverb07tf1b2czamazon brand - solimo de...</td>\n",
       "      <td>mobile coverb07tf1b2czamazon brand - solimo de...</td>\n",
       "      <td>44/44b9be0b.jpg</td>\n",
       "      <td>CELLULAR_PHONE_CASE</td>\n",
       "      <td>1</td>\n",
       "    </tr>\n",
       "    <tr>\n",
       "      <th>1</th>\n",
       "      <td>mobile coverb085118yx3amazon brand – rivet mod...</td>\n",
       "      <td>back coverb072r467mcamazon brand - solimo desi...</td>\n",
       "      <td>eb/eb88d070.jpg</td>\n",
       "      <td>TEA</td>\n",
       "      <td>0</td>\n",
       "    </tr>\n",
       "    <tr>\n",
       "      <th>2</th>\n",
       "      <td>mobile coverb07t9467llamazon brand - solimo de...</td>\n",
       "      <td>mobile coverb07t9467llamazon brand - solimo de...</td>\n",
       "      <td>6b/6b8b6d2a.jpg</td>\n",
       "      <td>CELLULAR_PHONE_CASE</td>\n",
       "      <td>1</td>\n",
       "    </tr>\n",
       "    <tr>\n",
       "      <th>3</th>\n",
       "      <td>fashion shoes;boots;classics;pan eub07th374s1标...</td>\n",
       "      <td>zapatos shoe para de ladies mujer womansb08541...</td>\n",
       "      <td>78/781541ea.jpg</td>\n",
       "      <td>CELLULAR_PHONE_CASE</td>\n",
       "      <td>0</td>\n",
       "    </tr>\n",
       "    <tr>\n",
       "      <th>4</th>\n",
       "      <td>ukb07n28cl6jfind. addison, men’s moccasins moc...</td>\n",
       "      <td>ukb07n28cl6jfind. addison, men’s moccasins moc...</td>\n",
       "      <td>66/6641bc25.jpg</td>\n",
       "      <td>SHOES</td>\n",
       "      <td>1</td>\n",
       "    </tr>\n",
       "    <tr>\n",
       "      <th>...</th>\n",
       "      <td>...</td>\n",
       "      <td>...</td>\n",
       "      <td>...</td>\n",
       "      <td>...</td>\n",
       "      <td>...</td>\n",
       "    </tr>\n",
       "    <tr>\n",
       "      <th>157015</th>\n",
       "      <td>shoesb079tjqw2wamazon brand - symbol men's lea...</td>\n",
       "      <td>shoesb079tjqw2wamazon brand - symbol men's lea...</td>\n",
       "      <td>e8/e85d30ed.jpg</td>\n",
       "      <td>SHOES</td>\n",
       "      <td>1</td>\n",
       "    </tr>\n",
       "    <tr>\n",
       "      <th>157016</th>\n",
       "      <td>mobile coverb07tcwsxx8amazon brand - solimo de...</td>\n",
       "      <td>mobile coverb07tcwsxx8amazon brand - solimo de...</td>\n",
       "      <td>b7/b7b96341.jpg</td>\n",
       "      <td>CELLULAR_PHONE_CASE</td>\n",
       "      <td>1</td>\n",
       "    </tr>\n",
       "    <tr>\n",
       "      <th>157017</th>\n",
       "      <td>chainb084hv6kdvamazon brand – rivet modern rou...</td>\n",
       "      <td>chainb084hv6kdvamazon brand – rivet modern rou...</td>\n",
       "      <td>9a/9aac3613.jpg</td>\n",
       "      <td>HOME_MIRROR</td>\n",
       "      <td>1</td>\n",
       "    </tr>\n",
       "    <tr>\n",
       "      <th>157018</th>\n",
       "      <td>mobile coverb07jlssyt510k white gold round che...</td>\n",
       "      <td>mobile coverb07kg3dql6amazon brand - solimo de...</td>\n",
       "      <td>8b/8b439669.jpg</td>\n",
       "      <td>HERB</td>\n",
       "      <td>0</td>\n",
       "    </tr>\n",
       "    <tr>\n",
       "      <th>157019</th>\n",
       "      <td>back coverb08569qjr2amazon brand - solimo desi...</td>\n",
       "      <td>back coverb08569qjr2amazon brand - solimo desi...</td>\n",
       "      <td>27/27e47282.jpg</td>\n",
       "      <td>CELLULAR_PHONE_CASE</td>\n",
       "      <td>1</td>\n",
       "    </tr>\n",
       "  </tbody>\n",
       "</table>\n",
       "<p>157020 rows × 5 columns</p>\n",
       "</div>"
      ],
      "text/plain": [
       "                                              description   \n",
       "0       mobile coverb07tf1b2czamazon brand - solimo de...  \\\n",
       "1       mobile coverb085118yx3amazon brand – rivet mod...   \n",
       "2       mobile coverb07t9467llamazon brand - solimo de...   \n",
       "3       fashion shoes;boots;classics;pan eub07th374s1标...   \n",
       "4       ukb07n28cl6jfind. addison, men’s moccasins moc...   \n",
       "...                                                   ...   \n",
       "157015  shoesb079tjqw2wamazon brand - symbol men's lea...   \n",
       "157016  mobile coverb07tcwsxx8amazon brand - solimo de...   \n",
       "157017  chainb084hv6kdvamazon brand – rivet modern rou...   \n",
       "157018  mobile coverb07jlssyt510k white gold round che...   \n",
       "157019  back coverb08569qjr2amazon brand - solimo desi...   \n",
       "\n",
       "                                             description2             path   \n",
       "0       mobile coverb07tf1b2czamazon brand - solimo de...  44/44b9be0b.jpg  \\\n",
       "1       back coverb072r467mcamazon brand - solimo desi...  eb/eb88d070.jpg   \n",
       "2       mobile coverb07t9467llamazon brand - solimo de...  6b/6b8b6d2a.jpg   \n",
       "3       zapatos shoe para de ladies mujer womansb08541...  78/781541ea.jpg   \n",
       "4       ukb07n28cl6jfind. addison, men’s moccasins moc...  66/6641bc25.jpg   \n",
       "...                                                   ...              ...   \n",
       "157015  shoesb079tjqw2wamazon brand - symbol men's lea...  e8/e85d30ed.jpg   \n",
       "157016  mobile coverb07tcwsxx8amazon brand - solimo de...  b7/b7b96341.jpg   \n",
       "157017  chainb084hv6kdvamazon brand – rivet modern rou...  9a/9aac3613.jpg   \n",
       "157018  mobile coverb07kg3dql6amazon brand - solimo de...  8b/8b439669.jpg   \n",
       "157019  back coverb08569qjr2amazon brand - solimo desi...  27/27e47282.jpg   \n",
       "\n",
       "               product_type  label  \n",
       "0       CELLULAR_PHONE_CASE      1  \n",
       "1                       TEA      0  \n",
       "2       CELLULAR_PHONE_CASE      1  \n",
       "3       CELLULAR_PHONE_CASE      0  \n",
       "4                     SHOES      1  \n",
       "...                     ...    ...  \n",
       "157015                SHOES      1  \n",
       "157016  CELLULAR_PHONE_CASE      1  \n",
       "157017          HOME_MIRROR      1  \n",
       "157018                 HERB      0  \n",
       "157019  CELLULAR_PHONE_CASE      1  \n",
       "\n",
       "[157020 rows x 5 columns]"
      ]
     },
     "execution_count": 5,
     "metadata": {},
     "output_type": "execute_result"
    }
   ],
   "source": [
    "data = pd.read_csv(os.path.join(config[\"data\"][\"path\"], \"data.csv\"))\n",
    "data = data.drop({\"Unnamed: 0\"}, axis=1)\n",
    "data['product_type'] = data['product_type.value']\n",
    "data = data[['description', 'description2', 'path', 'product_type', 'label']]\n",
    "data"
   ]
  }
 ],
 "metadata": {
  "kernelspec": {
   "display_name": "tf2.8",
   "language": "python",
   "name": "python3"
  },
  "language_info": {
   "codemirror_mode": {
    "name": "ipython",
    "version": 3
   },
   "file_extension": ".py",
   "mimetype": "text/x-python",
   "name": "python",
   "nbconvert_exporter": "python",
   "pygments_lexer": "ipython3",
   "version": "3.9.16"
  },
  "orig_nbformat": 4
 },
 "nbformat": 4,
 "nbformat_minor": 2
}
