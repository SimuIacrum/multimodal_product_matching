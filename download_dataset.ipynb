{
 "cells": [
  {
   "cell_type": "code",
   "execution_count": 4,
   "metadata": {},
   "outputs": [],
   "source": [
    "import json\n",
    "from utils.data_loader import download_abo, preprocess_data"
   ]
  },
  {
   "cell_type": "code",
   "execution_count": 5,
   "metadata": {},
   "outputs": [],
   "source": [
    "config = json.load(open(\"config.json\"))"
   ]
  },
  {
   "cell_type": "code",
   "execution_count": 3,
   "metadata": {},
   "outputs": [
    {
     "name": "stdout",
     "output_type": "stream",
     "text": [
      "Downloading listings...\n"
     ]
    },
    {
     "name": "stderr",
     "output_type": "stream",
     "text": [
      "100%|██████████| 83.4M/83.4M [00:03<00:00, 26.6MB/s]\n"
     ]
    },
    {
     "name": "stdout",
     "output_type": "stream",
     "text": [
      "Downloading images...\n"
     ]
    },
    {
     "name": "stderr",
     "output_type": "stream",
     "text": [
      "100%|██████████| 3.03G/3.03G [02:58<00:00, 18.2MB/s] \n"
     ]
    },
    {
     "name": "stdout",
     "output_type": "stream",
     "text": [
      "Extracting listings...\n",
      "Extracting images...\n",
      "Done\n"
     ]
    }
   ],
   "source": [
    "download_abo(config[\"data\"][\"path\"])"
   ]
  },
  {
   "cell_type": "code",
   "execution_count": 9,
   "metadata": {},
   "outputs": [
    {
     "name": "stdout",
     "output_type": "stream",
     "text": [
      "Loading images...\n",
      "Loading texts...\n",
      "Found listings.csv, using that instead.\n"
     ]
    },
    {
     "name": "stderr",
     "output_type": "stream",
     "text": [
      "/home/azureuser/localfiles/bleb/utils/data_loader.py:81: DtypeWarning: Columns (63) have mixed types. Specify dtype option on import or set low_memory=False.\n",
      "  dfs = pd.read_csv(os.path.join(path, \"listings/listings.csv\"))\n"
     ]
    },
    {
     "name": "stdout",
     "output_type": "stream",
     "text": [
      "Creating ground truth...\n",
      "Merging images and texts...\n",
      "Creating false samples/complement...\n",
      "Merging ground truth and complement...\n",
      "Concatenating attributes into description columns...\n",
      "Finishing up...\n",
      "Exporting to CSV...\n",
      "Done\n"
     ]
    }
   ],
   "source": [
    "preprocess_data(config[\"data\"][\"path\"], alt_augment=False, random_deletion=False)"
   ]
  },
  {
   "cell_type": "code",
   "execution_count": 10,
   "metadata": {},
   "outputs": [],
   "source": [
    "import pandas as pd\n",
    "import os"
   ]
  },
  {
   "cell_type": "code",
   "execution_count": 11,
   "metadata": {},
   "outputs": [
    {
     "data": {
      "text/html": [
       "<div>\n",
       "<style scoped>\n",
       "    .dataframe tbody tr th:only-of-type {\n",
       "        vertical-align: middle;\n",
       "    }\n",
       "\n",
       "    .dataframe tbody tr th {\n",
       "        vertical-align: top;\n",
       "    }\n",
       "\n",
       "    .dataframe thead th {\n",
       "        text-align: right;\n",
       "    }\n",
       "</style>\n",
       "<table border=\"1\" class=\"dataframe\">\n",
       "  <thead>\n",
       "    <tr style=\"text-align: right;\">\n",
       "      <th></th>\n",
       "      <th>description</th>\n",
       "      <th>description2</th>\n",
       "      <th>path</th>\n",
       "      <th>product_type</th>\n",
       "      <th>label</th>\n",
       "    </tr>\n",
       "  </thead>\n",
       "  <tbody>\n",
       "    <tr>\n",
       "      <th>0</th>\n",
       "      <td>mobile coverb07t22kh22amazon brand - solimo de...</td>\n",
       "      <td>mobile coverb07t22kh22amazon brand - solimo de...</td>\n",
       "      <td>a3/a31b988b.jpg</td>\n",
       "      <td>CELLULAR_PHONE_CASE</td>\n",
       "      <td>1</td>\n",
       "    </tr>\n",
       "    <tr>\n",
       "      <th>1</th>\n",
       "      <td>mobile coverb07hnyr592amazon brand - solimo de...</td>\n",
       "      <td>cellphonecoverb07tf1df5t아마존 브랜드 – 스톤 &amp; 빔 브래드베리...</td>\n",
       "      <td>b3/b35ecf48.jpg</td>\n",
       "      <td>CELLULAR_PHONE_CASE</td>\n",
       "      <td>0</td>\n",
       "    </tr>\n",
       "    <tr>\n",
       "      <th>2</th>\n",
       "      <td>formal shoes for mens leatherb075z39ydramazon ...</td>\n",
       "      <td>formal shoes for mens leatherb075z39ydramazon ...</td>\n",
       "      <td>1e/1e6772af.jpg</td>\n",
       "      <td>SHOES</td>\n",
       "      <td>1</td>\n",
       "    </tr>\n",
       "    <tr>\n",
       "      <th>3</th>\n",
       "      <td>mobile coverb07t9tp223amazon brand - solimo de...</td>\n",
       "      <td>mobile coverb07t9tp223amazon brand - solimo de...</td>\n",
       "      <td>47/47321dae.jpg</td>\n",
       "      <td>CELLULAR_PHONE_CASE</td>\n",
       "      <td>1</td>\n",
       "    </tr>\n",
       "    <tr>\n",
       "      <th>4</th>\n",
       "      <td>365 by whole foods marketb07gnsxwj7amazon bran...</td>\n",
       "      <td>ukb07z58q2jtamazon essentials belina mädchen b...</td>\n",
       "      <td>d2/d22ed69e.jpg</td>\n",
       "      <td>SHOES</td>\n",
       "      <td>0</td>\n",
       "    </tr>\n",
       "    <tr>\n",
       "      <th>...</th>\n",
       "      <td>...</td>\n",
       "      <td>...</td>\n",
       "      <td>...</td>\n",
       "      <td>...</td>\n",
       "      <td>...</td>\n",
       "    </tr>\n",
       "    <tr>\n",
       "      <th>157227</th>\n",
       "      <td>couverture en satin clair pour matériel de voy...</td>\n",
       "      <td>mobile coverb08568w87mamazonbasics internal fr...</td>\n",
       "      <td>1e/1ef34740.jpg</td>\n",
       "      <td>HOME_BED_AND_BATH</td>\n",
       "      <td>0</td>\n",
       "    </tr>\n",
       "    <tr>\n",
       "      <th>157228</th>\n",
       "      <td>mobile coverb07w7zhxxwamazon brand - solimo de...</td>\n",
       "      <td>zapatos zapatos zapatos de mujer zapatos de ta...</td>\n",
       "      <td>07/07fc139b.jpg</td>\n",
       "      <td>CELLULAR_PHONE_CASE</td>\n",
       "      <td>0</td>\n",
       "    </tr>\n",
       "    <tr>\n",
       "      <th>157229</th>\n",
       "      <td>mobile coverb07t8q4b4famazon brand - solimo de...</td>\n",
       "      <td>mobile coverb07t8q4b4famazon brand - solimo de...</td>\n",
       "      <td>5c/5c2f84e6.jpg</td>\n",
       "      <td>CELLULAR_PHONE_CASE</td>\n",
       "      <td>1</td>\n",
       "    </tr>\n",
       "    <tr>\n",
       "      <th>157230</th>\n",
       "      <td>mobile coverb07tf1dzflamazon brand - solimo de...</td>\n",
       "      <td>mobile coverb07tf1dzflamazon brand - solimo de...</td>\n",
       "      <td>c0/c0973ff3.jpg</td>\n",
       "      <td>CELLULAR_PHONE_CASE</td>\n",
       "      <td>1</td>\n",
       "    </tr>\n",
       "    <tr>\n",
       "      <th>157231</th>\n",
       "      <td>mobile coverb07tbv3mnxamazon brand - solimo de...</td>\n",
       "      <td>mobile coverb07tbv3mnxamazon brand - solimo de...</td>\n",
       "      <td>ec/ec4cfe05.jpg</td>\n",
       "      <td>CELLULAR_PHONE_CASE</td>\n",
       "      <td>1</td>\n",
       "    </tr>\n",
       "  </tbody>\n",
       "</table>\n",
       "<p>157232 rows × 5 columns</p>\n",
       "</div>"
      ],
      "text/plain": [
       "                                              description   \n",
       "0       mobile coverb07t22kh22amazon brand - solimo de...  \\\n",
       "1       mobile coverb07hnyr592amazon brand - solimo de...   \n",
       "2       formal shoes for mens leatherb075z39ydramazon ...   \n",
       "3       mobile coverb07t9tp223amazon brand - solimo de...   \n",
       "4       365 by whole foods marketb07gnsxwj7amazon bran...   \n",
       "...                                                   ...   \n",
       "157227  couverture en satin clair pour matériel de voy...   \n",
       "157228  mobile coverb07w7zhxxwamazon brand - solimo de...   \n",
       "157229  mobile coverb07t8q4b4famazon brand - solimo de...   \n",
       "157230  mobile coverb07tf1dzflamazon brand - solimo de...   \n",
       "157231  mobile coverb07tbv3mnxamazon brand - solimo de...   \n",
       "\n",
       "                                             description2             path   \n",
       "0       mobile coverb07t22kh22amazon brand - solimo de...  a3/a31b988b.jpg  \\\n",
       "1       cellphonecoverb07tf1df5t아마존 브랜드 – 스톤 & 빔 브래드베리...  b3/b35ecf48.jpg   \n",
       "2       formal shoes for mens leatherb075z39ydramazon ...  1e/1e6772af.jpg   \n",
       "3       mobile coverb07t9tp223amazon brand - solimo de...  47/47321dae.jpg   \n",
       "4       ukb07z58q2jtamazon essentials belina mädchen b...  d2/d22ed69e.jpg   \n",
       "...                                                   ...              ...   \n",
       "157227  mobile coverb08568w87mamazonbasics internal fr...  1e/1ef34740.jpg   \n",
       "157228  zapatos zapatos zapatos de mujer zapatos de ta...  07/07fc139b.jpg   \n",
       "157229  mobile coverb07t8q4b4famazon brand - solimo de...  5c/5c2f84e6.jpg   \n",
       "157230  mobile coverb07tf1dzflamazon brand - solimo de...  c0/c0973ff3.jpg   \n",
       "157231  mobile coverb07tbv3mnxamazon brand - solimo de...  ec/ec4cfe05.jpg   \n",
       "\n",
       "               product_type  label  \n",
       "0       CELLULAR_PHONE_CASE      1  \n",
       "1       CELLULAR_PHONE_CASE      0  \n",
       "2                     SHOES      1  \n",
       "3       CELLULAR_PHONE_CASE      1  \n",
       "4                     SHOES      0  \n",
       "...                     ...    ...  \n",
       "157227    HOME_BED_AND_BATH      0  \n",
       "157228  CELLULAR_PHONE_CASE      0  \n",
       "157229  CELLULAR_PHONE_CASE      1  \n",
       "157230  CELLULAR_PHONE_CASE      1  \n",
       "157231  CELLULAR_PHONE_CASE      1  \n",
       "\n",
       "[157232 rows x 5 columns]"
      ]
     },
     "execution_count": 11,
     "metadata": {},
     "output_type": "execute_result"
    }
   ],
   "source": [
    "data = pd.read_csv(os.path.join(config[\"data\"][\"path\"], \"data.csv\"))\n",
    "data = data.drop({\"Unnamed: 0\"}, axis=1)\n",
    "data['product_type'] = data['product_type.value']\n",
    "data = data[['description', 'description2', 'path', 'product_type', 'label']]\n",
    "data"
   ]
  }
 ],
 "metadata": {
  "kernelspec": {
   "display_name": "tf2.8",
   "language": "python",
   "name": "python3"
  },
  "language_info": {
   "codemirror_mode": {
    "name": "ipython",
    "version": 3
   },
   "file_extension": ".py",
   "mimetype": "text/x-python",
   "name": "python",
   "nbconvert_exporter": "python",
   "pygments_lexer": "ipython3",
   "version": "3.9.16"
  },
  "orig_nbformat": 4
 },
 "nbformat": 4,
 "nbformat_minor": 2
}
