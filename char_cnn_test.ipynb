{
 "cells": [
  {
   "cell_type": "code",
   "execution_count": 13,
   "metadata": {},
   "outputs": [],
   "source": [
    "import tensorflow as tf\n",
    "import pandas as pd\n",
    "import numpy as np\n",
    "import json\n",
    "import os\n",
    "from utils.char_tokenizer import CharTokenizer"
   ]
  },
  {
   "cell_type": "code",
   "execution_count": 14,
   "metadata": {},
   "outputs": [],
   "source": [
    "config = json.load(open(\"config.json\"))"
   ]
  },
  {
   "cell_type": "code",
   "execution_count": 15,
   "metadata": {},
   "outputs": [
    {
     "data": {
      "text/html": [
       "<div>\n",
       "<style scoped>\n",
       "    .dataframe tbody tr th:only-of-type {\n",
       "        vertical-align: middle;\n",
       "    }\n",
       "\n",
       "    .dataframe tbody tr th {\n",
       "        vertical-align: top;\n",
       "    }\n",
       "\n",
       "    .dataframe thead th {\n",
       "        text-align: right;\n",
       "    }\n",
       "</style>\n",
       "<table border=\"1\" class=\"dataframe\">\n",
       "  <thead>\n",
       "    <tr style=\"text-align: right;\">\n",
       "      <th></th>\n",
       "      <th>description</th>\n",
       "      <th>description2</th>\n",
       "      <th>path</th>\n",
       "      <th>product_type</th>\n",
       "      <th>label</th>\n",
       "    </tr>\n",
       "  </thead>\n",
       "  <tbody>\n",
       "    <tr>\n",
       "      <th>0</th>\n",
       "      <td>whole foods market body scrub &amp; body butter du...</td>\n",
       "      <td>cellphonecoverb019ol9e02amazon brand - solimo ...</td>\n",
       "      <td>66/66f3a68c.jpg</td>\n",
       "      <td>CELLULAR_PHONE_CASE</td>\n",
       "      <td>0</td>\n",
       "    </tr>\n",
       "    <tr>\n",
       "      <th>1</th>\n",
       "      <td>mobile cover</td>\n",
       "      <td>b07pqbdbc4starter performance slide sandalia p...</td>\n",
       "      <td>5d/5d4519b7.jpg</td>\n",
       "      <td>CELLULAR_PHONE_CASE</td>\n",
       "      <td>0</td>\n",
       "    </tr>\n",
       "    <tr>\n",
       "      <th>2</th>\n",
       "      <td>mobile cover</td>\n",
       "      <td>b07rgqgyvzamazon brand – stone &amp; beam modern r...</td>\n",
       "      <td>d9/d9f55153.jpg</td>\n",
       "      <td>PLANTER</td>\n",
       "      <td>0</td>\n",
       "    </tr>\n",
       "    <tr>\n",
       "      <th>3</th>\n",
       "      <td>b082dft9hpnubeno men's brown formal shoes-9 uk...</td>\n",
       "      <td>formal shoes for mens leather</td>\n",
       "      <td>cc/cc2759da.jpg</td>\n",
       "      <td>SHOES</td>\n",
       "      <td>1</td>\n",
       "    </tr>\n",
       "    <tr>\n",
       "      <th>4</th>\n",
       "      <td>amazon brand - solimo designer head phone 3d p...</td>\n",
       "      <td>b07trw4xwzamazon brand - solimo designer head ...</td>\n",
       "      <td>49/49b1b22b.jpg</td>\n",
       "      <td>CELLULAR_PHONE_CASE</td>\n",
       "      <td>1</td>\n",
       "    </tr>\n",
       "    <tr>\n",
       "      <th>...</th>\n",
       "      <td>...</td>\n",
       "      <td>...</td>\n",
       "      <td>...</td>\n",
       "      <td>...</td>\n",
       "      <td>...</td>\n",
       "    </tr>\n",
       "    <tr>\n",
       "      <th>652299</th>\n",
       "      <td>b01n365np7amazon brand - solimo self-adhering ...</td>\n",
       "      <td>amazonbasics ratchet strap - pack of 4; td0901...</td>\n",
       "      <td>c5/c597deaa.jpg</td>\n",
       "      <td>CELLULAR_PHONE_CASE</td>\n",
       "      <td>0</td>\n",
       "    </tr>\n",
       "    <tr>\n",
       "      <th>652300</th>\n",
       "      <td>gifts heramazonbasics stainless steel kettle w...</td>\n",
       "      <td>mobile coverb07vtbjtdc</td>\n",
       "      <td>17/1714da56.jpg</td>\n",
       "      <td>CELLULAR_PHONE_CASE</td>\n",
       "      <td>0</td>\n",
       "    </tr>\n",
       "    <tr>\n",
       "      <th>652301</th>\n",
       "      <td>amazon brand - solimo designer sparkle girl bo...</td>\n",
       "      <td>back coverb0854l5ndjamazon brand - solimo desi...</td>\n",
       "      <td>36/368ecbc0.jpg</td>\n",
       "      <td>CELLULAR_PHONE_CASE</td>\n",
       "      <td>1</td>\n",
       "    </tr>\n",
       "    <tr>\n",
       "      <th>652302</th>\n",
       "      <td>ratchingb088w5dhsqamazonbasics 45-degree offse...</td>\n",
       "      <td>ratchingb088w5dhsqamazonbasics 45-degree offse...</td>\n",
       "      <td>b2/b2bbf71b.jpg</td>\n",
       "      <td>TOOLS</td>\n",
       "      <td>1</td>\n",
       "    </tr>\n",
       "    <tr>\n",
       "      <th>652303</th>\n",
       "      <td>mobile coverb07tg4vrgd</td>\n",
       "      <td>b07tg4vrgd</td>\n",
       "      <td>66/66f3a68c.jpg</td>\n",
       "      <td>CELLULAR_PHONE_CASE</td>\n",
       "      <td>1</td>\n",
       "    </tr>\n",
       "  </tbody>\n",
       "</table>\n",
       "<p>652304 rows × 5 columns</p>\n",
       "</div>"
      ],
      "text/plain": [
       "                                              description   \n",
       "0       whole foods market body scrub & body butter du...  \\\n",
       "1                                            mobile cover   \n",
       "2                                            mobile cover   \n",
       "3       b082dft9hpnubeno men's brown formal shoes-9 uk...   \n",
       "4       amazon brand - solimo designer head phone 3d p...   \n",
       "...                                                   ...   \n",
       "652299  b01n365np7amazon brand - solimo self-adhering ...   \n",
       "652300  gifts heramazonbasics stainless steel kettle w...   \n",
       "652301  amazon brand - solimo designer sparkle girl bo...   \n",
       "652302  ratchingb088w5dhsqamazonbasics 45-degree offse...   \n",
       "652303                             mobile coverb07tg4vrgd   \n",
       "\n",
       "                                             description2             path   \n",
       "0       cellphonecoverb019ol9e02amazon brand - solimo ...  66/66f3a68c.jpg  \\\n",
       "1       b07pqbdbc4starter performance slide sandalia p...  5d/5d4519b7.jpg   \n",
       "2       b07rgqgyvzamazon brand – stone & beam modern r...  d9/d9f55153.jpg   \n",
       "3                           formal shoes for mens leather  cc/cc2759da.jpg   \n",
       "4       b07trw4xwzamazon brand - solimo designer head ...  49/49b1b22b.jpg   \n",
       "...                                                   ...              ...   \n",
       "652299  amazonbasics ratchet strap - pack of 4; td0901...  c5/c597deaa.jpg   \n",
       "652300                             mobile coverb07vtbjtdc  17/1714da56.jpg   \n",
       "652301  back coverb0854l5ndjamazon brand - solimo desi...  36/368ecbc0.jpg   \n",
       "652302  ratchingb088w5dhsqamazonbasics 45-degree offse...  b2/b2bbf71b.jpg   \n",
       "652303                                         b07tg4vrgd  66/66f3a68c.jpg   \n",
       "\n",
       "               product_type  label  \n",
       "0       CELLULAR_PHONE_CASE      0  \n",
       "1       CELLULAR_PHONE_CASE      0  \n",
       "2                   PLANTER      0  \n",
       "3                     SHOES      1  \n",
       "4       CELLULAR_PHONE_CASE      1  \n",
       "...                     ...    ...  \n",
       "652299  CELLULAR_PHONE_CASE      0  \n",
       "652300  CELLULAR_PHONE_CASE      0  \n",
       "652301  CELLULAR_PHONE_CASE      1  \n",
       "652302                TOOLS      1  \n",
       "652303  CELLULAR_PHONE_CASE      1  \n",
       "\n",
       "[652304 rows x 5 columns]"
      ]
     },
     "execution_count": 15,
     "metadata": {},
     "output_type": "execute_result"
    }
   ],
   "source": [
    "data = pd.read_csv(os.path.join(config[\"data\"][\"path\"], \"data.csv\"))\n",
    "data = data.drop({\"Unnamed: 0\"}, axis=1)\n",
    "data['product_type'] = data['product_type.value']\n",
    "data = data[['description', 'description2', 'path', 'product_type', 'label']]\n",
    "data"
   ]
  },
  {
   "cell_type": "code",
   "execution_count": 16,
   "metadata": {},
   "outputs": [],
   "source": [
    "img = data[[\"path\"]] # two brackets for keeping the column name\n",
    "text = data[\"description\"]\n",
    "text2 = data[\"description2\"]\n",
    "product_types = data[[\"product_type\"]]\n",
    "labels = data[[\"label\"]]"
   ]
  },
  {
   "cell_type": "code",
   "execution_count": 17,
   "metadata": {},
   "outputs": [
    {
     "data": {
      "text/plain": [
       "(652304, 1014)"
      ]
     },
     "execution_count": 17,
     "metadata": {},
     "output_type": "execute_result"
    }
   ],
   "source": [
    "tk = CharTokenizer(config[\"data\"][\"alphabet\"])\n",
    "text = tk.tokenize(text)\n",
    "text.shape"
   ]
  },
  {
   "cell_type": "code",
   "execution_count": 18,
   "metadata": {},
   "outputs": [
    {
     "data": {
      "text/plain": [
       "(3443, 3442)"
      ]
     },
     "execution_count": 18,
     "metadata": {},
     "output_type": "execute_result"
    }
   ],
   "source": [
    "weights = tk.create_embedding_weights()\n",
    "weights.shape"
   ]
  },
  {
   "cell_type": "code",
   "execution_count": 19,
   "metadata": {},
   "outputs": [],
   "source": [
    "from models.char_cnn_zhang import CharCNNZhang"
   ]
  },
  {
   "cell_type": "code",
   "execution_count": 20,
   "metadata": {},
   "outputs": [
    {
     "name": "stderr",
     "output_type": "stream",
     "text": [
      "2023-05-22 12:30:47.180202: E tensorflow/stream_executor/cuda/cuda_driver.cc:271] failed call to cuInit: CUDA_ERROR_NO_DEVICE: no CUDA-capable device is detected\n",
      "2023-05-22 12:30:47.180290: I tensorflow/stream_executor/cuda/cuda_diagnostics.cc:156] kernel driver does not appear to be running on this host (kmazhar-cpu2): /proc/driver/nvidia/version does not exist\n",
      "2023-05-22 12:30:47.182456: I tensorflow/core/platform/cpu_feature_guard.cc:151] This TensorFlow binary is optimized with oneAPI Deep Neural Network Library (oneDNN) to use the following CPU instructions in performance-critical operations:  AVX2 FMA\n",
      "To enable them in other operations, rebuild TensorFlow with the appropriate compiler flags.\n"
     ]
    },
    {
     "name": "stdout",
     "output_type": "stream",
     "text": [
      "CharCNNZhang model built: \n",
      "Model: \"model\"\n",
      "_________________________________________________________________\n",
      " Layer (type)                Output Shape              Param #   \n",
      "=================================================================\n",
      " sent_input (InputLayer)     [(None, 1014)]            0         \n",
      "                                                                 \n",
      " embedding (Embedding)       (None, 1014, 3442)        11850806  \n",
      "                                                                 \n",
      " conv1d (Conv1D)             (None, 1008, 256)         6168320   \n",
      "                                                                 \n",
      " activation (Activation)     (None, 1008, 256)         0         \n",
      "                                                                 \n",
      " max_pooling1d (MaxPooling1D  (None, 336, 256)         0         \n",
      " )                                                               \n",
      "                                                                 \n",
      " conv1d_1 (Conv1D)           (None, 330, 256)          459008    \n",
      "                                                                 \n",
      " activation_1 (Activation)   (None, 330, 256)          0         \n",
      "                                                                 \n",
      " max_pooling1d_1 (MaxPooling  (None, 110, 256)         0         \n",
      " 1D)                                                             \n",
      "                                                                 \n",
      " conv1d_2 (Conv1D)           (None, 108, 256)          196864    \n",
      "                                                                 \n",
      " activation_2 (Activation)   (None, 108, 256)          0         \n",
      "                                                                 \n",
      " conv1d_3 (Conv1D)           (None, 106, 256)          196864    \n",
      "                                                                 \n",
      " activation_3 (Activation)   (None, 106, 256)          0         \n",
      "                                                                 \n",
      " conv1d_4 (Conv1D)           (None, 104, 256)          196864    \n",
      "                                                                 \n",
      " activation_4 (Activation)   (None, 104, 256)          0         \n",
      "                                                                 \n",
      " conv1d_5 (Conv1D)           (None, 102, 256)          196864    \n",
      "                                                                 \n",
      " activation_5 (Activation)   (None, 102, 256)          0         \n",
      "                                                                 \n",
      " max_pooling1d_2 (MaxPooling  (None, 34, 256)          0         \n",
      " 1D)                                                             \n",
      "                                                                 \n",
      " flatten (Flatten)           (None, 8704)              0         \n",
      "                                                                 \n",
      " dense (Dense)               (None, 1024)              8913920   \n",
      "                                                                 \n",
      " dense_1 (Dense)             (None, 1024)              1049600   \n",
      "                                                                 \n",
      " dense_2 (Dense)             (None, 2048)              2099200   \n",
      "                                                                 \n",
      "=================================================================\n",
      "Total params: 31,328,310\n",
      "Trainable params: 31,328,310\n",
      "Non-trainable params: 0\n",
      "_________________________________________________________________\n"
     ]
    }
   ],
   "source": [
    "model = CharCNNZhang(input_size=config[\"data\"][\"input_size\"],\n",
    "                    embedding_size=len(tk.word_index),\n",
    "                    conv_layers=config[\"char_cnn_zhang\"][\"conv_layers\"],\n",
    "                    fully_connected_layers=config[\"char_cnn_zhang\"][\"fully_connected_layers\"],\n",
    "                    output_size=config[\"char_cnn_zhang\"][\"output_size\"],\n",
    "                    embedding_weights=weights)"
   ]
  }
 ],
 "metadata": {
  "kernelspec": {
   "display_name": "tf2.8",
   "language": "python",
   "name": "python3"
  },
  "language_info": {
   "codemirror_mode": {
    "name": "ipython",
    "version": 3
   },
   "file_extension": ".py",
   "mimetype": "text/x-python",
   "name": "python",
   "nbconvert_exporter": "python",
   "pygments_lexer": "ipython3",
   "version": "3.9.16"
  },
  "orig_nbformat": 4
 },
 "nbformat": 4,
 "nbformat_minor": 2
}
